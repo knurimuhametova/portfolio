{
 "cells": [
  {
   "cell_type": "markdown",
   "metadata": {},
   "source": [
    "# Определение стоимости автомобилей"
   ]
  },
  {
   "cell_type": "markdown",
   "metadata": {},
   "source": [
    "В распоряжении имеются исторические данные: технические характеристики, комплектации и цены автомобилей. Необходимо построить модель для определения стоимости. \n",
    "\n",
    "Заказчику важны:\n",
    "\n",
    "- качество предсказания;\n",
    "- скорость предсказания;\n",
    "- время обучения."
   ]
  },
  {
   "cell_type": "markdown",
   "metadata": {},
   "source": [
    "**Цель исследования** — построить модель с минимальным значением итоговой метрики RMSE, которая спрогнозирует рыночную стоимость автомобиля.\n",
    "\n",
    "**Ход исследования**\n",
    "\n",
    "Данные о технических характеристиках, комплектации и ценах других автомобилей будут получены из файла `autos.csv`. О качестве данных ничего не известно. Поэтому перед началом исследования понадобится обзор данных. \n",
    " \n",
    "План работы:\n",
    " 1. Предобработка и подготовка данных.\n",
    " 2. Обучение моделей.\n",
    " 3. Анализ моделей.\n",
    " 4. Тестирование.\n",
    " 5. Итоги исследования."
   ]
  },
  {
   "cell_type": "markdown",
   "metadata": {},
   "source": [
    "## Подготовка данных"
   ]
  },
  {
   "cell_type": "code",
   "execution_count": 1,
   "metadata": {},
   "outputs": [
    {
     "name": "stdout",
     "output_type": "stream",
     "text": [
      "Requirement already satisfied: lightgbm in /opt/conda/lib/python3.9/site-packages (3.3.1)\n",
      "Requirement already satisfied: numpy in /opt/conda/lib/python3.9/site-packages (from lightgbm) (1.21.1)\n",
      "Requirement already satisfied: wheel in /opt/conda/lib/python3.9/site-packages (from lightgbm) (0.36.2)\n",
      "Requirement already satisfied: scipy in /opt/conda/lib/python3.9/site-packages (from lightgbm) (1.9.1)\n",
      "Requirement already satisfied: scikit-learn!=0.22.0 in /opt/conda/lib/python3.9/site-packages (from lightgbm) (0.24.1)\n",
      "Requirement already satisfied: threadpoolctl>=2.0.0 in /opt/conda/lib/python3.9/site-packages (from scikit-learn!=0.22.0->lightgbm) (3.1.0)\n",
      "Requirement already satisfied: joblib>=0.11 in /opt/conda/lib/python3.9/site-packages (from scikit-learn!=0.22.0->lightgbm) (1.1.0)\n"
     ]
    }
   ],
   "source": [
    "!pip install lightgbm"
   ]
  },
  {
   "cell_type": "code",
   "execution_count": 2,
   "metadata": {},
   "outputs": [
    {
     "name": "stdout",
     "output_type": "stream",
     "text": [
      "Collecting scikit-learn==1.1.3\n",
      "  Downloading scikit_learn-1.1.3-cp39-cp39-manylinux_2_17_x86_64.manylinux2014_x86_64.whl (30.8 MB)\n",
      "\u001b[K     |████████████████████████████████| 30.8 MB 2.1 MB/s eta 0:00:01\n",
      "\u001b[?25hRequirement already satisfied: numpy>=1.17.3 in /opt/conda/lib/python3.9/site-packages (from scikit-learn==1.1.3) (1.21.1)\n",
      "Requirement already satisfied: joblib>=1.0.0 in /opt/conda/lib/python3.9/site-packages (from scikit-learn==1.1.3) (1.1.0)\n",
      "Requirement already satisfied: scipy>=1.3.2 in /opt/conda/lib/python3.9/site-packages (from scikit-learn==1.1.3) (1.9.1)\n",
      "Requirement already satisfied: threadpoolctl>=2.0.0 in /opt/conda/lib/python3.9/site-packages (from scikit-learn==1.1.3) (3.1.0)\n",
      "Installing collected packages: scikit-learn\n",
      "  Attempting uninstall: scikit-learn\n",
      "    Found existing installation: scikit-learn 0.24.1\n",
      "    Uninstalling scikit-learn-0.24.1:\n",
      "      Successfully uninstalled scikit-learn-0.24.1\n",
      "Successfully installed scikit-learn-1.1.3\n"
     ]
    }
   ],
   "source": [
    "!pip install scikit-learn==1.1.3"
   ]
  },
  {
   "cell_type": "code",
   "execution_count": 3,
   "metadata": {},
   "outputs": [],
   "source": [
    "# Импортируем необходимые библиотеки\n",
    "import pandas as pd\n",
    "import numpy as np\n",
    "import matplotlib.pyplot as plt\n",
    "import seaborn as sns\n",
    "import lightgbm as lgb\n",
    "\n",
    "from sklearn.model_selection import train_test_split\n",
    "from lightgbm import LGBMRegressor\n",
    "from sklearn.metrics import mean_squared_error,make_scorer\n",
    "from sklearn.model_selection import RandomizedSearchCV\n",
    "from catboost import CatBoostRegressor\n",
    "from sklearn.preprocessing import StandardScaler, OneHotEncoder\n",
    "from sklearn.linear_model import LinearRegression"
   ]
  },
  {
   "cell_type": "code",
   "execution_count": 4,
   "metadata": {},
   "outputs": [],
   "source": [
    "# сохраним данные в переменную\n",
    "df = pd.read_csv('autos.csv')"
   ]
  },
  {
   "cell_type": "code",
   "execution_count": 5,
   "metadata": {},
   "outputs": [
    {
     "data": {
      "text/html": [
       "<div>\n",
       "<style scoped>\n",
       "    .dataframe tbody tr th:only-of-type {\n",
       "        vertical-align: middle;\n",
       "    }\n",
       "\n",
       "    .dataframe tbody tr th {\n",
       "        vertical-align: top;\n",
       "    }\n",
       "\n",
       "    .dataframe thead th {\n",
       "        text-align: right;\n",
       "    }\n",
       "</style>\n",
       "<table border=\"1\" class=\"dataframe\">\n",
       "  <thead>\n",
       "    <tr style=\"text-align: right;\">\n",
       "      <th></th>\n",
       "      <th>DateCrawled</th>\n",
       "      <th>Price</th>\n",
       "      <th>VehicleType</th>\n",
       "      <th>RegistrationYear</th>\n",
       "      <th>Gearbox</th>\n",
       "      <th>Power</th>\n",
       "      <th>Model</th>\n",
       "      <th>Kilometer</th>\n",
       "      <th>RegistrationMonth</th>\n",
       "      <th>FuelType</th>\n",
       "      <th>Brand</th>\n",
       "      <th>Repaired</th>\n",
       "      <th>DateCreated</th>\n",
       "      <th>NumberOfPictures</th>\n",
       "      <th>PostalCode</th>\n",
       "      <th>LastSeen</th>\n",
       "    </tr>\n",
       "  </thead>\n",
       "  <tbody>\n",
       "    <tr>\n",
       "      <th>0</th>\n",
       "      <td>2016-03-24 11:52:17</td>\n",
       "      <td>480</td>\n",
       "      <td>NaN</td>\n",
       "      <td>1993</td>\n",
       "      <td>manual</td>\n",
       "      <td>0</td>\n",
       "      <td>golf</td>\n",
       "      <td>150000</td>\n",
       "      <td>0</td>\n",
       "      <td>petrol</td>\n",
       "      <td>volkswagen</td>\n",
       "      <td>NaN</td>\n",
       "      <td>2016-03-24 00:00:00</td>\n",
       "      <td>0</td>\n",
       "      <td>70435</td>\n",
       "      <td>2016-04-07 03:16:57</td>\n",
       "    </tr>\n",
       "    <tr>\n",
       "      <th>1</th>\n",
       "      <td>2016-03-24 10:58:45</td>\n",
       "      <td>18300</td>\n",
       "      <td>coupe</td>\n",
       "      <td>2011</td>\n",
       "      <td>manual</td>\n",
       "      <td>190</td>\n",
       "      <td>NaN</td>\n",
       "      <td>125000</td>\n",
       "      <td>5</td>\n",
       "      <td>gasoline</td>\n",
       "      <td>audi</td>\n",
       "      <td>yes</td>\n",
       "      <td>2016-03-24 00:00:00</td>\n",
       "      <td>0</td>\n",
       "      <td>66954</td>\n",
       "      <td>2016-04-07 01:46:50</td>\n",
       "    </tr>\n",
       "    <tr>\n",
       "      <th>2</th>\n",
       "      <td>2016-03-14 12:52:21</td>\n",
       "      <td>9800</td>\n",
       "      <td>suv</td>\n",
       "      <td>2004</td>\n",
       "      <td>auto</td>\n",
       "      <td>163</td>\n",
       "      <td>grand</td>\n",
       "      <td>125000</td>\n",
       "      <td>8</td>\n",
       "      <td>gasoline</td>\n",
       "      <td>jeep</td>\n",
       "      <td>NaN</td>\n",
       "      <td>2016-03-14 00:00:00</td>\n",
       "      <td>0</td>\n",
       "      <td>90480</td>\n",
       "      <td>2016-04-05 12:47:46</td>\n",
       "    </tr>\n",
       "    <tr>\n",
       "      <th>3</th>\n",
       "      <td>2016-03-17 16:54:04</td>\n",
       "      <td>1500</td>\n",
       "      <td>small</td>\n",
       "      <td>2001</td>\n",
       "      <td>manual</td>\n",
       "      <td>75</td>\n",
       "      <td>golf</td>\n",
       "      <td>150000</td>\n",
       "      <td>6</td>\n",
       "      <td>petrol</td>\n",
       "      <td>volkswagen</td>\n",
       "      <td>no</td>\n",
       "      <td>2016-03-17 00:00:00</td>\n",
       "      <td>0</td>\n",
       "      <td>91074</td>\n",
       "      <td>2016-03-17 17:40:17</td>\n",
       "    </tr>\n",
       "    <tr>\n",
       "      <th>4</th>\n",
       "      <td>2016-03-31 17:25:20</td>\n",
       "      <td>3600</td>\n",
       "      <td>small</td>\n",
       "      <td>2008</td>\n",
       "      <td>manual</td>\n",
       "      <td>69</td>\n",
       "      <td>fabia</td>\n",
       "      <td>90000</td>\n",
       "      <td>7</td>\n",
       "      <td>gasoline</td>\n",
       "      <td>skoda</td>\n",
       "      <td>no</td>\n",
       "      <td>2016-03-31 00:00:00</td>\n",
       "      <td>0</td>\n",
       "      <td>60437</td>\n",
       "      <td>2016-04-06 10:17:21</td>\n",
       "    </tr>\n",
       "  </tbody>\n",
       "</table>\n",
       "</div>"
      ],
      "text/plain": [
       "           DateCrawled  Price VehicleType  RegistrationYear Gearbox  Power  \\\n",
       "0  2016-03-24 11:52:17    480         NaN              1993  manual      0   \n",
       "1  2016-03-24 10:58:45  18300       coupe              2011  manual    190   \n",
       "2  2016-03-14 12:52:21   9800         suv              2004    auto    163   \n",
       "3  2016-03-17 16:54:04   1500       small              2001  manual     75   \n",
       "4  2016-03-31 17:25:20   3600       small              2008  manual     69   \n",
       "\n",
       "   Model  Kilometer  RegistrationMonth  FuelType       Brand Repaired  \\\n",
       "0   golf     150000                  0    petrol  volkswagen      NaN   \n",
       "1    NaN     125000                  5  gasoline        audi      yes   \n",
       "2  grand     125000                  8  gasoline        jeep      NaN   \n",
       "3   golf     150000                  6    petrol  volkswagen       no   \n",
       "4  fabia      90000                  7  gasoline       skoda       no   \n",
       "\n",
       "           DateCreated  NumberOfPictures  PostalCode             LastSeen  \n",
       "0  2016-03-24 00:00:00                 0       70435  2016-04-07 03:16:57  \n",
       "1  2016-03-24 00:00:00                 0       66954  2016-04-07 01:46:50  \n",
       "2  2016-03-14 00:00:00                 0       90480  2016-04-05 12:47:46  \n",
       "3  2016-03-17 00:00:00                 0       91074  2016-03-17 17:40:17  \n",
       "4  2016-03-31 00:00:00                 0       60437  2016-04-06 10:17:21  "
      ]
     },
     "execution_count": 5,
     "metadata": {},
     "output_type": "execute_result"
    }
   ],
   "source": [
    "# Посмотрим на таблицу с данными\n",
    "df.head()"
   ]
  },
  {
   "cell_type": "code",
   "execution_count": 6,
   "metadata": {},
   "outputs": [
    {
     "name": "stdout",
     "output_type": "stream",
     "text": [
      "<class 'pandas.core.frame.DataFrame'>\n",
      "RangeIndex: 354369 entries, 0 to 354368\n",
      "Data columns (total 16 columns):\n",
      " #   Column             Non-Null Count   Dtype \n",
      "---  ------             --------------   ----- \n",
      " 0   DateCrawled        354369 non-null  object\n",
      " 1   Price              354369 non-null  int64 \n",
      " 2   VehicleType        316879 non-null  object\n",
      " 3   RegistrationYear   354369 non-null  int64 \n",
      " 4   Gearbox            334536 non-null  object\n",
      " 5   Power              354369 non-null  int64 \n",
      " 6   Model              334664 non-null  object\n",
      " 7   Kilometer          354369 non-null  int64 \n",
      " 8   RegistrationMonth  354369 non-null  int64 \n",
      " 9   FuelType           321474 non-null  object\n",
      " 10  Brand              354369 non-null  object\n",
      " 11  Repaired           283215 non-null  object\n",
      " 12  DateCreated        354369 non-null  object\n",
      " 13  NumberOfPictures   354369 non-null  int64 \n",
      " 14  PostalCode         354369 non-null  int64 \n",
      " 15  LastSeen           354369 non-null  object\n",
      "dtypes: int64(7), object(9)\n",
      "memory usage: 43.3+ MB\n"
     ]
    }
   ],
   "source": [
    "# Выведем общую информацию о данных\n",
    "df.info()"
   ]
  },
  {
   "cell_type": "code",
   "execution_count": 7,
   "metadata": {},
   "outputs": [
    {
     "data": {
      "text/html": [
       "<style  type=\"text/css\" >\n",
       "#T_8846f_row0_col0,#T_8846f_row1_col0,#T_8846f_row3_col0,#T_8846f_row5_col0,#T_8846f_row7_col0,#T_8846f_row8_col0,#T_8846f_row10_col0,#T_8846f_row12_col0,#T_8846f_row13_col0,#T_8846f_row14_col0,#T_8846f_row15_col0{\n",
       "            background-color:  #3b4cc0;\n",
       "            color:  #f1f1f1;\n",
       "        }#T_8846f_row2_col0{\n",
       "            background-color:  #e4d9d2;\n",
       "            color:  #000000;\n",
       "        }#T_8846f_row4_col0,#T_8846f_row6_col0{\n",
       "            background-color:  #97b8ff;\n",
       "            color:  #000000;\n",
       "        }#T_8846f_row9_col0{\n",
       "            background-color:  #d3dbe7;\n",
       "            color:  #000000;\n",
       "        }#T_8846f_row11_col0{\n",
       "            background-color:  #b40426;\n",
       "            color:  #f1f1f1;\n",
       "        }</style><table id=\"T_8846f_\" ><thead>    <tr>        <th class=\"blank level0\" ></th>        <th class=\"col_heading level0 col0\" >0</th>    </tr></thead><tbody>\n",
       "                <tr>\n",
       "                        <th id=\"T_8846f_level0_row0\" class=\"row_heading level0 row0\" >DateCrawled</th>\n",
       "                        <td id=\"T_8846f_row0_col0\" class=\"data row0 col0\" >0.000000</td>\n",
       "            </tr>\n",
       "            <tr>\n",
       "                        <th id=\"T_8846f_level0_row1\" class=\"row_heading level0 row1\" >Price</th>\n",
       "                        <td id=\"T_8846f_row1_col0\" class=\"data row1 col0\" >0.000000</td>\n",
       "            </tr>\n",
       "            <tr>\n",
       "                        <th id=\"T_8846f_level0_row2\" class=\"row_heading level0 row2\" >VehicleType</th>\n",
       "                        <td id=\"T_8846f_row2_col0\" class=\"data row2 col0\" >10.600000</td>\n",
       "            </tr>\n",
       "            <tr>\n",
       "                        <th id=\"T_8846f_level0_row3\" class=\"row_heading level0 row3\" >RegistrationYear</th>\n",
       "                        <td id=\"T_8846f_row3_col0\" class=\"data row3 col0\" >0.000000</td>\n",
       "            </tr>\n",
       "            <tr>\n",
       "                        <th id=\"T_8846f_level0_row4\" class=\"row_heading level0 row4\" >Gearbox</th>\n",
       "                        <td id=\"T_8846f_row4_col0\" class=\"data row4 col0\" >5.600000</td>\n",
       "            </tr>\n",
       "            <tr>\n",
       "                        <th id=\"T_8846f_level0_row5\" class=\"row_heading level0 row5\" >Power</th>\n",
       "                        <td id=\"T_8846f_row5_col0\" class=\"data row5 col0\" >0.000000</td>\n",
       "            </tr>\n",
       "            <tr>\n",
       "                        <th id=\"T_8846f_level0_row6\" class=\"row_heading level0 row6\" >Model</th>\n",
       "                        <td id=\"T_8846f_row6_col0\" class=\"data row6 col0\" >5.600000</td>\n",
       "            </tr>\n",
       "            <tr>\n",
       "                        <th id=\"T_8846f_level0_row7\" class=\"row_heading level0 row7\" >Kilometer</th>\n",
       "                        <td id=\"T_8846f_row7_col0\" class=\"data row7 col0\" >0.000000</td>\n",
       "            </tr>\n",
       "            <tr>\n",
       "                        <th id=\"T_8846f_level0_row8\" class=\"row_heading level0 row8\" >RegistrationMonth</th>\n",
       "                        <td id=\"T_8846f_row8_col0\" class=\"data row8 col0\" >0.000000</td>\n",
       "            </tr>\n",
       "            <tr>\n",
       "                        <th id=\"T_8846f_level0_row9\" class=\"row_heading level0 row9\" >FuelType</th>\n",
       "                        <td id=\"T_8846f_row9_col0\" class=\"data row9 col0\" >9.300000</td>\n",
       "            </tr>\n",
       "            <tr>\n",
       "                        <th id=\"T_8846f_level0_row10\" class=\"row_heading level0 row10\" >Brand</th>\n",
       "                        <td id=\"T_8846f_row10_col0\" class=\"data row10 col0\" >0.000000</td>\n",
       "            </tr>\n",
       "            <tr>\n",
       "                        <th id=\"T_8846f_level0_row11\" class=\"row_heading level0 row11\" >Repaired</th>\n",
       "                        <td id=\"T_8846f_row11_col0\" class=\"data row11 col0\" >20.100000</td>\n",
       "            </tr>\n",
       "            <tr>\n",
       "                        <th id=\"T_8846f_level0_row12\" class=\"row_heading level0 row12\" >DateCreated</th>\n",
       "                        <td id=\"T_8846f_row12_col0\" class=\"data row12 col0\" >0.000000</td>\n",
       "            </tr>\n",
       "            <tr>\n",
       "                        <th id=\"T_8846f_level0_row13\" class=\"row_heading level0 row13\" >NumberOfPictures</th>\n",
       "                        <td id=\"T_8846f_row13_col0\" class=\"data row13 col0\" >0.000000</td>\n",
       "            </tr>\n",
       "            <tr>\n",
       "                        <th id=\"T_8846f_level0_row14\" class=\"row_heading level0 row14\" >PostalCode</th>\n",
       "                        <td id=\"T_8846f_row14_col0\" class=\"data row14 col0\" >0.000000</td>\n",
       "            </tr>\n",
       "            <tr>\n",
       "                        <th id=\"T_8846f_level0_row15\" class=\"row_heading level0 row15\" >LastSeen</th>\n",
       "                        <td id=\"T_8846f_row15_col0\" class=\"data row15 col0\" >0.000000</td>\n",
       "            </tr>\n",
       "    </tbody></table>"
      ],
      "text/plain": [
       "<pandas.io.formats.style.Styler at 0x7fb248471c70>"
      ]
     },
     "execution_count": 7,
     "metadata": {},
     "output_type": "execute_result"
    }
   ],
   "source": [
    "# посмотрим на долю пропусков\n",
    "pd.DataFrame(round(df.isna().mean()*100,1)).style.background_gradient('coolwarm')"
   ]
  },
  {
   "cell_type": "code",
   "execution_count": 8,
   "metadata": {},
   "outputs": [
    {
     "data": {
      "text/plain": [
       "DateCrawled              0\n",
       "Price                    0\n",
       "VehicleType          37490\n",
       "RegistrationYear         0\n",
       "Gearbox              19833\n",
       "Power                    0\n",
       "Model                19705\n",
       "Kilometer                0\n",
       "RegistrationMonth        0\n",
       "FuelType             32895\n",
       "Brand                    0\n",
       "Repaired             71154\n",
       "DateCreated              0\n",
       "NumberOfPictures         0\n",
       "PostalCode               0\n",
       "LastSeen                 0\n",
       "dtype: int64"
      ]
     },
     "execution_count": 8,
     "metadata": {},
     "output_type": "execute_result"
    }
   ],
   "source": [
    "df.isna().sum()"
   ]
  },
  {
   "cell_type": "code",
   "execution_count": 9,
   "metadata": {},
   "outputs": [
    {
     "data": {
      "text/plain": [
       "4"
      ]
     },
     "execution_count": 9,
     "metadata": {},
     "output_type": "execute_result"
    }
   ],
   "source": [
    "# Количество полных дубликатов\n",
    "df.duplicated().sum()"
   ]
  },
  {
   "cell_type": "code",
   "execution_count": 10,
   "metadata": {},
   "outputs": [],
   "source": [
    "# Удалим полные дубликаты\n",
    "df = df.drop_duplicates().reset_index(drop=True)"
   ]
  },
  {
   "cell_type": "code",
   "execution_count": 11,
   "metadata": {},
   "outputs": [],
   "source": [
    "# Поменяем формат признаков с датами на datetime\n",
    "df['DateCrawled'] = pd.to_datetime(df['DateCrawled'], format='%Y-%m-%dT%H:%M:%S')\n",
    "df['DateCreated'] = pd.to_datetime(df['DateCreated'], format='%Y-%m-%dT%H:%M:%S')\n",
    "df['LastSeen'] = pd.to_datetime(df['LastSeen'], format='%Y-%m-%dT%H:%M:%S')"
   ]
  },
  {
   "cell_type": "code",
   "execution_count": 12,
   "metadata": {},
   "outputs": [
    {
     "data": {
      "text/html": [
       "<div>\n",
       "<style scoped>\n",
       "    .dataframe tbody tr th:only-of-type {\n",
       "        vertical-align: middle;\n",
       "    }\n",
       "\n",
       "    .dataframe tbody tr th {\n",
       "        vertical-align: top;\n",
       "    }\n",
       "\n",
       "    .dataframe thead th {\n",
       "        text-align: right;\n",
       "    }\n",
       "</style>\n",
       "<table border=\"1\" class=\"dataframe\">\n",
       "  <thead>\n",
       "    <tr style=\"text-align: right;\">\n",
       "      <th></th>\n",
       "      <th>DateCrawled</th>\n",
       "      <th>DateCreated</th>\n",
       "      <th>LastSeen</th>\n",
       "    </tr>\n",
       "  </thead>\n",
       "  <tbody>\n",
       "    <tr>\n",
       "      <th>count</th>\n",
       "      <td>354365</td>\n",
       "      <td>354365</td>\n",
       "      <td>354365</td>\n",
       "    </tr>\n",
       "    <tr>\n",
       "      <th>mean</th>\n",
       "      <td>2016-03-21 12:58:09.520460544</td>\n",
       "      <td>2016-03-20 19:12:06.583042560</td>\n",
       "      <td>2016-03-29 23:51:06.766184960</td>\n",
       "    </tr>\n",
       "    <tr>\n",
       "      <th>min</th>\n",
       "      <td>2016-03-05 14:06:22</td>\n",
       "      <td>2014-03-10 00:00:00</td>\n",
       "      <td>2016-03-05 14:15:08</td>\n",
       "    </tr>\n",
       "    <tr>\n",
       "      <th>25%</th>\n",
       "      <td>2016-03-13 11:52:33</td>\n",
       "      <td>2016-03-13 00:00:00</td>\n",
       "      <td>2016-03-23 02:50:03</td>\n",
       "    </tr>\n",
       "    <tr>\n",
       "      <th>50%</th>\n",
       "      <td>2016-03-21 17:50:55</td>\n",
       "      <td>2016-03-21 00:00:00</td>\n",
       "      <td>2016-04-03 15:15:52</td>\n",
       "    </tr>\n",
       "    <tr>\n",
       "      <th>75%</th>\n",
       "      <td>2016-03-29 14:37:20</td>\n",
       "      <td>2016-03-29 00:00:00</td>\n",
       "      <td>2016-04-06 10:15:19</td>\n",
       "    </tr>\n",
       "    <tr>\n",
       "      <th>max</th>\n",
       "      <td>2016-04-07 14:36:58</td>\n",
       "      <td>2016-04-07 00:00:00</td>\n",
       "      <td>2016-04-07 14:58:51</td>\n",
       "    </tr>\n",
       "  </tbody>\n",
       "</table>\n",
       "</div>"
      ],
      "text/plain": [
       "                         DateCrawled                    DateCreated  \\\n",
       "count                         354365                         354365   \n",
       "mean   2016-03-21 12:58:09.520460544  2016-03-20 19:12:06.583042560   \n",
       "min              2016-03-05 14:06:22            2014-03-10 00:00:00   \n",
       "25%              2016-03-13 11:52:33            2016-03-13 00:00:00   \n",
       "50%              2016-03-21 17:50:55            2016-03-21 00:00:00   \n",
       "75%              2016-03-29 14:37:20            2016-03-29 00:00:00   \n",
       "max              2016-04-07 14:36:58            2016-04-07 00:00:00   \n",
       "\n",
       "                            LastSeen  \n",
       "count                         354365  \n",
       "mean   2016-03-29 23:51:06.766184960  \n",
       "min              2016-03-05 14:15:08  \n",
       "25%              2016-03-23 02:50:03  \n",
       "50%              2016-04-03 15:15:52  \n",
       "75%              2016-04-06 10:15:19  \n",
       "max              2016-04-07 14:58:51  "
      ]
     },
     "execution_count": 12,
     "metadata": {},
     "output_type": "execute_result"
    }
   ],
   "source": [
    "# Выведем статистические данные о признаках с датами\n",
    "df[['DateCrawled','DateCreated','LastSeen']].describe(datetime_is_numeric=True)"
   ]
  },
  {
   "cell_type": "markdown",
   "metadata": {},
   "source": [
    "Мы видим, что последнее извлечение данных из базы было 2016-04-07 14:36:58."
   ]
  },
  {
   "cell_type": "markdown",
   "metadata": {},
   "source": [
    "**Исследуем количественные признаки**"
   ]
  },
  {
   "cell_type": "code",
   "execution_count": 13,
   "metadata": {},
   "outputs": [
    {
     "data": {
      "text/html": [
       "<div>\n",
       "<style scoped>\n",
       "    .dataframe tbody tr th:only-of-type {\n",
       "        vertical-align: middle;\n",
       "    }\n",
       "\n",
       "    .dataframe tbody tr th {\n",
       "        vertical-align: top;\n",
       "    }\n",
       "\n",
       "    .dataframe thead th {\n",
       "        text-align: right;\n",
       "    }\n",
       "</style>\n",
       "<table border=\"1\" class=\"dataframe\">\n",
       "  <thead>\n",
       "    <tr style=\"text-align: right;\">\n",
       "      <th></th>\n",
       "      <th>Price</th>\n",
       "      <th>RegistrationYear</th>\n",
       "      <th>Power</th>\n",
       "      <th>Kilometer</th>\n",
       "      <th>RegistrationMonth</th>\n",
       "      <th>NumberOfPictures</th>\n",
       "      <th>PostalCode</th>\n",
       "    </tr>\n",
       "  </thead>\n",
       "  <tbody>\n",
       "    <tr>\n",
       "      <th>Price</th>\n",
       "      <td>1.000000</td>\n",
       "      <td>0.026916</td>\n",
       "      <td>0.158872</td>\n",
       "      <td>-0.333207</td>\n",
       "      <td>0.110580</td>\n",
       "      <td>NaN</td>\n",
       "      <td>0.076058</td>\n",
       "    </tr>\n",
       "    <tr>\n",
       "      <th>RegistrationYear</th>\n",
       "      <td>0.026916</td>\n",
       "      <td>1.000000</td>\n",
       "      <td>-0.000828</td>\n",
       "      <td>-0.053448</td>\n",
       "      <td>-0.011619</td>\n",
       "      <td>NaN</td>\n",
       "      <td>-0.003459</td>\n",
       "    </tr>\n",
       "    <tr>\n",
       "      <th>Power</th>\n",
       "      <td>0.158872</td>\n",
       "      <td>-0.000828</td>\n",
       "      <td>1.000000</td>\n",
       "      <td>0.024006</td>\n",
       "      <td>0.043379</td>\n",
       "      <td>NaN</td>\n",
       "      <td>0.021662</td>\n",
       "    </tr>\n",
       "    <tr>\n",
       "      <th>Kilometer</th>\n",
       "      <td>-0.333207</td>\n",
       "      <td>-0.053448</td>\n",
       "      <td>0.024006</td>\n",
       "      <td>1.000000</td>\n",
       "      <td>0.009575</td>\n",
       "      <td>NaN</td>\n",
       "      <td>-0.007685</td>\n",
       "    </tr>\n",
       "    <tr>\n",
       "      <th>RegistrationMonth</th>\n",
       "      <td>0.110580</td>\n",
       "      <td>-0.011619</td>\n",
       "      <td>0.043379</td>\n",
       "      <td>0.009575</td>\n",
       "      <td>1.000000</td>\n",
       "      <td>NaN</td>\n",
       "      <td>0.013996</td>\n",
       "    </tr>\n",
       "    <tr>\n",
       "      <th>NumberOfPictures</th>\n",
       "      <td>NaN</td>\n",
       "      <td>NaN</td>\n",
       "      <td>NaN</td>\n",
       "      <td>NaN</td>\n",
       "      <td>NaN</td>\n",
       "      <td>NaN</td>\n",
       "      <td>NaN</td>\n",
       "    </tr>\n",
       "    <tr>\n",
       "      <th>PostalCode</th>\n",
       "      <td>0.076058</td>\n",
       "      <td>-0.003459</td>\n",
       "      <td>0.021662</td>\n",
       "      <td>-0.007685</td>\n",
       "      <td>0.013996</td>\n",
       "      <td>NaN</td>\n",
       "      <td>1.000000</td>\n",
       "    </tr>\n",
       "  </tbody>\n",
       "</table>\n",
       "</div>"
      ],
      "text/plain": [
       "                      Price  RegistrationYear     Power  Kilometer  \\\n",
       "Price              1.000000          0.026916  0.158872  -0.333207   \n",
       "RegistrationYear   0.026916          1.000000 -0.000828  -0.053448   \n",
       "Power              0.158872         -0.000828  1.000000   0.024006   \n",
       "Kilometer         -0.333207         -0.053448  0.024006   1.000000   \n",
       "RegistrationMonth  0.110580         -0.011619  0.043379   0.009575   \n",
       "NumberOfPictures        NaN               NaN       NaN        NaN   \n",
       "PostalCode         0.076058         -0.003459  0.021662  -0.007685   \n",
       "\n",
       "                   RegistrationMonth  NumberOfPictures  PostalCode  \n",
       "Price                       0.110580               NaN    0.076058  \n",
       "RegistrationYear           -0.011619               NaN   -0.003459  \n",
       "Power                       0.043379               NaN    0.021662  \n",
       "Kilometer                   0.009575               NaN   -0.007685  \n",
       "RegistrationMonth           1.000000               NaN    0.013996  \n",
       "NumberOfPictures                 NaN               NaN         NaN  \n",
       "PostalCode                  0.013996               NaN    1.000000  "
      ]
     },
     "execution_count": 13,
     "metadata": {},
     "output_type": "execute_result"
    }
   ],
   "source": [
    "# Посмотрим на корреляцию между данными\n",
    "df.corr()"
   ]
  },
  {
   "cell_type": "code",
   "execution_count": 14,
   "metadata": {},
   "outputs": [
    {
     "data": {
      "text/html": [
       "<div>\n",
       "<style scoped>\n",
       "    .dataframe tbody tr th:only-of-type {\n",
       "        vertical-align: middle;\n",
       "    }\n",
       "\n",
       "    .dataframe tbody tr th {\n",
       "        vertical-align: top;\n",
       "    }\n",
       "\n",
       "    .dataframe thead th {\n",
       "        text-align: right;\n",
       "    }\n",
       "</style>\n",
       "<table border=\"1\" class=\"dataframe\">\n",
       "  <thead>\n",
       "    <tr style=\"text-align: right;\">\n",
       "      <th></th>\n",
       "      <th>Price</th>\n",
       "    </tr>\n",
       "  </thead>\n",
       "  <tbody>\n",
       "    <tr>\n",
       "      <th>count</th>\n",
       "      <td>354365.000000</td>\n",
       "    </tr>\n",
       "    <tr>\n",
       "      <th>mean</th>\n",
       "      <td>4416.679830</td>\n",
       "    </tr>\n",
       "    <tr>\n",
       "      <th>std</th>\n",
       "      <td>4514.176349</td>\n",
       "    </tr>\n",
       "    <tr>\n",
       "      <th>min</th>\n",
       "      <td>0.000000</td>\n",
       "    </tr>\n",
       "    <tr>\n",
       "      <th>25%</th>\n",
       "      <td>1050.000000</td>\n",
       "    </tr>\n",
       "    <tr>\n",
       "      <th>50%</th>\n",
       "      <td>2700.000000</td>\n",
       "    </tr>\n",
       "    <tr>\n",
       "      <th>75%</th>\n",
       "      <td>6400.000000</td>\n",
       "    </tr>\n",
       "    <tr>\n",
       "      <th>max</th>\n",
       "      <td>20000.000000</td>\n",
       "    </tr>\n",
       "  </tbody>\n",
       "</table>\n",
       "</div>"
      ],
      "text/plain": [
       "               Price\n",
       "count  354365.000000\n",
       "mean     4416.679830\n",
       "std      4514.176349\n",
       "min         0.000000\n",
       "25%      1050.000000\n",
       "50%      2700.000000\n",
       "75%      6400.000000\n",
       "max     20000.000000"
      ]
     },
     "execution_count": 14,
     "metadata": {},
     "output_type": "execute_result"
    }
   ],
   "source": [
    "# Исследуем цены автомобилей\n",
    "df[['Price']].describe()"
   ]
  },
  {
   "cell_type": "code",
   "execution_count": 15,
   "metadata": {},
   "outputs": [],
   "source": [
    "df = df[df['Price'] >= 1] # оставим только автомобили с ценами >= 1"
   ]
  },
  {
   "cell_type": "code",
   "execution_count": 16,
   "metadata": {},
   "outputs": [
    {
     "data": {
      "text/html": [
       "<div>\n",
       "<style scoped>\n",
       "    .dataframe tbody tr th:only-of-type {\n",
       "        vertical-align: middle;\n",
       "    }\n",
       "\n",
       "    .dataframe tbody tr th {\n",
       "        vertical-align: top;\n",
       "    }\n",
       "\n",
       "    .dataframe thead th {\n",
       "        text-align: right;\n",
       "    }\n",
       "</style>\n",
       "<table border=\"1\" class=\"dataframe\">\n",
       "  <thead>\n",
       "    <tr style=\"text-align: right;\">\n",
       "      <th></th>\n",
       "      <th>RegistrationYear</th>\n",
       "    </tr>\n",
       "  </thead>\n",
       "  <tbody>\n",
       "    <tr>\n",
       "      <th>count</th>\n",
       "      <td>343593.00000</td>\n",
       "    </tr>\n",
       "    <tr>\n",
       "      <th>mean</th>\n",
       "      <td>2004.08983</td>\n",
       "    </tr>\n",
       "    <tr>\n",
       "      <th>std</th>\n",
       "      <td>78.41368</td>\n",
       "    </tr>\n",
       "    <tr>\n",
       "      <th>min</th>\n",
       "      <td>1000.00000</td>\n",
       "    </tr>\n",
       "    <tr>\n",
       "      <th>25%</th>\n",
       "      <td>1999.00000</td>\n",
       "    </tr>\n",
       "    <tr>\n",
       "      <th>50%</th>\n",
       "      <td>2003.00000</td>\n",
       "    </tr>\n",
       "    <tr>\n",
       "      <th>75%</th>\n",
       "      <td>2008.00000</td>\n",
       "    </tr>\n",
       "    <tr>\n",
       "      <th>max</th>\n",
       "      <td>9999.00000</td>\n",
       "    </tr>\n",
       "  </tbody>\n",
       "</table>\n",
       "</div>"
      ],
      "text/plain": [
       "       RegistrationYear\n",
       "count      343593.00000\n",
       "mean         2004.08983\n",
       "std            78.41368\n",
       "min          1000.00000\n",
       "25%          1999.00000\n",
       "50%          2003.00000\n",
       "75%          2008.00000\n",
       "max          9999.00000"
      ]
     },
     "execution_count": 16,
     "metadata": {},
     "output_type": "execute_result"
    }
   ],
   "source": [
    "# Исследуем год регистрации объектов\n",
    "df[['RegistrationYear']].describe()"
   ]
  },
  {
   "cell_type": "markdown",
   "metadata": {},
   "source": [
    "Так как последняя дата скачивания анкеты из базы была 2016-04-07, то удалим автомобили зарегистрированные позже 2016 года (это не имеет смысла). Также удалим объекты зарегистрированные до 1950 года, они уже могут являться раритетнными и их рыночная стоимость может значительно отличаться."
   ]
  },
  {
   "cell_type": "code",
   "execution_count": 17,
   "metadata": {},
   "outputs": [],
   "source": [
    "df = df[(df['RegistrationYear'] <= 2016) & (df['RegistrationYear'] >= 1950)] "
   ]
  },
  {
   "cell_type": "code",
   "execution_count": 18,
   "metadata": {},
   "outputs": [
    {
     "data": {
      "text/html": [
       "<div>\n",
       "<style scoped>\n",
       "    .dataframe tbody tr th:only-of-type {\n",
       "        vertical-align: middle;\n",
       "    }\n",
       "\n",
       "    .dataframe tbody tr th {\n",
       "        vertical-align: top;\n",
       "    }\n",
       "\n",
       "    .dataframe thead th {\n",
       "        text-align: right;\n",
       "    }\n",
       "</style>\n",
       "<table border=\"1\" class=\"dataframe\">\n",
       "  <thead>\n",
       "    <tr style=\"text-align: right;\">\n",
       "      <th></th>\n",
       "      <th>Power</th>\n",
       "    </tr>\n",
       "  </thead>\n",
       "  <tbody>\n",
       "    <tr>\n",
       "      <th>count</th>\n",
       "      <td>329635.000000</td>\n",
       "    </tr>\n",
       "    <tr>\n",
       "      <th>mean</th>\n",
       "      <td>111.931806</td>\n",
       "    </tr>\n",
       "    <tr>\n",
       "      <th>std</th>\n",
       "      <td>184.862436</td>\n",
       "    </tr>\n",
       "    <tr>\n",
       "      <th>min</th>\n",
       "      <td>0.000000</td>\n",
       "    </tr>\n",
       "    <tr>\n",
       "      <th>25%</th>\n",
       "      <td>71.000000</td>\n",
       "    </tr>\n",
       "    <tr>\n",
       "      <th>50%</th>\n",
       "      <td>105.000000</td>\n",
       "    </tr>\n",
       "    <tr>\n",
       "      <th>75%</th>\n",
       "      <td>143.000000</td>\n",
       "    </tr>\n",
       "    <tr>\n",
       "      <th>max</th>\n",
       "      <td>20000.000000</td>\n",
       "    </tr>\n",
       "  </tbody>\n",
       "</table>\n",
       "</div>"
      ],
      "text/plain": [
       "               Power\n",
       "count  329635.000000\n",
       "mean      111.931806\n",
       "std       184.862436\n",
       "min         0.000000\n",
       "25%        71.000000\n",
       "50%       105.000000\n",
       "75%       143.000000\n",
       "max     20000.000000"
      ]
     },
     "execution_count": 18,
     "metadata": {},
     "output_type": "execute_result"
    }
   ],
   "source": [
    "# Исследуем мощность\n",
    "df[['Power']].describe()"
   ]
  },
  {
   "cell_type": "markdown",
   "metadata": {},
   "source": [
    "Заменим выбросы мощности больше 750 л.с. и аномалии менее 10 л.с. медианным значением."
   ]
  },
  {
   "cell_type": "code",
   "execution_count": 19,
   "metadata": {},
   "outputs": [],
   "source": [
    "df['Power'] = df['Power'].where((df['Power'] <= 750) & (df['Power'] >= 10), 105)"
   ]
  },
  {
   "cell_type": "code",
   "execution_count": 20,
   "metadata": {},
   "outputs": [
    {
     "data": {
      "text/html": [
       "<div>\n",
       "<style scoped>\n",
       "    .dataframe tbody tr th:only-of-type {\n",
       "        vertical-align: middle;\n",
       "    }\n",
       "\n",
       "    .dataframe tbody tr th {\n",
       "        vertical-align: top;\n",
       "    }\n",
       "\n",
       "    .dataframe thead th {\n",
       "        text-align: right;\n",
       "    }\n",
       "</style>\n",
       "<table border=\"1\" class=\"dataframe\">\n",
       "  <thead>\n",
       "    <tr style=\"text-align: right;\">\n",
       "      <th></th>\n",
       "      <th>Kilometer</th>\n",
       "    </tr>\n",
       "  </thead>\n",
       "  <tbody>\n",
       "    <tr>\n",
       "      <th>count</th>\n",
       "      <td>329635.000000</td>\n",
       "    </tr>\n",
       "    <tr>\n",
       "      <th>mean</th>\n",
       "      <td>128232.620929</td>\n",
       "    </tr>\n",
       "    <tr>\n",
       "      <th>std</th>\n",
       "      <td>37487.625858</td>\n",
       "    </tr>\n",
       "    <tr>\n",
       "      <th>min</th>\n",
       "      <td>5000.000000</td>\n",
       "    </tr>\n",
       "    <tr>\n",
       "      <th>25%</th>\n",
       "      <td>125000.000000</td>\n",
       "    </tr>\n",
       "    <tr>\n",
       "      <th>50%</th>\n",
       "      <td>150000.000000</td>\n",
       "    </tr>\n",
       "    <tr>\n",
       "      <th>75%</th>\n",
       "      <td>150000.000000</td>\n",
       "    </tr>\n",
       "    <tr>\n",
       "      <th>max</th>\n",
       "      <td>150000.000000</td>\n",
       "    </tr>\n",
       "  </tbody>\n",
       "</table>\n",
       "</div>"
      ],
      "text/plain": [
       "           Kilometer\n",
       "count  329635.000000\n",
       "mean   128232.620929\n",
       "std     37487.625858\n",
       "min      5000.000000\n",
       "25%    125000.000000\n",
       "50%    150000.000000\n",
       "75%    150000.000000\n",
       "max    150000.000000"
      ]
     },
     "execution_count": 20,
     "metadata": {},
     "output_type": "execute_result"
    }
   ],
   "source": [
    "# Исследуем пробег\n",
    "df[['Kilometer']].describe()"
   ]
  },
  {
   "cell_type": "markdown",
   "metadata": {},
   "source": [
    "Признаки `RegistrationMonth`, `NumberOfPictures`, `PostalCode` не информативны для дальнейшего обучения моделей, поэтому сразу их удалим. Также заодно удалим признаки с датами создания анкеты, последней активности пользователя и скачивания анкеты из базы."
   ]
  },
  {
   "cell_type": "code",
   "execution_count": 21,
   "metadata": {},
   "outputs": [],
   "source": [
    "df = df.drop(['RegistrationMonth', 'NumberOfPictures', 'PostalCode', 'DateCrawled', 'DateCreated', 'LastSeen'], axis=1)"
   ]
  },
  {
   "cell_type": "code",
   "execution_count": 22,
   "metadata": {},
   "outputs": [
    {
     "name": "stdout",
     "output_type": "stream",
     "text": [
      "<class 'pandas.core.frame.DataFrame'>\n",
      "Int64Index: 329635 entries, 0 to 354364\n",
      "Data columns (total 10 columns):\n",
      " #   Column            Non-Null Count   Dtype \n",
      "---  ------            --------------   ----- \n",
      " 0   Price             329635 non-null  int64 \n",
      " 1   VehicleType       309738 non-null  object\n",
      " 2   RegistrationYear  329635 non-null  int64 \n",
      " 3   Gearbox           314090 non-null  object\n",
      " 4   Power             329635 non-null  int64 \n",
      " 5   Model             314053 non-null  object\n",
      " 6   Kilometer         329635 non-null  int64 \n",
      " 7   FuelType          305512 non-null  object\n",
      " 8   Brand             329635 non-null  object\n",
      " 9   Repaired          269827 non-null  object\n",
      "dtypes: int64(4), object(6)\n",
      "memory usage: 27.7+ MB\n"
     ]
    }
   ],
   "source": [
    "df.info()"
   ]
  },
  {
   "cell_type": "markdown",
   "metadata": {},
   "source": [
    "**Исследуем категориальные признаки**"
   ]
  },
  {
   "cell_type": "code",
   "execution_count": 23,
   "metadata": {},
   "outputs": [
    {
     "data": {
      "text/plain": [
       "sedan          89377\n",
       "small          77999\n",
       "wagon          63694\n",
       "bus            28341\n",
       "NaN            19897\n",
       "convertible    19852\n",
       "coupe          15627\n",
       "suv            11778\n",
       "other           3070\n",
       "Name: VehicleType, dtype: int64"
      ]
     },
     "execution_count": 23,
     "metadata": {},
     "output_type": "execute_result"
    }
   ],
   "source": [
    "# Посмотрим на типы кузова\n",
    "df1 = df['VehicleType'].value_counts(dropna=False)\n",
    "df1"
   ]
  },
  {
   "cell_type": "code",
   "execution_count": 24,
   "metadata": {},
   "outputs": [],
   "source": [
    "# Заполним пропущенные значения в типах кузова самым часто встречающимся значением\n",
    "df['VehicleType'] = df['VehicleType'].fillna('sedan')"
   ]
  },
  {
   "cell_type": "code",
   "execution_count": 25,
   "metadata": {},
   "outputs": [
    {
     "data": {
      "text/plain": [
       "manual    251092\n",
       "auto       62998\n",
       "NaN        15545\n",
       "Name: Gearbox, dtype: int64"
      ]
     },
     "execution_count": 25,
     "metadata": {},
     "output_type": "execute_result"
    }
   ],
   "source": [
    "# Посмотрим на типы коробки передач\n",
    "df1 = df['Gearbox'].value_counts(dropna= False)\n",
    "df1"
   ]
  },
  {
   "cell_type": "code",
   "execution_count": 26,
   "metadata": {},
   "outputs": [],
   "source": [
    "# Заполним пропущенные значения в типах коробки передач самым часто встречающимся значением\n",
    "df['Gearbox'] = df['Gearbox'].fillna('manual')"
   ]
  },
  {
   "cell_type": "code",
   "execution_count": 27,
   "metadata": {},
   "outputs": [
    {
     "data": {
      "text/plain": [
       "golf                  26732\n",
       "other                 23138\n",
       "3er                   18670\n",
       "NaN                   15582\n",
       "polo                  12031\n",
       "                      ...  \n",
       "kalina                    6\n",
       "rangerover                3\n",
       "serie_3                   3\n",
       "range_rover_evoque        2\n",
       "serie_1                   1\n",
       "Name: Model, Length: 251, dtype: int64"
      ]
     },
     "execution_count": 27,
     "metadata": {},
     "output_type": "execute_result"
    }
   ],
   "source": [
    "# Посмотрим на модели автомобилей\n",
    "df1 = df['Model'].value_counts(dropna= False)\n",
    "df1"
   ]
  },
  {
   "cell_type": "markdown",
   "metadata": {},
   "source": [
    "Для заполнения пропущенных значений в признаке `Model` у нас нет данных, поэтому удалим строки, в которых данное значение пропущено."
   ]
  },
  {
   "cell_type": "code",
   "execution_count": 28,
   "metadata": {},
   "outputs": [],
   "source": [
    "df = df[~(df['Model'].isna())]"
   ]
  },
  {
   "cell_type": "markdown",
   "metadata": {},
   "source": [
    "Объединим в один признак бренд и модель автомобиля и запишем его в новую колонку. А колонки `Model` и `Brand` удалим."
   ]
  },
  {
   "cell_type": "code",
   "execution_count": 29,
   "metadata": {},
   "outputs": [],
   "source": [
    "df['NameAuto'] = df.loc[:,'Brand'] + '_' + df.loc[:,'Model']"
   ]
  },
  {
   "cell_type": "code",
   "execution_count": 30,
   "metadata": {},
   "outputs": [],
   "source": [
    "df = df.drop(['Brand', 'Model'], axis=1)"
   ]
  },
  {
   "cell_type": "code",
   "execution_count": 31,
   "metadata": {},
   "outputs": [
    {
     "data": {
      "text/plain": [
       "petrol      196824\n",
       "gasoline     92404\n",
       "NaN          19219\n",
       "lpg           4717\n",
       "cng            513\n",
       "hybrid         198\n",
       "other          114\n",
       "electric        64\n",
       "Name: FuelType, dtype: int64"
      ]
     },
     "execution_count": 31,
     "metadata": {},
     "output_type": "execute_result"
    }
   ],
   "source": [
    "# Исследуем типы топлива\n",
    "df1 = df['FuelType'].value_counts(dropna= False)\n",
    "df1"
   ]
  },
  {
   "cell_type": "code",
   "execution_count": 33,
   "metadata": {},
   "outputs": [],
   "source": [
    "# Заполним пропущенные значения в типах топлива самым часто встречающимся значением\n",
    "df['FuelType'] = df['FuelType'].fillna('petrol')"
   ]
  },
  {
   "cell_type": "code",
   "execution_count": 34,
   "metadata": {},
   "outputs": [
    {
     "data": {
      "text/plain": [
       "no     229893\n",
       "NaN     53146\n",
       "yes     31014\n",
       "Name: Repaired, dtype: int64"
      ]
     },
     "execution_count": 34,
     "metadata": {},
     "output_type": "execute_result"
    }
   ],
   "source": [
    "# Исследуем факт ремонта автомобилей\n",
    "df1 = df['Repaired'].value_counts(dropna= False)\n",
    "df1"
   ]
  },
  {
   "cell_type": "code",
   "execution_count": 35,
   "metadata": {},
   "outputs": [],
   "source": [
    "# Заполним пропущенные значения заглушкой\n",
    "df['Repaired'] = df['Repaired'].fillna('unknown')"
   ]
  },
  {
   "cell_type": "code",
   "execution_count": 36,
   "metadata": {},
   "outputs": [
    {
     "data": {
      "text/plain": [
       "Price               0\n",
       "VehicleType         0\n",
       "RegistrationYear    0\n",
       "Gearbox             0\n",
       "Power               0\n",
       "Kilometer           0\n",
       "FuelType            0\n",
       "Repaired            0\n",
       "NameAuto            0\n",
       "dtype: int64"
      ]
     },
     "execution_count": 36,
     "metadata": {},
     "output_type": "execute_result"
    }
   ],
   "source": [
    "# Проверим еще раз остались ли пропуски в значениях\n",
    "df.isna().sum()"
   ]
  },
  {
   "cell_type": "markdown",
   "metadata": {},
   "source": [
    "**Вывод**\n",
    "\n",
    "В изначальном датасете 354369 объектов. Целевой признак находится в столбце `Price`.\n",
    "\n",
    "Была проведена предобработка данных:\n",
    "\n",
    "1. Заполнены пропуски медианным значением и модой.\n",
    "2. Обработаны выбросы и аномалии.\n",
    "3. Удалены неинформативные признаки для дальнейшего обучения модели предсказания.\n",
    "\n",
    "После всех манипуляций в таблице осталось 314053 объектов и 9 признаков. Удалению подверглось ~11.4% данных. Это приемлимо, так как данные изначально имели много пропусков.\n",
    "В реальных условиях лучше было бы изначально восстановить данные.\n"
   ]
  },
  {
   "cell_type": "markdown",
   "metadata": {},
   "source": [
    "## Обучение моделей"
   ]
  },
  {
   "cell_type": "code",
   "execution_count": 37,
   "metadata": {},
   "outputs": [],
   "source": [
    "# Разделим данные на выборки. 60% данных отведем под тренировочную выборку df_train\n",
    "df_train, df_vt = train_test_split(df, test_size=0.33, random_state=12345)"
   ]
  },
  {
   "cell_type": "code",
   "execution_count": 38,
   "metadata": {},
   "outputs": [],
   "source": [
    "# оставшиеся данные поделим пополам на тестовую df_test и валидационную df_valid\n",
    "df_test, df_valid = train_test_split(df_vt, test_size=0.5, random_state=12345)"
   ]
  },
  {
   "cell_type": "code",
   "execution_count": 39,
   "metadata": {},
   "outputs": [
    {
     "data": {
      "text/plain": [
       "((210415, 9), (51819, 9), (51819, 9))"
      ]
     },
     "execution_count": 39,
     "metadata": {},
     "output_type": "execute_result"
    }
   ],
   "source": [
    "# Проверим размеры получившихся таблиц \n",
    "df_train.shape, df_test.shape, df_valid.shape"
   ]
  },
  {
   "cell_type": "code",
   "execution_count": 40,
   "metadata": {},
   "outputs": [],
   "source": [
    "# создадим переменные для признаков и целевого признака на тренировочной и валидационной выборках\n",
    "features_train = df_train.drop(['Price'], axis=1)\n",
    "target_train = df_train['Price']\n",
    "features_valid = df_valid.drop(['Price'], axis=1)\n",
    "target_valid = df_valid['Price']"
   ]
  },
  {
   "cell_type": "code",
   "execution_count": 41,
   "metadata": {},
   "outputs": [],
   "source": [
    "# На тестовой выборке создадим переменные для признаков и целевого признака\n",
    "features_test = df_test.drop(['Price'], axis=1)\n",
    "target_test = df_test['Price']"
   ]
  },
  {
   "cell_type": "code",
   "execution_count": 42,
   "metadata": {},
   "outputs": [],
   "source": [
    "# Создадим список с категориальными признаками\n",
    "cat_features = ['VehicleType', 'Gearbox', 'FuelType', 'Repaired', 'NameAuto']"
   ]
  },
  {
   "cell_type": "code",
   "execution_count": 43,
   "metadata": {},
   "outputs": [],
   "source": [
    "# Преобразуем тип признаков с object на category \n",
    "for col in cat_features:\n",
    "    features_train[col] = features_train[col].astype('category')"
   ]
  },
  {
   "cell_type": "code",
   "execution_count": 44,
   "metadata": {},
   "outputs": [],
   "source": [
    "for col in cat_features:\n",
    "    features_valid[col] = features_valid[col].astype('category')"
   ]
  },
  {
   "cell_type": "code",
   "execution_count": 45,
   "metadata": {},
   "outputs": [],
   "source": [
    "for col in cat_features:\n",
    "    features_test[col] = features_test[col].astype('category')"
   ]
  },
  {
   "cell_type": "markdown",
   "metadata": {},
   "source": [
    "**Обучим и подберем гиперпараметры для модели LightGBM**"
   ]
  },
  {
   "cell_type": "code",
   "execution_count": 73,
   "metadata": {
    "scrolled": true
   },
   "outputs": [],
   "source": [
    "model = LGBMRegressor()\n",
    "\n",
    "param_lgbm = {\n",
    "    'max_depth': [1,3,5,7,9,11],\n",
    "    'n_estimators': [10,50,100,200]\n",
    "}\n",
    "random_search = RandomizedSearchCV(model, param_lgbm, n_iter=10, scoring='neg_mean_squared_error', cv=5, random_state=12345)\n",
    "random_search.fit(features_train, target_train)\n",
    "best_params = random_search.best_params_\n",
    "\n",
    "best_model_lgbm = LGBMRegressor(**best_params)"
   ]
  },
  {
   "cell_type": "markdown",
   "metadata": {},
   "source": [
    "Обучим модель с лучшими гиперпараметрами и измерим время обучения."
   ]
  },
  {
   "cell_type": "code",
   "execution_count": 77,
   "metadata": {},
   "outputs": [
    {
     "name": "stdout",
     "output_type": "stream",
     "text": [
      "CPU times: user 7.34 s, sys: 0 ns, total: 7.34 s\n",
      "Wall time: 7.36 s\n"
     ]
    },
    {
     "data": {
      "text/html": [
       "<style>#sk-container-id-3 {color: black;background-color: white;}#sk-container-id-3 pre{padding: 0;}#sk-container-id-3 div.sk-toggleable {background-color: white;}#sk-container-id-3 label.sk-toggleable__label {cursor: pointer;display: block;width: 100%;margin-bottom: 0;padding: 0.3em;box-sizing: border-box;text-align: center;}#sk-container-id-3 label.sk-toggleable__label-arrow:before {content: \"▸\";float: left;margin-right: 0.25em;color: #696969;}#sk-container-id-3 label.sk-toggleable__label-arrow:hover:before {color: black;}#sk-container-id-3 div.sk-estimator:hover label.sk-toggleable__label-arrow:before {color: black;}#sk-container-id-3 div.sk-toggleable__content {max-height: 0;max-width: 0;overflow: hidden;text-align: left;background-color: #f0f8ff;}#sk-container-id-3 div.sk-toggleable__content pre {margin: 0.2em;color: black;border-radius: 0.25em;background-color: #f0f8ff;}#sk-container-id-3 input.sk-toggleable__control:checked~div.sk-toggleable__content {max-height: 200px;max-width: 100%;overflow: auto;}#sk-container-id-3 input.sk-toggleable__control:checked~label.sk-toggleable__label-arrow:before {content: \"▾\";}#sk-container-id-3 div.sk-estimator input.sk-toggleable__control:checked~label.sk-toggleable__label {background-color: #d4ebff;}#sk-container-id-3 div.sk-label input.sk-toggleable__control:checked~label.sk-toggleable__label {background-color: #d4ebff;}#sk-container-id-3 input.sk-hidden--visually {border: 0;clip: rect(1px 1px 1px 1px);clip: rect(1px, 1px, 1px, 1px);height: 1px;margin: -1px;overflow: hidden;padding: 0;position: absolute;width: 1px;}#sk-container-id-3 div.sk-estimator {font-family: monospace;background-color: #f0f8ff;border: 1px dotted black;border-radius: 0.25em;box-sizing: border-box;margin-bottom: 0.5em;}#sk-container-id-3 div.sk-estimator:hover {background-color: #d4ebff;}#sk-container-id-3 div.sk-parallel-item::after {content: \"\";width: 100%;border-bottom: 1px solid gray;flex-grow: 1;}#sk-container-id-3 div.sk-label:hover label.sk-toggleable__label {background-color: #d4ebff;}#sk-container-id-3 div.sk-serial::before {content: \"\";position: absolute;border-left: 1px solid gray;box-sizing: border-box;top: 0;bottom: 0;left: 50%;z-index: 0;}#sk-container-id-3 div.sk-serial {display: flex;flex-direction: column;align-items: center;background-color: white;padding-right: 0.2em;padding-left: 0.2em;position: relative;}#sk-container-id-3 div.sk-item {position: relative;z-index: 1;}#sk-container-id-3 div.sk-parallel {display: flex;align-items: stretch;justify-content: center;background-color: white;position: relative;}#sk-container-id-3 div.sk-item::before, #sk-container-id-3 div.sk-parallel-item::before {content: \"\";position: absolute;border-left: 1px solid gray;box-sizing: border-box;top: 0;bottom: 0;left: 50%;z-index: -1;}#sk-container-id-3 div.sk-parallel-item {display: flex;flex-direction: column;z-index: 1;position: relative;background-color: white;}#sk-container-id-3 div.sk-parallel-item:first-child::after {align-self: flex-end;width: 50%;}#sk-container-id-3 div.sk-parallel-item:last-child::after {align-self: flex-start;width: 50%;}#sk-container-id-3 div.sk-parallel-item:only-child::after {width: 0;}#sk-container-id-3 div.sk-dashed-wrapped {border: 1px dashed gray;margin: 0 0.4em 0.5em 0.4em;box-sizing: border-box;padding-bottom: 0.4em;background-color: white;}#sk-container-id-3 div.sk-label label {font-family: monospace;font-weight: bold;display: inline-block;line-height: 1.2em;}#sk-container-id-3 div.sk-label-container {text-align: center;}#sk-container-id-3 div.sk-container {/* jupyter's `normalize.less` sets `[hidden] { display: none; }` but bootstrap.min.css set `[hidden] { display: none !important; }` so we also need the `!important` here to be able to override the default hidden behavior on the sphinx rendered scikit-learn.org. See: https://github.com/scikit-learn/scikit-learn/issues/21755 */display: inline-block !important;position: relative;}#sk-container-id-3 div.sk-text-repr-fallback {display: none;}</style><div id=\"sk-container-id-3\" class=\"sk-top-container\"><div class=\"sk-text-repr-fallback\"><pre>LGBMRegressor(max_depth=7, n_estimators=200)</pre><b>In a Jupyter environment, please rerun this cell to show the HTML representation or trust the notebook. <br />On GitHub, the HTML representation is unable to render, please try loading this page with nbviewer.org.</b></div><div class=\"sk-container\" hidden><div class=\"sk-item\"><div class=\"sk-estimator sk-toggleable\"><input class=\"sk-toggleable__control sk-hidden--visually\" id=\"sk-estimator-id-3\" type=\"checkbox\" checked><label for=\"sk-estimator-id-3\" class=\"sk-toggleable__label sk-toggleable__label-arrow\">LGBMRegressor</label><div class=\"sk-toggleable__content\"><pre>LGBMRegressor(max_depth=7, n_estimators=200)</pre></div></div></div></div></div>"
      ],
      "text/plain": [
       "LGBMRegressor(max_depth=7, n_estimators=200)"
      ]
     },
     "execution_count": 77,
     "metadata": {},
     "output_type": "execute_result"
    }
   ],
   "source": [
    "%%time\n",
    "best_model_lgbm.fit(features_train, target_train)"
   ]
  },
  {
   "cell_type": "markdown",
   "metadata": {},
   "source": [
    "Сделаем предсказание и измерим время."
   ]
  },
  {
   "cell_type": "code",
   "execution_count": 78,
   "metadata": {},
   "outputs": [
    {
     "name": "stdout",
     "output_type": "stream",
     "text": [
      "CPU times: user 903 ms, sys: 0 ns, total: 903 ms\n",
      "Wall time: 871 ms\n"
     ]
    }
   ],
   "source": [
    "%%time\n",
    "pred = best_model_lgbm.predict(features_valid)"
   ]
  },
  {
   "cell_type": "markdown",
   "metadata": {},
   "source": [
    "Измерим RMSE для LightGBM."
   ]
  },
  {
   "cell_type": "code",
   "execution_count": 79,
   "metadata": {
    "scrolled": true
   },
   "outputs": [
    {
     "name": "stdout",
     "output_type": "stream",
     "text": [
      "RMSE: 1588.7198717397835\n"
     ]
    }
   ],
   "source": [
    "rmse = (mean_squared_error(target_valid, pred))**0.5\n",
    "\n",
    "print('RMSE:', rmse)"
   ]
  },
  {
   "cell_type": "markdown",
   "metadata": {},
   "source": [
    "**Обучим и подберем гиперпараметры для модели Catboost**"
   ]
  },
  {
   "cell_type": "code",
   "execution_count": 46,
   "metadata": {},
   "outputs": [],
   "source": [
    "model = CatBoostRegressor(loss_function='RMSE', verbose=False)\n",
    "\n",
    "param_cat = {\n",
    "    'learning_rate': [0.01, 0.05, 0.1],\n",
    "    'depth': [1,3,5,7,9,11],\n",
    "    'iterations': [10,50,100,200]\n",
    "}\n",
    "random_search = RandomizedSearchCV(model, param_cat, n_iter=10, scoring='neg_mean_squared_error', cv=5, random_state=12345)\n",
    "random_search.fit(features_train, target_train, cat_features=cat_features)\n",
    "best_params_cat = random_search.best_params_\n",
    "\n",
    "best_model_cat = CatBoostRegressor(**best_params_cat)"
   ]
  },
  {
   "cell_type": "markdown",
   "metadata": {},
   "source": [
    "Обучим модель с лучшими гиперпараметрами и измерим время обучения."
   ]
  },
  {
   "cell_type": "code",
   "execution_count": 47,
   "metadata": {},
   "outputs": [
    {
     "name": "stdout",
     "output_type": "stream",
     "text": [
      "CPU times: user 6.22 s, sys: 51.8 ms, total: 6.27 s\n",
      "Wall time: 6.82 s\n"
     ]
    },
    {
     "data": {
      "text/plain": [
       "<catboost.core.CatBoostRegressor at 0x7fb1bc96feb0>"
      ]
     },
     "execution_count": 47,
     "metadata": {},
     "output_type": "execute_result"
    }
   ],
   "source": [
    "%%time\n",
    "best_model_cat.fit(features_train, target_train, cat_features=cat_features, verbose=False)"
   ]
  },
  {
   "cell_type": "markdown",
   "metadata": {},
   "source": [
    "Сделаем предсказание и измерим время."
   ]
  },
  {
   "cell_type": "code",
   "execution_count": 60,
   "metadata": {},
   "outputs": [
    {
     "name": "stdout",
     "output_type": "stream",
     "text": [
      "CPU times: user 37 ms, sys: 3.83 ms, total: 40.9 ms\n",
      "Wall time: 39 ms\n"
     ]
    }
   ],
   "source": [
    "%%time\n",
    "pred = best_model_cat.predict(features_valid)"
   ]
  },
  {
   "cell_type": "markdown",
   "metadata": {},
   "source": [
    "Измерим RMSE для Catboost."
   ]
  },
  {
   "cell_type": "code",
   "execution_count": 61,
   "metadata": {},
   "outputs": [
    {
     "name": "stdout",
     "output_type": "stream",
     "text": [
      "RMSE: 1792.925167518895\n"
     ]
    }
   ],
   "source": [
    "rmse_cat = (mean_squared_error(target_valid, pred))**0.5\n",
    "\n",
    "print('RMSE:', rmse_cat)"
   ]
  },
  {
   "cell_type": "markdown",
   "metadata": {},
   "source": [
    "**Обучим и подберем гиперпараметры для модели линейной регрессии**"
   ]
  },
  {
   "cell_type": "code",
   "execution_count": 53,
   "metadata": {},
   "outputs": [
    {
     "name": "stdout",
     "output_type": "stream",
     "text": [
      "['VehicleType', 'Gearbox', 'FuelType', 'Repaired', 'NameAuto']\n"
     ]
    }
   ],
   "source": [
    "# найдем категориальные признаки в таблице\n",
    "ohe_features_ridge = features_train.select_dtypes(include='category').columns.to_list()\n",
    "print(ohe_features_ridge)"
   ]
  },
  {
   "cell_type": "code",
   "execution_count": 54,
   "metadata": {},
   "outputs": [
    {
     "data": {
      "text/html": [
       "<div>\n",
       "<style scoped>\n",
       "    .dataframe tbody tr th:only-of-type {\n",
       "        vertical-align: middle;\n",
       "    }\n",
       "\n",
       "    .dataframe tbody tr th {\n",
       "        vertical-align: top;\n",
       "    }\n",
       "\n",
       "    .dataframe thead th {\n",
       "        text-align: right;\n",
       "    }\n",
       "</style>\n",
       "<table border=\"1\" class=\"dataframe\">\n",
       "  <thead>\n",
       "    <tr style=\"text-align: right;\">\n",
       "      <th></th>\n",
       "      <th>RegistrationYear</th>\n",
       "      <th>Power</th>\n",
       "      <th>Kilometer</th>\n",
       "      <th>VehicleType_convertible</th>\n",
       "      <th>VehicleType_coupe</th>\n",
       "      <th>VehicleType_other</th>\n",
       "      <th>VehicleType_sedan</th>\n",
       "      <th>VehicleType_small</th>\n",
       "      <th>VehicleType_suv</th>\n",
       "      <th>VehicleType_wagon</th>\n",
       "      <th>...</th>\n",
       "      <th>NameAuto_volkswagen_up</th>\n",
       "      <th>NameAuto_volvo_850</th>\n",
       "      <th>NameAuto_volvo_c_reihe</th>\n",
       "      <th>NameAuto_volvo_other</th>\n",
       "      <th>NameAuto_volvo_s60</th>\n",
       "      <th>NameAuto_volvo_v40</th>\n",
       "      <th>NameAuto_volvo_v50</th>\n",
       "      <th>NameAuto_volvo_v60</th>\n",
       "      <th>NameAuto_volvo_v70</th>\n",
       "      <th>NameAuto_volvo_xc_reihe</th>\n",
       "    </tr>\n",
       "  </thead>\n",
       "  <tbody>\n",
       "    <tr>\n",
       "      <th>340792</th>\n",
       "      <td>2005</td>\n",
       "      <td>145</td>\n",
       "      <td>150000</td>\n",
       "      <td>0.0</td>\n",
       "      <td>0.0</td>\n",
       "      <td>0.0</td>\n",
       "      <td>0.0</td>\n",
       "      <td>0.0</td>\n",
       "      <td>0.0</td>\n",
       "      <td>0.0</td>\n",
       "      <td>...</td>\n",
       "      <td>0.0</td>\n",
       "      <td>0.0</td>\n",
       "      <td>0.0</td>\n",
       "      <td>0.0</td>\n",
       "      <td>0.0</td>\n",
       "      <td>0.0</td>\n",
       "      <td>0.0</td>\n",
       "      <td>0.0</td>\n",
       "      <td>0.0</td>\n",
       "      <td>0.0</td>\n",
       "    </tr>\n",
       "    <tr>\n",
       "      <th>99722</th>\n",
       "      <td>2001</td>\n",
       "      <td>163</td>\n",
       "      <td>150000</td>\n",
       "      <td>0.0</td>\n",
       "      <td>0.0</td>\n",
       "      <td>0.0</td>\n",
       "      <td>1.0</td>\n",
       "      <td>0.0</td>\n",
       "      <td>0.0</td>\n",
       "      <td>0.0</td>\n",
       "      <td>...</td>\n",
       "      <td>0.0</td>\n",
       "      <td>0.0</td>\n",
       "      <td>0.0</td>\n",
       "      <td>0.0</td>\n",
       "      <td>0.0</td>\n",
       "      <td>0.0</td>\n",
       "      <td>0.0</td>\n",
       "      <td>0.0</td>\n",
       "      <td>0.0</td>\n",
       "      <td>0.0</td>\n",
       "    </tr>\n",
       "    <tr>\n",
       "      <th>272367</th>\n",
       "      <td>1999</td>\n",
       "      <td>125</td>\n",
       "      <td>150000</td>\n",
       "      <td>0.0</td>\n",
       "      <td>0.0</td>\n",
       "      <td>0.0</td>\n",
       "      <td>0.0</td>\n",
       "      <td>0.0</td>\n",
       "      <td>0.0</td>\n",
       "      <td>1.0</td>\n",
       "      <td>...</td>\n",
       "      <td>0.0</td>\n",
       "      <td>0.0</td>\n",
       "      <td>0.0</td>\n",
       "      <td>0.0</td>\n",
       "      <td>0.0</td>\n",
       "      <td>0.0</td>\n",
       "      <td>0.0</td>\n",
       "      <td>0.0</td>\n",
       "      <td>0.0</td>\n",
       "      <td>0.0</td>\n",
       "    </tr>\n",
       "    <tr>\n",
       "      <th>155447</th>\n",
       "      <td>2004</td>\n",
       "      <td>69</td>\n",
       "      <td>150000</td>\n",
       "      <td>0.0</td>\n",
       "      <td>0.0</td>\n",
       "      <td>0.0</td>\n",
       "      <td>0.0</td>\n",
       "      <td>1.0</td>\n",
       "      <td>0.0</td>\n",
       "      <td>0.0</td>\n",
       "      <td>...</td>\n",
       "      <td>0.0</td>\n",
       "      <td>0.0</td>\n",
       "      <td>0.0</td>\n",
       "      <td>0.0</td>\n",
       "      <td>0.0</td>\n",
       "      <td>0.0</td>\n",
       "      <td>0.0</td>\n",
       "      <td>0.0</td>\n",
       "      <td>0.0</td>\n",
       "      <td>0.0</td>\n",
       "    </tr>\n",
       "    <tr>\n",
       "      <th>45096</th>\n",
       "      <td>1997</td>\n",
       "      <td>105</td>\n",
       "      <td>150000</td>\n",
       "      <td>0.0</td>\n",
       "      <td>0.0</td>\n",
       "      <td>0.0</td>\n",
       "      <td>0.0</td>\n",
       "      <td>1.0</td>\n",
       "      <td>0.0</td>\n",
       "      <td>0.0</td>\n",
       "      <td>...</td>\n",
       "      <td>0.0</td>\n",
       "      <td>0.0</td>\n",
       "      <td>0.0</td>\n",
       "      <td>0.0</td>\n",
       "      <td>0.0</td>\n",
       "      <td>0.0</td>\n",
       "      <td>0.0</td>\n",
       "      <td>0.0</td>\n",
       "      <td>0.0</td>\n",
       "      <td>0.0</td>\n",
       "    </tr>\n",
       "  </tbody>\n",
       "</table>\n",
       "<p>5 rows × 314 columns</p>\n",
       "</div>"
      ],
      "text/plain": [
       "        RegistrationYear  Power  Kilometer  VehicleType_convertible  \\\n",
       "340792              2005    145     150000                      0.0   \n",
       "99722               2001    163     150000                      0.0   \n",
       "272367              1999    125     150000                      0.0   \n",
       "155447              2004     69     150000                      0.0   \n",
       "45096               1997    105     150000                      0.0   \n",
       "\n",
       "        VehicleType_coupe  VehicleType_other  VehicleType_sedan  \\\n",
       "340792                0.0                0.0                0.0   \n",
       "99722                 0.0                0.0                1.0   \n",
       "272367                0.0                0.0                0.0   \n",
       "155447                0.0                0.0                0.0   \n",
       "45096                 0.0                0.0                0.0   \n",
       "\n",
       "        VehicleType_small  VehicleType_suv  VehicleType_wagon  ...  \\\n",
       "340792                0.0              0.0                0.0  ...   \n",
       "99722                 0.0              0.0                0.0  ...   \n",
       "272367                0.0              0.0                1.0  ...   \n",
       "155447                1.0              0.0                0.0  ...   \n",
       "45096                 1.0              0.0                0.0  ...   \n",
       "\n",
       "        NameAuto_volkswagen_up  NameAuto_volvo_850  NameAuto_volvo_c_reihe  \\\n",
       "340792                     0.0                 0.0                     0.0   \n",
       "99722                      0.0                 0.0                     0.0   \n",
       "272367                     0.0                 0.0                     0.0   \n",
       "155447                     0.0                 0.0                     0.0   \n",
       "45096                      0.0                 0.0                     0.0   \n",
       "\n",
       "        NameAuto_volvo_other  NameAuto_volvo_s60  NameAuto_volvo_v40  \\\n",
       "340792                   0.0                 0.0                 0.0   \n",
       "99722                    0.0                 0.0                 0.0   \n",
       "272367                   0.0                 0.0                 0.0   \n",
       "155447                   0.0                 0.0                 0.0   \n",
       "45096                    0.0                 0.0                 0.0   \n",
       "\n",
       "        NameAuto_volvo_v50  NameAuto_volvo_v60  NameAuto_volvo_v70  \\\n",
       "340792                 0.0                 0.0                 0.0   \n",
       "99722                  0.0                 0.0                 0.0   \n",
       "272367                 0.0                 0.0                 0.0   \n",
       "155447                 0.0                 0.0                 0.0   \n",
       "45096                  0.0                 0.0                 0.0   \n",
       "\n",
       "        NameAuto_volvo_xc_reihe  \n",
       "340792                      0.0  \n",
       "99722                       0.0  \n",
       "272367                      0.0  \n",
       "155447                      0.0  \n",
       "45096                       0.0  \n",
       "\n",
       "[5 rows x 314 columns]"
      ]
     },
     "execution_count": 54,
     "metadata": {},
     "output_type": "execute_result"
    }
   ],
   "source": [
    "# преобразуем категориальные признаки\n",
    "encoder_ohe = OneHotEncoder(drop='first', handle_unknown='ignore', sparse=False)\n",
    "encoder_ohe.fit(features_train[ohe_features_ridge])\n",
    "\n",
    "features_train[encoder_ohe.get_feature_names_out()] = encoder_ohe.transform(features_train[ohe_features_ridge])\n",
    "\n",
    "# удаляем незакодированные категориальные признаки (изначальные колонки)\n",
    "features_train = features_train.drop(ohe_features_ridge, axis=1)\n",
    "features_train.head()"
   ]
  },
  {
   "cell_type": "code",
   "execution_count": 56,
   "metadata": {},
   "outputs": [
    {
     "name": "stderr",
     "output_type": "stream",
     "text": [
      "/opt/conda/lib/python3.9/site-packages/sklearn/preprocessing/_encoders.py:188: UserWarning: Found unknown categories in columns [4] during transform. These unknown categories will be encoded as all zeros\n",
      "  warnings.warn(\n"
     ]
    }
   ],
   "source": [
    "features_valid[encoder_ohe.get_feature_names_out()] = encoder_ohe.transform(features_valid[ohe_features_ridge])\n",
    "features_valid = features_valid.drop(ohe_features_ridge, axis=1)"
   ]
  },
  {
   "cell_type": "code",
   "execution_count": 57,
   "metadata": {},
   "outputs": [],
   "source": [
    "# Стандартизируем данные \n",
    "numeric = ['RegistrationYear', 'Power', 'Kilometer']\n",
    "\n",
    "scaler = StandardScaler()\n",
    "scaler.fit(features_train[numeric])\n",
    "\n",
    "features_train[numeric] = scaler.transform(features_train[numeric])\n",
    "features_valid[numeric] = scaler.transform(features_valid[numeric])"
   ]
  },
  {
   "cell_type": "code",
   "execution_count": 58,
   "metadata": {},
   "outputs": [
    {
     "name": "stderr",
     "output_type": "stream",
     "text": [
      "/opt/conda/lib/python3.9/site-packages/sklearn/model_selection/_search.py:306: UserWarning: The total space of parameters 4 is smaller than n_iter=10. Running 4 iterations. For exhaustive searches, use GridSearchCV.\n",
      "  warnings.warn(\n",
      "/opt/conda/lib/python3.9/site-packages/sklearn/linear_model/_base.py:141: FutureWarning: 'normalize' was deprecated in version 1.0 and will be removed in 1.2.\n",
      "If you wish to scale the data, use Pipeline with a StandardScaler in a preprocessing stage. To reproduce the previous behavior:\n",
      "\n",
      "from sklearn.pipeline import make_pipeline\n",
      "\n",
      "model = make_pipeline(StandardScaler(with_mean=False), LinearRegression())\n",
      "\n",
      "If you wish to pass a sample_weight parameter, you need to pass it as a fit parameter to each step of the pipeline as follows:\n",
      "\n",
      "kwargs = {s[0] + '__sample_weight': sample_weight for s in model.steps}\n",
      "model.fit(X, y, **kwargs)\n",
      "\n",
      "\n",
      "  warnings.warn(\n",
      "/opt/conda/lib/python3.9/site-packages/sklearn/linear_model/_base.py:141: FutureWarning: 'normalize' was deprecated in version 1.0 and will be removed in 1.2.\n",
      "If you wish to scale the data, use Pipeline with a StandardScaler in a preprocessing stage. To reproduce the previous behavior:\n",
      "\n",
      "from sklearn.pipeline import make_pipeline\n",
      "\n",
      "model = make_pipeline(StandardScaler(with_mean=False), LinearRegression())\n",
      "\n",
      "If you wish to pass a sample_weight parameter, you need to pass it as a fit parameter to each step of the pipeline as follows:\n",
      "\n",
      "kwargs = {s[0] + '__sample_weight': sample_weight for s in model.steps}\n",
      "model.fit(X, y, **kwargs)\n",
      "\n",
      "\n",
      "  warnings.warn(\n",
      "/opt/conda/lib/python3.9/site-packages/sklearn/linear_model/_base.py:141: FutureWarning: 'normalize' was deprecated in version 1.0 and will be removed in 1.2.\n",
      "If you wish to scale the data, use Pipeline with a StandardScaler in a preprocessing stage. To reproduce the previous behavior:\n",
      "\n",
      "from sklearn.pipeline import make_pipeline\n",
      "\n",
      "model = make_pipeline(StandardScaler(with_mean=False), LinearRegression())\n",
      "\n",
      "If you wish to pass a sample_weight parameter, you need to pass it as a fit parameter to each step of the pipeline as follows:\n",
      "\n",
      "kwargs = {s[0] + '__sample_weight': sample_weight for s in model.steps}\n",
      "model.fit(X, y, **kwargs)\n",
      "\n",
      "\n",
      "  warnings.warn(\n",
      "/opt/conda/lib/python3.9/site-packages/sklearn/linear_model/_base.py:141: FutureWarning: 'normalize' was deprecated in version 1.0 and will be removed in 1.2.\n",
      "If you wish to scale the data, use Pipeline with a StandardScaler in a preprocessing stage. To reproduce the previous behavior:\n",
      "\n",
      "from sklearn.pipeline import make_pipeline\n",
      "\n",
      "model = make_pipeline(StandardScaler(with_mean=False), LinearRegression())\n",
      "\n",
      "If you wish to pass a sample_weight parameter, you need to pass it as a fit parameter to each step of the pipeline as follows:\n",
      "\n",
      "kwargs = {s[0] + '__sample_weight': sample_weight for s in model.steps}\n",
      "model.fit(X, y, **kwargs)\n",
      "\n",
      "\n",
      "  warnings.warn(\n",
      "/opt/conda/lib/python3.9/site-packages/sklearn/linear_model/_base.py:141: FutureWarning: 'normalize' was deprecated in version 1.0 and will be removed in 1.2.\n",
      "If you wish to scale the data, use Pipeline with a StandardScaler in a preprocessing stage. To reproduce the previous behavior:\n",
      "\n",
      "from sklearn.pipeline import make_pipeline\n",
      "\n",
      "model = make_pipeline(StandardScaler(with_mean=False), LinearRegression())\n",
      "\n",
      "If you wish to pass a sample_weight parameter, you need to pass it as a fit parameter to each step of the pipeline as follows:\n",
      "\n",
      "kwargs = {s[0] + '__sample_weight': sample_weight for s in model.steps}\n",
      "model.fit(X, y, **kwargs)\n",
      "\n",
      "\n",
      "  warnings.warn(\n",
      "/opt/conda/lib/python3.9/site-packages/sklearn/linear_model/_base.py:148: FutureWarning: 'normalize' was deprecated in version 1.0 and will be removed in 1.2. Please leave the normalize parameter to its default value to silence this warning. The default behavior of this estimator is to not do any normalization. If normalization is needed please use sklearn.preprocessing.StandardScaler instead.\n",
      "  warnings.warn(\n",
      "/opt/conda/lib/python3.9/site-packages/sklearn/linear_model/_base.py:148: FutureWarning: 'normalize' was deprecated in version 1.0 and will be removed in 1.2. Please leave the normalize parameter to its default value to silence this warning. The default behavior of this estimator is to not do any normalization. If normalization is needed please use sklearn.preprocessing.StandardScaler instead.\n",
      "  warnings.warn(\n",
      "/opt/conda/lib/python3.9/site-packages/sklearn/linear_model/_base.py:148: FutureWarning: 'normalize' was deprecated in version 1.0 and will be removed in 1.2. Please leave the normalize parameter to its default value to silence this warning. The default behavior of this estimator is to not do any normalization. If normalization is needed please use sklearn.preprocessing.StandardScaler instead.\n",
      "  warnings.warn(\n",
      "/opt/conda/lib/python3.9/site-packages/sklearn/linear_model/_base.py:148: FutureWarning: 'normalize' was deprecated in version 1.0 and will be removed in 1.2. Please leave the normalize parameter to its default value to silence this warning. The default behavior of this estimator is to not do any normalization. If normalization is needed please use sklearn.preprocessing.StandardScaler instead.\n",
      "  warnings.warn(\n",
      "/opt/conda/lib/python3.9/site-packages/sklearn/linear_model/_base.py:148: FutureWarning: 'normalize' was deprecated in version 1.0 and will be removed in 1.2. Please leave the normalize parameter to its default value to silence this warning. The default behavior of this estimator is to not do any normalization. If normalization is needed please use sklearn.preprocessing.StandardScaler instead.\n",
      "  warnings.warn(\n",
      "/opt/conda/lib/python3.9/site-packages/sklearn/linear_model/_base.py:141: FutureWarning: 'normalize' was deprecated in version 1.0 and will be removed in 1.2.\n",
      "If you wish to scale the data, use Pipeline with a StandardScaler in a preprocessing stage. To reproduce the previous behavior:\n",
      "\n",
      "from sklearn.pipeline import make_pipeline\n",
      "\n",
      "model = make_pipeline(StandardScaler(with_mean=False), LinearRegression())\n",
      "\n",
      "If you wish to pass a sample_weight parameter, you need to pass it as a fit parameter to each step of the pipeline as follows:\n",
      "\n",
      "kwargs = {s[0] + '__sample_weight': sample_weight for s in model.steps}\n",
      "model.fit(X, y, **kwargs)\n",
      "\n",
      "\n",
      "  warnings.warn(\n",
      "/opt/conda/lib/python3.9/site-packages/sklearn/linear_model/_base.py:141: FutureWarning: 'normalize' was deprecated in version 1.0 and will be removed in 1.2.\n",
      "If you wish to scale the data, use Pipeline with a StandardScaler in a preprocessing stage. To reproduce the previous behavior:\n",
      "\n",
      "from sklearn.pipeline import make_pipeline\n",
      "\n",
      "model = make_pipeline(StandardScaler(with_mean=False), LinearRegression())\n",
      "\n",
      "If you wish to pass a sample_weight parameter, you need to pass it as a fit parameter to each step of the pipeline as follows:\n",
      "\n",
      "kwargs = {s[0] + '__sample_weight': sample_weight for s in model.steps}\n",
      "model.fit(X, y, **kwargs)\n",
      "\n",
      "\n",
      "  warnings.warn(\n",
      "/opt/conda/lib/python3.9/site-packages/sklearn/linear_model/_base.py:141: FutureWarning: 'normalize' was deprecated in version 1.0 and will be removed in 1.2.\n",
      "If you wish to scale the data, use Pipeline with a StandardScaler in a preprocessing stage. To reproduce the previous behavior:\n",
      "\n",
      "from sklearn.pipeline import make_pipeline\n",
      "\n",
      "model = make_pipeline(StandardScaler(with_mean=False), LinearRegression())\n",
      "\n",
      "If you wish to pass a sample_weight parameter, you need to pass it as a fit parameter to each step of the pipeline as follows:\n",
      "\n",
      "kwargs = {s[0] + '__sample_weight': sample_weight for s in model.steps}\n",
      "model.fit(X, y, **kwargs)\n",
      "\n",
      "\n",
      "  warnings.warn(\n",
      "/opt/conda/lib/python3.9/site-packages/sklearn/linear_model/_base.py:141: FutureWarning: 'normalize' was deprecated in version 1.0 and will be removed in 1.2.\n",
      "If you wish to scale the data, use Pipeline with a StandardScaler in a preprocessing stage. To reproduce the previous behavior:\n",
      "\n",
      "from sklearn.pipeline import make_pipeline\n",
      "\n",
      "model = make_pipeline(StandardScaler(with_mean=False), LinearRegression())\n",
      "\n",
      "If you wish to pass a sample_weight parameter, you need to pass it as a fit parameter to each step of the pipeline as follows:\n",
      "\n",
      "kwargs = {s[0] + '__sample_weight': sample_weight for s in model.steps}\n",
      "model.fit(X, y, **kwargs)\n",
      "\n",
      "\n",
      "  warnings.warn(\n",
      "/opt/conda/lib/python3.9/site-packages/sklearn/linear_model/_base.py:141: FutureWarning: 'normalize' was deprecated in version 1.0 and will be removed in 1.2.\n",
      "If you wish to scale the data, use Pipeline with a StandardScaler in a preprocessing stage. To reproduce the previous behavior:\n",
      "\n",
      "from sklearn.pipeline import make_pipeline\n",
      "\n",
      "model = make_pipeline(StandardScaler(with_mean=False), LinearRegression())\n",
      "\n",
      "If you wish to pass a sample_weight parameter, you need to pass it as a fit parameter to each step of the pipeline as follows:\n",
      "\n",
      "kwargs = {s[0] + '__sample_weight': sample_weight for s in model.steps}\n",
      "model.fit(X, y, **kwargs)\n",
      "\n",
      "\n",
      "  warnings.warn(\n",
      "/opt/conda/lib/python3.9/site-packages/sklearn/linear_model/_base.py:148: FutureWarning: 'normalize' was deprecated in version 1.0 and will be removed in 1.2. Please leave the normalize parameter to its default value to silence this warning. The default behavior of this estimator is to not do any normalization. If normalization is needed please use sklearn.preprocessing.StandardScaler instead.\n",
      "  warnings.warn(\n",
      "/opt/conda/lib/python3.9/site-packages/sklearn/linear_model/_base.py:148: FutureWarning: 'normalize' was deprecated in version 1.0 and will be removed in 1.2. Please leave the normalize parameter to its default value to silence this warning. The default behavior of this estimator is to not do any normalization. If normalization is needed please use sklearn.preprocessing.StandardScaler instead.\n",
      "  warnings.warn(\n",
      "/opt/conda/lib/python3.9/site-packages/sklearn/linear_model/_base.py:148: FutureWarning: 'normalize' was deprecated in version 1.0 and will be removed in 1.2. Please leave the normalize parameter to its default value to silence this warning. The default behavior of this estimator is to not do any normalization. If normalization is needed please use sklearn.preprocessing.StandardScaler instead.\n",
      "  warnings.warn(\n",
      "/opt/conda/lib/python3.9/site-packages/sklearn/linear_model/_base.py:148: FutureWarning: 'normalize' was deprecated in version 1.0 and will be removed in 1.2. Please leave the normalize parameter to its default value to silence this warning. The default behavior of this estimator is to not do any normalization. If normalization is needed please use sklearn.preprocessing.StandardScaler instead.\n",
      "  warnings.warn(\n",
      "/opt/conda/lib/python3.9/site-packages/sklearn/linear_model/_base.py:148: FutureWarning: 'normalize' was deprecated in version 1.0 and will be removed in 1.2. Please leave the normalize parameter to its default value to silence this warning. The default behavior of this estimator is to not do any normalization. If normalization is needed please use sklearn.preprocessing.StandardScaler instead.\n",
      "  warnings.warn(\n",
      "/opt/conda/lib/python3.9/site-packages/sklearn/linear_model/_base.py:141: FutureWarning: 'normalize' was deprecated in version 1.0 and will be removed in 1.2.\n",
      "If you wish to scale the data, use Pipeline with a StandardScaler in a preprocessing stage. To reproduce the previous behavior:\n",
      "\n",
      "from sklearn.pipeline import make_pipeline\n",
      "\n",
      "model = make_pipeline(StandardScaler(with_mean=False), LinearRegression())\n",
      "\n",
      "If you wish to pass a sample_weight parameter, you need to pass it as a fit parameter to each step of the pipeline as follows:\n",
      "\n",
      "kwargs = {s[0] + '__sample_weight': sample_weight for s in model.steps}\n",
      "model.fit(X, y, **kwargs)\n",
      "\n",
      "\n",
      "  warnings.warn(\n"
     ]
    }
   ],
   "source": [
    "# Обучим и подберем гиперпараметры для модели линейной регрессии\n",
    "model_lin = LinearRegression()\n",
    "\n",
    "param_lin = {\n",
    "    'fit_intercept': [True,False],\n",
    "    'normalize': [True,False]\n",
    "}\n",
    "\n",
    "scorer = make_scorer(mean_squared_error, squared=False)\n",
    "\n",
    "random_search = RandomizedSearchCV(model_lin, param_lin, n_iter=10, scoring=scorer, cv=5, random_state=12345)\n",
    "random_search.fit(features_train, target_train)\n",
    "best_params = random_search.best_params_\n",
    "\n",
    "best_model_lin = LinearRegression(**best_params)"
   ]
  },
  {
   "cell_type": "markdown",
   "metadata": {},
   "source": [
    "Обучим модель с лучшими гиперпараметрами."
   ]
  },
  {
   "cell_type": "code",
   "execution_count": 59,
   "metadata": {},
   "outputs": [
    {
     "name": "stderr",
     "output_type": "stream",
     "text": [
      "/opt/conda/lib/python3.9/site-packages/sklearn/linear_model/_base.py:141: FutureWarning: 'normalize' was deprecated in version 1.0 and will be removed in 1.2.\n",
      "If you wish to scale the data, use Pipeline with a StandardScaler in a preprocessing stage. To reproduce the previous behavior:\n",
      "\n",
      "from sklearn.pipeline import make_pipeline\n",
      "\n",
      "model = make_pipeline(StandardScaler(with_mean=False), LinearRegression())\n",
      "\n",
      "If you wish to pass a sample_weight parameter, you need to pass it as a fit parameter to each step of the pipeline as follows:\n",
      "\n",
      "kwargs = {s[0] + '__sample_weight': sample_weight for s in model.steps}\n",
      "model.fit(X, y, **kwargs)\n",
      "\n",
      "\n",
      "  warnings.warn(\n"
     ]
    },
    {
     "name": "stdout",
     "output_type": "stream",
     "text": [
      "CPU times: user 17.1 s, sys: 6.48 s, total: 23.6 s\n",
      "Wall time: 23.7 s\n"
     ]
    },
    {
     "data": {
      "text/html": [
       "<style>#sk-container-id-1 {color: black;background-color: white;}#sk-container-id-1 pre{padding: 0;}#sk-container-id-1 div.sk-toggleable {background-color: white;}#sk-container-id-1 label.sk-toggleable__label {cursor: pointer;display: block;width: 100%;margin-bottom: 0;padding: 0.3em;box-sizing: border-box;text-align: center;}#sk-container-id-1 label.sk-toggleable__label-arrow:before {content: \"▸\";float: left;margin-right: 0.25em;color: #696969;}#sk-container-id-1 label.sk-toggleable__label-arrow:hover:before {color: black;}#sk-container-id-1 div.sk-estimator:hover label.sk-toggleable__label-arrow:before {color: black;}#sk-container-id-1 div.sk-toggleable__content {max-height: 0;max-width: 0;overflow: hidden;text-align: left;background-color: #f0f8ff;}#sk-container-id-1 div.sk-toggleable__content pre {margin: 0.2em;color: black;border-radius: 0.25em;background-color: #f0f8ff;}#sk-container-id-1 input.sk-toggleable__control:checked~div.sk-toggleable__content {max-height: 200px;max-width: 100%;overflow: auto;}#sk-container-id-1 input.sk-toggleable__control:checked~label.sk-toggleable__label-arrow:before {content: \"▾\";}#sk-container-id-1 div.sk-estimator input.sk-toggleable__control:checked~label.sk-toggleable__label {background-color: #d4ebff;}#sk-container-id-1 div.sk-label input.sk-toggleable__control:checked~label.sk-toggleable__label {background-color: #d4ebff;}#sk-container-id-1 input.sk-hidden--visually {border: 0;clip: rect(1px 1px 1px 1px);clip: rect(1px, 1px, 1px, 1px);height: 1px;margin: -1px;overflow: hidden;padding: 0;position: absolute;width: 1px;}#sk-container-id-1 div.sk-estimator {font-family: monospace;background-color: #f0f8ff;border: 1px dotted black;border-radius: 0.25em;box-sizing: border-box;margin-bottom: 0.5em;}#sk-container-id-1 div.sk-estimator:hover {background-color: #d4ebff;}#sk-container-id-1 div.sk-parallel-item::after {content: \"\";width: 100%;border-bottom: 1px solid gray;flex-grow: 1;}#sk-container-id-1 div.sk-label:hover label.sk-toggleable__label {background-color: #d4ebff;}#sk-container-id-1 div.sk-serial::before {content: \"\";position: absolute;border-left: 1px solid gray;box-sizing: border-box;top: 0;bottom: 0;left: 50%;z-index: 0;}#sk-container-id-1 div.sk-serial {display: flex;flex-direction: column;align-items: center;background-color: white;padding-right: 0.2em;padding-left: 0.2em;position: relative;}#sk-container-id-1 div.sk-item {position: relative;z-index: 1;}#sk-container-id-1 div.sk-parallel {display: flex;align-items: stretch;justify-content: center;background-color: white;position: relative;}#sk-container-id-1 div.sk-item::before, #sk-container-id-1 div.sk-parallel-item::before {content: \"\";position: absolute;border-left: 1px solid gray;box-sizing: border-box;top: 0;bottom: 0;left: 50%;z-index: -1;}#sk-container-id-1 div.sk-parallel-item {display: flex;flex-direction: column;z-index: 1;position: relative;background-color: white;}#sk-container-id-1 div.sk-parallel-item:first-child::after {align-self: flex-end;width: 50%;}#sk-container-id-1 div.sk-parallel-item:last-child::after {align-self: flex-start;width: 50%;}#sk-container-id-1 div.sk-parallel-item:only-child::after {width: 0;}#sk-container-id-1 div.sk-dashed-wrapped {border: 1px dashed gray;margin: 0 0.4em 0.5em 0.4em;box-sizing: border-box;padding-bottom: 0.4em;background-color: white;}#sk-container-id-1 div.sk-label label {font-family: monospace;font-weight: bold;display: inline-block;line-height: 1.2em;}#sk-container-id-1 div.sk-label-container {text-align: center;}#sk-container-id-1 div.sk-container {/* jupyter's `normalize.less` sets `[hidden] { display: none; }` but bootstrap.min.css set `[hidden] { display: none !important; }` so we also need the `!important` here to be able to override the default hidden behavior on the sphinx rendered scikit-learn.org. See: https://github.com/scikit-learn/scikit-learn/issues/21755 */display: inline-block !important;position: relative;}#sk-container-id-1 div.sk-text-repr-fallback {display: none;}</style><div id=\"sk-container-id-1\" class=\"sk-top-container\"><div class=\"sk-text-repr-fallback\"><pre>LinearRegression(normalize=True)</pre><b>In a Jupyter environment, please rerun this cell to show the HTML representation or trust the notebook. <br />On GitHub, the HTML representation is unable to render, please try loading this page with nbviewer.org.</b></div><div class=\"sk-container\" hidden><div class=\"sk-item\"><div class=\"sk-estimator sk-toggleable\"><input class=\"sk-toggleable__control sk-hidden--visually\" id=\"sk-estimator-id-1\" type=\"checkbox\" checked><label for=\"sk-estimator-id-1\" class=\"sk-toggleable__label sk-toggleable__label-arrow\">LinearRegression</label><div class=\"sk-toggleable__content\"><pre>LinearRegression(normalize=True)</pre></div></div></div></div></div>"
      ],
      "text/plain": [
       "LinearRegression(normalize=True)"
      ]
     },
     "execution_count": 59,
     "metadata": {},
     "output_type": "execute_result"
    }
   ],
   "source": [
    "%%time\n",
    "best_model_lin.fit(features_train, target_train)"
   ]
  },
  {
   "cell_type": "markdown",
   "metadata": {},
   "source": [
    "Сделаем предсказание."
   ]
  },
  {
   "cell_type": "code",
   "execution_count": 60,
   "metadata": {},
   "outputs": [
    {
     "name": "stdout",
     "output_type": "stream",
     "text": [
      "CPU times: user 83.7 ms, sys: 69.6 ms, total: 153 ms\n",
      "Wall time: 173 ms\n"
     ]
    }
   ],
   "source": [
    "%%time\n",
    "pred = best_model_lin.predict(features_valid)"
   ]
  },
  {
   "cell_type": "markdown",
   "metadata": {},
   "source": [
    "Найдем RMSE для линеййной регрессии."
   ]
  },
  {
   "cell_type": "code",
   "execution_count": 61,
   "metadata": {},
   "outputs": [
    {
     "name": "stdout",
     "output_type": "stream",
     "text": [
      "RMSE: 2611.154811534429\n"
     ]
    }
   ],
   "source": [
    "rmse_lin = (mean_squared_error(target_valid, pred))**0.5\n",
    "\n",
    "print('RMSE:', rmse_lin)"
   ]
  },
  {
   "cell_type": "markdown",
   "metadata": {},
   "source": [
    "Были построены три модели для решения задачи регрессии (LightGBM, Catboost, линейная регрессия) для целевого признака `Price`. Их качество оценивалось метрикой RMSE. "
   ]
  },
  {
   "cell_type": "markdown",
   "metadata": {},
   "source": [
    "## Анализ моделей"
   ]
  },
  {
   "cell_type": "code",
   "execution_count": 48,
   "metadata": {},
   "outputs": [
    {
     "data": {
      "text/html": [
       "<div>\n",
       "<style scoped>\n",
       "    .dataframe tbody tr th:only-of-type {\n",
       "        vertical-align: middle;\n",
       "    }\n",
       "\n",
       "    .dataframe tbody tr th {\n",
       "        vertical-align: top;\n",
       "    }\n",
       "\n",
       "    .dataframe thead th {\n",
       "        text-align: right;\n",
       "    }\n",
       "</style>\n",
       "<table border=\"1\" class=\"dataframe\">\n",
       "  <thead>\n",
       "    <tr style=\"text-align: right;\">\n",
       "      <th></th>\n",
       "      <th>model</th>\n",
       "      <th>fit_time</th>\n",
       "      <th>pred_time</th>\n",
       "      <th>RMSE</th>\n",
       "    </tr>\n",
       "  </thead>\n",
       "  <tbody>\n",
       "    <tr>\n",
       "      <th>0</th>\n",
       "      <td>LGBMRegressor</td>\n",
       "      <td>7.36</td>\n",
       "      <td>0.871</td>\n",
       "      <td>1588.719</td>\n",
       "    </tr>\n",
       "    <tr>\n",
       "      <th>1</th>\n",
       "      <td>CatBoostRegressor</td>\n",
       "      <td>6.82</td>\n",
       "      <td>0.039</td>\n",
       "      <td>1792.925</td>\n",
       "    </tr>\n",
       "    <tr>\n",
       "      <th>2</th>\n",
       "      <td>LinearRegression</td>\n",
       "      <td>23.70</td>\n",
       "      <td>0.173</td>\n",
       "      <td>2611.154</td>\n",
       "    </tr>\n",
       "  </tbody>\n",
       "</table>\n",
       "</div>"
      ],
      "text/plain": [
       "               model  fit_time  pred_time      RMSE\n",
       "0      LGBMRegressor      7.36      0.871  1588.719\n",
       "1  CatBoostRegressor      6.82      0.039  1792.925\n",
       "2   LinearRegression     23.70      0.173  2611.154"
      ]
     },
     "execution_count": 48,
     "metadata": {},
     "output_type": "execute_result"
    }
   ],
   "source": [
    "# Соберем в сводную таблицу данные \n",
    "results = [\n",
    "    ['LGBMRegressor', 7.36, 0.871, 1588.719], \n",
    "    ['CatBoostRegressor', 6.82, 0.039, 1792.925],\n",
    "    ['LinearRegression', 23.7, 0.173, 2611.154]\n",
    "]\n",
    "\n",
    "columns = ['model','fit_time', 'pred_time', 'RMSE']\n",
    "\n",
    "balanced_result = pd.DataFrame(data=results, columns=columns)\n",
    "balanced_result"
   ]
  },
  {
   "cell_type": "markdown",
   "metadata": {},
   "source": [
    "## Тестирование лучшей модели"
   ]
  },
  {
   "cell_type": "code",
   "execution_count": 84,
   "metadata": {},
   "outputs": [
    {
     "name": "stdout",
     "output_type": "stream",
     "text": [
      "RMSE на тестовой выборке: 1592.269230342507\n"
     ]
    }
   ],
   "source": [
    "# Проверим качество модели LGBM на тестовой выборке\n",
    "predictions_test = best_model_lgbm.predict(features_test)\n",
    "print(\"RMSE на тестовой выборке:\", (mean_squared_error(target_test, predictions_test))**0.5)"
   ]
  },
  {
   "cell_type": "markdown",
   "metadata": {},
   "source": [
    "## Итоги исследования"
   ]
  },
  {
   "cell_type": "markdown",
   "metadata": {},
   "source": [
    "Был проведен исследовательский анализ данных о технических характеристиках, комплектации и ценах автомобилей. Для построения модели определения цены на автомобиль.\n",
    "\n",
    "Построены три модели для решения задачи регрессии (LightGBM, Catboost, линейная регрессия). Их качество оценивалось метрикой RMSE. \n",
    "\n",
    "Лучшее качество по метрике RMSE показали модели градиентного бустинга LGBM и CatBoost, со значениями 1588.719 и 1792.925 соответственно. При этом время на обучение и предскзание меньше затрачивает модель CatBoost, хотя разница с LGBM незначительна. Поэтому для введения в эксплуатацию я бы рекомендовала модель LGBM, так как она дает лучшее качество и не сильно отличается по времени работы от самой быстрой.\n",
    "\n",
    "Также на тестовой выборке было проверено качество выбранной модели LGBM, RMSE = 1592.269."
   ]
  },
  {
   "cell_type": "code",
   "execution_count": null,
   "metadata": {},
   "outputs": [],
   "source": []
  }
 ],
 "metadata": {
  "ExecuteTimeLog": [
   {
    "duration": 1292,
    "start_time": "2023-05-08T13:44:30.091Z"
   },
   {
    "duration": 1002,
    "start_time": "2023-05-08T13:45:40.378Z"
   },
   {
    "duration": 22,
    "start_time": "2023-05-08T13:45:46.695Z"
   },
   {
    "duration": 100,
    "start_time": "2023-05-08T13:46:19.320Z"
   },
   {
    "duration": 133,
    "start_time": "2023-05-08T13:47:01.663Z"
   },
   {
    "duration": 94,
    "start_time": "2023-05-08T13:47:25.313Z"
   },
   {
    "duration": 510,
    "start_time": "2023-05-08T13:57:33.892Z"
   },
   {
    "duration": 562,
    "start_time": "2023-05-08T13:58:41.707Z"
   },
   {
    "duration": 5,
    "start_time": "2023-05-08T13:59:04.217Z"
   },
   {
    "duration": 12,
    "start_time": "2023-05-08T14:02:24.568Z"
   },
   {
    "duration": 96,
    "start_time": "2023-05-08T14:02:38.767Z"
   },
   {
    "duration": 79,
    "start_time": "2023-05-08T14:12:59.376Z"
   },
   {
    "duration": 43293,
    "start_time": "2023-05-08T14:50:17.667Z"
   },
   {
    "duration": 102,
    "start_time": "2023-05-08T14:55:34.660Z"
   },
   {
    "duration": 304,
    "start_time": "2023-05-08T14:57:36.320Z"
   },
   {
    "duration": 204,
    "start_time": "2023-05-08T14:57:43.505Z"
   },
   {
    "duration": 343,
    "start_time": "2023-05-08T14:57:54.339Z"
   },
   {
    "duration": 285,
    "start_time": "2023-05-08T15:00:23.923Z"
   },
   {
    "duration": 323,
    "start_time": "2023-05-08T15:01:14.125Z"
   },
   {
    "duration": 254,
    "start_time": "2023-05-08T15:01:25.830Z"
   },
   {
    "duration": 263,
    "start_time": "2023-05-08T15:01:40.354Z"
   },
   {
    "duration": 277,
    "start_time": "2023-05-08T15:01:44.936Z"
   },
   {
    "duration": 65851,
    "start_time": "2023-05-08T15:05:44.123Z"
   },
   {
    "duration": 77,
    "start_time": "2023-05-08T15:09:10.064Z"
   },
   {
    "duration": 72,
    "start_time": "2023-05-08T15:09:15.258Z"
   },
   {
    "duration": 326,
    "start_time": "2023-05-08T15:09:21.483Z"
   },
   {
    "duration": 24,
    "start_time": "2023-05-08T15:18:19.862Z"
   },
   {
    "duration": 17,
    "start_time": "2023-05-08T15:19:00.240Z"
   },
   {
    "duration": 34,
    "start_time": "2023-05-08T15:19:30.631Z"
   },
   {
    "duration": 2506,
    "start_time": "2023-05-08T15:21:44.558Z"
   },
   {
    "duration": 23,
    "start_time": "2023-05-08T15:23:02.455Z"
   },
   {
    "duration": 31,
    "start_time": "2023-05-08T15:24:16.241Z"
   },
   {
    "duration": 285,
    "start_time": "2023-05-08T15:26:55.967Z"
   },
   {
    "duration": 303,
    "start_time": "2023-05-08T15:27:27.851Z"
   },
   {
    "duration": 51,
    "start_time": "2023-05-08T15:27:49.791Z"
   },
   {
    "duration": 37,
    "start_time": "2023-05-08T15:28:43.582Z"
   },
   {
    "duration": 213,
    "start_time": "2023-05-08T15:28:53.093Z"
   },
   {
    "duration": 23,
    "start_time": "2023-05-08T15:30:42.842Z"
   },
   {
    "duration": 18,
    "start_time": "2023-05-08T15:30:47.204Z"
   },
   {
    "duration": 29,
    "start_time": "2023-05-08T15:32:10.969Z"
   },
   {
    "duration": 26,
    "start_time": "2023-05-08T15:33:00.015Z"
   },
   {
    "duration": 26,
    "start_time": "2023-05-08T15:33:29.161Z"
   },
   {
    "duration": 122,
    "start_time": "2023-05-08T15:33:36.026Z"
   },
   {
    "duration": 231,
    "start_time": "2023-05-08T15:34:31.830Z"
   },
   {
    "duration": 313,
    "start_time": "2023-05-08T15:36:09.987Z"
   },
   {
    "duration": 3,
    "start_time": "2023-05-08T16:11:27.014Z"
   },
   {
    "duration": 29,
    "start_time": "2023-05-08T16:11:51.562Z"
   },
   {
    "duration": 3,
    "start_time": "2023-05-08T16:11:55.374Z"
   },
   {
    "duration": 231,
    "start_time": "2023-05-08T16:15:35.275Z"
   },
   {
    "duration": 216,
    "start_time": "2023-05-08T16:16:54.620Z"
   },
   {
    "duration": 227,
    "start_time": "2023-05-08T16:17:01.597Z"
   },
   {
    "duration": 256,
    "start_time": "2023-05-08T16:17:34.740Z"
   },
   {
    "duration": 263,
    "start_time": "2023-05-08T16:17:43.740Z"
   },
   {
    "duration": 73,
    "start_time": "2023-05-08T17:39:04.815Z"
   },
   {
    "duration": 13,
    "start_time": "2023-05-08T17:39:29.753Z"
   },
   {
    "duration": 90,
    "start_time": "2023-05-08T17:39:40.411Z"
   },
   {
    "duration": 133,
    "start_time": "2023-05-08T17:41:11.709Z"
   },
   {
    "duration": 74,
    "start_time": "2023-05-08T17:41:18.248Z"
   },
   {
    "duration": 346,
    "start_time": "2023-05-08T17:41:40.748Z"
   },
   {
    "duration": 34,
    "start_time": "2023-05-08T17:42:09.460Z"
   },
   {
    "duration": 28,
    "start_time": "2023-05-08T17:43:47.621Z"
   },
   {
    "duration": 31,
    "start_time": "2023-05-08T17:44:02.106Z"
   },
   {
    "duration": 565,
    "start_time": "2023-05-08T17:49:35.708Z"
   },
   {
    "duration": 71,
    "start_time": "2023-05-08T17:49:45.813Z"
   },
   {
    "duration": 1120,
    "start_time": "2023-05-08T17:49:55.220Z"
   },
   {
    "duration": 69,
    "start_time": "2023-05-08T17:50:04.518Z"
   },
   {
    "duration": 72,
    "start_time": "2023-05-08T17:50:29.445Z"
   },
   {
    "duration": 1130,
    "start_time": "2023-05-08T17:56:23.014Z"
   },
   {
    "duration": 796,
    "start_time": "2023-05-08T17:56:24.147Z"
   },
   {
    "duration": 15,
    "start_time": "2023-05-08T17:56:24.945Z"
   },
   {
    "duration": 119,
    "start_time": "2023-05-08T17:56:24.961Z"
   },
   {
    "duration": 246,
    "start_time": "2023-05-08T17:56:25.082Z"
   },
   {
    "duration": 102,
    "start_time": "2023-05-08T17:56:25.330Z"
   },
   {
    "duration": 444,
    "start_time": "2023-05-08T17:56:25.433Z"
   },
   {
    "duration": 520,
    "start_time": "2023-05-08T17:56:25.879Z"
   },
   {
    "duration": 230,
    "start_time": "2023-05-08T17:56:26.400Z"
   },
   {
    "duration": 81,
    "start_time": "2023-05-08T17:56:32.180Z"
   },
   {
    "duration": 77,
    "start_time": "2023-05-08T17:56:36.018Z"
   },
   {
    "duration": 17,
    "start_time": "2023-05-08T17:57:00.523Z"
   },
   {
    "duration": 30,
    "start_time": "2023-05-08T17:57:15.644Z"
   },
   {
    "duration": 253,
    "start_time": "2023-05-08T17:57:37.755Z"
   },
   {
    "duration": 28,
    "start_time": "2023-05-08T17:57:43.239Z"
   },
   {
    "duration": 254,
    "start_time": "2023-05-08T17:57:50.758Z"
   },
   {
    "duration": 20,
    "start_time": "2023-05-08T18:03:03.842Z"
   },
   {
    "duration": 30,
    "start_time": "2023-05-08T18:06:24.313Z"
   },
   {
    "duration": 3,
    "start_time": "2023-05-08T18:06:30.559Z"
   },
   {
    "duration": 21,
    "start_time": "2023-05-08T18:10:31.020Z"
   },
   {
    "duration": 222,
    "start_time": "2023-05-08T18:21:25.837Z"
   },
   {
    "duration": 172,
    "start_time": "2023-05-08T18:21:36.585Z"
   },
   {
    "duration": 342,
    "start_time": "2023-05-08T18:21:47.016Z"
   },
   {
    "duration": 260,
    "start_time": "2023-05-08T18:22:03.356Z"
   },
   {
    "duration": 259,
    "start_time": "2023-05-08T18:23:21.127Z"
   },
   {
    "duration": 239,
    "start_time": "2023-05-08T18:23:32.307Z"
   },
   {
    "duration": 27,
    "start_time": "2023-05-08T18:26:31.368Z"
   },
   {
    "duration": 5,
    "start_time": "2023-05-08T18:26:36.413Z"
   },
   {
    "duration": 22,
    "start_time": "2023-05-08T18:28:13.142Z"
   },
   {
    "duration": 1094,
    "start_time": "2023-05-08T18:28:39.122Z"
   },
   {
    "duration": 726,
    "start_time": "2023-05-08T18:28:40.218Z"
   },
   {
    "duration": 18,
    "start_time": "2023-05-08T18:28:40.945Z"
   },
   {
    "duration": 129,
    "start_time": "2023-05-08T18:28:40.965Z"
   },
   {
    "duration": 158,
    "start_time": "2023-05-08T18:28:41.096Z"
   },
   {
    "duration": 117,
    "start_time": "2023-05-08T18:28:41.256Z"
   },
   {
    "duration": 446,
    "start_time": "2023-05-08T18:28:41.375Z"
   },
   {
    "duration": 530,
    "start_time": "2023-05-08T18:28:41.823Z"
   },
   {
    "duration": 244,
    "start_time": "2023-05-08T18:28:42.355Z"
   },
   {
    "duration": 83,
    "start_time": "2023-05-08T18:28:42.601Z"
   },
   {
    "duration": 79,
    "start_time": "2023-05-08T18:28:42.693Z"
   },
   {
    "duration": 35,
    "start_time": "2023-05-08T18:28:42.774Z"
   },
   {
    "duration": 305,
    "start_time": "2023-05-08T18:28:42.810Z"
   },
   {
    "duration": 26,
    "start_time": "2023-05-08T18:28:43.117Z"
   },
   {
    "duration": 21,
    "start_time": "2023-05-08T18:28:43.145Z"
   },
   {
    "duration": 312,
    "start_time": "2023-05-08T18:28:43.168Z"
   },
   {
    "duration": 35,
    "start_time": "2023-05-08T18:29:10.413Z"
   },
   {
    "duration": 21,
    "start_time": "2023-05-08T18:29:17.372Z"
   },
   {
    "duration": 22,
    "start_time": "2023-05-08T18:29:54.054Z"
   },
   {
    "duration": 4,
    "start_time": "2023-05-08T18:30:29.656Z"
   },
   {
    "duration": 24,
    "start_time": "2023-05-08T18:30:36.213Z"
   },
   {
    "duration": 4,
    "start_time": "2023-05-08T18:30:43.646Z"
   },
   {
    "duration": 1141,
    "start_time": "2023-05-08T18:32:20.183Z"
   },
   {
    "duration": 801,
    "start_time": "2023-05-08T18:32:21.327Z"
   },
   {
    "duration": 20,
    "start_time": "2023-05-08T18:32:22.130Z"
   },
   {
    "duration": 130,
    "start_time": "2023-05-08T18:32:22.153Z"
   },
   {
    "duration": 157,
    "start_time": "2023-05-08T18:32:22.285Z"
   },
   {
    "duration": 103,
    "start_time": "2023-05-08T18:32:22.444Z"
   },
   {
    "duration": 462,
    "start_time": "2023-05-08T18:32:22.549Z"
   },
   {
    "duration": 571,
    "start_time": "2023-05-08T18:32:23.013Z"
   },
   {
    "duration": 248,
    "start_time": "2023-05-08T18:32:23.586Z"
   },
   {
    "duration": 81,
    "start_time": "2023-05-08T18:32:23.837Z"
   },
   {
    "duration": 82,
    "start_time": "2023-05-08T18:32:23.920Z"
   },
   {
    "duration": 31,
    "start_time": "2023-05-08T18:32:24.004Z"
   },
   {
    "duration": 340,
    "start_time": "2023-05-08T18:32:24.037Z"
   },
   {
    "duration": 33,
    "start_time": "2023-05-08T18:32:24.378Z"
   },
   {
    "duration": 20,
    "start_time": "2023-05-08T18:32:24.412Z"
   },
   {
    "duration": 255,
    "start_time": "2023-05-08T18:32:24.433Z"
   },
   {
    "duration": 35,
    "start_time": "2023-05-08T18:32:24.690Z"
   },
   {
    "duration": 26,
    "start_time": "2023-05-08T18:32:24.727Z"
   },
   {
    "duration": 4,
    "start_time": "2023-05-08T18:32:28.212Z"
   },
   {
    "duration": 40,
    "start_time": "2023-05-08T18:33:43.286Z"
   },
   {
    "duration": 9,
    "start_time": "2023-05-08T18:34:02.005Z"
   },
   {
    "duration": 4,
    "start_time": "2023-05-08T18:34:07.340Z"
   },
   {
    "duration": 32,
    "start_time": "2023-05-08T18:34:30.631Z"
   },
   {
    "duration": 22,
    "start_time": "2023-05-08T18:34:42.446Z"
   },
   {
    "duration": 21,
    "start_time": "2023-05-08T18:40:46.969Z"
   },
   {
    "duration": 2922,
    "start_time": "2023-05-08T18:43:23.906Z"
   },
   {
    "duration": 27,
    "start_time": "2023-05-08T18:43:41.606Z"
   },
   {
    "duration": 2453,
    "start_time": "2023-05-08T18:44:07.134Z"
   },
   {
    "duration": 74,
    "start_time": "2023-05-08T18:44:20.887Z"
   },
   {
    "duration": 9,
    "start_time": "2023-05-08T18:44:30.322Z"
   },
   {
    "duration": 4,
    "start_time": "2023-05-08T18:44:34.431Z"
   },
   {
    "duration": 27,
    "start_time": "2023-05-08T18:45:14.172Z"
   },
   {
    "duration": 29,
    "start_time": "2023-05-08T18:46:31.570Z"
   },
   {
    "duration": 256,
    "start_time": "2023-05-08T18:47:38.641Z"
   },
   {
    "duration": 240,
    "start_time": "2023-05-08T18:47:49.356Z"
   },
   {
    "duration": 234,
    "start_time": "2023-05-08T18:48:00.559Z"
   },
   {
    "duration": 33,
    "start_time": "2023-05-08T18:48:24.576Z"
   },
   {
    "duration": 162,
    "start_time": "2023-05-08T18:49:25.623Z"
   },
   {
    "duration": 10,
    "start_time": "2023-05-08T18:49:33.912Z"
   },
   {
    "duration": 30,
    "start_time": "2023-05-08T18:49:42.965Z"
   },
   {
    "duration": 211,
    "start_time": "2023-05-08T18:49:59.965Z"
   },
   {
    "duration": 1059,
    "start_time": "2023-05-08T18:51:39.025Z"
   },
   {
    "duration": 734,
    "start_time": "2023-05-08T18:51:40.086Z"
   },
   {
    "duration": 18,
    "start_time": "2023-05-08T18:51:40.822Z"
   },
   {
    "duration": 117,
    "start_time": "2023-05-08T18:51:40.841Z"
   },
   {
    "duration": 155,
    "start_time": "2023-05-08T18:51:40.960Z"
   },
   {
    "duration": 100,
    "start_time": "2023-05-08T18:51:41.116Z"
   },
   {
    "duration": 443,
    "start_time": "2023-05-08T18:51:41.218Z"
   },
   {
    "duration": 538,
    "start_time": "2023-05-08T18:51:41.662Z"
   },
   {
    "duration": 231,
    "start_time": "2023-05-08T18:51:42.201Z"
   },
   {
    "duration": 81,
    "start_time": "2023-05-08T18:51:42.434Z"
   },
   {
    "duration": 81,
    "start_time": "2023-05-08T18:51:42.517Z"
   },
   {
    "duration": 22,
    "start_time": "2023-05-08T18:51:42.599Z"
   },
   {
    "duration": 311,
    "start_time": "2023-05-08T18:51:42.623Z"
   },
   {
    "duration": 27,
    "start_time": "2023-05-08T18:51:42.935Z"
   },
   {
    "duration": 32,
    "start_time": "2023-05-08T18:51:42.964Z"
   },
   {
    "duration": 280,
    "start_time": "2023-05-08T18:51:42.998Z"
   },
   {
    "duration": 37,
    "start_time": "2023-05-08T18:51:43.280Z"
   },
   {
    "duration": 22,
    "start_time": "2023-05-08T18:51:43.319Z"
   },
   {
    "duration": 224,
    "start_time": "2023-05-08T18:51:50.503Z"
   },
   {
    "duration": 89,
    "start_time": "2023-05-08T18:53:13.821Z"
   },
   {
    "duration": 2921,
    "start_time": "2023-05-08T18:53:29.464Z"
   },
   {
    "duration": 76,
    "start_time": "2023-05-08T18:53:49.772Z"
   },
   {
    "duration": 225,
    "start_time": "2023-05-08T18:54:22.386Z"
   },
   {
    "duration": 241,
    "start_time": "2023-05-08T18:54:35.086Z"
   },
   {
    "duration": 1329,
    "start_time": "2023-05-09T08:58:58.310Z"
   },
   {
    "duration": 3028,
    "start_time": "2023-05-09T08:58:59.644Z"
   },
   {
    "duration": 16,
    "start_time": "2023-05-09T08:59:02.674Z"
   },
   {
    "duration": 152,
    "start_time": "2023-05-09T08:59:02.693Z"
   },
   {
    "duration": 178,
    "start_time": "2023-05-09T08:59:02.847Z"
   },
   {
    "duration": 151,
    "start_time": "2023-05-09T08:59:03.027Z"
   },
   {
    "duration": 512,
    "start_time": "2023-05-09T08:59:03.180Z"
   },
   {
    "duration": 586,
    "start_time": "2023-05-09T08:59:03.694Z"
   },
   {
    "duration": 251,
    "start_time": "2023-05-09T08:59:04.282Z"
   },
   {
    "duration": 84,
    "start_time": "2023-05-09T08:59:04.536Z"
   },
   {
    "duration": 83,
    "start_time": "2023-05-09T08:59:04.633Z"
   },
   {
    "duration": 37,
    "start_time": "2023-05-09T08:59:04.718Z"
   },
   {
    "duration": 305,
    "start_time": "2023-05-09T08:59:04.757Z"
   },
   {
    "duration": 26,
    "start_time": "2023-05-09T08:59:05.064Z"
   },
   {
    "duration": 41,
    "start_time": "2023-05-09T08:59:05.092Z"
   },
   {
    "duration": 276,
    "start_time": "2023-05-09T08:59:05.135Z"
   },
   {
    "duration": 44,
    "start_time": "2023-05-09T08:59:05.413Z"
   },
   {
    "duration": 25,
    "start_time": "2023-05-09T08:59:05.459Z"
   },
   {
    "duration": 286,
    "start_time": "2023-05-09T08:59:05.485Z"
   },
   {
    "duration": 3081,
    "start_time": "2023-05-09T08:59:09.598Z"
   },
   {
    "duration": 5,
    "start_time": "2023-05-09T08:59:13.628Z"
   },
   {
    "duration": 1221,
    "start_time": "2023-05-09T09:01:06.681Z"
   },
   {
    "duration": 866,
    "start_time": "2023-05-09T09:01:07.904Z"
   },
   {
    "duration": 19,
    "start_time": "2023-05-09T09:01:08.772Z"
   },
   {
    "duration": 159,
    "start_time": "2023-05-09T09:01:08.793Z"
   },
   {
    "duration": 191,
    "start_time": "2023-05-09T09:01:08.954Z"
   },
   {
    "duration": 128,
    "start_time": "2023-05-09T09:01:09.147Z"
   },
   {
    "duration": 502,
    "start_time": "2023-05-09T09:01:09.277Z"
   },
   {
    "duration": 629,
    "start_time": "2023-05-09T09:01:09.781Z"
   },
   {
    "duration": 258,
    "start_time": "2023-05-09T09:01:10.412Z"
   },
   {
    "duration": 92,
    "start_time": "2023-05-09T09:01:10.673Z"
   },
   {
    "duration": 84,
    "start_time": "2023-05-09T09:01:10.766Z"
   },
   {
    "duration": 25,
    "start_time": "2023-05-09T09:01:10.852Z"
   },
   {
    "duration": 325,
    "start_time": "2023-05-09T09:01:10.879Z"
   },
   {
    "duration": 37,
    "start_time": "2023-05-09T09:01:11.206Z"
   },
   {
    "duration": 25,
    "start_time": "2023-05-09T09:01:11.245Z"
   },
   {
    "duration": 291,
    "start_time": "2023-05-09T09:01:11.272Z"
   },
   {
    "duration": 41,
    "start_time": "2023-05-09T09:01:11.565Z"
   },
   {
    "duration": 39,
    "start_time": "2023-05-09T09:01:11.607Z"
   },
   {
    "duration": 3275,
    "start_time": "2023-05-09T09:01:47.170Z"
   },
   {
    "duration": 5,
    "start_time": "2023-05-09T09:01:53.737Z"
   },
   {
    "duration": 83,
    "start_time": "2023-05-09T09:05:42.199Z"
   },
   {
    "duration": 270,
    "start_time": "2023-05-09T09:06:14.350Z"
   },
   {
    "duration": 320,
    "start_time": "2023-05-09T09:06:37.838Z"
   },
   {
    "duration": 181,
    "start_time": "2023-05-09T09:06:59.211Z"
   },
   {
    "duration": 162,
    "start_time": "2023-05-09T09:17:26.337Z"
   },
   {
    "duration": 284,
    "start_time": "2023-05-09T09:17:38.532Z"
   },
   {
    "duration": 297,
    "start_time": "2023-05-09T09:17:55.117Z"
   },
   {
    "duration": 315,
    "start_time": "2023-05-09T09:18:13.129Z"
   },
   {
    "duration": 7,
    "start_time": "2023-05-09T09:22:01.566Z"
   },
   {
    "duration": 11,
    "start_time": "2023-05-09T09:22:37.280Z"
   },
   {
    "duration": 1205,
    "start_time": "2023-05-09T09:23:20.975Z"
   },
   {
    "duration": 974,
    "start_time": "2023-05-09T09:23:22.182Z"
   },
   {
    "duration": 22,
    "start_time": "2023-05-09T09:23:23.160Z"
   },
   {
    "duration": 174,
    "start_time": "2023-05-09T09:23:23.185Z"
   },
   {
    "duration": 216,
    "start_time": "2023-05-09T09:23:23.362Z"
   },
   {
    "duration": 165,
    "start_time": "2023-05-09T09:23:23.580Z"
   },
   {
    "duration": 539,
    "start_time": "2023-05-09T09:23:23.754Z"
   },
   {
    "duration": 646,
    "start_time": "2023-05-09T09:23:24.295Z"
   },
   {
    "duration": 286,
    "start_time": "2023-05-09T09:23:24.942Z"
   },
   {
    "duration": 96,
    "start_time": "2023-05-09T09:23:25.230Z"
   },
   {
    "duration": 94,
    "start_time": "2023-05-09T09:23:25.327Z"
   },
   {
    "duration": 33,
    "start_time": "2023-05-09T09:23:25.423Z"
   },
   {
    "duration": 329,
    "start_time": "2023-05-09T09:23:25.462Z"
   },
   {
    "duration": 29,
    "start_time": "2023-05-09T09:23:25.792Z"
   },
   {
    "duration": 50,
    "start_time": "2023-05-09T09:23:25.823Z"
   },
   {
    "duration": 326,
    "start_time": "2023-05-09T09:23:25.875Z"
   },
   {
    "duration": 52,
    "start_time": "2023-05-09T09:23:26.202Z"
   },
   {
    "duration": 30,
    "start_time": "2023-05-09T09:23:26.256Z"
   },
   {
    "duration": 7,
    "start_time": "2023-05-09T09:23:39.493Z"
   },
   {
    "duration": 6,
    "start_time": "2023-05-09T09:24:01.795Z"
   },
   {
    "duration": 8,
    "start_time": "2023-05-09T09:25:22.717Z"
   },
   {
    "duration": 9,
    "start_time": "2023-05-09T09:25:34.366Z"
   },
   {
    "duration": 24,
    "start_time": "2023-05-09T09:25:51.184Z"
   },
   {
    "duration": 297,
    "start_time": "2023-05-09T09:27:08.610Z"
   },
   {
    "duration": 10,
    "start_time": "2023-05-09T09:32:39.128Z"
   },
   {
    "duration": 6,
    "start_time": "2023-05-09T09:33:59.625Z"
   },
   {
    "duration": 13,
    "start_time": "2023-05-09T09:49:21.962Z"
   },
   {
    "duration": 86,
    "start_time": "2023-05-09T09:49:31.125Z"
   },
   {
    "duration": 4,
    "start_time": "2023-05-09T09:53:45.327Z"
   },
   {
    "duration": 6,
    "start_time": "2023-05-09T09:54:05.930Z"
   },
   {
    "duration": 24,
    "start_time": "2023-05-09T09:55:19.460Z"
   },
   {
    "duration": 4,
    "start_time": "2023-05-09T09:55:25.050Z"
   },
   {
    "duration": 85,
    "start_time": "2023-05-09T09:56:02.119Z"
   },
   {
    "duration": 113,
    "start_time": "2023-05-09T09:59:47.115Z"
   },
   {
    "duration": 36,
    "start_time": "2023-05-09T09:59:51.452Z"
   },
   {
    "duration": 153,
    "start_time": "2023-05-09T09:59:57.069Z"
   },
   {
    "duration": 236,
    "start_time": "2023-05-09T10:00:53.108Z"
   },
   {
    "duration": 17,
    "start_time": "2023-05-09T10:04:28.871Z"
   },
   {
    "duration": 15,
    "start_time": "2023-05-09T10:04:43.678Z"
   },
   {
    "duration": 30,
    "start_time": "2023-05-09T10:07:08.392Z"
   },
   {
    "duration": 107,
    "start_time": "2023-05-09T10:07:47.511Z"
   },
   {
    "duration": 18,
    "start_time": "2023-05-09T10:08:42.106Z"
   },
   {
    "duration": 15,
    "start_time": "2023-05-09T10:08:49.355Z"
   },
   {
    "duration": 34,
    "start_time": "2023-05-09T10:09:42.168Z"
   },
   {
    "duration": 2354,
    "start_time": "2023-05-09T10:10:05.631Z"
   },
   {
    "duration": 34,
    "start_time": "2023-05-09T10:25:21.850Z"
   },
   {
    "duration": 36,
    "start_time": "2023-05-09T10:26:35.703Z"
   },
   {
    "duration": 23,
    "start_time": "2023-05-09T10:28:51.062Z"
   },
   {
    "duration": 47,
    "start_time": "2023-05-09T11:46:33.911Z"
   },
   {
    "duration": 43,
    "start_time": "2023-05-09T11:47:04.315Z"
   },
   {
    "duration": 29,
    "start_time": "2023-05-09T11:47:12.999Z"
   },
   {
    "duration": 17,
    "start_time": "2023-05-09T11:47:22.377Z"
   },
   {
    "duration": 26,
    "start_time": "2023-05-09T11:47:49.530Z"
   },
   {
    "duration": 4,
    "start_time": "2023-05-09T11:48:53.734Z"
   },
   {
    "duration": 857,
    "start_time": "2023-05-09T11:58:29.689Z"
   },
   {
    "duration": 745,
    "start_time": "2023-05-09T11:58:52.918Z"
   },
   {
    "duration": 11,
    "start_time": "2023-05-09T11:59:22.178Z"
   },
   {
    "duration": 746,
    "start_time": "2023-05-09T11:59:24.855Z"
   },
   {
    "duration": 5,
    "start_time": "2023-05-09T11:59:33.360Z"
   },
   {
    "duration": 4,
    "start_time": "2023-05-09T11:59:41.734Z"
   },
   {
    "duration": 3,
    "start_time": "2023-05-09T11:59:58.198Z"
   },
   {
    "duration": 4,
    "start_time": "2023-05-09T11:59:59.508Z"
   },
   {
    "duration": 77,
    "start_time": "2023-05-09T12:01:32.300Z"
   },
   {
    "duration": 21,
    "start_time": "2023-05-09T12:01:42.018Z"
   },
   {
    "duration": 84,
    "start_time": "2023-05-09T12:02:51.615Z"
   },
   {
    "duration": 14,
    "start_time": "2023-05-09T12:18:51.439Z"
   },
   {
    "duration": 14,
    "start_time": "2023-05-09T12:18:54.997Z"
   },
   {
    "duration": 30,
    "start_time": "2023-05-09T12:21:17.652Z"
   },
   {
    "duration": 133,
    "start_time": "2023-05-09T12:21:39.660Z"
   },
   {
    "duration": 113,
    "start_time": "2023-05-09T12:21:46.811Z"
   },
   {
    "duration": 20,
    "start_time": "2023-05-09T12:22:53.010Z"
   },
   {
    "duration": 86,
    "start_time": "2023-05-09T12:23:16.769Z"
   },
   {
    "duration": 32,
    "start_time": "2023-05-09T12:24:34.989Z"
   },
   {
    "duration": 91,
    "start_time": "2023-05-09T12:25:11.775Z"
   },
   {
    "duration": 30,
    "start_time": "2023-05-09T12:27:46.713Z"
   },
   {
    "duration": 59,
    "start_time": "2023-05-09T12:27:51.929Z"
   },
   {
    "duration": 1362,
    "start_time": "2023-05-10T08:24:02.737Z"
   },
   {
    "duration": 1085,
    "start_time": "2023-05-10T08:24:04.101Z"
   },
   {
    "duration": 19,
    "start_time": "2023-05-10T08:24:05.187Z"
   },
   {
    "duration": 118,
    "start_time": "2023-05-10T08:24:05.207Z"
   },
   {
    "duration": 148,
    "start_time": "2023-05-10T08:24:05.327Z"
   },
   {
    "duration": 115,
    "start_time": "2023-05-10T08:24:05.477Z"
   },
   {
    "duration": 481,
    "start_time": "2023-05-10T08:24:05.594Z"
   },
   {
    "duration": 541,
    "start_time": "2023-05-10T08:24:06.077Z"
   },
   {
    "duration": 232,
    "start_time": "2023-05-10T08:24:06.620Z"
   },
   {
    "duration": 84,
    "start_time": "2023-05-10T08:24:06.856Z"
   },
   {
    "duration": 87,
    "start_time": "2023-05-10T08:24:06.941Z"
   },
   {
    "duration": 33,
    "start_time": "2023-05-10T08:24:07.030Z"
   },
   {
    "duration": 290,
    "start_time": "2023-05-10T08:24:07.065Z"
   },
   {
    "duration": 26,
    "start_time": "2023-05-10T08:24:07.357Z"
   },
   {
    "duration": 21,
    "start_time": "2023-05-10T08:24:07.385Z"
   },
   {
    "duration": 277,
    "start_time": "2023-05-10T08:24:07.408Z"
   },
   {
    "duration": 29,
    "start_time": "2023-05-10T08:24:07.687Z"
   },
   {
    "duration": 20,
    "start_time": "2023-05-10T08:24:07.718Z"
   },
   {
    "duration": 275,
    "start_time": "2023-05-10T08:24:07.740Z"
   },
   {
    "duration": 7,
    "start_time": "2023-05-10T08:24:08.017Z"
   },
   {
    "duration": 29,
    "start_time": "2023-05-10T08:24:08.026Z"
   },
   {
    "duration": 335,
    "start_time": "2023-05-10T08:24:08.057Z"
   },
   {
    "duration": 16,
    "start_time": "2023-05-10T08:24:08.394Z"
   },
   {
    "duration": 81,
    "start_time": "2023-05-10T08:24:08.412Z"
   },
   {
    "duration": 26,
    "start_time": "2023-05-10T08:24:08.495Z"
   },
   {
    "duration": 153,
    "start_time": "2023-05-10T08:24:08.522Z"
   },
   {
    "duration": 15,
    "start_time": "2023-05-10T08:24:08.676Z"
   },
   {
    "duration": 44,
    "start_time": "2023-05-10T08:24:08.694Z"
   },
   {
    "duration": 109,
    "start_time": "2023-05-10T08:24:08.740Z"
   },
   {
    "duration": 19,
    "start_time": "2023-05-10T08:24:08.851Z"
   },
   {
    "duration": 30,
    "start_time": "2023-05-10T08:24:08.871Z"
   },
   {
    "duration": 48,
    "start_time": "2023-05-10T08:24:08.902Z"
   },
   {
    "duration": 71,
    "start_time": "2023-05-10T08:24:08.952Z"
   },
   {
    "duration": 87,
    "start_time": "2023-05-10T08:24:09.024Z"
   },
   {
    "duration": 46,
    "start_time": "2023-05-10T08:24:09.113Z"
   },
   {
    "duration": 137,
    "start_time": "2023-05-10T08:24:09.161Z"
   },
   {
    "duration": 15,
    "start_time": "2023-05-10T08:24:09.300Z"
   },
   {
    "duration": 38,
    "start_time": "2023-05-10T08:24:09.316Z"
   },
   {
    "duration": 102,
    "start_time": "2023-05-10T08:24:09.356Z"
   },
   {
    "duration": 17,
    "start_time": "2023-05-10T08:24:09.460Z"
   },
   {
    "duration": 17,
    "start_time": "2023-05-10T08:24:15.847Z"
   },
   {
    "duration": 48,
    "start_time": "2023-05-10T08:24:16.711Z"
   },
   {
    "duration": 18,
    "start_time": "2023-05-10T08:24:24.900Z"
   },
   {
    "duration": 55,
    "start_time": "2023-05-10T08:35:47.887Z"
   },
   {
    "duration": 38,
    "start_time": "2023-05-10T08:41:06.457Z"
   },
   {
    "duration": 106,
    "start_time": "2023-05-10T08:42:00.002Z"
   },
   {
    "duration": 226,
    "start_time": "2023-05-10T08:42:27.768Z"
   },
   {
    "duration": 84,
    "start_time": "2023-05-10T08:42:33.600Z"
   },
   {
    "duration": 24,
    "start_time": "2023-05-10T08:42:36.294Z"
   },
   {
    "duration": 5,
    "start_time": "2023-05-10T08:42:37.865Z"
   },
   {
    "duration": 24,
    "start_time": "2023-05-10T08:46:40.062Z"
   },
   {
    "duration": 40,
    "start_time": "2023-05-10T08:55:47.584Z"
   },
   {
    "duration": 105,
    "start_time": "2023-05-10T08:56:48.155Z"
   },
   {
    "duration": 2298,
    "start_time": "2023-05-10T08:56:56.515Z"
   },
   {
    "duration": 3,
    "start_time": "2023-05-10T08:57:15.043Z"
   },
   {
    "duration": 3,
    "start_time": "2023-05-10T08:58:10.855Z"
   },
   {
    "duration": 66,
    "start_time": "2023-05-10T09:01:22.362Z"
   },
   {
    "duration": 54,
    "start_time": "2023-05-10T09:01:32.681Z"
   },
   {
    "duration": 60,
    "start_time": "2023-05-10T09:01:38.481Z"
   },
   {
    "duration": 3,
    "start_time": "2023-05-10T09:01:51.687Z"
   },
   {
    "duration": 8,
    "start_time": "2023-05-10T09:02:13.939Z"
   },
   {
    "duration": 35,
    "start_time": "2023-05-10T09:02:23.875Z"
   },
   {
    "duration": 4,
    "start_time": "2023-05-10T09:02:30.214Z"
   },
   {
    "duration": 32,
    "start_time": "2023-05-10T09:02:59.663Z"
   },
   {
    "duration": 3,
    "start_time": "2023-05-10T09:05:48.082Z"
   },
   {
    "duration": 3,
    "start_time": "2023-05-10T09:29:08.777Z"
   },
   {
    "duration": 3,
    "start_time": "2023-05-10T09:29:27.708Z"
   },
   {
    "duration": 53,
    "start_time": "2023-05-10T09:32:23.665Z"
   },
   {
    "duration": 23,
    "start_time": "2023-05-10T09:38:56.279Z"
   },
   {
    "duration": 19,
    "start_time": "2023-05-10T09:39:13.583Z"
   },
   {
    "duration": 43,
    "start_time": "2023-05-10T09:40:32.064Z"
   },
   {
    "duration": 6,
    "start_time": "2023-05-10T10:20:24.256Z"
   },
   {
    "duration": 214,
    "start_time": "2023-05-10T10:44:08.212Z"
   },
   {
    "duration": 23,
    "start_time": "2023-05-10T10:44:26.481Z"
   },
   {
    "duration": 29,
    "start_time": "2023-05-10T10:44:39.083Z"
   },
   {
    "duration": 44,
    "start_time": "2023-05-10T10:45:53.608Z"
   },
   {
    "duration": 17,
    "start_time": "2023-05-10T10:46:01.731Z"
   },
   {
    "duration": 58245,
    "start_time": "2023-05-10T10:47:12.422Z"
   },
   {
    "duration": 464,
    "start_time": "2023-05-10T10:49:10.113Z"
   },
   {
    "duration": 20,
    "start_time": "2023-05-10T10:54:33.571Z"
   },
   {
    "duration": 11,
    "start_time": "2023-05-10T10:55:49.748Z"
   },
   {
    "duration": 3,
    "start_time": "2023-05-10T11:01:48.432Z"
   },
   {
    "duration": 6,
    "start_time": "2023-05-10T11:02:28.538Z"
   },
   {
    "duration": 5,
    "start_time": "2023-05-10T11:02:41.548Z"
   },
   {
    "duration": 211308,
    "start_time": "2023-05-10T11:03:04.850Z"
   },
   {
    "duration": 486,
    "start_time": "2023-05-10T11:07:00.700Z"
   },
   {
    "duration": 6,
    "start_time": "2023-05-10T11:07:07.402Z"
   },
   {
    "duration": 209222,
    "start_time": "2023-05-10T11:07:20.840Z"
   },
   {
    "duration": 462,
    "start_time": "2023-05-10T11:11:58.710Z"
   },
   {
    "duration": 8,
    "start_time": "2023-05-10T11:12:09.969Z"
   },
   {
    "duration": 4014,
    "start_time": "2023-05-10T11:39:56.986Z"
   },
   {
    "duration": 12822,
    "start_time": "2023-05-10T12:01:44.146Z"
   },
   {
    "duration": 73212,
    "start_time": "2023-05-10T12:03:57.961Z"
   },
   {
    "duration": 1770028,
    "start_time": "2023-05-10T12:07:53.042Z"
   },
   {
    "duration": 1648952,
    "start_time": "2023-05-10T12:38:21.120Z"
   },
   {
    "duration": 4,
    "start_time": "2023-05-10T13:05:54.021Z"
   },
   {
    "duration": 105,
    "start_time": "2023-05-10T13:27:30.066Z"
   },
   {
    "duration": 424928,
    "start_time": "2023-05-10T13:28:04.638Z"
   },
   {
    "duration": 4,
    "start_time": "2023-05-10T13:37:40.433Z"
   },
   {
    "duration": 243301,
    "start_time": "2023-05-10T13:38:10.783Z"
   },
   {
    "duration": 4,
    "start_time": "2023-05-10T13:43:50.684Z"
   },
   {
    "duration": 276850,
    "start_time": "2023-05-10T13:45:51.313Z"
   },
   {
    "duration": 4,
    "start_time": "2023-05-10T13:56:26.622Z"
   },
   {
    "duration": 1922,
    "start_time": "2023-05-10T14:15:20.056Z"
   },
   {
    "duration": 1319,
    "start_time": "2023-05-10T14:15:21.981Z"
   },
   {
    "duration": 1018,
    "start_time": "2023-05-10T14:15:23.302Z"
   },
   {
    "duration": 21,
    "start_time": "2023-05-10T14:15:24.322Z"
   },
   {
    "duration": 124,
    "start_time": "2023-05-10T14:15:24.355Z"
   },
   {
    "duration": 162,
    "start_time": "2023-05-10T14:15:24.481Z"
   },
   {
    "duration": 120,
    "start_time": "2023-05-10T14:15:24.644Z"
   },
   {
    "duration": 486,
    "start_time": "2023-05-10T14:15:24.765Z"
   },
   {
    "duration": 591,
    "start_time": "2023-05-10T14:15:25.256Z"
   },
   {
    "duration": 250,
    "start_time": "2023-05-10T14:15:25.850Z"
   },
   {
    "duration": 103,
    "start_time": "2023-05-10T14:15:26.102Z"
   },
   {
    "duration": 88,
    "start_time": "2023-05-10T14:15:26.207Z"
   },
   {
    "duration": 24,
    "start_time": "2023-05-10T14:15:26.296Z"
   },
   {
    "duration": 329,
    "start_time": "2023-05-10T14:15:26.322Z"
   },
   {
    "duration": 28,
    "start_time": "2023-05-10T14:15:26.655Z"
   },
   {
    "duration": 27,
    "start_time": "2023-05-10T14:15:26.685Z"
   },
   {
    "duration": 421,
    "start_time": "2023-05-10T14:15:26.714Z"
   },
   {
    "duration": 45,
    "start_time": "2023-05-10T14:15:27.137Z"
   },
   {
    "duration": 25,
    "start_time": "2023-05-10T14:15:27.184Z"
   },
   {
    "duration": 312,
    "start_time": "2023-05-10T14:15:27.210Z"
   },
   {
    "duration": 7,
    "start_time": "2023-05-10T14:15:27.524Z"
   },
   {
    "duration": 33,
    "start_time": "2023-05-10T14:15:27.533Z"
   },
   {
    "duration": 280,
    "start_time": "2023-05-10T14:15:27.568Z"
   },
   {
    "duration": 21,
    "start_time": "2023-05-10T14:15:27.856Z"
   },
   {
    "duration": 83,
    "start_time": "2023-05-10T14:15:27.878Z"
   },
   {
    "duration": 31,
    "start_time": "2023-05-10T14:15:27.963Z"
   },
   {
    "duration": 144,
    "start_time": "2023-05-10T14:15:27.996Z"
   },
   {
    "duration": 22,
    "start_time": "2023-05-10T14:15:28.145Z"
   },
   {
    "duration": 30,
    "start_time": "2023-05-10T14:15:28.168Z"
   },
   {
    "duration": 109,
    "start_time": "2023-05-10T14:15:28.200Z"
   },
   {
    "duration": 16,
    "start_time": "2023-05-10T14:15:28.310Z"
   },
   {
    "duration": 35,
    "start_time": "2023-05-10T14:15:28.327Z"
   },
   {
    "duration": 33,
    "start_time": "2023-05-10T14:15:28.364Z"
   },
   {
    "duration": 81,
    "start_time": "2023-05-10T14:15:28.399Z"
   },
   {
    "duration": 43,
    "start_time": "2023-05-10T14:15:28.481Z"
   },
   {
    "duration": 33,
    "start_time": "2023-05-10T14:15:28.526Z"
   },
   {
    "duration": 124,
    "start_time": "2023-05-10T14:15:28.560Z"
   },
   {
    "duration": 15,
    "start_time": "2023-05-10T14:15:28.685Z"
   },
   {
    "duration": 36,
    "start_time": "2023-05-10T14:15:28.702Z"
   },
   {
    "duration": 94,
    "start_time": "2023-05-10T14:15:28.739Z"
   },
   {
    "duration": 23,
    "start_time": "2023-05-10T14:15:28.834Z"
   },
   {
    "duration": 49,
    "start_time": "2023-05-10T14:15:28.859Z"
   },
   {
    "duration": 63,
    "start_time": "2023-05-10T14:15:28.909Z"
   },
   {
    "duration": 85,
    "start_time": "2023-05-10T14:15:28.974Z"
   },
   {
    "duration": 23,
    "start_time": "2023-05-10T14:15:29.061Z"
   },
   {
    "duration": 4,
    "start_time": "2023-05-10T14:15:29.086Z"
   },
   {
    "duration": 25,
    "start_time": "2023-05-10T14:15:29.091Z"
   },
   {
    "duration": 2,
    "start_time": "2023-05-10T14:15:29.118Z"
   },
   {
    "duration": 179,
    "start_time": "2023-05-10T14:15:29.122Z"
   },
   {
    "duration": 39,
    "start_time": "2023-05-10T14:15:32.296Z"
   },
   {
    "duration": 180961,
    "start_time": "2023-05-10T14:16:47.010Z"
   },
   {
    "duration": 7876,
    "start_time": "2023-05-10T14:20:10.101Z"
   },
   {
    "duration": 858,
    "start_time": "2023-05-10T14:21:20.006Z"
   },
   {
    "duration": 4,
    "start_time": "2023-05-10T14:21:36.039Z"
   },
   {
    "duration": 37,
    "start_time": "2023-05-10T14:33:40.595Z"
   },
   {
    "duration": 73,
    "start_time": "2023-05-10T14:47:43.201Z"
   },
   {
    "duration": 22465,
    "start_time": "2023-05-10T14:47:56.313Z"
   },
   {
    "duration": 35582,
    "start_time": "2023-05-10T14:49:25.986Z"
   },
   {
    "duration": 593646,
    "start_time": "2023-05-10T14:50:25.857Z"
   },
   {
    "duration": 25945,
    "start_time": "2023-05-10T15:07:19.017Z"
   },
   {
    "duration": 65,
    "start_time": "2023-05-10T15:08:34.875Z"
   },
   {
    "duration": 5,
    "start_time": "2023-05-10T15:09:07.490Z"
   },
   {
    "duration": 25340,
    "start_time": "2023-05-10T15:11:13.609Z"
   },
   {
    "duration": 78,
    "start_time": "2023-05-10T15:12:24.440Z"
   },
   {
    "duration": 5,
    "start_time": "2023-05-10T15:12:33.825Z"
   },
   {
    "duration": 4,
    "start_time": "2023-05-10T15:13:40.429Z"
   },
   {
    "duration": 368609,
    "start_time": "2023-05-10T15:15:52.075Z"
   },
   {
    "duration": 6809,
    "start_time": "2023-05-10T15:31:32.670Z"
   },
   {
    "duration": 39,
    "start_time": "2023-05-10T15:32:14.202Z"
   },
   {
    "duration": 4,
    "start_time": "2023-05-10T15:32:20.416Z"
   },
   {
    "duration": 3,
    "start_time": "2023-05-10T15:32:34.528Z"
   },
   {
    "duration": 40,
    "start_time": "2023-05-10T15:38:09.500Z"
   },
   {
    "duration": 4,
    "start_time": "2023-05-10T15:39:05.126Z"
   },
   {
    "duration": 9,
    "start_time": "2023-05-10T15:41:28.836Z"
   },
   {
    "duration": 18,
    "start_time": "2023-05-10T15:42:23.417Z"
   },
   {
    "duration": 6895,
    "start_time": "2023-05-10T15:44:37.359Z"
   },
   {
    "duration": 3,
    "start_time": "2023-05-10T15:44:51.041Z"
   },
   {
    "duration": 19,
    "start_time": "2023-05-10T15:45:03.815Z"
   },
   {
    "duration": 2131,
    "start_time": "2023-05-10T15:45:36.811Z"
   },
   {
    "duration": 2152,
    "start_time": "2023-05-10T15:45:38.944Z"
   },
   {
    "duration": 1270,
    "start_time": "2023-05-10T15:45:41.098Z"
   },
   {
    "duration": 850,
    "start_time": "2023-05-10T15:45:42.371Z"
   },
   {
    "duration": 18,
    "start_time": "2023-05-10T15:45:43.222Z"
   },
   {
    "duration": 150,
    "start_time": "2023-05-10T15:45:43.241Z"
   },
   {
    "duration": 167,
    "start_time": "2023-05-10T15:45:43.393Z"
   },
   {
    "duration": 110,
    "start_time": "2023-05-10T15:45:43.562Z"
   },
   {
    "duration": 595,
    "start_time": "2023-05-10T15:45:43.674Z"
   },
   {
    "duration": 604,
    "start_time": "2023-05-10T15:45:44.272Z"
   },
   {
    "duration": 252,
    "start_time": "2023-05-10T15:45:44.878Z"
   },
   {
    "duration": 96,
    "start_time": "2023-05-10T15:45:45.132Z"
   },
   {
    "duration": 91,
    "start_time": "2023-05-10T15:45:45.230Z"
   },
   {
    "duration": 34,
    "start_time": "2023-05-10T15:45:45.323Z"
   },
   {
    "duration": 304,
    "start_time": "2023-05-10T15:45:45.358Z"
   },
   {
    "duration": 29,
    "start_time": "2023-05-10T15:45:45.663Z"
   },
   {
    "duration": 21,
    "start_time": "2023-05-10T15:45:45.693Z"
   },
   {
    "duration": 314,
    "start_time": "2023-05-10T15:45:45.716Z"
   },
   {
    "duration": 52,
    "start_time": "2023-05-10T15:45:46.033Z"
   },
   {
    "duration": 25,
    "start_time": "2023-05-10T15:45:46.087Z"
   },
   {
    "duration": 356,
    "start_time": "2023-05-10T15:45:46.114Z"
   },
   {
    "duration": 8,
    "start_time": "2023-05-10T15:45:46.472Z"
   },
   {
    "duration": 26,
    "start_time": "2023-05-10T15:45:46.481Z"
   },
   {
    "duration": 263,
    "start_time": "2023-05-10T15:45:46.509Z"
   },
   {
    "duration": 21,
    "start_time": "2023-05-10T15:45:46.774Z"
   },
   {
    "duration": 85,
    "start_time": "2023-05-10T15:45:46.797Z"
   },
   {
    "duration": 30,
    "start_time": "2023-05-10T15:45:46.884Z"
   },
   {
    "duration": 154,
    "start_time": "2023-05-10T15:45:46.917Z"
   },
   {
    "duration": 17,
    "start_time": "2023-05-10T15:45:47.073Z"
   },
   {
    "duration": 50,
    "start_time": "2023-05-10T15:45:47.092Z"
   },
   {
    "duration": 122,
    "start_time": "2023-05-10T15:45:47.144Z"
   },
   {
    "duration": 19,
    "start_time": "2023-05-10T15:45:47.268Z"
   },
   {
    "duration": 48,
    "start_time": "2023-05-10T15:45:47.289Z"
   },
   {
    "duration": 56,
    "start_time": "2023-05-10T15:45:47.339Z"
   },
   {
    "duration": 86,
    "start_time": "2023-05-10T15:45:47.397Z"
   },
   {
    "duration": 74,
    "start_time": "2023-05-10T15:45:47.485Z"
   },
   {
    "duration": 29,
    "start_time": "2023-05-10T15:45:47.561Z"
   },
   {
    "duration": 167,
    "start_time": "2023-05-10T15:45:47.592Z"
   },
   {
    "duration": 18,
    "start_time": "2023-05-10T15:45:47.761Z"
   },
   {
    "duration": 30,
    "start_time": "2023-05-10T15:45:47.781Z"
   },
   {
    "duration": 134,
    "start_time": "2023-05-10T15:45:47.813Z"
   },
   {
    "duration": 21,
    "start_time": "2023-05-10T15:45:47.948Z"
   },
   {
    "duration": 53,
    "start_time": "2023-05-10T15:45:47.971Z"
   },
   {
    "duration": 49,
    "start_time": "2023-05-10T15:45:48.026Z"
   },
   {
    "duration": 89,
    "start_time": "2023-05-10T15:45:48.077Z"
   },
   {
    "duration": 25,
    "start_time": "2023-05-10T15:45:48.168Z"
   },
   {
    "duration": 4,
    "start_time": "2023-05-10T15:45:48.195Z"
   },
   {
    "duration": 20,
    "start_time": "2023-05-10T15:45:51.988Z"
   },
   {
    "duration": 2,
    "start_time": "2023-05-10T15:45:58.537Z"
   },
   {
    "duration": 20,
    "start_time": "2023-05-10T15:46:46.549Z"
   },
   {
    "duration": 1135,
    "start_time": "2023-05-10T15:48:21.383Z"
   },
   {
    "duration": 62459,
    "start_time": "2023-05-10T15:49:10.158Z"
   },
   {
    "duration": 3,
    "start_time": "2023-05-10T15:50:46.157Z"
   },
   {
    "duration": 4,
    "start_time": "2023-05-10T15:50:58.973Z"
   },
   {
    "duration": 2041,
    "start_time": "2023-05-10T15:51:46.155Z"
   },
   {
    "duration": 1926,
    "start_time": "2023-05-10T15:51:48.198Z"
   },
   {
    "duration": 1376,
    "start_time": "2023-05-10T15:51:50.126Z"
   },
   {
    "duration": 891,
    "start_time": "2023-05-10T15:51:51.505Z"
   },
   {
    "duration": 16,
    "start_time": "2023-05-10T15:51:52.397Z"
   },
   {
    "duration": 120,
    "start_time": "2023-05-10T15:51:52.414Z"
   },
   {
    "duration": 174,
    "start_time": "2023-05-10T15:51:52.535Z"
   },
   {
    "duration": 119,
    "start_time": "2023-05-10T15:51:52.711Z"
   },
   {
    "duration": 519,
    "start_time": "2023-05-10T15:51:52.832Z"
   },
   {
    "duration": 594,
    "start_time": "2023-05-10T15:51:53.356Z"
   },
   {
    "duration": 278,
    "start_time": "2023-05-10T15:51:53.952Z"
   },
   {
    "duration": 95,
    "start_time": "2023-05-10T15:51:54.232Z"
   },
   {
    "duration": 84,
    "start_time": "2023-05-10T15:51:54.329Z"
   },
   {
    "duration": 22,
    "start_time": "2023-05-10T15:51:54.414Z"
   },
   {
    "duration": 296,
    "start_time": "2023-05-10T15:51:54.438Z"
   },
   {
    "duration": 36,
    "start_time": "2023-05-10T15:51:54.735Z"
   },
   {
    "duration": 24,
    "start_time": "2023-05-10T15:51:54.772Z"
   },
   {
    "duration": 293,
    "start_time": "2023-05-10T15:51:54.798Z"
   },
   {
    "duration": 34,
    "start_time": "2023-05-10T15:51:55.093Z"
   },
   {
    "duration": 31,
    "start_time": "2023-05-10T15:51:55.129Z"
   },
   {
    "duration": 370,
    "start_time": "2023-05-10T15:51:55.162Z"
   },
   {
    "duration": 8,
    "start_time": "2023-05-10T15:51:55.534Z"
   },
   {
    "duration": 37,
    "start_time": "2023-05-10T15:51:55.544Z"
   },
   {
    "duration": 256,
    "start_time": "2023-05-10T15:51:55.583Z"
   },
   {
    "duration": 21,
    "start_time": "2023-05-10T15:51:55.840Z"
   },
   {
    "duration": 64,
    "start_time": "2023-05-10T15:51:55.863Z"
   },
   {
    "duration": 37,
    "start_time": "2023-05-10T15:51:55.928Z"
   },
   {
    "duration": 130,
    "start_time": "2023-05-10T15:51:55.968Z"
   },
   {
    "duration": 16,
    "start_time": "2023-05-10T15:51:56.099Z"
   },
   {
    "duration": 42,
    "start_time": "2023-05-10T15:51:56.116Z"
   },
   {
    "duration": 101,
    "start_time": "2023-05-10T15:51:56.159Z"
   },
   {
    "duration": 16,
    "start_time": "2023-05-10T15:51:56.261Z"
   },
   {
    "duration": 36,
    "start_time": "2023-05-10T15:51:56.279Z"
   },
   {
    "duration": 42,
    "start_time": "2023-05-10T15:51:56.317Z"
   },
   {
    "duration": 70,
    "start_time": "2023-05-10T15:51:56.361Z"
   },
   {
    "duration": 72,
    "start_time": "2023-05-10T15:51:56.433Z"
   },
   {
    "duration": 25,
    "start_time": "2023-05-10T15:51:56.507Z"
   },
   {
    "duration": 127,
    "start_time": "2023-05-10T15:51:56.534Z"
   },
   {
    "duration": 15,
    "start_time": "2023-05-10T15:51:56.662Z"
   },
   {
    "duration": 31,
    "start_time": "2023-05-10T15:51:56.678Z"
   },
   {
    "duration": 104,
    "start_time": "2023-05-10T15:51:56.710Z"
   },
   {
    "duration": 17,
    "start_time": "2023-05-10T15:51:56.815Z"
   },
   {
    "duration": 59,
    "start_time": "2023-05-10T15:51:56.834Z"
   },
   {
    "duration": 38,
    "start_time": "2023-05-10T15:51:56.894Z"
   },
   {
    "duration": 87,
    "start_time": "2023-05-10T15:51:56.933Z"
   },
   {
    "duration": 22,
    "start_time": "2023-05-10T15:51:57.022Z"
   },
   {
    "duration": 4,
    "start_time": "2023-05-10T15:51:57.055Z"
   },
   {
    "duration": 65,
    "start_time": "2023-05-10T15:51:57.061Z"
   },
   {
    "duration": 32,
    "start_time": "2023-05-10T15:51:57.128Z"
   },
   {
    "duration": 170,
    "start_time": "2023-05-10T15:51:57.162Z"
   },
   {
    "duration": 44,
    "start_time": "2023-05-10T15:52:00.476Z"
   },
   {
    "duration": 8,
    "start_time": "2023-05-10T15:52:13.611Z"
   },
   {
    "duration": 60742,
    "start_time": "2023-05-10T15:52:17.732Z"
   },
   {
    "duration": 5,
    "start_time": "2023-05-10T15:54:29.585Z"
   },
   {
    "duration": 14170,
    "start_time": "2023-05-10T15:55:43.191Z"
   },
   {
    "duration": 4,
    "start_time": "2023-05-10T15:56:11.396Z"
   },
   {
    "duration": 59,
    "start_time": "2023-05-10T15:58:05.423Z"
   },
   {
    "duration": 134,
    "start_time": "2023-05-10T15:58:53.260Z"
   },
   {
    "duration": 23,
    "start_time": "2023-05-10T15:59:06.277Z"
   },
   {
    "duration": 132,
    "start_time": "2023-05-10T16:01:06.526Z"
   },
   {
    "duration": 28969,
    "start_time": "2023-05-10T16:04:48.492Z"
   },
   {
    "duration": 1908,
    "start_time": "2023-05-10T16:57:17.964Z"
   },
   {
    "duration": 1897,
    "start_time": "2023-05-10T16:57:19.874Z"
   },
   {
    "duration": 1297,
    "start_time": "2023-05-10T16:57:21.773Z"
   },
   {
    "duration": 890,
    "start_time": "2023-05-10T16:57:23.072Z"
   },
   {
    "duration": 22,
    "start_time": "2023-05-10T16:57:23.965Z"
   },
   {
    "duration": 166,
    "start_time": "2023-05-10T16:57:23.989Z"
   },
   {
    "duration": 206,
    "start_time": "2023-05-10T16:57:24.157Z"
   },
   {
    "duration": 123,
    "start_time": "2023-05-10T16:57:24.365Z"
   },
   {
    "duration": 528,
    "start_time": "2023-05-10T16:57:24.490Z"
   },
   {
    "duration": 616,
    "start_time": "2023-05-10T16:57:25.020Z"
   },
   {
    "duration": 274,
    "start_time": "2023-05-10T16:57:25.638Z"
   },
   {
    "duration": 104,
    "start_time": "2023-05-10T16:57:25.913Z"
   },
   {
    "duration": 100,
    "start_time": "2023-05-10T16:57:26.018Z"
   },
   {
    "duration": 37,
    "start_time": "2023-05-10T16:57:26.119Z"
   },
   {
    "duration": 328,
    "start_time": "2023-05-10T16:57:26.158Z"
   },
   {
    "duration": 28,
    "start_time": "2023-05-10T16:57:26.488Z"
   },
   {
    "duration": 48,
    "start_time": "2023-05-10T16:57:26.517Z"
   },
   {
    "duration": 327,
    "start_time": "2023-05-10T16:57:26.567Z"
   },
   {
    "duration": 39,
    "start_time": "2023-05-10T16:57:26.896Z"
   },
   {
    "duration": 41,
    "start_time": "2023-05-10T16:57:26.937Z"
   },
   {
    "duration": 394,
    "start_time": "2023-05-10T16:57:26.980Z"
   },
   {
    "duration": 9,
    "start_time": "2023-05-10T16:57:27.376Z"
   },
   {
    "duration": 22,
    "start_time": "2023-05-10T16:57:27.387Z"
   },
   {
    "duration": 320,
    "start_time": "2023-05-10T16:57:27.411Z"
   },
   {
    "duration": 31,
    "start_time": "2023-05-10T16:57:27.733Z"
   },
   {
    "duration": 92,
    "start_time": "2023-05-10T16:57:27.766Z"
   },
   {
    "duration": 34,
    "start_time": "2023-05-10T16:57:27.861Z"
   },
   {
    "duration": 178,
    "start_time": "2023-05-10T16:57:27.900Z"
   },
   {
    "duration": 18,
    "start_time": "2023-05-10T16:57:28.079Z"
   },
   {
    "duration": 30,
    "start_time": "2023-05-10T16:57:28.099Z"
   },
   {
    "duration": 133,
    "start_time": "2023-05-10T16:57:28.131Z"
   },
   {
    "duration": 17,
    "start_time": "2023-05-10T16:57:28.266Z"
   },
   {
    "duration": 29,
    "start_time": "2023-05-10T16:57:28.284Z"
   },
   {
    "duration": 68,
    "start_time": "2023-05-10T16:57:28.315Z"
   },
   {
    "duration": 79,
    "start_time": "2023-05-10T16:57:28.385Z"
   },
   {
    "duration": 44,
    "start_time": "2023-05-10T16:57:28.465Z"
   },
   {
    "duration": 25,
    "start_time": "2023-05-10T16:57:28.511Z"
   },
   {
    "duration": 129,
    "start_time": "2023-05-10T16:57:28.556Z"
   },
   {
    "duration": 15,
    "start_time": "2023-05-10T16:57:28.687Z"
   },
   {
    "duration": 25,
    "start_time": "2023-05-10T16:57:28.703Z"
   },
   {
    "duration": 109,
    "start_time": "2023-05-10T16:57:28.730Z"
   },
   {
    "duration": 28,
    "start_time": "2023-05-10T16:57:28.841Z"
   },
   {
    "duration": 63,
    "start_time": "2023-05-10T16:57:28.871Z"
   },
   {
    "duration": 38,
    "start_time": "2023-05-10T16:57:28.956Z"
   },
   {
    "duration": 93,
    "start_time": "2023-05-10T16:57:28.996Z"
   },
   {
    "duration": 23,
    "start_time": "2023-05-10T16:57:29.090Z"
   },
   {
    "duration": 5,
    "start_time": "2023-05-10T16:57:29.114Z"
   },
   {
    "duration": 46,
    "start_time": "2023-05-10T16:57:29.120Z"
   },
   {
    "duration": 2,
    "start_time": "2023-05-10T16:57:29.168Z"
   },
   {
    "duration": 170,
    "start_time": "2023-05-10T16:57:29.172Z"
   },
   {
    "duration": 6,
    "start_time": "2023-05-10T16:57:32.511Z"
   },
   {
    "duration": 9,
    "start_time": "2023-05-10T16:57:44.574Z"
   },
   {
    "duration": 59829,
    "start_time": "2023-05-10T16:57:45.520Z"
   },
   {
    "duration": 4,
    "start_time": "2023-05-10T16:59:03.425Z"
   },
   {
    "duration": 14018,
    "start_time": "2023-05-10T16:59:05.535Z"
   },
   {
    "duration": 4,
    "start_time": "2023-05-10T16:59:19.555Z"
   },
   {
    "duration": 118,
    "start_time": "2023-05-10T16:59:45.545Z"
   },
   {
    "duration": 129,
    "start_time": "2023-05-10T17:00:32.170Z"
   },
   {
    "duration": 4,
    "start_time": "2023-05-10T17:01:02.366Z"
   },
   {
    "duration": 619139,
    "start_time": "2023-05-10T17:01:10.455Z"
   },
   {
    "duration": 45263,
    "start_time": "2023-05-10T17:13:31.012Z"
   },
   {
    "duration": 166,
    "start_time": "2023-05-10T17:14:53.699Z"
   },
   {
    "duration": 4,
    "start_time": "2023-05-10T17:15:36.779Z"
   },
   {
    "duration": 1987,
    "start_time": "2023-05-10T17:47:36.289Z"
   },
   {
    "duration": 2104,
    "start_time": "2023-05-10T17:47:38.279Z"
   },
   {
    "duration": 1472,
    "start_time": "2023-05-10T17:47:40.385Z"
   },
   {
    "duration": 1048,
    "start_time": "2023-05-10T17:47:41.859Z"
   },
   {
    "duration": 17,
    "start_time": "2023-05-10T17:47:42.908Z"
   },
   {
    "duration": 114,
    "start_time": "2023-05-10T17:47:42.927Z"
   },
   {
    "duration": 151,
    "start_time": "2023-05-10T17:47:43.043Z"
   },
   {
    "duration": 104,
    "start_time": "2023-05-10T17:47:43.195Z"
   },
   {
    "duration": 509,
    "start_time": "2023-05-10T17:47:43.301Z"
   },
   {
    "duration": 666,
    "start_time": "2023-05-10T17:47:43.814Z"
   },
   {
    "duration": 281,
    "start_time": "2023-05-10T17:47:44.482Z"
   },
   {
    "duration": 104,
    "start_time": "2023-05-10T17:47:44.765Z"
   },
   {
    "duration": 97,
    "start_time": "2023-05-10T17:47:44.871Z"
   },
   {
    "duration": 25,
    "start_time": "2023-05-10T17:47:44.970Z"
   },
   {
    "duration": 321,
    "start_time": "2023-05-10T17:47:44.997Z"
   },
   {
    "duration": 36,
    "start_time": "2023-05-10T17:47:45.320Z"
   },
   {
    "duration": 22,
    "start_time": "2023-05-10T17:47:45.358Z"
   },
   {
    "duration": 321,
    "start_time": "2023-05-10T17:47:45.382Z"
   },
   {
    "duration": 51,
    "start_time": "2023-05-10T17:47:45.705Z"
   },
   {
    "duration": 21,
    "start_time": "2023-05-10T17:47:45.758Z"
   },
   {
    "duration": 385,
    "start_time": "2023-05-10T17:47:45.781Z"
   },
   {
    "duration": 9,
    "start_time": "2023-05-10T17:47:46.167Z"
   },
   {
    "duration": 41,
    "start_time": "2023-05-10T17:47:46.178Z"
   },
   {
    "duration": 293,
    "start_time": "2023-05-10T17:47:46.222Z"
   },
   {
    "duration": 21,
    "start_time": "2023-05-10T17:47:46.517Z"
   },
   {
    "duration": 87,
    "start_time": "2023-05-10T17:47:46.539Z"
   },
   {
    "duration": 42,
    "start_time": "2023-05-10T17:47:46.627Z"
   },
   {
    "duration": 156,
    "start_time": "2023-05-10T17:47:46.672Z"
   },
   {
    "duration": 26,
    "start_time": "2023-05-10T17:47:46.830Z"
   },
   {
    "duration": 29,
    "start_time": "2023-05-10T17:47:46.858Z"
   },
   {
    "duration": 122,
    "start_time": "2023-05-10T17:47:46.889Z"
   },
   {
    "duration": 17,
    "start_time": "2023-05-10T17:47:47.013Z"
   },
   {
    "duration": 43,
    "start_time": "2023-05-10T17:47:47.032Z"
   },
   {
    "duration": 37,
    "start_time": "2023-05-10T17:47:47.078Z"
   },
   {
    "duration": 91,
    "start_time": "2023-05-10T17:47:47.117Z"
   },
   {
    "duration": 63,
    "start_time": "2023-05-10T17:47:47.210Z"
   },
   {
    "duration": 27,
    "start_time": "2023-05-10T17:47:47.275Z"
   },
   {
    "duration": 152,
    "start_time": "2023-05-10T17:47:47.303Z"
   },
   {
    "duration": 17,
    "start_time": "2023-05-10T17:47:47.457Z"
   },
   {
    "duration": 34,
    "start_time": "2023-05-10T17:47:47.475Z"
   },
   {
    "duration": 112,
    "start_time": "2023-05-10T17:47:47.510Z"
   },
   {
    "duration": 17,
    "start_time": "2023-05-10T17:47:47.624Z"
   },
   {
    "duration": 53,
    "start_time": "2023-05-10T17:47:47.655Z"
   },
   {
    "duration": 57,
    "start_time": "2023-05-10T17:47:47.710Z"
   },
   {
    "duration": 98,
    "start_time": "2023-05-10T17:47:47.768Z"
   },
   {
    "duration": 24,
    "start_time": "2023-05-10T17:47:47.868Z"
   },
   {
    "duration": 3,
    "start_time": "2023-05-10T17:47:47.894Z"
   },
   {
    "duration": 23,
    "start_time": "2023-05-10T17:47:47.899Z"
   },
   {
    "duration": 2,
    "start_time": "2023-05-10T17:47:47.924Z"
   },
   {
    "duration": 181,
    "start_time": "2023-05-10T17:47:47.956Z"
   },
   {
    "duration": 39,
    "start_time": "2023-05-10T17:47:51.486Z"
   },
   {
    "duration": 24,
    "start_time": "2023-05-10T17:48:17.811Z"
   },
   {
    "duration": 23,
    "start_time": "2023-05-10T17:48:29.902Z"
   },
   {
    "duration": 996432,
    "start_time": "2023-05-10T17:49:23.527Z"
   },
   {
    "duration": 7895,
    "start_time": "2023-05-10T18:06:33.968Z"
   },
   {
    "duration": 884,
    "start_time": "2023-05-10T18:07:09.876Z"
   },
   {
    "duration": 4,
    "start_time": "2023-05-10T18:07:12.112Z"
   },
   {
    "duration": 381523,
    "start_time": "2023-05-10T18:07:20.411Z"
   },
   {
    "duration": 6757,
    "start_time": "2023-05-10T18:17:42.030Z"
   },
   {
    "duration": 43,
    "start_time": "2023-05-10T18:21:05.168Z"
   },
   {
    "duration": 5,
    "start_time": "2023-05-10T18:21:13.987Z"
   },
   {
    "duration": 11,
    "start_time": "2023-05-10T18:22:01.336Z"
   },
   {
    "duration": 48,
    "start_time": "2023-05-10T18:23:09.270Z"
   },
   {
    "duration": 2115,
    "start_time": "2023-05-10T18:23:27.169Z"
   },
   {
    "duration": 1995,
    "start_time": "2023-05-10T18:23:29.286Z"
   },
   {
    "duration": 1535,
    "start_time": "2023-05-10T18:23:31.282Z"
   },
   {
    "duration": 1067,
    "start_time": "2023-05-10T18:23:32.819Z"
   },
   {
    "duration": 23,
    "start_time": "2023-05-10T18:23:33.890Z"
   },
   {
    "duration": 153,
    "start_time": "2023-05-10T18:23:33.915Z"
   },
   {
    "duration": 160,
    "start_time": "2023-05-10T18:23:34.070Z"
   },
   {
    "duration": 113,
    "start_time": "2023-05-10T18:23:34.232Z"
   },
   {
    "duration": 479,
    "start_time": "2023-05-10T18:23:34.346Z"
   },
   {
    "duration": 591,
    "start_time": "2023-05-10T18:23:34.827Z"
   },
   {
    "duration": 259,
    "start_time": "2023-05-10T18:23:35.420Z"
   },
   {
    "duration": 98,
    "start_time": "2023-05-10T18:23:35.681Z"
   },
   {
    "duration": 78,
    "start_time": "2023-05-10T18:23:35.781Z"
   },
   {
    "duration": 23,
    "start_time": "2023-05-10T18:23:35.862Z"
   },
   {
    "duration": 313,
    "start_time": "2023-05-10T18:23:35.886Z"
   },
   {
    "duration": 27,
    "start_time": "2023-05-10T18:23:36.201Z"
   },
   {
    "duration": 41,
    "start_time": "2023-05-10T18:23:36.230Z"
   },
   {
    "duration": 284,
    "start_time": "2023-05-10T18:23:36.273Z"
   },
   {
    "duration": 32,
    "start_time": "2023-05-10T18:23:36.558Z"
   },
   {
    "duration": 23,
    "start_time": "2023-05-10T18:23:36.591Z"
   },
   {
    "duration": 362,
    "start_time": "2023-05-10T18:23:36.615Z"
   },
   {
    "duration": 8,
    "start_time": "2023-05-10T18:23:36.979Z"
   },
   {
    "duration": 22,
    "start_time": "2023-05-10T18:23:36.989Z"
   },
   {
    "duration": 280,
    "start_time": "2023-05-10T18:23:37.013Z"
   },
   {
    "duration": 20,
    "start_time": "2023-05-10T18:23:37.295Z"
   },
   {
    "duration": 77,
    "start_time": "2023-05-10T18:23:37.317Z"
   },
   {
    "duration": 29,
    "start_time": "2023-05-10T18:23:37.395Z"
   },
   {
    "duration": 150,
    "start_time": "2023-05-10T18:23:37.426Z"
   },
   {
    "duration": 17,
    "start_time": "2023-05-10T18:23:37.577Z"
   },
   {
    "duration": 27,
    "start_time": "2023-05-10T18:23:37.596Z"
   },
   {
    "duration": 119,
    "start_time": "2023-05-10T18:23:37.625Z"
   },
   {
    "duration": 25,
    "start_time": "2023-05-10T18:23:37.746Z"
   },
   {
    "duration": 30,
    "start_time": "2023-05-10T18:23:37.772Z"
   },
   {
    "duration": 55,
    "start_time": "2023-05-10T18:23:37.804Z"
   },
   {
    "duration": 77,
    "start_time": "2023-05-10T18:23:37.861Z"
   },
   {
    "duration": 61,
    "start_time": "2023-05-10T18:23:37.939Z"
   },
   {
    "duration": 55,
    "start_time": "2023-05-10T18:23:38.003Z"
   },
   {
    "duration": 153,
    "start_time": "2023-05-10T18:23:38.060Z"
   },
   {
    "duration": 20,
    "start_time": "2023-05-10T18:23:38.215Z"
   },
   {
    "duration": 45,
    "start_time": "2023-05-10T18:23:38.237Z"
   },
   {
    "duration": 127,
    "start_time": "2023-05-10T18:23:38.286Z"
   },
   {
    "duration": 23,
    "start_time": "2023-05-10T18:23:38.415Z"
   },
   {
    "duration": 74,
    "start_time": "2023-05-10T18:23:38.440Z"
   },
   {
    "duration": 64,
    "start_time": "2023-05-10T18:23:38.516Z"
   },
   {
    "duration": 98,
    "start_time": "2023-05-10T18:23:38.582Z"
   },
   {
    "duration": 26,
    "start_time": "2023-05-10T18:23:38.682Z"
   },
   {
    "duration": 5,
    "start_time": "2023-05-10T18:23:38.709Z"
   },
   {
    "duration": 41,
    "start_time": "2023-05-10T18:23:38.715Z"
   },
   {
    "duration": 3,
    "start_time": "2023-05-10T18:23:38.757Z"
   },
   {
    "duration": 192,
    "start_time": "2023-05-10T18:23:38.762Z"
   },
   {
    "duration": 41,
    "start_time": "2023-05-10T18:23:42.047Z"
   },
   {
    "duration": 8,
    "start_time": "2023-05-10T18:23:58.495Z"
   },
   {
    "duration": 67281,
    "start_time": "2023-05-10T18:24:02.744Z"
   },
   {
    "duration": 5,
    "start_time": "2023-05-10T18:26:27.964Z"
   },
   {
    "duration": 17809,
    "start_time": "2023-05-10T18:26:33.033Z"
   },
   {
    "duration": 133,
    "start_time": "2023-05-10T18:26:50.845Z"
   },
   {
    "duration": 431647,
    "start_time": "2023-05-10T18:27:17.248Z"
   },
   {
    "duration": 23709,
    "start_time": "2023-05-10T18:36:14.182Z"
   },
   {
    "duration": 180,
    "start_time": "2023-05-10T18:36:37.893Z"
   },
   {
    "duration": 5,
    "start_time": "2023-05-10T18:46:46.093Z"
   },
   {
    "duration": 12,
    "start_time": "2023-05-10T18:55:05.175Z"
   },
   {
    "duration": 7,
    "start_time": "2023-05-10T18:59:32.506Z"
   },
   {
    "duration": 106,
    "start_time": "2023-05-10T19:01:34.299Z"
   },
   {
    "duration": 88,
    "start_time": "2023-05-10T19:02:09.093Z"
   },
   {
    "duration": 29,
    "start_time": "2023-05-10T19:02:09.896Z"
   },
   {
    "duration": 4,
    "start_time": "2023-05-10T19:02:10.679Z"
   },
   {
    "duration": 24,
    "start_time": "2023-05-10T19:02:11.867Z"
   },
   {
    "duration": 9,
    "start_time": "2023-05-10T19:02:12.996Z"
   },
   {
    "duration": 5,
    "start_time": "2023-05-10T19:02:13.988Z"
   },
   {
    "duration": 193,
    "start_time": "2023-05-10T19:02:15.045Z"
   },
   {
    "duration": 45,
    "start_time": "2023-05-10T19:02:15.720Z"
   },
   {
    "duration": 302418,
    "start_time": "2023-05-10T19:02:17.151Z"
   },
   {
    "duration": 10366,
    "start_time": "2023-05-10T19:09:35.502Z"
   },
   {
    "duration": 850,
    "start_time": "2023-05-10T19:09:53.706Z"
   },
   {
    "duration": 4,
    "start_time": "2023-05-10T19:10:03.171Z"
   },
   {
    "duration": 7367,
    "start_time": "2023-05-10T19:10:31.195Z"
   },
   {
    "duration": 877,
    "start_time": "2023-05-10T19:10:41.887Z"
   },
   {
    "duration": 4,
    "start_time": "2023-05-10T19:10:44.971Z"
   },
   {
    "duration": 21,
    "start_time": "2023-05-10T19:11:13.378Z"
   },
   {
    "duration": 14,
    "start_time": "2023-05-10T19:12:43.584Z"
   },
   {
    "duration": 22,
    "start_time": "2023-05-10T19:13:10.287Z"
   },
   {
    "duration": 39,
    "start_time": "2023-05-10T19:13:48.556Z"
   },
   {
    "duration": 970,
    "start_time": "2023-05-10T19:13:59.708Z"
   },
   {
    "duration": 2629,
    "start_time": "2023-05-11T14:50:24.116Z"
   },
   {
    "duration": 6652,
    "start_time": "2023-05-11T14:50:26.747Z"
   },
   {
    "duration": 1438,
    "start_time": "2023-05-11T14:50:33.401Z"
   },
   {
    "duration": 2831,
    "start_time": "2023-05-11T14:50:34.841Z"
   },
   {
    "duration": 15,
    "start_time": "2023-05-11T14:50:37.673Z"
   },
   {
    "duration": 126,
    "start_time": "2023-05-11T14:50:37.689Z"
   },
   {
    "duration": 148,
    "start_time": "2023-05-11T14:50:37.816Z"
   },
   {
    "duration": 131,
    "start_time": "2023-05-11T14:50:37.966Z"
   },
   {
    "duration": 409,
    "start_time": "2023-05-11T14:50:38.099Z"
   },
   {
    "duration": 568,
    "start_time": "2023-05-11T14:50:38.511Z"
   },
   {
    "duration": 282,
    "start_time": "2023-05-11T14:50:39.081Z"
   },
   {
    "duration": 82,
    "start_time": "2023-05-11T14:50:39.365Z"
   },
   {
    "duration": 117,
    "start_time": "2023-05-11T14:50:39.448Z"
   },
   {
    "duration": 34,
    "start_time": "2023-05-11T14:50:39.567Z"
   },
   {
    "duration": 356,
    "start_time": "2023-05-11T14:50:39.603Z"
   },
   {
    "duration": 40,
    "start_time": "2023-05-11T14:50:39.960Z"
   },
   {
    "duration": 28,
    "start_time": "2023-05-11T14:50:40.002Z"
   },
   {
    "duration": 398,
    "start_time": "2023-05-11T14:50:40.032Z"
   },
   {
    "duration": 36,
    "start_time": "2023-05-11T14:50:40.432Z"
   },
   {
    "duration": 35,
    "start_time": "2023-05-11T14:50:40.470Z"
   },
   {
    "duration": 282,
    "start_time": "2023-05-11T14:50:40.509Z"
   },
   {
    "duration": 8,
    "start_time": "2023-05-11T14:50:40.793Z"
   },
   {
    "duration": 26,
    "start_time": "2023-05-11T14:50:40.803Z"
   },
   {
    "duration": 309,
    "start_time": "2023-05-11T14:50:40.831Z"
   },
   {
    "duration": 18,
    "start_time": "2023-05-11T14:50:41.141Z"
   },
   {
    "duration": 85,
    "start_time": "2023-05-11T14:50:41.161Z"
   },
   {
    "duration": 42,
    "start_time": "2023-05-11T14:50:41.248Z"
   },
   {
    "duration": 184,
    "start_time": "2023-05-11T14:50:41.295Z"
   },
   {
    "duration": 27,
    "start_time": "2023-05-11T14:50:41.481Z"
   },
   {
    "duration": 57,
    "start_time": "2023-05-11T14:50:41.510Z"
   },
   {
    "duration": 137,
    "start_time": "2023-05-11T14:50:41.569Z"
   },
   {
    "duration": 19,
    "start_time": "2023-05-11T14:50:41.708Z"
   },
   {
    "duration": 61,
    "start_time": "2023-05-11T14:50:41.728Z"
   },
   {
    "duration": 44,
    "start_time": "2023-05-11T14:50:41.791Z"
   },
   {
    "duration": 90,
    "start_time": "2023-05-11T14:50:41.837Z"
   },
   {
    "duration": 100,
    "start_time": "2023-05-11T14:50:41.929Z"
   },
   {
    "duration": 59,
    "start_time": "2023-05-11T14:50:42.031Z"
   },
   {
    "duration": 173,
    "start_time": "2023-05-11T14:50:42.092Z"
   },
   {
    "duration": 25,
    "start_time": "2023-05-11T14:50:42.266Z"
   },
   {
    "duration": 36,
    "start_time": "2023-05-11T14:50:42.293Z"
   },
   {
    "duration": 107,
    "start_time": "2023-05-11T14:50:42.330Z"
   },
   {
    "duration": 23,
    "start_time": "2023-05-11T14:50:42.439Z"
   },
   {
    "duration": 132,
    "start_time": "2023-05-11T14:50:42.464Z"
   },
   {
    "duration": 59,
    "start_time": "2023-05-11T14:50:42.598Z"
   },
   {
    "duration": 19,
    "start_time": "2023-05-11T14:50:42.659Z"
   },
   {
    "duration": 9,
    "start_time": "2023-05-11T14:50:42.679Z"
   },
   {
    "duration": 30,
    "start_time": "2023-05-11T14:50:42.689Z"
   },
   {
    "duration": 8,
    "start_time": "2023-05-11T14:50:42.721Z"
   },
   {
    "duration": 7,
    "start_time": "2023-05-11T14:50:42.731Z"
   },
   {
    "duration": 179,
    "start_time": "2023-05-11T14:50:42.740Z"
   },
   {
    "duration": 42,
    "start_time": "2023-05-11T14:50:42.921Z"
   },
   {
    "duration": 5,
    "start_time": "2023-05-11T14:50:55.208Z"
   },
   {
    "duration": 31,
    "start_time": "2023-05-11T14:50:57.747Z"
   },
   {
    "duration": 4,
    "start_time": "2023-05-11T15:22:46.390Z"
   },
   {
    "duration": 2795,
    "start_time": "2024-01-25T09:22:18.664Z"
   },
   {
    "duration": 6631,
    "start_time": "2024-01-25T09:22:21.462Z"
   },
   {
    "duration": 1306,
    "start_time": "2024-01-25T09:22:28.095Z"
   },
   {
    "duration": 3025,
    "start_time": "2024-01-25T09:22:29.403Z"
   },
   {
    "duration": 17,
    "start_time": "2024-01-25T09:22:32.430Z"
   },
   {
    "duration": 174,
    "start_time": "2024-01-25T09:22:32.449Z"
   },
   {
    "duration": 202,
    "start_time": "2024-01-25T09:22:32.625Z"
   },
   {
    "duration": 170,
    "start_time": "2024-01-25T09:22:32.829Z"
   },
   {
    "duration": 496,
    "start_time": "2024-01-25T09:22:33.000Z"
   },
   {
    "duration": 621,
    "start_time": "2024-01-25T09:22:33.499Z"
   },
   {
    "duration": 279,
    "start_time": "2024-01-25T09:22:34.122Z"
   },
   {
    "duration": 56,
    "start_time": "2024-01-25T09:22:41.559Z"
   },
   {
    "duration": 85,
    "start_time": "2024-01-25T09:25:16.417Z"
   },
   {
    "duration": 24,
    "start_time": "2024-01-25T09:25:20.426Z"
   },
   {
    "duration": 26,
    "start_time": "2024-01-25T09:25:43.814Z"
   },
   {
    "duration": 23,
    "start_time": "2024-01-25T09:25:52.857Z"
   },
   {
    "duration": 30,
    "start_time": "2024-01-25T09:26:19.110Z"
   },
   {
    "duration": 22,
    "start_time": "2024-01-25T09:26:26.615Z"
   },
   {
    "duration": 7,
    "start_time": "2024-01-25T09:27:29.892Z"
   },
   {
    "duration": 20,
    "start_time": "2024-01-25T09:27:36.395Z"
   },
   {
    "duration": 16,
    "start_time": "2024-01-25T09:27:58.467Z"
   },
   {
    "duration": 97,
    "start_time": "2024-01-25T09:27:59.080Z"
   },
   {
    "duration": 39,
    "start_time": "2024-01-25T09:28:19.396Z"
   },
   {
    "duration": 25,
    "start_time": "2024-01-25T09:28:20.290Z"
   },
   {
    "duration": 40,
    "start_time": "2024-01-25T09:28:25.948Z"
   },
   {
    "duration": 30,
    "start_time": "2024-01-25T09:28:30.693Z"
   },
   {
    "duration": 39,
    "start_time": "2024-01-25T09:28:36.244Z"
   },
   {
    "duration": 37,
    "start_time": "2024-01-25T09:28:42.084Z"
   },
   {
    "duration": 82,
    "start_time": "2024-01-25T09:28:45.499Z"
   },
   {
    "duration": 70,
    "start_time": "2024-01-25T09:28:46.419Z"
   },
   {
    "duration": 37,
    "start_time": "2024-01-25T09:29:03.737Z"
   },
   {
    "duration": 154,
    "start_time": "2024-01-25T09:29:04.401Z"
   },
   {
    "duration": 20,
    "start_time": "2024-01-25T09:29:11.877Z"
   },
   {
    "duration": 39,
    "start_time": "2024-01-25T09:29:18.665Z"
   },
   {
    "duration": 22,
    "start_time": "2024-01-25T09:29:26.657Z"
   },
   {
    "duration": 76,
    "start_time": "2024-01-25T09:29:32.964Z"
   },
   {
    "duration": 62,
    "start_time": "2024-01-25T09:33:05.453Z"
   },
   {
    "duration": 22,
    "start_time": "2024-01-25T09:33:06.202Z"
   },
   {
    "duration": 4,
    "start_time": "2024-01-25T09:33:07.456Z"
   },
   {
    "duration": 23,
    "start_time": "2024-01-25T09:33:09.637Z"
   },
   {
    "duration": 8,
    "start_time": "2024-01-25T09:33:11.168Z"
   },
   {
    "duration": 3,
    "start_time": "2024-01-25T09:33:15.100Z"
   },
   {
    "duration": 169,
    "start_time": "2024-01-25T09:33:15.636Z"
   },
   {
    "duration": 38,
    "start_time": "2024-01-25T09:33:16.168Z"
   },
   {
    "duration": 38,
    "start_time": "2024-01-25T09:33:16.616Z"
   },
   {
    "duration": 387559,
    "start_time": "2024-01-25T09:33:57.509Z"
   },
   {
    "duration": 6823,
    "start_time": "2024-01-25T09:42:40.600Z"
   },
   {
    "duration": 10,
    "start_time": "2024-01-25T09:43:35.524Z"
   }
  ],
  "kernelspec": {
   "display_name": "Python 3 (ipykernel)",
   "language": "python",
   "name": "python3"
  },
  "language_info": {
   "codemirror_mode": {
    "name": "ipython",
    "version": 3
   },
   "file_extension": ".py",
   "mimetype": "text/x-python",
   "name": "python",
   "nbconvert_exporter": "python",
   "pygments_lexer": "ipython3",
   "version": "3.9.5"
  },
  "toc": {
   "base_numbering": 1,
   "nav_menu": {},
   "number_sections": true,
   "sideBar": true,
   "skip_h1_title": true,
   "title_cell": "Table of Contents",
   "title_sidebar": "Contents",
   "toc_cell": false,
   "toc_position": {},
   "toc_section_display": true,
   "toc_window_display": false
  }
 },
 "nbformat": 4,
 "nbformat_minor": 2
}

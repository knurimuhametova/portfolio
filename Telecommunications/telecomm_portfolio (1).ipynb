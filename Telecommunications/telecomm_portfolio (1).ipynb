{
 "cells": [
  {
   "cell_type": "markdown",
   "metadata": {},
   "source": [
    "# Прогнозирование оттока клиентов\n",
    "\n",
    "Оператор связи хочет научиться прогнозировать отток клиентов. Если выяснится, что пользователь планирует уйти, ему будут предложены промокоды и специальные условия. Команда оператора собрала персональные данные о некоторых клиентах, информацию об их тарифах и договорах.\n",
    "\n",
    "**Цель исследования** - построить модель с максимально большим значением метрики ROC-AUC (>0.85), которая будет прогнозировать отток клиентов.\n",
    "\n",
    "Информация о клиентах будет получена из файлов `contract_new.csv`, `personal_new.csv`, `internet_new.csv`, `phone_new.csv`.\n",
    "\n",
    "**План работы**\n",
    "\n",
    "1. Изучение данных. \n",
    "2. Предобработка данных.\n",
    "3. Разбиение выборки на тестовую и тренировочную.\n",
    "4. Исследование трех моделей МО: логистическая регрессия, случайный лес, катбуст. Предварительно закодировав и отмасштабировав признаки, в зависимости от выбранной модели. Выбрать лучшую модель по метрике ROC-AUC.\n",
    "5. Проверка качества лучшей модели на тестовой выборке.\n",
    "6. Исследование важности признаков лучшей модели.\n",
    "7. Отчет о проделанной работе."
   ]
  },
  {
   "cell_type": "markdown",
   "metadata": {},
   "source": [
    "## Изучение данных"
   ]
  },
  {
   "cell_type": "code",
   "execution_count": 1,
   "metadata": {},
   "outputs": [
    {
     "name": "stdout",
     "output_type": "stream",
     "text": [
      "Requirement already satisfied: scikit-learn in /opt/conda/lib/python3.9/site-packages (1.4.0)\n",
      "Requirement already satisfied: threadpoolctl>=2.0.0 in /opt/conda/lib/python3.9/site-packages (from scikit-learn) (3.1.0)\n",
      "Requirement already satisfied: scipy>=1.6.0 in /opt/conda/lib/python3.9/site-packages (from scikit-learn) (1.9.1)\n",
      "Requirement already satisfied: numpy<2.0,>=1.19.5 in /opt/conda/lib/python3.9/site-packages (from scikit-learn) (1.21.1)\n",
      "Requirement already satisfied: joblib>=1.2.0 in /opt/conda/lib/python3.9/site-packages (from scikit-learn) (1.3.2)\n"
     ]
    }
   ],
   "source": [
    "!pip install -U scikit-learn"
   ]
  },
  {
   "cell_type": "code",
   "execution_count": 2,
   "metadata": {},
   "outputs": [
    {
     "name": "stdout",
     "output_type": "stream",
     "text": [
      "Requirement already satisfied: phik in /opt/conda/lib/python3.9/site-packages (0.12.4)\n",
      "Requirement already satisfied: numpy>=1.18.0 in /opt/conda/lib/python3.9/site-packages (from phik) (1.21.1)\n",
      "Requirement already satisfied: scipy>=1.5.2 in /opt/conda/lib/python3.9/site-packages (from phik) (1.9.1)\n",
      "Requirement already satisfied: matplotlib>=2.2.3 in /opt/conda/lib/python3.9/site-packages (from phik) (3.3.4)\n",
      "Requirement already satisfied: pandas>=0.25.1 in /opt/conda/lib/python3.9/site-packages (from phik) (1.2.4)\n",
      "Requirement already satisfied: joblib>=0.14.1 in /opt/conda/lib/python3.9/site-packages (from phik) (1.3.2)\n",
      "Requirement already satisfied: pyparsing!=2.0.4,!=2.1.2,!=2.1.6,>=2.0.3 in /opt/conda/lib/python3.9/site-packages (from matplotlib>=2.2.3->phik) (2.4.7)\n",
      "Requirement already satisfied: python-dateutil>=2.1 in /opt/conda/lib/python3.9/site-packages (from matplotlib>=2.2.3->phik) (2.8.1)\n",
      "Requirement already satisfied: cycler>=0.10 in /opt/conda/lib/python3.9/site-packages (from matplotlib>=2.2.3->phik) (0.11.0)\n",
      "Requirement already satisfied: kiwisolver>=1.0.1 in /opt/conda/lib/python3.9/site-packages (from matplotlib>=2.2.3->phik) (1.4.4)\n",
      "Requirement already satisfied: pillow>=6.2.0 in /opt/conda/lib/python3.9/site-packages (from matplotlib>=2.2.3->phik) (8.4.0)\n",
      "Requirement already satisfied: pytz>=2017.3 in /opt/conda/lib/python3.9/site-packages (from pandas>=0.25.1->phik) (2021.1)\n",
      "Requirement already satisfied: six>=1.5 in /opt/conda/lib/python3.9/site-packages (from python-dateutil>=2.1->matplotlib>=2.2.3->phik) (1.16.0)\n"
     ]
    }
   ],
   "source": [
    "!pip install phik"
   ]
  },
  {
   "cell_type": "code",
   "execution_count": 3,
   "metadata": {},
   "outputs": [],
   "source": [
    "# Импортируем необходимые библиотеки\n",
    "import pandas as pd\n",
    "import numpy as np\n",
    "import matplotlib.pyplot as plt\n",
    "import seaborn as sns\n",
    "import catboost as cb\n",
    "\n",
    "from phik import phik_matrix\n",
    "from sklearn.model_selection import train_test_split, GridSearchCV\n",
    "from sklearn.ensemble import RandomForestClassifier\n",
    "from sklearn.linear_model import LogisticRegression\n",
    "from sklearn.preprocessing import StandardScaler, OneHotEncoder\n",
    "from sklearn.metrics import (f1_score, roc_auc_score, accuracy_score, recall_score, roc_curve, make_scorer, \n",
    "                            precision_score, confusion_matrix)\n",
    "from sklearn.utils import shuffle\n",
    "from sklearn.pipeline import Pipeline\n",
    "from sklearn.compose import ColumnTransformer\n",
    "from catboost import CatBoostClassifier\n",
    "from catboost.utils import get_confusion_matrix\n",
    "\n",
    "r_state = 310723"
   ]
  },
  {
   "cell_type": "code",
   "execution_count": 5,
   "metadata": {},
   "outputs": [],
   "source": [
    "# Сохраним файлы в переменные\n",
    "contract_df = pd.read_csv('/datasets/contract_new.csv')\n",
    "personal_df = pd.read_csv('/datasets/personal_new.csv')\n",
    "internet_df = pd.read_csv('/datasets/internet_new.csv')\n",
    "phone_df = pd.read_csv('/datasets/phone_new.csv')"
   ]
  },
  {
   "cell_type": "markdown",
   "metadata": {},
   "source": [
    "**Исследуем таблицу contract_df с информацией о договорах**"
   ]
  },
  {
   "cell_type": "code",
   "execution_count": 6,
   "metadata": {},
   "outputs": [
    {
     "data": {
      "text/html": [
       "<div>\n",
       "<style scoped>\n",
       "    .dataframe tbody tr th:only-of-type {\n",
       "        vertical-align: middle;\n",
       "    }\n",
       "\n",
       "    .dataframe tbody tr th {\n",
       "        vertical-align: top;\n",
       "    }\n",
       "\n",
       "    .dataframe thead th {\n",
       "        text-align: right;\n",
       "    }\n",
       "</style>\n",
       "<table border=\"1\" class=\"dataframe\">\n",
       "  <thead>\n",
       "    <tr style=\"text-align: right;\">\n",
       "      <th></th>\n",
       "      <th>customerID</th>\n",
       "      <th>BeginDate</th>\n",
       "      <th>EndDate</th>\n",
       "      <th>Type</th>\n",
       "      <th>PaperlessBilling</th>\n",
       "      <th>PaymentMethod</th>\n",
       "      <th>MonthlyCharges</th>\n",
       "      <th>TotalCharges</th>\n",
       "    </tr>\n",
       "  </thead>\n",
       "  <tbody>\n",
       "    <tr>\n",
       "      <th>0</th>\n",
       "      <td>7590-VHVEG</td>\n",
       "      <td>2020-01-01</td>\n",
       "      <td>No</td>\n",
       "      <td>Month-to-month</td>\n",
       "      <td>Yes</td>\n",
       "      <td>Electronic check</td>\n",
       "      <td>29.85</td>\n",
       "      <td>31.04</td>\n",
       "    </tr>\n",
       "    <tr>\n",
       "      <th>1</th>\n",
       "      <td>5575-GNVDE</td>\n",
       "      <td>2017-04-01</td>\n",
       "      <td>No</td>\n",
       "      <td>One year</td>\n",
       "      <td>No</td>\n",
       "      <td>Mailed check</td>\n",
       "      <td>56.95</td>\n",
       "      <td>2071.84</td>\n",
       "    </tr>\n",
       "    <tr>\n",
       "      <th>2</th>\n",
       "      <td>3668-QPYBK</td>\n",
       "      <td>2019-10-01</td>\n",
       "      <td>No</td>\n",
       "      <td>Month-to-month</td>\n",
       "      <td>Yes</td>\n",
       "      <td>Mailed check</td>\n",
       "      <td>53.85</td>\n",
       "      <td>226.17</td>\n",
       "    </tr>\n",
       "    <tr>\n",
       "      <th>3</th>\n",
       "      <td>7795-CFOCW</td>\n",
       "      <td>2016-05-01</td>\n",
       "      <td>No</td>\n",
       "      <td>One year</td>\n",
       "      <td>No</td>\n",
       "      <td>Bank transfer (automatic)</td>\n",
       "      <td>42.30</td>\n",
       "      <td>1960.6</td>\n",
       "    </tr>\n",
       "    <tr>\n",
       "      <th>4</th>\n",
       "      <td>9237-HQITU</td>\n",
       "      <td>2019-09-01</td>\n",
       "      <td>No</td>\n",
       "      <td>Month-to-month</td>\n",
       "      <td>Yes</td>\n",
       "      <td>Electronic check</td>\n",
       "      <td>70.70</td>\n",
       "      <td>353.5</td>\n",
       "    </tr>\n",
       "  </tbody>\n",
       "</table>\n",
       "</div>"
      ],
      "text/plain": [
       "   customerID   BeginDate EndDate            Type PaperlessBilling  \\\n",
       "0  7590-VHVEG  2020-01-01      No  Month-to-month              Yes   \n",
       "1  5575-GNVDE  2017-04-01      No        One year               No   \n",
       "2  3668-QPYBK  2019-10-01      No  Month-to-month              Yes   \n",
       "3  7795-CFOCW  2016-05-01      No        One year               No   \n",
       "4  9237-HQITU  2019-09-01      No  Month-to-month              Yes   \n",
       "\n",
       "               PaymentMethod  MonthlyCharges TotalCharges  \n",
       "0           Electronic check           29.85        31.04  \n",
       "1               Mailed check           56.95      2071.84  \n",
       "2               Mailed check           53.85       226.17  \n",
       "3  Bank transfer (automatic)           42.30       1960.6  \n",
       "4           Electronic check           70.70        353.5  "
      ]
     },
     "execution_count": 6,
     "metadata": {},
     "output_type": "execute_result"
    }
   ],
   "source": [
    "# посмотрим на таблицу contract_df\n",
    "contract_df.head()"
   ]
  },
  {
   "cell_type": "code",
   "execution_count": 7,
   "metadata": {
    "scrolled": true
   },
   "outputs": [
    {
     "name": "stdout",
     "output_type": "stream",
     "text": [
      "<class 'pandas.core.frame.DataFrame'>\n",
      "RangeIndex: 7043 entries, 0 to 7042\n",
      "Data columns (total 8 columns):\n",
      " #   Column            Non-Null Count  Dtype  \n",
      "---  ------            --------------  -----  \n",
      " 0   customerID        7043 non-null   object \n",
      " 1   BeginDate         7043 non-null   object \n",
      " 2   EndDate           7043 non-null   object \n",
      " 3   Type              7043 non-null   object \n",
      " 4   PaperlessBilling  7043 non-null   object \n",
      " 5   PaymentMethod     7043 non-null   object \n",
      " 6   MonthlyCharges    7043 non-null   float64\n",
      " 7   TotalCharges      7043 non-null   object \n",
      "dtypes: float64(1), object(7)\n",
      "memory usage: 440.3+ KB\n"
     ]
    }
   ],
   "source": [
    "# изучим общую информацию о датафрейме\n",
    "contract_df.info()"
   ]
  },
  {
   "cell_type": "code",
   "execution_count": 8,
   "metadata": {},
   "outputs": [],
   "source": [
    "# Выполним переименование столбцов\n",
    "contract_df.columns = ['customer_id','begin_date','end_date',\n",
    "                       'type','paperless_billing','payment_method','monthly_charges','total_charges']"
   ]
  },
  {
   "cell_type": "code",
   "execution_count": 9,
   "metadata": {},
   "outputs": [],
   "source": [
    "# Приведем к числовому типу данных колонку total_charges, а колонки с датами к типу datetime\n",
    "contract_df['total_charges'] = pd.to_numeric(contract_df['total_charges'], errors='coerce')\n",
    "\n",
    "contract_df['begin_date'] = pd.to_datetime(contract_df['begin_date'], format='%Y-%m-%d')\n",
    "contract_df['end_date'] = pd.to_datetime(contract_df['end_date'], format='%Y-%m-%d', errors='coerce')"
   ]
  },
  {
   "cell_type": "code",
   "execution_count": 10,
   "metadata": {},
   "outputs": [
    {
     "name": "stdout",
     "output_type": "stream",
     "text": [
      "<class 'pandas.core.frame.DataFrame'>\n",
      "RangeIndex: 7043 entries, 0 to 7042\n",
      "Data columns (total 8 columns):\n",
      " #   Column             Non-Null Count  Dtype         \n",
      "---  ------             --------------  -----         \n",
      " 0   customer_id        7043 non-null   object        \n",
      " 1   begin_date         7043 non-null   datetime64[ns]\n",
      " 2   end_date           1101 non-null   datetime64[ns]\n",
      " 3   type               7043 non-null   object        \n",
      " 4   paperless_billing  7043 non-null   object        \n",
      " 5   payment_method     7043 non-null   object        \n",
      " 6   monthly_charges    7043 non-null   float64       \n",
      " 7   total_charges      7032 non-null   float64       \n",
      "dtypes: datetime64[ns](2), float64(2), object(4)\n",
      "memory usage: 440.3+ KB\n"
     ]
    }
   ],
   "source": [
    "# изучим общую информацию о датафрейме\n",
    "contract_df.info()"
   ]
  },
  {
   "cell_type": "code",
   "execution_count": 11,
   "metadata": {},
   "outputs": [
    {
     "data": {
      "text/plain": [
       "Month-to-month    3875\n",
       "Two year          1695\n",
       "One year          1473\n",
       "Name: type, dtype: int64"
      ]
     },
     "execution_count": 11,
     "metadata": {},
     "output_type": "execute_result"
    }
   ],
   "source": [
    "# Исследуем типы оплаты\n",
    "df = contract_df['type'].value_counts(dropna=False)\n",
    "df"
   ]
  },
  {
   "cell_type": "markdown",
   "metadata": {},
   "source": [
    "Больше половины абонентов выбирают помесячную оплату. Количество абонентов, выбирающих оплату сразу за год и два года примерно одинаковое."
   ]
  },
  {
   "cell_type": "code",
   "execution_count": 12,
   "metadata": {},
   "outputs": [
    {
     "data": {
      "text/plain": [
       "Electronic check             2365\n",
       "Mailed check                 1612\n",
       "Bank transfer (automatic)    1544\n",
       "Credit card (automatic)      1522\n",
       "Name: payment_method, dtype: int64"
      ]
     },
     "execution_count": 12,
     "metadata": {},
     "output_type": "execute_result"
    }
   ],
   "source": [
    "# Исследуем типы платежей\n",
    "df = contract_df['payment_method'].value_counts(dropna=False)\n",
    "df"
   ]
  },
  {
   "cell_type": "markdown",
   "metadata": {},
   "source": [
    "Самый популярный тип оплаты среди абонентов - электронный чек (33,6%)."
   ]
  },
  {
   "cell_type": "code",
   "execution_count": 13,
   "metadata": {},
   "outputs": [
    {
     "data": {
      "text/html": [
       "<div>\n",
       "<style scoped>\n",
       "    .dataframe tbody tr th:only-of-type {\n",
       "        vertical-align: middle;\n",
       "    }\n",
       "\n",
       "    .dataframe tbody tr th {\n",
       "        vertical-align: top;\n",
       "    }\n",
       "\n",
       "    .dataframe thead th {\n",
       "        text-align: right;\n",
       "    }\n",
       "</style>\n",
       "<table border=\"1\" class=\"dataframe\">\n",
       "  <thead>\n",
       "    <tr style=\"text-align: right;\">\n",
       "      <th></th>\n",
       "      <th>monthly_charges</th>\n",
       "    </tr>\n",
       "  </thead>\n",
       "  <tbody>\n",
       "    <tr>\n",
       "      <th>count</th>\n",
       "      <td>7043.000000</td>\n",
       "    </tr>\n",
       "    <tr>\n",
       "      <th>mean</th>\n",
       "      <td>64.761692</td>\n",
       "    </tr>\n",
       "    <tr>\n",
       "      <th>std</th>\n",
       "      <td>30.090047</td>\n",
       "    </tr>\n",
       "    <tr>\n",
       "      <th>min</th>\n",
       "      <td>18.250000</td>\n",
       "    </tr>\n",
       "    <tr>\n",
       "      <th>25%</th>\n",
       "      <td>35.500000</td>\n",
       "    </tr>\n",
       "    <tr>\n",
       "      <th>50%</th>\n",
       "      <td>70.350000</td>\n",
       "    </tr>\n",
       "    <tr>\n",
       "      <th>75%</th>\n",
       "      <td>89.850000</td>\n",
       "    </tr>\n",
       "    <tr>\n",
       "      <th>max</th>\n",
       "      <td>118.750000</td>\n",
       "    </tr>\n",
       "  </tbody>\n",
       "</table>\n",
       "</div>"
      ],
      "text/plain": [
       "       monthly_charges\n",
       "count      7043.000000\n",
       "mean         64.761692\n",
       "std          30.090047\n",
       "min          18.250000\n",
       "25%          35.500000\n",
       "50%          70.350000\n",
       "75%          89.850000\n",
       "max         118.750000"
      ]
     },
     "execution_count": 13,
     "metadata": {},
     "output_type": "execute_result"
    }
   ],
   "source": [
    "# Исследуем расходы абонентов за месяц\n",
    "contract_df[['monthly_charges']].describe()"
   ]
  },
  {
   "cell_type": "code",
   "execution_count": 14,
   "metadata": {},
   "outputs": [
    {
     "data": {
      "image/png": "[encoded data removed]",
      "text/plain": [
       "<Figure size 720x360 with 1 Axes>"
      ]
     },
     "metadata": {
      "needs_background": "light"
     },
     "output_type": "display_data"
    }
   ],
   "source": [
    "contract_df.hist('monthly_charges', bins=100, figsize=(10, 5), range=(0,150))\n",
    "plt.title('Расходы абонентов за месяц')\n",
    "plt.show()"
   ]
  },
  {
   "cell_type": "markdown",
   "metadata": {},
   "source": [
    "На графике помесячных платежей наблюдается большое количество абонентов, оплачивающих 20 денежных едениц. Скорее всего, это какая-то типовая сумма, возможно, абонентская плата."
   ]
  },
  {
   "cell_type": "code",
   "execution_count": 15,
   "metadata": {},
   "outputs": [
    {
     "data": {
      "text/html": [
       "<div>\n",
       "<style scoped>\n",
       "    .dataframe tbody tr th:only-of-type {\n",
       "        vertical-align: middle;\n",
       "    }\n",
       "\n",
       "    .dataframe tbody tr th {\n",
       "        vertical-align: top;\n",
       "    }\n",
       "\n",
       "    .dataframe thead th {\n",
       "        text-align: right;\n",
       "    }\n",
       "</style>\n",
       "<table border=\"1\" class=\"dataframe\">\n",
       "  <thead>\n",
       "    <tr style=\"text-align: right;\">\n",
       "      <th></th>\n",
       "      <th>total_charges</th>\n",
       "    </tr>\n",
       "  </thead>\n",
       "  <tbody>\n",
       "    <tr>\n",
       "      <th>count</th>\n",
       "      <td>7032.000000</td>\n",
       "    </tr>\n",
       "    <tr>\n",
       "      <th>mean</th>\n",
       "      <td>2118.621822</td>\n",
       "    </tr>\n",
       "    <tr>\n",
       "      <th>std</th>\n",
       "      <td>2112.736199</td>\n",
       "    </tr>\n",
       "    <tr>\n",
       "      <th>min</th>\n",
       "      <td>19.050000</td>\n",
       "    </tr>\n",
       "    <tr>\n",
       "      <th>25%</th>\n",
       "      <td>439.745000</td>\n",
       "    </tr>\n",
       "    <tr>\n",
       "      <th>50%</th>\n",
       "      <td>1345.275000</td>\n",
       "    </tr>\n",
       "    <tr>\n",
       "      <th>75%</th>\n",
       "      <td>3239.317500</td>\n",
       "    </tr>\n",
       "    <tr>\n",
       "      <th>max</th>\n",
       "      <td>9221.380000</td>\n",
       "    </tr>\n",
       "  </tbody>\n",
       "</table>\n",
       "</div>"
      ],
      "text/plain": [
       "       total_charges\n",
       "count    7032.000000\n",
       "mean     2118.621822\n",
       "std      2112.736199\n",
       "min        19.050000\n",
       "25%       439.745000\n",
       "50%      1345.275000\n",
       "75%      3239.317500\n",
       "max      9221.380000"
      ]
     },
     "execution_count": 15,
     "metadata": {},
     "output_type": "execute_result"
    }
   ],
   "source": [
    "# Исследуем общие расходы абонентов\n",
    "contract_df[['total_charges']].describe()"
   ]
  },
  {
   "cell_type": "code",
   "execution_count": 16,
   "metadata": {},
   "outputs": [
    {
     "data": {
      "image/png": "[encoded data removed]",
      "text/plain": [
       "<Figure size 720x360 with 1 Axes>"
      ]
     },
     "metadata": {
      "needs_background": "light"
     },
     "output_type": "display_data"
    }
   ],
   "source": [
    "contract_df.hist('total_charges', bins=100, figsize=(10, 5), range=(0,10000))\n",
    "plt.title('Общие расходы абонентов')\n",
    "plt.show()"
   ]
  },
  {
   "cell_type": "markdown",
   "metadata": {},
   "source": [
    "На графике общих расходов виден длинный хвост высоких значений. Большая часть абонентов потратила на услуги менее 2000."
   ]
  },
  {
   "cell_type": "code",
   "execution_count": 17,
   "metadata": {},
   "outputs": [
    {
     "data": {
      "text/html": [
       "<div>\n",
       "<style scoped>\n",
       "    .dataframe tbody tr th:only-of-type {\n",
       "        vertical-align: middle;\n",
       "    }\n",
       "\n",
       "    .dataframe tbody tr th {\n",
       "        vertical-align: top;\n",
       "    }\n",
       "\n",
       "    .dataframe thead th {\n",
       "        text-align: right;\n",
       "    }\n",
       "</style>\n",
       "<table border=\"1\" class=\"dataframe\">\n",
       "  <thead>\n",
       "    <tr style=\"text-align: right;\">\n",
       "      <th></th>\n",
       "      <th>begin_date</th>\n",
       "    </tr>\n",
       "  </thead>\n",
       "  <tbody>\n",
       "    <tr>\n",
       "      <th>count</th>\n",
       "      <td>7043</td>\n",
       "    </tr>\n",
       "    <tr>\n",
       "      <th>unique</th>\n",
       "      <td>77</td>\n",
       "    </tr>\n",
       "    <tr>\n",
       "      <th>top</th>\n",
       "      <td>2014-02-01 00:00:00</td>\n",
       "    </tr>\n",
       "    <tr>\n",
       "      <th>freq</th>\n",
       "      <td>366</td>\n",
       "    </tr>\n",
       "    <tr>\n",
       "      <th>first</th>\n",
       "      <td>2013-10-01 00:00:00</td>\n",
       "    </tr>\n",
       "    <tr>\n",
       "      <th>last</th>\n",
       "      <td>2020-02-01 00:00:00</td>\n",
       "    </tr>\n",
       "  </tbody>\n",
       "</table>\n",
       "</div>"
      ],
      "text/plain": [
       "                 begin_date\n",
       "count                  7043\n",
       "unique                   77\n",
       "top     2014-02-01 00:00:00\n",
       "freq                    366\n",
       "first   2013-10-01 00:00:00\n",
       "last    2020-02-01 00:00:00"
      ]
     },
     "execution_count": 17,
     "metadata": {},
     "output_type": "execute_result"
    }
   ],
   "source": [
    "# Исследуем даты начала договоров\n",
    "contract_df[['begin_date']].describe()"
   ]
  },
  {
   "cell_type": "code",
   "execution_count": 18,
   "metadata": {},
   "outputs": [
    {
     "data": {
      "image/png": "[encoded data removed]",
      "text/plain": [
       "<Figure size 720x360 with 1 Axes>"
      ]
     },
     "metadata": {
      "needs_background": "light"
     },
     "output_type": "display_data"
    }
   ],
   "source": [
    "contract_df.hist('begin_date', bins=96, figsize=(10, 5))\n",
    "plt.title('Даты начала договоров')\n",
    "plt.show()"
   ]
  },
  {
   "cell_type": "markdown",
   "metadata": {},
   "source": [
    "Большая часть договоров была заключена в начале 2014 года. Далее их количество почти не менялось год за годом. В 2019 году количество новых договоров начало расти."
   ]
  },
  {
   "cell_type": "code",
   "execution_count": 19,
   "metadata": {},
   "outputs": [
    {
     "data": {
      "text/html": [
       "<div>\n",
       "<style scoped>\n",
       "    .dataframe tbody tr th:only-of-type {\n",
       "        vertical-align: middle;\n",
       "    }\n",
       "\n",
       "    .dataframe tbody tr th {\n",
       "        vertical-align: top;\n",
       "    }\n",
       "\n",
       "    .dataframe thead th {\n",
       "        text-align: right;\n",
       "    }\n",
       "</style>\n",
       "<table border=\"1\" class=\"dataframe\">\n",
       "  <thead>\n",
       "    <tr style=\"text-align: right;\">\n",
       "      <th></th>\n",
       "      <th>end_date</th>\n",
       "    </tr>\n",
       "  </thead>\n",
       "  <tbody>\n",
       "    <tr>\n",
       "      <th>count</th>\n",
       "      <td>1101</td>\n",
       "    </tr>\n",
       "    <tr>\n",
       "      <th>unique</th>\n",
       "      <td>66</td>\n",
       "    </tr>\n",
       "    <tr>\n",
       "      <th>top</th>\n",
       "      <td>2020-01-01 00:00:00</td>\n",
       "    </tr>\n",
       "    <tr>\n",
       "      <th>freq</th>\n",
       "      <td>39</td>\n",
       "    </tr>\n",
       "    <tr>\n",
       "      <th>first</th>\n",
       "      <td>2014-06-01 00:00:00</td>\n",
       "    </tr>\n",
       "    <tr>\n",
       "      <th>last</th>\n",
       "      <td>2020-01-01 00:00:00</td>\n",
       "    </tr>\n",
       "  </tbody>\n",
       "</table>\n",
       "</div>"
      ],
      "text/plain": [
       "                   end_date\n",
       "count                  1101\n",
       "unique                   66\n",
       "top     2020-01-01 00:00:00\n",
       "freq                     39\n",
       "first   2014-06-01 00:00:00\n",
       "last    2020-01-01 00:00:00"
      ]
     },
     "execution_count": 19,
     "metadata": {},
     "output_type": "execute_result"
    }
   ],
   "source": [
    "# Исследуем даты окончания договоров\n",
    "contract_df[['end_date']].describe()"
   ]
  },
  {
   "cell_type": "code",
   "execution_count": 20,
   "metadata": {},
   "outputs": [
    {
     "data": {
      "image/png": "[encoded data removed]",
      "text/plain": [
       "<Figure size 720x360 with 1 Axes>"
      ]
     },
     "metadata": {
      "needs_background": "light"
     },
     "output_type": "display_data"
    }
   ],
   "source": [
    "contract_df.hist('end_date', bins=96, figsize=(10, 5))\n",
    "plt.title('Даты окончания договоров')\n",
    "plt.show()"
   ]
  },
  {
   "cell_type": "markdown",
   "metadata": {},
   "source": [
    "Количество абонентов, расторгающих договоры увеличивается с каждым годом. Что вполне закономерно, так как количество абонентов с каждым годом увеличивется."
   ]
  },
  {
   "cell_type": "markdown",
   "metadata": {},
   "source": [
    "**Исследуем таблицу personal_df с персональными данными клиентов**"
   ]
  },
  {
   "cell_type": "code",
   "execution_count": 21,
   "metadata": {},
   "outputs": [
    {
     "data": {
      "text/html": [
       "<div>\n",
       "<style scoped>\n",
       "    .dataframe tbody tr th:only-of-type {\n",
       "        vertical-align: middle;\n",
       "    }\n",
       "\n",
       "    .dataframe tbody tr th {\n",
       "        vertical-align: top;\n",
       "    }\n",
       "\n",
       "    .dataframe thead th {\n",
       "        text-align: right;\n",
       "    }\n",
       "</style>\n",
       "<table border=\"1\" class=\"dataframe\">\n",
       "  <thead>\n",
       "    <tr style=\"text-align: right;\">\n",
       "      <th></th>\n",
       "      <th>customerID</th>\n",
       "      <th>gender</th>\n",
       "      <th>SeniorCitizen</th>\n",
       "      <th>Partner</th>\n",
       "      <th>Dependents</th>\n",
       "    </tr>\n",
       "  </thead>\n",
       "  <tbody>\n",
       "    <tr>\n",
       "      <th>0</th>\n",
       "      <td>7590-VHVEG</td>\n",
       "      <td>Female</td>\n",
       "      <td>0</td>\n",
       "      <td>Yes</td>\n",
       "      <td>No</td>\n",
       "    </tr>\n",
       "    <tr>\n",
       "      <th>1</th>\n",
       "      <td>5575-GNVDE</td>\n",
       "      <td>Male</td>\n",
       "      <td>0</td>\n",
       "      <td>No</td>\n",
       "      <td>No</td>\n",
       "    </tr>\n",
       "    <tr>\n",
       "      <th>2</th>\n",
       "      <td>3668-QPYBK</td>\n",
       "      <td>Male</td>\n",
       "      <td>0</td>\n",
       "      <td>No</td>\n",
       "      <td>No</td>\n",
       "    </tr>\n",
       "    <tr>\n",
       "      <th>3</th>\n",
       "      <td>7795-CFOCW</td>\n",
       "      <td>Male</td>\n",
       "      <td>0</td>\n",
       "      <td>No</td>\n",
       "      <td>No</td>\n",
       "    </tr>\n",
       "    <tr>\n",
       "      <th>4</th>\n",
       "      <td>9237-HQITU</td>\n",
       "      <td>Female</td>\n",
       "      <td>0</td>\n",
       "      <td>No</td>\n",
       "      <td>No</td>\n",
       "    </tr>\n",
       "  </tbody>\n",
       "</table>\n",
       "</div>"
      ],
      "text/plain": [
       "   customerID  gender  SeniorCitizen Partner Dependents\n",
       "0  7590-VHVEG  Female              0     Yes         No\n",
       "1  5575-GNVDE    Male              0      No         No\n",
       "2  3668-QPYBK    Male              0      No         No\n",
       "3  7795-CFOCW    Male              0      No         No\n",
       "4  9237-HQITU  Female              0      No         No"
      ]
     },
     "execution_count": 21,
     "metadata": {},
     "output_type": "execute_result"
    }
   ],
   "source": [
    "# посмотрим на таблицу personal_df\n",
    "personal_df.head()"
   ]
  },
  {
   "cell_type": "code",
   "execution_count": 22,
   "metadata": {},
   "outputs": [
    {
     "name": "stdout",
     "output_type": "stream",
     "text": [
      "<class 'pandas.core.frame.DataFrame'>\n",
      "RangeIndex: 7043 entries, 0 to 7042\n",
      "Data columns (total 5 columns):\n",
      " #   Column         Non-Null Count  Dtype \n",
      "---  ------         --------------  ----- \n",
      " 0   customerID     7043 non-null   object\n",
      " 1   gender         7043 non-null   object\n",
      " 2   SeniorCitizen  7043 non-null   int64 \n",
      " 3   Partner        7043 non-null   object\n",
      " 4   Dependents     7043 non-null   object\n",
      "dtypes: int64(1), object(4)\n",
      "memory usage: 275.2+ KB\n"
     ]
    }
   ],
   "source": [
    "# изучим общую информацию о датафрейме\n",
    "personal_df.info()"
   ]
  },
  {
   "cell_type": "code",
   "execution_count": 23,
   "metadata": {},
   "outputs": [],
   "source": [
    "# Выполним переименование столбцов\n",
    "personal_df.columns = ['customer_id','gender','senior_citizen','partner','dependents']"
   ]
  },
  {
   "cell_type": "code",
   "execution_count": 24,
   "metadata": {},
   "outputs": [
    {
     "data": {
      "text/plain": [
       "Male      3555\n",
       "Female    3488\n",
       "Name: gender, dtype: int64"
      ]
     },
     "execution_count": 24,
     "metadata": {},
     "output_type": "execute_result"
    }
   ],
   "source": [
    "# Исследуем пол абонентов\n",
    "df = personal_df['gender'].value_counts(dropna=False)\n",
    "df"
   ]
  },
  {
   "cell_type": "markdown",
   "metadata": {},
   "source": [
    "Пол абонентов распределился практически 50/50"
   ]
  },
  {
   "cell_type": "code",
   "execution_count": 25,
   "metadata": {},
   "outputs": [
    {
     "data": {
      "text/plain": [
       "0    5901\n",
       "1    1142\n",
       "Name: senior_citizen, dtype: int64"
      ]
     },
     "execution_count": 25,
     "metadata": {},
     "output_type": "execute_result"
    }
   ],
   "source": [
    "# Исследуем количество пенсионеров среди абонентов\n",
    "df = personal_df['senior_citizen'].value_counts(dropna=False)\n",
    "df"
   ]
  },
  {
   "cell_type": "markdown",
   "metadata": {},
   "source": [
    "Среди абонентов присутствует 16,2% пенсионеров."
   ]
  },
  {
   "cell_type": "code",
   "execution_count": 26,
   "metadata": {},
   "outputs": [
    {
     "data": {
      "text/plain": [
       "No     3641\n",
       "Yes    3402\n",
       "Name: partner, dtype: int64"
      ]
     },
     "execution_count": 26,
     "metadata": {},
     "output_type": "execute_result"
    }
   ],
   "source": [
    "# Исследуем семейное положение абонентов\n",
    "df = personal_df['partner'].value_counts(dropna=False)\n",
    "df"
   ]
  },
  {
   "cell_type": "markdown",
   "metadata": {},
   "source": [
    "Количество абонентов в официальных супружеских отношениях и без также примерно одинаковое."
   ]
  },
  {
   "cell_type": "code",
   "execution_count": 27,
   "metadata": {},
   "outputs": [
    {
     "data": {
      "text/plain": [
       "No     4933\n",
       "Yes    2110\n",
       "Name: dependents, dtype: int64"
      ]
     },
     "execution_count": 27,
     "metadata": {},
     "output_type": "execute_result"
    }
   ],
   "source": [
    "# Исследуем наличие детей у абонентов\n",
    "df = personal_df['dependents'].value_counts(dropna=False)\n",
    "df"
   ]
  },
  {
   "cell_type": "markdown",
   "metadata": {},
   "source": [
    "Дети есть у 30% абонентов."
   ]
  },
  {
   "cell_type": "markdown",
   "metadata": {},
   "source": [
    "**Исследуем таблицу internet_df с информацией об интернет услугах**"
   ]
  },
  {
   "cell_type": "code",
   "execution_count": 28,
   "metadata": {},
   "outputs": [
    {
     "data": {
      "text/html": [
       "<div>\n",
       "<style scoped>\n",
       "    .dataframe tbody tr th:only-of-type {\n",
       "        vertical-align: middle;\n",
       "    }\n",
       "\n",
       "    .dataframe tbody tr th {\n",
       "        vertical-align: top;\n",
       "    }\n",
       "\n",
       "    .dataframe thead th {\n",
       "        text-align: right;\n",
       "    }\n",
       "</style>\n",
       "<table border=\"1\" class=\"dataframe\">\n",
       "  <thead>\n",
       "    <tr style=\"text-align: right;\">\n",
       "      <th></th>\n",
       "      <th>customerID</th>\n",
       "      <th>InternetService</th>\n",
       "      <th>OnlineSecurity</th>\n",
       "      <th>OnlineBackup</th>\n",
       "      <th>DeviceProtection</th>\n",
       "      <th>TechSupport</th>\n",
       "      <th>StreamingTV</th>\n",
       "      <th>StreamingMovies</th>\n",
       "    </tr>\n",
       "  </thead>\n",
       "  <tbody>\n",
       "    <tr>\n",
       "      <th>0</th>\n",
       "      <td>7590-VHVEG</td>\n",
       "      <td>DSL</td>\n",
       "      <td>No</td>\n",
       "      <td>Yes</td>\n",
       "      <td>No</td>\n",
       "      <td>No</td>\n",
       "      <td>No</td>\n",
       "      <td>No</td>\n",
       "    </tr>\n",
       "    <tr>\n",
       "      <th>1</th>\n",
       "      <td>5575-GNVDE</td>\n",
       "      <td>DSL</td>\n",
       "      <td>Yes</td>\n",
       "      <td>No</td>\n",
       "      <td>Yes</td>\n",
       "      <td>No</td>\n",
       "      <td>No</td>\n",
       "      <td>No</td>\n",
       "    </tr>\n",
       "    <tr>\n",
       "      <th>2</th>\n",
       "      <td>3668-QPYBK</td>\n",
       "      <td>DSL</td>\n",
       "      <td>Yes</td>\n",
       "      <td>Yes</td>\n",
       "      <td>No</td>\n",
       "      <td>No</td>\n",
       "      <td>No</td>\n",
       "      <td>No</td>\n",
       "    </tr>\n",
       "    <tr>\n",
       "      <th>3</th>\n",
       "      <td>7795-CFOCW</td>\n",
       "      <td>DSL</td>\n",
       "      <td>Yes</td>\n",
       "      <td>No</td>\n",
       "      <td>Yes</td>\n",
       "      <td>Yes</td>\n",
       "      <td>No</td>\n",
       "      <td>No</td>\n",
       "    </tr>\n",
       "    <tr>\n",
       "      <th>4</th>\n",
       "      <td>9237-HQITU</td>\n",
       "      <td>Fiber optic</td>\n",
       "      <td>No</td>\n",
       "      <td>No</td>\n",
       "      <td>No</td>\n",
       "      <td>No</td>\n",
       "      <td>No</td>\n",
       "      <td>No</td>\n",
       "    </tr>\n",
       "  </tbody>\n",
       "</table>\n",
       "</div>"
      ],
      "text/plain": [
       "   customerID InternetService OnlineSecurity OnlineBackup DeviceProtection  \\\n",
       "0  7590-VHVEG             DSL             No          Yes               No   \n",
       "1  5575-GNVDE             DSL            Yes           No              Yes   \n",
       "2  3668-QPYBK             DSL            Yes          Yes               No   \n",
       "3  7795-CFOCW             DSL            Yes           No              Yes   \n",
       "4  9237-HQITU     Fiber optic             No           No               No   \n",
       "\n",
       "  TechSupport StreamingTV StreamingMovies  \n",
       "0          No          No              No  \n",
       "1          No          No              No  \n",
       "2          No          No              No  \n",
       "3         Yes          No              No  \n",
       "4          No          No              No  "
      ]
     },
     "execution_count": 28,
     "metadata": {},
     "output_type": "execute_result"
    }
   ],
   "source": [
    "# посмотрим на таблицу internet_df\n",
    "internet_df.head()"
   ]
  },
  {
   "cell_type": "code",
   "execution_count": 29,
   "metadata": {},
   "outputs": [
    {
     "name": "stdout",
     "output_type": "stream",
     "text": [
      "<class 'pandas.core.frame.DataFrame'>\n",
      "RangeIndex: 5517 entries, 0 to 5516\n",
      "Data columns (total 8 columns):\n",
      " #   Column            Non-Null Count  Dtype \n",
      "---  ------            --------------  ----- \n",
      " 0   customerID        5517 non-null   object\n",
      " 1   InternetService   5517 non-null   object\n",
      " 2   OnlineSecurity    5517 non-null   object\n",
      " 3   OnlineBackup      5517 non-null   object\n",
      " 4   DeviceProtection  5517 non-null   object\n",
      " 5   TechSupport       5517 non-null   object\n",
      " 6   StreamingTV       5517 non-null   object\n",
      " 7   StreamingMovies   5517 non-null   object\n",
      "dtypes: object(8)\n",
      "memory usage: 344.9+ KB\n"
     ]
    }
   ],
   "source": [
    "# изучим общую информацию о датафрейме\n",
    "internet_df.info()"
   ]
  },
  {
   "cell_type": "code",
   "execution_count": 30,
   "metadata": {},
   "outputs": [],
   "source": [
    "# Выполним переименование столбцов\n",
    "internet_df.columns = ['customer_id','internet_service','online_security','online_backup',\n",
    "                       'device_protection','tech_support','streaming_tv','streaming_movies']"
   ]
  },
  {
   "cell_type": "code",
   "execution_count": 31,
   "metadata": {},
   "outputs": [
    {
     "data": {
      "text/plain": [
       "Fiber optic    3096\n",
       "DSL            2421\n",
       "Name: internet_service, dtype: int64"
      ]
     },
     "execution_count": 31,
     "metadata": {},
     "output_type": "execute_result"
    }
   ],
   "source": [
    "# Исследуем типы подключения интернета\n",
    "df = internet_df['internet_service'].value_counts(dropna=False)\n",
    "df"
   ]
  },
  {
   "cell_type": "markdown",
   "metadata": {},
   "source": [
    "56% пользователей интернета выбирают подключение по оптоволоконному кабелю"
   ]
  },
  {
   "cell_type": "markdown",
   "metadata": {},
   "source": [
    "**Исследуем таблицу phone_df с информацией об услугах телефонии**"
   ]
  },
  {
   "cell_type": "code",
   "execution_count": 32,
   "metadata": {},
   "outputs": [
    {
     "data": {
      "text/html": [
       "<div>\n",
       "<style scoped>\n",
       "    .dataframe tbody tr th:only-of-type {\n",
       "        vertical-align: middle;\n",
       "    }\n",
       "\n",
       "    .dataframe tbody tr th {\n",
       "        vertical-align: top;\n",
       "    }\n",
       "\n",
       "    .dataframe thead th {\n",
       "        text-align: right;\n",
       "    }\n",
       "</style>\n",
       "<table border=\"1\" class=\"dataframe\">\n",
       "  <thead>\n",
       "    <tr style=\"text-align: right;\">\n",
       "      <th></th>\n",
       "      <th>customerID</th>\n",
       "      <th>MultipleLines</th>\n",
       "    </tr>\n",
       "  </thead>\n",
       "  <tbody>\n",
       "    <tr>\n",
       "      <th>0</th>\n",
       "      <td>5575-GNVDE</td>\n",
       "      <td>No</td>\n",
       "    </tr>\n",
       "    <tr>\n",
       "      <th>1</th>\n",
       "      <td>3668-QPYBK</td>\n",
       "      <td>No</td>\n",
       "    </tr>\n",
       "    <tr>\n",
       "      <th>2</th>\n",
       "      <td>9237-HQITU</td>\n",
       "      <td>No</td>\n",
       "    </tr>\n",
       "    <tr>\n",
       "      <th>3</th>\n",
       "      <td>9305-CDSKC</td>\n",
       "      <td>Yes</td>\n",
       "    </tr>\n",
       "    <tr>\n",
       "      <th>4</th>\n",
       "      <td>1452-KIOVK</td>\n",
       "      <td>Yes</td>\n",
       "    </tr>\n",
       "  </tbody>\n",
       "</table>\n",
       "</div>"
      ],
      "text/plain": [
       "   customerID MultipleLines\n",
       "0  5575-GNVDE            No\n",
       "1  3668-QPYBK            No\n",
       "2  9237-HQITU            No\n",
       "3  9305-CDSKC           Yes\n",
       "4  1452-KIOVK           Yes"
      ]
     },
     "execution_count": 32,
     "metadata": {},
     "output_type": "execute_result"
    }
   ],
   "source": [
    "# посмотрим на таблицу phone_df\n",
    "phone_df.head()"
   ]
  },
  {
   "cell_type": "code",
   "execution_count": 33,
   "metadata": {},
   "outputs": [
    {
     "name": "stdout",
     "output_type": "stream",
     "text": [
      "<class 'pandas.core.frame.DataFrame'>\n",
      "RangeIndex: 6361 entries, 0 to 6360\n",
      "Data columns (total 2 columns):\n",
      " #   Column         Non-Null Count  Dtype \n",
      "---  ------         --------------  ----- \n",
      " 0   customerID     6361 non-null   object\n",
      " 1   MultipleLines  6361 non-null   object\n",
      "dtypes: object(2)\n",
      "memory usage: 99.5+ KB\n"
     ]
    }
   ],
   "source": [
    "# изучим общую информацию о датафрейме\n",
    "phone_df.info()"
   ]
  },
  {
   "cell_type": "code",
   "execution_count": 34,
   "metadata": {},
   "outputs": [],
   "source": [
    "# Выполним переименование столбцов\n",
    "phone_df.columns = ['customer_id','multiple_lines']"
   ]
  },
  {
   "cell_type": "markdown",
   "metadata": {},
   "source": [
    "**Вывод**\n",
    "\n",
    "Исследованы 4 датафрейма с информацией о договорах, данных клиентов, интернет-услугах, услугах телефонии.\n",
    "Всего имеем 7043 абонента в предоставленных данных. Услугами телефонии пользуется 6361 абонент, интернетом - 5517.\n",
    "Столбца с целевым признаком нет. Его необходимо будет создать.\n",
    "\n",
    "Был проведен исследовательский анализ данных. Выявлены следующие особенности:\n",
    "\n",
    "- Больше половины абонентов выбирают помесячную оплату. Количество абонентов, выбирающих оплату сразу за год и два года примерно одинаковое.\n",
    "- Самый популярный тип оплаты среди абонентов - электронный чек (33,6%).\n",
    "- На графике помесячных платежей наблюдается большое количество абонентов, оплачивающих 20 денежных едениц.\n",
    "- Большая часть абонентов потратила на услуги менее 2000.\n",
    "- Большая часть договоров была заключена в начале 2014 года. Далее их количество почти не менялось год за годом. В 2019 году количество новых договоров начало расти.\n",
    "- Количество абонентов, расторгающих договоры увеличивается с каждым годом. Что вполне закономерно, так как количество абонентов с каждым годом увеличивется.\n",
    "- Количество абонентов в официальных супружеских отношениях и без также примерно одинаковое, таке как и количество мужчин и женщин среди абонентов.\n",
    "- Среди абонентов присутствует 16,2% пенсионеров.\n",
    "- Дети есть у 30% абонентов.\n",
    "- 56% пользователей интернета выбирают подключение по оптоволоконному кабелю. Остальные по телефонной линии."
   ]
  },
  {
   "cell_type": "markdown",
   "metadata": {},
   "source": [
    "## Предобработка данных"
   ]
  },
  {
   "cell_type": "code",
   "execution_count": 35,
   "metadata": {},
   "outputs": [],
   "source": [
    "# соберем все данные в одну таблицу\n",
    "all_df = contract_df.merge(right=personal_df, on='customer_id', how='left')\n",
    "all_df = all_df.merge(right=internet_df, on='customer_id', how='left')\n",
    "all_df = all_df.merge(right=phone_df, on='customer_id', how='left')"
   ]
  },
  {
   "cell_type": "code",
   "execution_count": 36,
   "metadata": {},
   "outputs": [
    {
     "data": {
      "text/html": [
       "<div>\n",
       "<style scoped>\n",
       "    .dataframe tbody tr th:only-of-type {\n",
       "        vertical-align: middle;\n",
       "    }\n",
       "\n",
       "    .dataframe tbody tr th {\n",
       "        vertical-align: top;\n",
       "    }\n",
       "\n",
       "    .dataframe thead th {\n",
       "        text-align: right;\n",
       "    }\n",
       "</style>\n",
       "<table border=\"1\" class=\"dataframe\">\n",
       "  <thead>\n",
       "    <tr style=\"text-align: right;\">\n",
       "      <th></th>\n",
       "      <th>customer_id</th>\n",
       "      <th>begin_date</th>\n",
       "      <th>end_date</th>\n",
       "      <th>type</th>\n",
       "      <th>paperless_billing</th>\n",
       "      <th>payment_method</th>\n",
       "      <th>monthly_charges</th>\n",
       "      <th>total_charges</th>\n",
       "      <th>gender</th>\n",
       "      <th>senior_citizen</th>\n",
       "      <th>partner</th>\n",
       "      <th>dependents</th>\n",
       "      <th>internet_service</th>\n",
       "      <th>online_security</th>\n",
       "      <th>online_backup</th>\n",
       "      <th>device_protection</th>\n",
       "      <th>tech_support</th>\n",
       "      <th>streaming_tv</th>\n",
       "      <th>streaming_movies</th>\n",
       "      <th>multiple_lines</th>\n",
       "    </tr>\n",
       "  </thead>\n",
       "  <tbody>\n",
       "    <tr>\n",
       "      <th>0</th>\n",
       "      <td>7590-VHVEG</td>\n",
       "      <td>2020-01-01</td>\n",
       "      <td>NaT</td>\n",
       "      <td>Month-to-month</td>\n",
       "      <td>Yes</td>\n",
       "      <td>Electronic check</td>\n",
       "      <td>29.85</td>\n",
       "      <td>31.04</td>\n",
       "      <td>Female</td>\n",
       "      <td>0</td>\n",
       "      <td>Yes</td>\n",
       "      <td>No</td>\n",
       "      <td>DSL</td>\n",
       "      <td>No</td>\n",
       "      <td>Yes</td>\n",
       "      <td>No</td>\n",
       "      <td>No</td>\n",
       "      <td>No</td>\n",
       "      <td>No</td>\n",
       "      <td>NaN</td>\n",
       "    </tr>\n",
       "    <tr>\n",
       "      <th>1</th>\n",
       "      <td>5575-GNVDE</td>\n",
       "      <td>2017-04-01</td>\n",
       "      <td>NaT</td>\n",
       "      <td>One year</td>\n",
       "      <td>No</td>\n",
       "      <td>Mailed check</td>\n",
       "      <td>56.95</td>\n",
       "      <td>2071.84</td>\n",
       "      <td>Male</td>\n",
       "      <td>0</td>\n",
       "      <td>No</td>\n",
       "      <td>No</td>\n",
       "      <td>DSL</td>\n",
       "      <td>Yes</td>\n",
       "      <td>No</td>\n",
       "      <td>Yes</td>\n",
       "      <td>No</td>\n",
       "      <td>No</td>\n",
       "      <td>No</td>\n",
       "      <td>No</td>\n",
       "    </tr>\n",
       "    <tr>\n",
       "      <th>2</th>\n",
       "      <td>3668-QPYBK</td>\n",
       "      <td>2019-10-01</td>\n",
       "      <td>NaT</td>\n",
       "      <td>Month-to-month</td>\n",
       "      <td>Yes</td>\n",
       "      <td>Mailed check</td>\n",
       "      <td>53.85</td>\n",
       "      <td>226.17</td>\n",
       "      <td>Male</td>\n",
       "      <td>0</td>\n",
       "      <td>No</td>\n",
       "      <td>No</td>\n",
       "      <td>DSL</td>\n",
       "      <td>Yes</td>\n",
       "      <td>Yes</td>\n",
       "      <td>No</td>\n",
       "      <td>No</td>\n",
       "      <td>No</td>\n",
       "      <td>No</td>\n",
       "      <td>No</td>\n",
       "    </tr>\n",
       "    <tr>\n",
       "      <th>3</th>\n",
       "      <td>7795-CFOCW</td>\n",
       "      <td>2016-05-01</td>\n",
       "      <td>NaT</td>\n",
       "      <td>One year</td>\n",
       "      <td>No</td>\n",
       "      <td>Bank transfer (automatic)</td>\n",
       "      <td>42.30</td>\n",
       "      <td>1960.60</td>\n",
       "      <td>Male</td>\n",
       "      <td>0</td>\n",
       "      <td>No</td>\n",
       "      <td>No</td>\n",
       "      <td>DSL</td>\n",
       "      <td>Yes</td>\n",
       "      <td>No</td>\n",
       "      <td>Yes</td>\n",
       "      <td>Yes</td>\n",
       "      <td>No</td>\n",
       "      <td>No</td>\n",
       "      <td>NaN</td>\n",
       "    </tr>\n",
       "    <tr>\n",
       "      <th>4</th>\n",
       "      <td>9237-HQITU</td>\n",
       "      <td>2019-09-01</td>\n",
       "      <td>NaT</td>\n",
       "      <td>Month-to-month</td>\n",
       "      <td>Yes</td>\n",
       "      <td>Electronic check</td>\n",
       "      <td>70.70</td>\n",
       "      <td>353.50</td>\n",
       "      <td>Female</td>\n",
       "      <td>0</td>\n",
       "      <td>No</td>\n",
       "      <td>No</td>\n",
       "      <td>Fiber optic</td>\n",
       "      <td>No</td>\n",
       "      <td>No</td>\n",
       "      <td>No</td>\n",
       "      <td>No</td>\n",
       "      <td>No</td>\n",
       "      <td>No</td>\n",
       "      <td>No</td>\n",
       "    </tr>\n",
       "  </tbody>\n",
       "</table>\n",
       "</div>"
      ],
      "text/plain": [
       "  customer_id begin_date end_date            type paperless_billing  \\\n",
       "0  7590-VHVEG 2020-01-01      NaT  Month-to-month               Yes   \n",
       "1  5575-GNVDE 2017-04-01      NaT        One year                No   \n",
       "2  3668-QPYBK 2019-10-01      NaT  Month-to-month               Yes   \n",
       "3  7795-CFOCW 2016-05-01      NaT        One year                No   \n",
       "4  9237-HQITU 2019-09-01      NaT  Month-to-month               Yes   \n",
       "\n",
       "              payment_method  monthly_charges  total_charges  gender  \\\n",
       "0           Electronic check            29.85          31.04  Female   \n",
       "1               Mailed check            56.95        2071.84    Male   \n",
       "2               Mailed check            53.85         226.17    Male   \n",
       "3  Bank transfer (automatic)            42.30        1960.60    Male   \n",
       "4           Electronic check            70.70         353.50  Female   \n",
       "\n",
       "   senior_citizen partner dependents internet_service online_security  \\\n",
       "0               0     Yes         No              DSL              No   \n",
       "1               0      No         No              DSL             Yes   \n",
       "2               0      No         No              DSL             Yes   \n",
       "3               0      No         No              DSL             Yes   \n",
       "4               0      No         No      Fiber optic              No   \n",
       "\n",
       "  online_backup device_protection tech_support streaming_tv streaming_movies  \\\n",
       "0           Yes                No           No           No               No   \n",
       "1            No               Yes           No           No               No   \n",
       "2           Yes                No           No           No               No   \n",
       "3            No               Yes          Yes           No               No   \n",
       "4            No                No           No           No               No   \n",
       "\n",
       "  multiple_lines  \n",
       "0            NaN  \n",
       "1             No  \n",
       "2             No  \n",
       "3            NaN  \n",
       "4             No  "
      ]
     },
     "execution_count": 36,
     "metadata": {},
     "output_type": "execute_result"
    }
   ],
   "source": [
    "# посмотрим на получившуюся таблицу\n",
    "all_df.head()"
   ]
  },
  {
   "cell_type": "code",
   "execution_count": 37,
   "metadata": {},
   "outputs": [
    {
     "name": "stdout",
     "output_type": "stream",
     "text": [
      "<class 'pandas.core.frame.DataFrame'>\n",
      "Int64Index: 7043 entries, 0 to 7042\n",
      "Data columns (total 20 columns):\n",
      " #   Column             Non-Null Count  Dtype         \n",
      "---  ------             --------------  -----         \n",
      " 0   customer_id        7043 non-null   object        \n",
      " 1   begin_date         7043 non-null   datetime64[ns]\n",
      " 2   end_date           1101 non-null   datetime64[ns]\n",
      " 3   type               7043 non-null   object        \n",
      " 4   paperless_billing  7043 non-null   object        \n",
      " 5   payment_method     7043 non-null   object        \n",
      " 6   monthly_charges    7043 non-null   float64       \n",
      " 7   total_charges      7032 non-null   float64       \n",
      " 8   gender             7043 non-null   object        \n",
      " 9   senior_citizen     7043 non-null   int64         \n",
      " 10  partner            7043 non-null   object        \n",
      " 11  dependents         7043 non-null   object        \n",
      " 12  internet_service   5517 non-null   object        \n",
      " 13  online_security    5517 non-null   object        \n",
      " 14  online_backup      5517 non-null   object        \n",
      " 15  device_protection  5517 non-null   object        \n",
      " 16  tech_support       5517 non-null   object        \n",
      " 17  streaming_tv       5517 non-null   object        \n",
      " 18  streaming_movies   5517 non-null   object        \n",
      " 19  multiple_lines     6361 non-null   object        \n",
      "dtypes: datetime64[ns](2), float64(2), int64(1), object(15)\n",
      "memory usage: 1.1+ MB\n"
     ]
    }
   ],
   "source": [
    "all_df.info() # выведем общую информацию о ней"
   ]
  },
  {
   "cell_type": "code",
   "execution_count": 38,
   "metadata": {},
   "outputs": [
    {
     "data": {
      "text/plain": [
       "0"
      ]
     },
     "execution_count": 38,
     "metadata": {},
     "output_type": "execute_result"
    }
   ],
   "source": [
    "all_df.duplicated().sum() # проверка на полные дубликаты"
   ]
  },
  {
   "cell_type": "markdown",
   "metadata": {},
   "source": [
    "Полных дубликатов нет."
   ]
  },
  {
   "cell_type": "code",
   "execution_count": 39,
   "metadata": {},
   "outputs": [
    {
     "data": {
      "text/plain": [
       "customer_id             0\n",
       "begin_date              0\n",
       "end_date             5942\n",
       "type                    0\n",
       "paperless_billing       0\n",
       "payment_method          0\n",
       "monthly_charges         0\n",
       "total_charges          11\n",
       "gender                  0\n",
       "senior_citizen          0\n",
       "partner                 0\n",
       "dependents              0\n",
       "internet_service     1526\n",
       "online_security      1526\n",
       "online_backup        1526\n",
       "device_protection    1526\n",
       "tech_support         1526\n",
       "streaming_tv         1526\n",
       "streaming_movies     1526\n",
       "multiple_lines        682\n",
       "dtype: int64"
      ]
     },
     "execution_count": 39,
     "metadata": {},
     "output_type": "execute_result"
    }
   ],
   "source": [
    "# посмотрим на количество пропусков\n",
    "all_df.isna().sum()"
   ]
  },
  {
   "cell_type": "code",
   "execution_count": 40,
   "metadata": {},
   "outputs": [
    {
     "data": {
      "text/html": [
       "<style  type=\"text/css\" >\n",
       "#T_db792_row0_col0,#T_db792_row1_col0,#T_db792_row3_col0,#T_db792_row4_col0,#T_db792_row5_col0,#T_db792_row6_col0,#T_db792_row7_col0,#T_db792_row8_col0,#T_db792_row9_col0,#T_db792_row10_col0,#T_db792_row11_col0{\n",
       "            background-color:  #3b4cc0;\n",
       "            color:  #f1f1f1;\n",
       "        }#T_db792_row2_col0{\n",
       "            background-color:  #b40426;\n",
       "            color:  #f1f1f1;\n",
       "        }#T_db792_row12_col0,#T_db792_row13_col0,#T_db792_row14_col0,#T_db792_row15_col0,#T_db792_row16_col0,#T_db792_row17_col0,#T_db792_row18_col0{\n",
       "            background-color:  #8fb1fe;\n",
       "            color:  #000000;\n",
       "        }#T_db792_row19_col0{\n",
       "            background-color:  #5e7de7;\n",
       "            color:  #000000;\n",
       "        }</style><table id=\"T_db792_\" ><thead>    <tr>        <th class=\"blank level0\" ></th>        <th class=\"col_heading level0 col0\" >0</th>    </tr></thead><tbody>\n",
       "                <tr>\n",
       "                        <th id=\"T_db792_level0_row0\" class=\"row_heading level0 row0\" >customer_id</th>\n",
       "                        <td id=\"T_db792_row0_col0\" class=\"data row0 col0\" >0.000000</td>\n",
       "            </tr>\n",
       "            <tr>\n",
       "                        <th id=\"T_db792_level0_row1\" class=\"row_heading level0 row1\" >begin_date</th>\n",
       "                        <td id=\"T_db792_row1_col0\" class=\"data row1 col0\" >0.000000</td>\n",
       "            </tr>\n",
       "            <tr>\n",
       "                        <th id=\"T_db792_level0_row2\" class=\"row_heading level0 row2\" >end_date</th>\n",
       "                        <td id=\"T_db792_row2_col0\" class=\"data row2 col0\" >84.400000</td>\n",
       "            </tr>\n",
       "            <tr>\n",
       "                        <th id=\"T_db792_level0_row3\" class=\"row_heading level0 row3\" >type</th>\n",
       "                        <td id=\"T_db792_row3_col0\" class=\"data row3 col0\" >0.000000</td>\n",
       "            </tr>\n",
       "            <tr>\n",
       "                        <th id=\"T_db792_level0_row4\" class=\"row_heading level0 row4\" >paperless_billing</th>\n",
       "                        <td id=\"T_db792_row4_col0\" class=\"data row4 col0\" >0.000000</td>\n",
       "            </tr>\n",
       "            <tr>\n",
       "                        <th id=\"T_db792_level0_row5\" class=\"row_heading level0 row5\" >payment_method</th>\n",
       "                        <td id=\"T_db792_row5_col0\" class=\"data row5 col0\" >0.000000</td>\n",
       "            </tr>\n",
       "            <tr>\n",
       "                        <th id=\"T_db792_level0_row6\" class=\"row_heading level0 row6\" >monthly_charges</th>\n",
       "                        <td id=\"T_db792_row6_col0\" class=\"data row6 col0\" >0.000000</td>\n",
       "            </tr>\n",
       "            <tr>\n",
       "                        <th id=\"T_db792_level0_row7\" class=\"row_heading level0 row7\" >total_charges</th>\n",
       "                        <td id=\"T_db792_row7_col0\" class=\"data row7 col0\" >0.200000</td>\n",
       "            </tr>\n",
       "            <tr>\n",
       "                        <th id=\"T_db792_level0_row8\" class=\"row_heading level0 row8\" >gender</th>\n",
       "                        <td id=\"T_db792_row8_col0\" class=\"data row8 col0\" >0.000000</td>\n",
       "            </tr>\n",
       "            <tr>\n",
       "                        <th id=\"T_db792_level0_row9\" class=\"row_heading level0 row9\" >senior_citizen</th>\n",
       "                        <td id=\"T_db792_row9_col0\" class=\"data row9 col0\" >0.000000</td>\n",
       "            </tr>\n",
       "            <tr>\n",
       "                        <th id=\"T_db792_level0_row10\" class=\"row_heading level0 row10\" >partner</th>\n",
       "                        <td id=\"T_db792_row10_col0\" class=\"data row10 col0\" >0.000000</td>\n",
       "            </tr>\n",
       "            <tr>\n",
       "                        <th id=\"T_db792_level0_row11\" class=\"row_heading level0 row11\" >dependents</th>\n",
       "                        <td id=\"T_db792_row11_col0\" class=\"data row11 col0\" >0.000000</td>\n",
       "            </tr>\n",
       "            <tr>\n",
       "                        <th id=\"T_db792_level0_row12\" class=\"row_heading level0 row12\" >internet_service</th>\n",
       "                        <td id=\"T_db792_row12_col0\" class=\"data row12 col0\" >21.700000</td>\n",
       "            </tr>\n",
       "            <tr>\n",
       "                        <th id=\"T_db792_level0_row13\" class=\"row_heading level0 row13\" >online_security</th>\n",
       "                        <td id=\"T_db792_row13_col0\" class=\"data row13 col0\" >21.700000</td>\n",
       "            </tr>\n",
       "            <tr>\n",
       "                        <th id=\"T_db792_level0_row14\" class=\"row_heading level0 row14\" >online_backup</th>\n",
       "                        <td id=\"T_db792_row14_col0\" class=\"data row14 col0\" >21.700000</td>\n",
       "            </tr>\n",
       "            <tr>\n",
       "                        <th id=\"T_db792_level0_row15\" class=\"row_heading level0 row15\" >device_protection</th>\n",
       "                        <td id=\"T_db792_row15_col0\" class=\"data row15 col0\" >21.700000</td>\n",
       "            </tr>\n",
       "            <tr>\n",
       "                        <th id=\"T_db792_level0_row16\" class=\"row_heading level0 row16\" >tech_support</th>\n",
       "                        <td id=\"T_db792_row16_col0\" class=\"data row16 col0\" >21.700000</td>\n",
       "            </tr>\n",
       "            <tr>\n",
       "                        <th id=\"T_db792_level0_row17\" class=\"row_heading level0 row17\" >streaming_tv</th>\n",
       "                        <td id=\"T_db792_row17_col0\" class=\"data row17 col0\" >21.700000</td>\n",
       "            </tr>\n",
       "            <tr>\n",
       "                        <th id=\"T_db792_level0_row18\" class=\"row_heading level0 row18\" >streaming_movies</th>\n",
       "                        <td id=\"T_db792_row18_col0\" class=\"data row18 col0\" >21.700000</td>\n",
       "            </tr>\n",
       "            <tr>\n",
       "                        <th id=\"T_db792_level0_row19\" class=\"row_heading level0 row19\" >multiple_lines</th>\n",
       "                        <td id=\"T_db792_row19_col0\" class=\"data row19 col0\" >9.700000</td>\n",
       "            </tr>\n",
       "    </tbody></table>"
      ],
      "text/plain": [
       "<pandas.io.formats.style.Styler at 0x7f497dd83820>"
      ]
     },
     "execution_count": 40,
     "metadata": {},
     "output_type": "execute_result"
    }
   ],
   "source": [
    "# посмотрим на долю пропусков\n",
    "pd.DataFrame(round(all_df.isna().mean()*100,1)).style.background_gradient('coolwarm')"
   ]
  },
  {
   "cell_type": "code",
   "execution_count": 41,
   "metadata": {},
   "outputs": [],
   "source": [
    "# Удалим 11 строк с пропусками в столбце total_charges\n",
    "all_df = all_df.dropna(subset=['total_charges'])"
   ]
  },
  {
   "cell_type": "markdown",
   "metadata": {},
   "source": [
    "Так как пропуски в большинстве столбцов означают, что абонент просто не использует данную услугу, то заполним их значением `No`."
   ]
  },
  {
   "cell_type": "code",
   "execution_count": 42,
   "metadata": {},
   "outputs": [],
   "source": [
    "all_df['internet_service'] = all_df['internet_service'].fillna('No_used')\n",
    "all_df['online_security'] = all_df['online_security'].fillna('No')\n",
    "all_df['online_backup'] = all_df['online_backup'].fillna('No')\n",
    "all_df['device_protection'] = all_df['device_protection'].fillna('No')\n",
    "all_df['tech_support'] = all_df['tech_support'].fillna('No')\n",
    "all_df['streaming_tv'] = all_df['streaming_tv'].fillna('No')\n",
    "all_df['streaming_movies'] = all_df['streaming_movies'].fillna('No')\n",
    "all_df['multiple_lines'] = all_df['multiple_lines'].fillna('No')"
   ]
  },
  {
   "cell_type": "code",
   "execution_count": 43,
   "metadata": {},
   "outputs": [],
   "source": [
    "# Создадим столбец с целевым признаком на основе столбца end_date. Если клиент ушел - 1, договор еще действует - 0.\n",
    "all_df['gone'] = all_df['end_date'].apply(lambda x: 0 if pd.isnull(x) else 1)"
   ]
  },
  {
   "cell_type": "code",
   "execution_count": 44,
   "metadata": {},
   "outputs": [],
   "source": [
    "# Создадим столбец с продолжительностью договоров в днях\n",
    "all_df['end_date'] = all_df['end_date'].fillna(pd.to_datetime('2020-02-01'))\n",
    "all_df['duration'] = (all_df['end_date']-all_df['begin_date']).dt.days"
   ]
  },
  {
   "cell_type": "markdown",
   "metadata": {},
   "source": [
    "Удалим столбцы с датами, чтобы предотвратить утечку данных и сделать модели МО более универсальными. Также удалим столбец с id пользователей, так как он бесполезен для обучения моделей."
   ]
  },
  {
   "cell_type": "code",
   "execution_count": 45,
   "metadata": {},
   "outputs": [],
   "source": [
    "all_df = all_df.drop(columns = ['begin_date', 'end_date', 'customer_id'], axis = 1) "
   ]
  },
  {
   "cell_type": "code",
   "execution_count": 46,
   "metadata": {},
   "outputs": [
    {
     "data": {
      "text/html": [
       "<div>\n",
       "<style scoped>\n",
       "    .dataframe tbody tr th:only-of-type {\n",
       "        vertical-align: middle;\n",
       "    }\n",
       "\n",
       "    .dataframe tbody tr th {\n",
       "        vertical-align: top;\n",
       "    }\n",
       "\n",
       "    .dataframe thead th {\n",
       "        text-align: right;\n",
       "    }\n",
       "</style>\n",
       "<table border=\"1\" class=\"dataframe\">\n",
       "  <thead>\n",
       "    <tr style=\"text-align: right;\">\n",
       "      <th></th>\n",
       "      <th>type</th>\n",
       "      <th>paperless_billing</th>\n",
       "      <th>payment_method</th>\n",
       "      <th>monthly_charges</th>\n",
       "      <th>total_charges</th>\n",
       "      <th>gender</th>\n",
       "      <th>senior_citizen</th>\n",
       "      <th>partner</th>\n",
       "      <th>dependents</th>\n",
       "      <th>internet_service</th>\n",
       "      <th>online_security</th>\n",
       "      <th>online_backup</th>\n",
       "      <th>device_protection</th>\n",
       "      <th>tech_support</th>\n",
       "      <th>streaming_tv</th>\n",
       "      <th>streaming_movies</th>\n",
       "      <th>multiple_lines</th>\n",
       "      <th>gone</th>\n",
       "      <th>duration</th>\n",
       "    </tr>\n",
       "  </thead>\n",
       "  <tbody>\n",
       "    <tr>\n",
       "      <th>0</th>\n",
       "      <td>Month-to-month</td>\n",
       "      <td>Yes</td>\n",
       "      <td>Electronic check</td>\n",
       "      <td>29.85</td>\n",
       "      <td>31.04</td>\n",
       "      <td>Female</td>\n",
       "      <td>0</td>\n",
       "      <td>Yes</td>\n",
       "      <td>No</td>\n",
       "      <td>DSL</td>\n",
       "      <td>No</td>\n",
       "      <td>Yes</td>\n",
       "      <td>No</td>\n",
       "      <td>No</td>\n",
       "      <td>No</td>\n",
       "      <td>No</td>\n",
       "      <td>No</td>\n",
       "      <td>0</td>\n",
       "      <td>31</td>\n",
       "    </tr>\n",
       "    <tr>\n",
       "      <th>1</th>\n",
       "      <td>One year</td>\n",
       "      <td>No</td>\n",
       "      <td>Mailed check</td>\n",
       "      <td>56.95</td>\n",
       "      <td>2071.84</td>\n",
       "      <td>Male</td>\n",
       "      <td>0</td>\n",
       "      <td>No</td>\n",
       "      <td>No</td>\n",
       "      <td>DSL</td>\n",
       "      <td>Yes</td>\n",
       "      <td>No</td>\n",
       "      <td>Yes</td>\n",
       "      <td>No</td>\n",
       "      <td>No</td>\n",
       "      <td>No</td>\n",
       "      <td>No</td>\n",
       "      <td>0</td>\n",
       "      <td>1036</td>\n",
       "    </tr>\n",
       "    <tr>\n",
       "      <th>2</th>\n",
       "      <td>Month-to-month</td>\n",
       "      <td>Yes</td>\n",
       "      <td>Mailed check</td>\n",
       "      <td>53.85</td>\n",
       "      <td>226.17</td>\n",
       "      <td>Male</td>\n",
       "      <td>0</td>\n",
       "      <td>No</td>\n",
       "      <td>No</td>\n",
       "      <td>DSL</td>\n",
       "      <td>Yes</td>\n",
       "      <td>Yes</td>\n",
       "      <td>No</td>\n",
       "      <td>No</td>\n",
       "      <td>No</td>\n",
       "      <td>No</td>\n",
       "      <td>No</td>\n",
       "      <td>0</td>\n",
       "      <td>123</td>\n",
       "    </tr>\n",
       "    <tr>\n",
       "      <th>3</th>\n",
       "      <td>One year</td>\n",
       "      <td>No</td>\n",
       "      <td>Bank transfer (automatic)</td>\n",
       "      <td>42.30</td>\n",
       "      <td>1960.60</td>\n",
       "      <td>Male</td>\n",
       "      <td>0</td>\n",
       "      <td>No</td>\n",
       "      <td>No</td>\n",
       "      <td>DSL</td>\n",
       "      <td>Yes</td>\n",
       "      <td>No</td>\n",
       "      <td>Yes</td>\n",
       "      <td>Yes</td>\n",
       "      <td>No</td>\n",
       "      <td>No</td>\n",
       "      <td>No</td>\n",
       "      <td>0</td>\n",
       "      <td>1371</td>\n",
       "    </tr>\n",
       "    <tr>\n",
       "      <th>4</th>\n",
       "      <td>Month-to-month</td>\n",
       "      <td>Yes</td>\n",
       "      <td>Electronic check</td>\n",
       "      <td>70.70</td>\n",
       "      <td>353.50</td>\n",
       "      <td>Female</td>\n",
       "      <td>0</td>\n",
       "      <td>No</td>\n",
       "      <td>No</td>\n",
       "      <td>Fiber optic</td>\n",
       "      <td>No</td>\n",
       "      <td>No</td>\n",
       "      <td>No</td>\n",
       "      <td>No</td>\n",
       "      <td>No</td>\n",
       "      <td>No</td>\n",
       "      <td>No</td>\n",
       "      <td>0</td>\n",
       "      <td>153</td>\n",
       "    </tr>\n",
       "  </tbody>\n",
       "</table>\n",
       "</div>"
      ],
      "text/plain": [
       "             type paperless_billing             payment_method  \\\n",
       "0  Month-to-month               Yes           Electronic check   \n",
       "1        One year                No               Mailed check   \n",
       "2  Month-to-month               Yes               Mailed check   \n",
       "3        One year                No  Bank transfer (automatic)   \n",
       "4  Month-to-month               Yes           Electronic check   \n",
       "\n",
       "   monthly_charges  total_charges  gender  senior_citizen partner dependents  \\\n",
       "0            29.85          31.04  Female               0     Yes         No   \n",
       "1            56.95        2071.84    Male               0      No         No   \n",
       "2            53.85         226.17    Male               0      No         No   \n",
       "3            42.30        1960.60    Male               0      No         No   \n",
       "4            70.70         353.50  Female               0      No         No   \n",
       "\n",
       "  internet_service online_security online_backup device_protection  \\\n",
       "0              DSL              No           Yes                No   \n",
       "1              DSL             Yes            No               Yes   \n",
       "2              DSL             Yes           Yes                No   \n",
       "3              DSL             Yes            No               Yes   \n",
       "4      Fiber optic              No            No                No   \n",
       "\n",
       "  tech_support streaming_tv streaming_movies multiple_lines  gone  duration  \n",
       "0           No           No               No             No     0        31  \n",
       "1           No           No               No             No     0      1036  \n",
       "2           No           No               No             No     0       123  \n",
       "3          Yes           No               No             No     0      1371  \n",
       "4           No           No               No             No     0       153  "
      ]
     },
     "execution_count": 46,
     "metadata": {},
     "output_type": "execute_result"
    }
   ],
   "source": [
    "# Посмотрим на получившуюся таблицу после преобразований\n",
    "all_df.head()"
   ]
  },
  {
   "cell_type": "code",
   "execution_count": 47,
   "metadata": {},
   "outputs": [
    {
     "data": {
      "image/png": "[encoded data removed]",
      "text/plain": [
       "<Figure size 864x720 with 2 Axes>"
      ]
     },
     "metadata": {
      "needs_background": "light"
     },
     "output_type": "display_data"
    }
   ],
   "source": [
    "# построим тепловую карту корреляции признаков\n",
    "numeric_features = ['monthly_charges', 'total_charges', 'duration']\n",
    "\n",
    "corr_matrix = all_df.phik_matrix(numeric_features).round(2)\n",
    "\n",
    "plt.figure(figsize=(12,10))\n",
    "sns.heatmap(corr_matrix, annot=True)\n",
    "plt.show()"
   ]
  },
  {
   "cell_type": "markdown",
   "metadata": {},
   "source": [
    "Наблюдается сильная зависимость между признаками `monthly_charges` и `internet_service`. Чтобы избавиться от мультиколлинеарности удалим один из признаков."
   ]
  },
  {
   "cell_type": "code",
   "execution_count": 48,
   "metadata": {},
   "outputs": [],
   "source": [
    "all_df = all_df.drop(columns = ['monthly_charges'], axis = 1) "
   ]
  },
  {
   "cell_type": "markdown",
   "metadata": {},
   "source": [
    "**Вывод**\n",
    "\n",
    "Была проведена предварительная обработка данных: \n",
    "- Данные объеденены в один датафрейм\n",
    "- Удалены 11 строк с пропусками в столбце total_charges\n",
    "- Пропуски категориальных признаков заполнены значением No, так как отсутствие значений в этих признаках означает неиспользованием абонентом данной услуги.\n",
    "- Для предотвращения утечки данных были удалены столбцы с датами. Также был удален столбец с id абонентов, в связи с неинформативностью.\n",
    "- И удален столбец monthly_charges для предотвращения мультиколлинеарности."
   ]
  },
  {
   "cell_type": "markdown",
   "metadata": {},
   "source": [
    "## Подготовка данных к обучению моделей"
   ]
  },
  {
   "cell_type": "markdown",
   "metadata": {},
   "source": [
    "Исследуем баланс классов в целевом признаке."
   ]
  },
  {
   "cell_type": "code",
   "execution_count": 49,
   "metadata": {},
   "outputs": [
    {
     "name": "stdout",
     "output_type": "stream",
     "text": [
      "0    0.84343\n",
      "1    0.15657\n",
      "Name: gone, dtype: float64\n"
     ]
    },
    {
     "data": {
      "image/png": "[encoded data removed]",
      "text/plain": [
       "<Figure size 432x288 with 1 Axes>"
      ]
     },
     "metadata": {
      "needs_background": "light"
     },
     "output_type": "display_data"
    }
   ],
   "source": [
    "# посмотрим на соотношение классов в целевом признаке\n",
    "class_frequency = all_df['gone'].value_counts(normalize=True)\n",
    "print(class_frequency)\n",
    "class_frequency.plot(kind='bar') \n",
    "plt.title('Соотношение классов в целевом признаке', fontsize=15)\n",
    "plt.show()"
   ]
  },
  {
   "cell_type": "markdown",
   "metadata": {},
   "source": [
    "В предоставленных данных 15.7% клиентов расторгли договор. Наблюдается дисбаланс классов."
   ]
  },
  {
   "cell_type": "code",
   "execution_count": 50,
   "metadata": {},
   "outputs": [],
   "source": [
    "# создадим переменные для признаков и целевого признака \n",
    "features = all_df.drop(['gone'], axis=1)\n",
    "target = all_df['gone']"
   ]
  },
  {
   "cell_type": "code",
   "execution_count": 51,
   "metadata": {},
   "outputs": [],
   "source": [
    "# Разделим данные на выборки\n",
    "features_train, features_test, target_train, target_test = train_test_split(features, target, test_size=0.25, \n",
    "                                                                            random_state=r_state, stratify = target)"
   ]
  },
  {
   "cell_type": "code",
   "execution_count": 52,
   "metadata": {},
   "outputs": [
    {
     "data": {
      "text/plain": [
       "((5274, 17), (1758, 17), (5274,), (1758,))"
      ]
     },
     "execution_count": 52,
     "metadata": {},
     "output_type": "execute_result"
    }
   ],
   "source": [
    "# Проверим размеры получившихся таблиц \n",
    "features_train.shape, features_test.shape, target_train.shape, target_test.shape"
   ]
  },
  {
   "cell_type": "code",
   "execution_count": 53,
   "metadata": {},
   "outputs": [],
   "source": [
    "# Сбросим индексы\n",
    "features_train.reset_index(drop=True, inplace=True)\n",
    "features_test.reset_index(drop=True, inplace=True)\n",
    "target_train.reset_index(drop=True, inplace=True)\n",
    "target_test.reset_index(drop=True, inplace=True)"
   ]
  },
  {
   "cell_type": "code",
   "execution_count": 54,
   "metadata": {},
   "outputs": [
    {
     "data": {
      "text/html": [
       "<div>\n",
       "<style scoped>\n",
       "    .dataframe tbody tr th:only-of-type {\n",
       "        vertical-align: middle;\n",
       "    }\n",
       "\n",
       "    .dataframe tbody tr th {\n",
       "        vertical-align: top;\n",
       "    }\n",
       "\n",
       "    .dataframe thead th {\n",
       "        text-align: right;\n",
       "    }\n",
       "</style>\n",
       "<table border=\"1\" class=\"dataframe\">\n",
       "  <thead>\n",
       "    <tr style=\"text-align: right;\">\n",
       "      <th></th>\n",
       "      <th>type</th>\n",
       "      <th>paperless_billing</th>\n",
       "      <th>payment_method</th>\n",
       "      <th>total_charges</th>\n",
       "      <th>gender</th>\n",
       "      <th>senior_citizen</th>\n",
       "      <th>partner</th>\n",
       "      <th>dependents</th>\n",
       "      <th>internet_service</th>\n",
       "      <th>online_security</th>\n",
       "      <th>online_backup</th>\n",
       "      <th>device_protection</th>\n",
       "      <th>tech_support</th>\n",
       "      <th>streaming_tv</th>\n",
       "      <th>streaming_movies</th>\n",
       "      <th>multiple_lines</th>\n",
       "      <th>duration</th>\n",
       "    </tr>\n",
       "  </thead>\n",
       "  <tbody>\n",
       "    <tr>\n",
       "      <th>0</th>\n",
       "      <td>Two year</td>\n",
       "      <td>Yes</td>\n",
       "      <td>Credit card (automatic)</td>\n",
       "      <td>6002.70</td>\n",
       "      <td>Female</td>\n",
       "      <td>0</td>\n",
       "      <td>No</td>\n",
       "      <td>Yes</td>\n",
       "      <td>Fiber optic</td>\n",
       "      <td>Yes</td>\n",
       "      <td>No</td>\n",
       "      <td>Yes</td>\n",
       "      <td>Yes</td>\n",
       "      <td>No</td>\n",
       "      <td>No</td>\n",
       "      <td>Yes</td>\n",
       "      <td>2010</td>\n",
       "    </tr>\n",
       "    <tr>\n",
       "      <th>1</th>\n",
       "      <td>Month-to-month</td>\n",
       "      <td>Yes</td>\n",
       "      <td>Electronic check</td>\n",
       "      <td>921.02</td>\n",
       "      <td>Female</td>\n",
       "      <td>1</td>\n",
       "      <td>Yes</td>\n",
       "      <td>No</td>\n",
       "      <td>Fiber optic</td>\n",
       "      <td>No</td>\n",
       "      <td>No</td>\n",
       "      <td>No</td>\n",
       "      <td>Yes</td>\n",
       "      <td>Yes</td>\n",
       "      <td>No</td>\n",
       "      <td>No</td>\n",
       "      <td>337</td>\n",
       "    </tr>\n",
       "    <tr>\n",
       "      <th>2</th>\n",
       "      <td>Month-to-month</td>\n",
       "      <td>Yes</td>\n",
       "      <td>Electronic check</td>\n",
       "      <td>409.32</td>\n",
       "      <td>Male</td>\n",
       "      <td>1</td>\n",
       "      <td>No</td>\n",
       "      <td>No</td>\n",
       "      <td>Fiber optic</td>\n",
       "      <td>No</td>\n",
       "      <td>No</td>\n",
       "      <td>Yes</td>\n",
       "      <td>No</td>\n",
       "      <td>Yes</td>\n",
       "      <td>Yes</td>\n",
       "      <td>No</td>\n",
       "      <td>123</td>\n",
       "    </tr>\n",
       "    <tr>\n",
       "      <th>3</th>\n",
       "      <td>Month-to-month</td>\n",
       "      <td>No</td>\n",
       "      <td>Electronic check</td>\n",
       "      <td>1784.53</td>\n",
       "      <td>Male</td>\n",
       "      <td>1</td>\n",
       "      <td>Yes</td>\n",
       "      <td>No</td>\n",
       "      <td>Fiber optic</td>\n",
       "      <td>Yes</td>\n",
       "      <td>No</td>\n",
       "      <td>No</td>\n",
       "      <td>No</td>\n",
       "      <td>Yes</td>\n",
       "      <td>No</td>\n",
       "      <td>Yes</td>\n",
       "      <td>580</td>\n",
       "    </tr>\n",
       "    <tr>\n",
       "      <th>4</th>\n",
       "      <td>One year</td>\n",
       "      <td>Yes</td>\n",
       "      <td>Mailed check</td>\n",
       "      <td>1048.09</td>\n",
       "      <td>Female</td>\n",
       "      <td>0</td>\n",
       "      <td>No</td>\n",
       "      <td>No</td>\n",
       "      <td>Fiber optic</td>\n",
       "      <td>No</td>\n",
       "      <td>Yes</td>\n",
       "      <td>No</td>\n",
       "      <td>No</td>\n",
       "      <td>No</td>\n",
       "      <td>No</td>\n",
       "      <td>No</td>\n",
       "      <td>396</td>\n",
       "    </tr>\n",
       "  </tbody>\n",
       "</table>\n",
       "</div>"
      ],
      "text/plain": [
       "             type paperless_billing           payment_method  total_charges  \\\n",
       "0        Two year               Yes  Credit card (automatic)        6002.70   \n",
       "1  Month-to-month               Yes         Electronic check         921.02   \n",
       "2  Month-to-month               Yes         Electronic check         409.32   \n",
       "3  Month-to-month                No         Electronic check        1784.53   \n",
       "4        One year               Yes             Mailed check        1048.09   \n",
       "\n",
       "   gender  senior_citizen partner dependents internet_service online_security  \\\n",
       "0  Female               0      No        Yes      Fiber optic             Yes   \n",
       "1  Female               1     Yes         No      Fiber optic              No   \n",
       "2    Male               1      No         No      Fiber optic              No   \n",
       "3    Male               1     Yes         No      Fiber optic             Yes   \n",
       "4  Female               0      No         No      Fiber optic              No   \n",
       "\n",
       "  online_backup device_protection tech_support streaming_tv streaming_movies  \\\n",
       "0            No               Yes          Yes           No               No   \n",
       "1            No                No          Yes          Yes               No   \n",
       "2            No               Yes           No          Yes              Yes   \n",
       "3            No                No           No          Yes               No   \n",
       "4           Yes                No           No           No               No   \n",
       "\n",
       "  multiple_lines  duration  \n",
       "0            Yes      2010  \n",
       "1             No       337  \n",
       "2             No       123  \n",
       "3            Yes       580  \n",
       "4             No       396  "
      ]
     },
     "execution_count": 54,
     "metadata": {},
     "output_type": "execute_result"
    }
   ],
   "source": [
    "features_train.head()"
   ]
  },
  {
   "cell_type": "code",
   "execution_count": 55,
   "metadata": {},
   "outputs": [
    {
     "name": "stdout",
     "output_type": "stream",
     "text": [
      "['type', 'paperless_billing', 'payment_method', 'gender', 'partner', 'dependents', 'internet_service', 'online_security', 'online_backup', 'device_protection', 'tech_support', 'streaming_tv', 'streaming_movies', 'multiple_lines']\n"
     ]
    }
   ],
   "source": [
    "# Список столбцов, требующих кодирования\n",
    "categorical_features = features_train.select_dtypes(include='object').columns.to_list()\n",
    "print(categorical_features)"
   ]
  },
  {
   "cell_type": "code",
   "execution_count": 56,
   "metadata": {},
   "outputs": [],
   "source": [
    "# Список столбцов, требующих масштабирования\n",
    "numerical_features = ['total_charges', 'duration']"
   ]
  },
  {
   "cell_type": "code",
   "execution_count": 57,
   "metadata": {},
   "outputs": [],
   "source": [
    "# Скопируем датафреймы с признаками для дальнейшего кодирования\n",
    "features_train_ohe = features_train.copy()\n",
    "features_test_ohe = features_test.copy()"
   ]
  },
  {
   "cell_type": "code",
   "execution_count": 58,
   "metadata": {},
   "outputs": [
    {
     "data": {
      "text/html": [
       "<div>\n",
       "<style scoped>\n",
       "    .dataframe tbody tr th:only-of-type {\n",
       "        vertical-align: middle;\n",
       "    }\n",
       "\n",
       "    .dataframe tbody tr th {\n",
       "        vertical-align: top;\n",
       "    }\n",
       "\n",
       "    .dataframe thead th {\n",
       "        text-align: right;\n",
       "    }\n",
       "</style>\n",
       "<table border=\"1\" class=\"dataframe\">\n",
       "  <thead>\n",
       "    <tr style=\"text-align: right;\">\n",
       "      <th></th>\n",
       "      <th>total_charges</th>\n",
       "      <th>senior_citizen</th>\n",
       "      <th>duration</th>\n",
       "      <th>type_One year</th>\n",
       "      <th>type_Two year</th>\n",
       "      <th>paperless_billing_Yes</th>\n",
       "      <th>payment_method_Credit card (automatic)</th>\n",
       "      <th>payment_method_Electronic check</th>\n",
       "      <th>payment_method_Mailed check</th>\n",
       "      <th>gender_Male</th>\n",
       "      <th>...</th>\n",
       "      <th>dependents_Yes</th>\n",
       "      <th>internet_service_Fiber optic</th>\n",
       "      <th>internet_service_No_used</th>\n",
       "      <th>online_security_Yes</th>\n",
       "      <th>online_backup_Yes</th>\n",
       "      <th>device_protection_Yes</th>\n",
       "      <th>tech_support_Yes</th>\n",
       "      <th>streaming_tv_Yes</th>\n",
       "      <th>streaming_movies_Yes</th>\n",
       "      <th>multiple_lines_Yes</th>\n",
       "    </tr>\n",
       "  </thead>\n",
       "  <tbody>\n",
       "    <tr>\n",
       "      <th>0</th>\n",
       "      <td>6002.70</td>\n",
       "      <td>0</td>\n",
       "      <td>2010</td>\n",
       "      <td>0.0</td>\n",
       "      <td>1.0</td>\n",
       "      <td>1.0</td>\n",
       "      <td>1.0</td>\n",
       "      <td>0.0</td>\n",
       "      <td>0.0</td>\n",
       "      <td>0.0</td>\n",
       "      <td>...</td>\n",
       "      <td>1.0</td>\n",
       "      <td>1.0</td>\n",
       "      <td>0.0</td>\n",
       "      <td>1.0</td>\n",
       "      <td>0.0</td>\n",
       "      <td>1.0</td>\n",
       "      <td>1.0</td>\n",
       "      <td>0.0</td>\n",
       "      <td>0.0</td>\n",
       "      <td>1.0</td>\n",
       "    </tr>\n",
       "    <tr>\n",
       "      <th>1</th>\n",
       "      <td>921.02</td>\n",
       "      <td>1</td>\n",
       "      <td>337</td>\n",
       "      <td>0.0</td>\n",
       "      <td>0.0</td>\n",
       "      <td>1.0</td>\n",
       "      <td>0.0</td>\n",
       "      <td>1.0</td>\n",
       "      <td>0.0</td>\n",
       "      <td>0.0</td>\n",
       "      <td>...</td>\n",
       "      <td>0.0</td>\n",
       "      <td>1.0</td>\n",
       "      <td>0.0</td>\n",
       "      <td>0.0</td>\n",
       "      <td>0.0</td>\n",
       "      <td>0.0</td>\n",
       "      <td>1.0</td>\n",
       "      <td>1.0</td>\n",
       "      <td>0.0</td>\n",
       "      <td>0.0</td>\n",
       "    </tr>\n",
       "    <tr>\n",
       "      <th>2</th>\n",
       "      <td>409.32</td>\n",
       "      <td>1</td>\n",
       "      <td>123</td>\n",
       "      <td>0.0</td>\n",
       "      <td>0.0</td>\n",
       "      <td>1.0</td>\n",
       "      <td>0.0</td>\n",
       "      <td>1.0</td>\n",
       "      <td>0.0</td>\n",
       "      <td>1.0</td>\n",
       "      <td>...</td>\n",
       "      <td>0.0</td>\n",
       "      <td>1.0</td>\n",
       "      <td>0.0</td>\n",
       "      <td>0.0</td>\n",
       "      <td>0.0</td>\n",
       "      <td>1.0</td>\n",
       "      <td>0.0</td>\n",
       "      <td>1.0</td>\n",
       "      <td>1.0</td>\n",
       "      <td>0.0</td>\n",
       "    </tr>\n",
       "    <tr>\n",
       "      <th>3</th>\n",
       "      <td>1784.53</td>\n",
       "      <td>1</td>\n",
       "      <td>580</td>\n",
       "      <td>0.0</td>\n",
       "      <td>0.0</td>\n",
       "      <td>0.0</td>\n",
       "      <td>0.0</td>\n",
       "      <td>1.0</td>\n",
       "      <td>0.0</td>\n",
       "      <td>1.0</td>\n",
       "      <td>...</td>\n",
       "      <td>0.0</td>\n",
       "      <td>1.0</td>\n",
       "      <td>0.0</td>\n",
       "      <td>1.0</td>\n",
       "      <td>0.0</td>\n",
       "      <td>0.0</td>\n",
       "      <td>0.0</td>\n",
       "      <td>1.0</td>\n",
       "      <td>0.0</td>\n",
       "      <td>1.0</td>\n",
       "    </tr>\n",
       "    <tr>\n",
       "      <th>4</th>\n",
       "      <td>1048.09</td>\n",
       "      <td>0</td>\n",
       "      <td>396</td>\n",
       "      <td>1.0</td>\n",
       "      <td>0.0</td>\n",
       "      <td>1.0</td>\n",
       "      <td>0.0</td>\n",
       "      <td>0.0</td>\n",
       "      <td>1.0</td>\n",
       "      <td>0.0</td>\n",
       "      <td>...</td>\n",
       "      <td>0.0</td>\n",
       "      <td>1.0</td>\n",
       "      <td>0.0</td>\n",
       "      <td>0.0</td>\n",
       "      <td>1.0</td>\n",
       "      <td>0.0</td>\n",
       "      <td>0.0</td>\n",
       "      <td>0.0</td>\n",
       "      <td>0.0</td>\n",
       "      <td>0.0</td>\n",
       "    </tr>\n",
       "  </tbody>\n",
       "</table>\n",
       "<p>5 rows × 21 columns</p>\n",
       "</div>"
      ],
      "text/plain": [
       "   total_charges  senior_citizen  duration  type_One year  type_Two year  \\\n",
       "0        6002.70               0      2010            0.0            1.0   \n",
       "1         921.02               1       337            0.0            0.0   \n",
       "2         409.32               1       123            0.0            0.0   \n",
       "3        1784.53               1       580            0.0            0.0   \n",
       "4        1048.09               0       396            1.0            0.0   \n",
       "\n",
       "   paperless_billing_Yes  payment_method_Credit card (automatic)  \\\n",
       "0                    1.0                                     1.0   \n",
       "1                    1.0                                     0.0   \n",
       "2                    1.0                                     0.0   \n",
       "3                    0.0                                     0.0   \n",
       "4                    1.0                                     0.0   \n",
       "\n",
       "   payment_method_Electronic check  payment_method_Mailed check  gender_Male  \\\n",
       "0                              0.0                          0.0          0.0   \n",
       "1                              1.0                          0.0          0.0   \n",
       "2                              1.0                          0.0          1.0   \n",
       "3                              1.0                          0.0          1.0   \n",
       "4                              0.0                          1.0          0.0   \n",
       "\n",
       "   ...  dependents_Yes  internet_service_Fiber optic  \\\n",
       "0  ...             1.0                           1.0   \n",
       "1  ...             0.0                           1.0   \n",
       "2  ...             0.0                           1.0   \n",
       "3  ...             0.0                           1.0   \n",
       "4  ...             0.0                           1.0   \n",
       "\n",
       "   internet_service_No_used  online_security_Yes  online_backup_Yes  \\\n",
       "0                       0.0                  1.0                0.0   \n",
       "1                       0.0                  0.0                0.0   \n",
       "2                       0.0                  0.0                0.0   \n",
       "3                       0.0                  1.0                0.0   \n",
       "4                       0.0                  0.0                1.0   \n",
       "\n",
       "   device_protection_Yes  tech_support_Yes  streaming_tv_Yes  \\\n",
       "0                    1.0               1.0               0.0   \n",
       "1                    0.0               1.0               1.0   \n",
       "2                    1.0               0.0               1.0   \n",
       "3                    0.0               0.0               1.0   \n",
       "4                    0.0               0.0               0.0   \n",
       "\n",
       "   streaming_movies_Yes  multiple_lines_Yes  \n",
       "0                   0.0                 1.0  \n",
       "1                   0.0                 0.0  \n",
       "2                   1.0                 0.0  \n",
       "3                   0.0                 1.0  \n",
       "4                   0.0                 0.0  \n",
       "\n",
       "[5 rows x 21 columns]"
      ]
     },
     "execution_count": 58,
     "metadata": {},
     "output_type": "execute_result"
    }
   ],
   "source": [
    "# преобразуем категориальные признаки\n",
    "encoder_ohe = OneHotEncoder(drop='first', handle_unknown='ignore', sparse_output=False)\n",
    "encoder_ohe.fit(features_train_ohe[categorical_features])\n",
    "\n",
    "features_train_ohe[encoder_ohe.get_feature_names_out()] = encoder_ohe.transform(features_train_ohe[categorical_features])\n",
    "\n",
    "# удаляем незакодированные категориальные признаки (изначальные колонки)\n",
    "features_train_ohe = features_train_ohe.drop(categorical_features, axis=1)\n",
    "features_train_ohe.head()"
   ]
  },
  {
   "cell_type": "code",
   "execution_count": 59,
   "metadata": {},
   "outputs": [],
   "source": [
    "# кодируем тестовые данные\n",
    "features_test_ohe[encoder_ohe.get_feature_names_out()] = encoder_ohe.transform(features_test[categorical_features])\n",
    "features_test_ohe = features_test_ohe.drop(categorical_features, axis=1)"
   ]
  },
  {
   "cell_type": "code",
   "execution_count": 60,
   "metadata": {},
   "outputs": [],
   "source": [
    "# Стандартизируем данные \n",
    "scaler = StandardScaler()\n",
    "scaler.fit(features_train_ohe[numerical_features])\n",
    "\n",
    "features_train_ohe[numerical_features] = scaler.transform(features_train_ohe[numerical_features])\n",
    "features_test_ohe[numerical_features] = scaler.transform(features_test_ohe[numerical_features])"
   ]
  },
  {
   "cell_type": "code",
   "execution_count": 61,
   "metadata": {},
   "outputs": [
    {
     "data": {
      "text/html": [
       "<div>\n",
       "<style scoped>\n",
       "    .dataframe tbody tr th:only-of-type {\n",
       "        vertical-align: middle;\n",
       "    }\n",
       "\n",
       "    .dataframe tbody tr th {\n",
       "        vertical-align: top;\n",
       "    }\n",
       "\n",
       "    .dataframe thead th {\n",
       "        text-align: right;\n",
       "    }\n",
       "</style>\n",
       "<table border=\"1\" class=\"dataframe\">\n",
       "  <thead>\n",
       "    <tr style=\"text-align: right;\">\n",
       "      <th></th>\n",
       "      <th>total_charges</th>\n",
       "      <th>senior_citizen</th>\n",
       "      <th>duration</th>\n",
       "      <th>type_One year</th>\n",
       "      <th>type_Two year</th>\n",
       "      <th>paperless_billing_Yes</th>\n",
       "      <th>payment_method_Credit card (automatic)</th>\n",
       "      <th>payment_method_Electronic check</th>\n",
       "      <th>payment_method_Mailed check</th>\n",
       "      <th>gender_Male</th>\n",
       "      <th>...</th>\n",
       "      <th>dependents_Yes</th>\n",
       "      <th>internet_service_Fiber optic</th>\n",
       "      <th>internet_service_No_used</th>\n",
       "      <th>online_security_Yes</th>\n",
       "      <th>online_backup_Yes</th>\n",
       "      <th>device_protection_Yes</th>\n",
       "      <th>tech_support_Yes</th>\n",
       "      <th>streaming_tv_Yes</th>\n",
       "      <th>streaming_movies_Yes</th>\n",
       "      <th>multiple_lines_Yes</th>\n",
       "    </tr>\n",
       "  </thead>\n",
       "  <tbody>\n",
       "    <tr>\n",
       "      <th>0</th>\n",
       "      <td>1.846916</td>\n",
       "      <td>0</td>\n",
       "      <td>1.641146</td>\n",
       "      <td>0.0</td>\n",
       "      <td>1.0</td>\n",
       "      <td>1.0</td>\n",
       "      <td>1.0</td>\n",
       "      <td>0.0</td>\n",
       "      <td>0.0</td>\n",
       "      <td>0.0</td>\n",
       "      <td>...</td>\n",
       "      <td>1.0</td>\n",
       "      <td>1.0</td>\n",
       "      <td>0.0</td>\n",
       "      <td>1.0</td>\n",
       "      <td>0.0</td>\n",
       "      <td>1.0</td>\n",
       "      <td>1.0</td>\n",
       "      <td>0.0</td>\n",
       "      <td>0.0</td>\n",
       "      <td>1.0</td>\n",
       "    </tr>\n",
       "    <tr>\n",
       "      <th>1</th>\n",
       "      <td>-0.564925</td>\n",
       "      <td>1</td>\n",
       "      <td>-0.819566</td>\n",
       "      <td>0.0</td>\n",
       "      <td>0.0</td>\n",
       "      <td>1.0</td>\n",
       "      <td>0.0</td>\n",
       "      <td>1.0</td>\n",
       "      <td>0.0</td>\n",
       "      <td>0.0</td>\n",
       "      <td>...</td>\n",
       "      <td>0.0</td>\n",
       "      <td>1.0</td>\n",
       "      <td>0.0</td>\n",
       "      <td>0.0</td>\n",
       "      <td>0.0</td>\n",
       "      <td>0.0</td>\n",
       "      <td>1.0</td>\n",
       "      <td>1.0</td>\n",
       "      <td>0.0</td>\n",
       "      <td>0.0</td>\n",
       "    </tr>\n",
       "    <tr>\n",
       "      <th>2</th>\n",
       "      <td>-0.807785</td>\n",
       "      <td>1</td>\n",
       "      <td>-1.134326</td>\n",
       "      <td>0.0</td>\n",
       "      <td>0.0</td>\n",
       "      <td>1.0</td>\n",
       "      <td>0.0</td>\n",
       "      <td>1.0</td>\n",
       "      <td>0.0</td>\n",
       "      <td>1.0</td>\n",
       "      <td>...</td>\n",
       "      <td>0.0</td>\n",
       "      <td>1.0</td>\n",
       "      <td>0.0</td>\n",
       "      <td>0.0</td>\n",
       "      <td>0.0</td>\n",
       "      <td>1.0</td>\n",
       "      <td>0.0</td>\n",
       "      <td>1.0</td>\n",
       "      <td>1.0</td>\n",
       "      <td>0.0</td>\n",
       "    </tr>\n",
       "    <tr>\n",
       "      <th>3</th>\n",
       "      <td>-0.155090</td>\n",
       "      <td>1</td>\n",
       "      <td>-0.462153</td>\n",
       "      <td>0.0</td>\n",
       "      <td>0.0</td>\n",
       "      <td>0.0</td>\n",
       "      <td>0.0</td>\n",
       "      <td>1.0</td>\n",
       "      <td>0.0</td>\n",
       "      <td>1.0</td>\n",
       "      <td>...</td>\n",
       "      <td>0.0</td>\n",
       "      <td>1.0</td>\n",
       "      <td>0.0</td>\n",
       "      <td>1.0</td>\n",
       "      <td>0.0</td>\n",
       "      <td>0.0</td>\n",
       "      <td>0.0</td>\n",
       "      <td>1.0</td>\n",
       "      <td>0.0</td>\n",
       "      <td>1.0</td>\n",
       "    </tr>\n",
       "    <tr>\n",
       "      <th>4</th>\n",
       "      <td>-0.504616</td>\n",
       "      <td>0</td>\n",
       "      <td>-0.732787</td>\n",
       "      <td>1.0</td>\n",
       "      <td>0.0</td>\n",
       "      <td>1.0</td>\n",
       "      <td>0.0</td>\n",
       "      <td>0.0</td>\n",
       "      <td>1.0</td>\n",
       "      <td>0.0</td>\n",
       "      <td>...</td>\n",
       "      <td>0.0</td>\n",
       "      <td>1.0</td>\n",
       "      <td>0.0</td>\n",
       "      <td>0.0</td>\n",
       "      <td>1.0</td>\n",
       "      <td>0.0</td>\n",
       "      <td>0.0</td>\n",
       "      <td>0.0</td>\n",
       "      <td>0.0</td>\n",
       "      <td>0.0</td>\n",
       "    </tr>\n",
       "  </tbody>\n",
       "</table>\n",
       "<p>5 rows × 21 columns</p>\n",
       "</div>"
      ],
      "text/plain": [
       "   total_charges  senior_citizen  duration  type_One year  type_Two year  \\\n",
       "0       1.846916               0  1.641146            0.0            1.0   \n",
       "1      -0.564925               1 -0.819566            0.0            0.0   \n",
       "2      -0.807785               1 -1.134326            0.0            0.0   \n",
       "3      -0.155090               1 -0.462153            0.0            0.0   \n",
       "4      -0.504616               0 -0.732787            1.0            0.0   \n",
       "\n",
       "   paperless_billing_Yes  payment_method_Credit card (automatic)  \\\n",
       "0                    1.0                                     1.0   \n",
       "1                    1.0                                     0.0   \n",
       "2                    1.0                                     0.0   \n",
       "3                    0.0                                     0.0   \n",
       "4                    1.0                                     0.0   \n",
       "\n",
       "   payment_method_Electronic check  payment_method_Mailed check  gender_Male  \\\n",
       "0                              0.0                          0.0          0.0   \n",
       "1                              1.0                          0.0          0.0   \n",
       "2                              1.0                          0.0          1.0   \n",
       "3                              1.0                          0.0          1.0   \n",
       "4                              0.0                          1.0          0.0   \n",
       "\n",
       "   ...  dependents_Yes  internet_service_Fiber optic  \\\n",
       "0  ...             1.0                           1.0   \n",
       "1  ...             0.0                           1.0   \n",
       "2  ...             0.0                           1.0   \n",
       "3  ...             0.0                           1.0   \n",
       "4  ...             0.0                           1.0   \n",
       "\n",
       "   internet_service_No_used  online_security_Yes  online_backup_Yes  \\\n",
       "0                       0.0                  1.0                0.0   \n",
       "1                       0.0                  0.0                0.0   \n",
       "2                       0.0                  0.0                0.0   \n",
       "3                       0.0                  1.0                0.0   \n",
       "4                       0.0                  0.0                1.0   \n",
       "\n",
       "   device_protection_Yes  tech_support_Yes  streaming_tv_Yes  \\\n",
       "0                    1.0               1.0               0.0   \n",
       "1                    0.0               1.0               1.0   \n",
       "2                    1.0               0.0               1.0   \n",
       "3                    0.0               0.0               1.0   \n",
       "4                    0.0               0.0               0.0   \n",
       "\n",
       "   streaming_movies_Yes  multiple_lines_Yes  \n",
       "0                   0.0                 1.0  \n",
       "1                   0.0                 0.0  \n",
       "2                   1.0                 0.0  \n",
       "3                   0.0                 1.0  \n",
       "4                   0.0                 0.0  \n",
       "\n",
       "[5 rows x 21 columns]"
      ]
     },
     "execution_count": 61,
     "metadata": {},
     "output_type": "execute_result"
    }
   ],
   "source": [
    "features_train_ohe.head()"
   ]
  },
  {
   "cell_type": "markdown",
   "metadata": {},
   "source": [
    "**Вывод**\n",
    "\n",
    "Исследование баланса классов показало, что есть дисбаланс, который может негативно сказаться на качестве моделей. Поэтому в моделях чувствительных к дисбалансу далее будем использовать метод взвешивания классов.\n",
    "\n",
    "Для дальнейшего обучения моделей данные необходимо было преобразовать:\n",
    "- применено OHE кодирование категориальных признаков,\n",
    "- и StandardScaler для численных признаков"
   ]
  },
  {
   "cell_type": "markdown",
   "metadata": {},
   "source": [
    "## Обучение моделей"
   ]
  },
  {
   "cell_type": "markdown",
   "metadata": {},
   "source": [
    "**Логистическая регрессия**"
   ]
  },
  {
   "cell_type": "code",
   "execution_count": 62,
   "metadata": {},
   "outputs": [],
   "source": [
    "model = LogisticRegression(random_state=r_state, class_weight='balanced')\n",
    "\n",
    "# Сетка параметров\n",
    "param_grid = {'C': [0.1, 1.0, 10.0, 100.0, 200.0],\n",
    "              'penalty': ['l1', 'l2']}\n",
    "\n",
    "# GridSearchCV с метрикой ROC-AUC\n",
    "grid_search = GridSearchCV(model, param_grid, scoring=['roc_auc', 'recall', 'precision', 'f1'], refit='roc_auc', cv=5)\n",
    "\n",
    "# Обучение модели и выполнение поиска по сетке\n",
    "grid_search.fit(features_train_ohe, target_train)\n",
    "\n",
    "best_model_log = grid_search.best_estimator_\n",
    "best_params_log = grid_search.best_params_\n",
    "best_score_log = grid_search.best_score_"
   ]
  },
  {
   "cell_type": "code",
   "execution_count": 63,
   "metadata": {},
   "outputs": [
    {
     "name": "stdout",
     "output_type": "stream",
     "text": [
      "ROC-AUC лучшей модели:  0.7799541307505777\n",
      "recall лучшей модели: 0.6889156626506023\n",
      "precision лучшей модели: 0.3143797535450942\n",
      "f1 лучшей модели: 0.43153152893059266\n",
      "Лучшие параметры:  {'C': 100.0, 'penalty': 'l2'}\n"
     ]
    }
   ],
   "source": [
    "# Вывод результатов\n",
    "print(\"ROC-AUC лучшей модели: \", best_score_log)\n",
    "print(\"recall лучшей модели:\", grid_search.cv_results_['mean_test_recall'][grid_search.best_index_])\n",
    "print(\"precision лучшей модели:\", grid_search.cv_results_['mean_test_precision'][grid_search.best_index_])\n",
    "print(\"f1 лучшей модели:\", grid_search.cv_results_['mean_test_f1'][grid_search.best_index_])\n",
    "print(\"Лучшие параметры: \", best_params_log)"
   ]
  },
  {
   "cell_type": "markdown",
   "metadata": {},
   "source": [
    "**Случайный лес**"
   ]
  },
  {
   "cell_type": "code",
   "execution_count": 101,
   "metadata": {},
   "outputs": [],
   "source": [
    "model = RandomForestClassifier(random_state=r_state, class_weight='balanced')\n",
    "\n",
    "# Сетка параметров\n",
    "param_grid = {\n",
    "    'n_estimators': [100, 200, 500, 1000],\n",
    "    'max_depth': [4, 5, 7, 10, 15, 20],\n",
    "    'min_samples_split': [2, 5, 10]\n",
    "}\n",
    "\n",
    "# GridSearchCV с метрикой ROC-AUC\n",
    "grid_search = GridSearchCV(model, param_grid, scoring=['roc_auc', 'recall', 'precision', 'f1'], refit='roc_auc', cv=5)\n",
    "\n",
    "# Обучение модели и выполнение поиска по сетке\n",
    "grid_search.fit(features_train_ohe, target_train)\n",
    "\n",
    "best_model_rf = grid_search.best_estimator_\n",
    "best_params_rf = grid_search.best_params_\n",
    "best_score_rf = grid_search.best_score_"
   ]
  },
  {
   "cell_type": "code",
   "execution_count": 102,
   "metadata": {},
   "outputs": [
    {
     "name": "stdout",
     "output_type": "stream",
     "text": [
      "Метрика лучшей модели:  0.8287914522609802\n",
      "recall лучшей модели: 0.4915516611902154\n",
      "precision лучшей модели: 0.47087170990261995\n",
      "f1 лучшей модели: 0.4805915129431952\n",
      "Лучшие параметры:  {'max_depth': 15, 'min_samples_split': 10, 'n_estimators': 500}\n"
     ]
    }
   ],
   "source": [
    "# Вывод результатов\n",
    "print(\"Метрика лучшей модели: \", best_score_rf)\n",
    "print(\"recall лучшей модели:\", grid_search.cv_results_['mean_test_recall'][grid_search.best_index_])\n",
    "print(\"precision лучшей модели:\", grid_search.cv_results_['mean_test_precision'][grid_search.best_index_])\n",
    "print(\"f1 лучшей модели:\", grid_search.cv_results_['mean_test_f1'][grid_search.best_index_])\n",
    "print(\"Лучшие параметры: \", best_params_rf)"
   ]
  },
  {
   "cell_type": "markdown",
   "metadata": {},
   "source": [
    "**Catboost**"
   ]
  },
  {
   "cell_type": "code",
   "execution_count": 69,
   "metadata": {},
   "outputs": [
    {
     "name": "stderr",
     "output_type": "stream",
     "text": [
      "Custom logger is already specified. Specify more than one logger at same time is not thread safe."
     ]
    }
   ],
   "source": [
    "model = CatBoostClassifier(random_state=r_state, cat_features=categorical_features)\n",
    "\n",
    "# Определение сетки параметров\n",
    "param_grid = {\n",
    "    'depth': [4,6,8],\n",
    "    'iterations': [100, 500, 1000, 1500],\n",
    "    'learning_rate': [0.01, 0.05, 0.1, 0.5]\n",
    "}\n",
    "\n",
    "grid_search = GridSearchCV(model, param_grid, scoring=['roc_auc', 'recall', 'precision', 'f1'], refit='roc_auc', \n",
    "                           cv=3)\n",
    "\n",
    "# Обучение модели и выполнение поиска по сетке\n",
    "grid_search.fit(features_train, target_train, verbose_eval=False)\n",
    "\n",
    "best_model_cb = grid_search.best_estimator_\n",
    "best_params_cb = grid_search.best_params_\n",
    "best_score_cb = grid_search.best_score_"
   ]
  },
  {
   "cell_type": "code",
   "execution_count": 69,
   "metadata": {},
   "outputs": [
    {
     "name": "stdout",
     "output_type": "stream",
     "text": [
      "Метрика лучшей модели:  0.9232541052481169\n",
      "recall лучшей модели: 0.6175027382256297\n",
      "precision лучшей модели: 0.8889249196923836\n",
      "f1 лучшей модели: 0.7284054132400147\n",
      "Лучшие параметры:  {'depth': 4, 'iterations': 1500, 'learning_rate': 0.1}\n"
     ]
    }
   ],
   "source": [
    "# Вывод результатов\n",
    "print(\"Метрика лучшей модели: \", best_score_cb)\n",
    "print(\"recall лучшей модели:\", grid_search.cv_results_['mean_test_recall'][grid_search.best_index_])\n",
    "print(\"precision лучшей модели:\", grid_search.cv_results_['mean_test_precision'][grid_search.best_index_])\n",
    "print(\"f1 лучшей модели:\", grid_search.cv_results_['mean_test_f1'][grid_search.best_index_])\n",
    "print(\"Лучшие параметры: \", best_params_cb)"
   ]
  },
  {
   "cell_type": "code",
   "execution_count": 70,
   "metadata": {},
   "outputs": [
    {
     "data": {
      "text/html": [
       "<div>\n",
       "<style scoped>\n",
       "    .dataframe tbody tr th:only-of-type {\n",
       "        vertical-align: middle;\n",
       "    }\n",
       "\n",
       "    .dataframe tbody tr th {\n",
       "        vertical-align: top;\n",
       "    }\n",
       "\n",
       "    .dataframe thead th {\n",
       "        text-align: right;\n",
       "    }\n",
       "</style>\n",
       "<table border=\"1\" class=\"dataframe\">\n",
       "  <thead>\n",
       "    <tr style=\"text-align: right;\">\n",
       "      <th></th>\n",
       "      <th>model</th>\n",
       "      <th>ROC-AUC</th>\n",
       "      <th>recall</th>\n",
       "      <th>precision</th>\n",
       "      <th>f1</th>\n",
       "    </tr>\n",
       "  </thead>\n",
       "  <tbody>\n",
       "    <tr>\n",
       "      <th>0</th>\n",
       "      <td>LogisticRegression</td>\n",
       "      <td>0.779</td>\n",
       "      <td>0.687</td>\n",
       "      <td>0.314</td>\n",
       "      <td>0.431</td>\n",
       "    </tr>\n",
       "    <tr>\n",
       "      <th>1</th>\n",
       "      <td>RandomForestClassifier</td>\n",
       "      <td>0.828</td>\n",
       "      <td>0.491</td>\n",
       "      <td>0.470</td>\n",
       "      <td>0.480</td>\n",
       "    </tr>\n",
       "    <tr>\n",
       "      <th>2</th>\n",
       "      <td>CatBoostClassifier</td>\n",
       "      <td>0.923</td>\n",
       "      <td>0.617</td>\n",
       "      <td>0.889</td>\n",
       "      <td>0.728</td>\n",
       "    </tr>\n",
       "  </tbody>\n",
       "</table>\n",
       "</div>"
      ],
      "text/plain": [
       "                    model  ROC-AUC  recall  precision     f1\n",
       "0      LogisticRegression    0.779   0.687      0.314  0.431\n",
       "1  RandomForestClassifier    0.828   0.491      0.470  0.480\n",
       "2      CatBoostClassifier    0.923   0.617      0.889  0.728"
      ]
     },
     "execution_count": 70,
     "metadata": {},
     "output_type": "execute_result"
    }
   ],
   "source": [
    "# Соберем в сводную таблицу данные \n",
    "results = [\n",
    "    ['LogisticRegression', 0.779, 0.687, 0.314, 0.431], \n",
    "    ['RandomForestClassifier', 0.828, 0.491, 0.470, 0.480],\n",
    "    ['CatBoostClassifier', 0.923, 0.617, 0.889, 0.728]\n",
    "]\n",
    "\n",
    "columns = ['model','ROC-AUC', 'recall', 'precision', 'f1']\n",
    "\n",
    "balanced_result = pd.DataFrame(data=results, columns=columns)\n",
    "balanced_result"
   ]
  },
  {
   "cell_type": "markdown",
   "metadata": {},
   "source": [
    "**Вывод**\n",
    "\n",
    "Лучший результат показала модель Catboost с гиперпараметрами - 'depth': 4, 'iterations': 1500, 'learning_rate': 0.1.\n",
    "И значением метрики ROC-AUC 0.923.\n",
    "Возьмем данную модель для проверки на тестовых данных."
   ]
  },
  {
   "cell_type": "markdown",
   "metadata": {},
   "source": [
    "## Проверка на тестовых данных"
   ]
  },
  {
   "cell_type": "code",
   "execution_count": 103,
   "metadata": {},
   "outputs": [
    {
     "name": "stdout",
     "output_type": "stream",
     "text": [
      "ROC-AUC: 0.9270459143014773\n"
     ]
    }
   ],
   "source": [
    "probabilities_test = best_model_cb.predict_proba(features_test)\n",
    "probabilities_one_test = probabilities_test[:, 1]\n",
    "\n",
    "auc_roc = roc_auc_score(target_test, probabilities_one_test)\n",
    "print('ROC-AUC:', auc_roc)"
   ]
  },
  {
   "cell_type": "markdown",
   "metadata": {},
   "source": [
    "## Исследование важности признаков лучшей модели"
   ]
  },
  {
   "cell_type": "code",
   "execution_count": 73,
   "metadata": {},
   "outputs": [
    {
     "data": {
      "image/png": "[encoded data removed]",
      "text/plain": [
       "<Figure size 864x432 with 1 Axes>"
      ]
     },
     "metadata": {
      "needs_background": "light"
     },
     "output_type": "display_data"
    }
   ],
   "source": [
    "feature_importance_cb = best_model_cb.get_feature_importance()\n",
    "feature_importance_cb = pd.Series(feature_importance_cb, index=features_test.columns)\n",
    "\n",
    "plt.show()\n",
    "\n",
    "fig, ax = plt.subplots(figsize=(12,6))\n",
    "\n",
    "feature_importance_cb.plot.bar(ax=ax, grid=True)\n",
    "ax.set_title(\"Важность признаков лучшей модели\")\n",
    "ax.set_ylabel('Важность')\n",
    "fig.tight_layout()"
   ]
  },
  {
   "cell_type": "code",
   "execution_count": 108,
   "metadata": {},
   "outputs": [
    {
     "data": {
      "image/png": "[encoded data removed]",
      "text/plain": [
       "<Figure size 432x288 with 2 Axes>"
      ]
     },
     "metadata": {
      "needs_background": "light"
     },
     "output_type": "display_data"
    }
   ],
   "source": [
    "# Построим матрицу ошибок лучшей модели\n",
    "cm = get_confusion_matrix(best_model_cb, cb.Pool(features_test, target_test, cat_features=categorical_features))\n",
    "\n",
    "# Создание тепловой карты для матрицы ошибок\n",
    "sns.heatmap(cm, annot=True, fmt='g')\n",
    "plt.xlabel('Предсказания')\n",
    "plt.ylabel('Ответы')\n",
    "plt.xticks(np.arange(2), ['Class 0', 'Class 1'])\n",
    "plt.yticks(np.arange(2), ['Class 0', 'Class 1'])\n",
    "plt.show()"
   ]
  },
  {
   "cell_type": "markdown",
   "metadata": {},
   "source": [
    "**Вывод**\n",
    "\n",
    "На тестовых данных модель Catboost показала такой же высокий результат как и на тренировочных данных с метрикой ROC-AUC 0.927.\n",
    "\n",
    "Также была исследована важность признаков лучшей модели. Наиболее важными оказались признаки - duration, total_charges, type, payment_method и internet_service.\n",
    "\n",
    "Исследование матрицы ошибок показало, что модель предсказала 172 истинно положительных ответа. Этот показатель является наиболее важным для задач бизнеса, чтобы он мог предпринять действия для удержания клиента. Также модель дала 103 ложноотрицательных и 17 ложноположительных ответов."
   ]
  },
  {
   "cell_type": "markdown",
   "metadata": {},
   "source": [
    "## Отчет о проделанной работе"
   ]
  },
  {
   "cell_type": "markdown",
   "metadata": {},
   "source": [
    "План работы, который был составлен изначально:\n",
    "\n",
    "1. Изучение данных. \n",
    "2. Предобработка данных.\n",
    "3. Разбиение выборки на тестовую и тренировочную.\n",
    "4. Исследование трех моделей МО: логистическая регрессия, случайный лес, катбуст. Предварительно закодировав и отмасштабировав признаки, в зависимости от выбранной модели. Выбрать лучшую модель по метрике ROC-AUC.\n",
    "5. Проверка качества лучшей модели на тестовой выборке.\n",
    "6. Исследование важности признаков лучшей модели.\n",
    "7. Отчет о проделанной работе.\n",
    "\n",
    "Все пункты плана были выполнены в соответствии со списком. \n",
    "Трудностей в ходе работы не возникло.\n",
    "\n",
    "Ключевыми шагами можно выделить:\n",
    "- Предобработку данных.\n",
    "- Подбор гиперпараметров моделей с помощью GridSearchCV.\n",
    "- Проверку лучшей модели на тестовой выборке.\n",
    "\n",
    "Для решения задачи классификации были построены три модели машинного обучения: логистическая регрессия, случайный лес, Catboost. Их качество оценивалось по метрике ROC-AUC.\n",
    "\n",
    "***Лучшее качество по метрике ROC-AUC на тренировочной выборке показала модель Catboost с гиперпараметрами 'depth': 4, 'iterations': 1500, 'learning_rate': 0.1. Значение ROC-AUC = 0.923.*** Дополнительно были исследованы метрики модели: f1 = 0.728, recall = 0.617, precision = 0.889. \n",
    "\n",
    "Также на тестовой выборке было проверено качество выбранной лучшей модели. ***Метрика на тестовой выборке ROC-AUC = 0.927.***\n",
    "\n",
    "Модель обучалась на следующих признаках:\n",
    "\n",
    "- `type` - тип оплаты: раз в год-два или ежемесячно;\n",
    "- `paperless_billing` - электронный расчётный лист;\n",
    "- `payment_method` -  тип платежа;\n",
    "- `total_charges` - общие расходы абонента;\n",
    "- `gender` - пол;\n",
    "- `senior_citizen` - является ли абонент пенсионером;\n",
    "- `partner` - есть ли у абонента супруг или супруга;\n",
    "- `dependents` - есть ли у абонента дети;\n",
    "- `internet_service` -  тип подключения;\n",
    "- `online_security` - блокировка опасных сайтов;\n",
    "- `online_backup` - облачное хранилище файлов для резервного копирования данных;\n",
    "- `device_protection` - антивирус;\n",
    "- `tech_support` - выделенная линия технической поддержки;\n",
    "- `streaming_tv` - стриминговое телевидение;\n",
    "- `streaming_movies` - каталог фильмов;\n",
    "- `multiple_lines` - подключение телефона к нескольким линиям одновременно;\n",
    "- `duration` - длительность действия договора с абонентом в днях.\n",
    "- `gone` - целевой признак.\n",
    "\n",
    "Была проведена их предварительная обработка:\n",
    "\n",
    "- Данные объеденены в один датафрейм.\n",
    "- Удалены 11 строк с пропусками в столбце `total_charges`\n",
    "- Созданы признаки `duration` - длительность действия договора с абонентом в днях и `gone` - целевой признак, в котором 1 означает уход абонента, а 0 - что договор с клиентом еще действует.\n",
    "- Пропуски категориальных признаков заполнены значением No, так как отсутствие значений в этих признаках означает неиспользованием абонентом данной услуги.\n",
    "- Для предотвращения утечки данных были удалены столбцы с датами. Также был удален столбец с id абонентов, в связи с неинформативностью.\n",
    "- И удален столбец `monthly_charges` для предотвращения мультиколлинеарности.\n",
    "\n",
    "Разбиение данных на выборки произведилось со стратификацией и соотношением тренировочных данных к тестовым 75:25. \n",
    "Также была исследована важность признаков лучшей модели. Наиболее важными оказались признаки - duration, total_charges, type, payment_method и internet_service.\n",
    "\n",
    "Задача, поставленная в начале исследования, выполнена. Удалось достичь значение метрики ROC-AUC >0.85.\n",
    "\n",
    "Можно ли еще улучшить модель? \n",
    "- Да, можно поэкспериментировать с признаками: создать новые фичи на основе имеющихся данных, удалить малозначимые признаки и заполнить пропуски другими методами.\n",
    "- Можно попробовать обучить другие модели. Например, модели LGBM и XGBoost."
   ]
  },
  {
   "cell_type": "code",
   "execution_count": null,
   "metadata": {},
   "outputs": [],
   "source": []
  }
 ],
 "metadata": {
  "ExecuteTimeLog": [
   {
    "duration": 419,
    "start_time": "2023-07-31T07:49:01.356Z"
   },
   {
    "duration": 74,
    "start_time": "2023-07-31T07:49:58.139Z"
   },
   {
    "duration": 76,
    "start_time": "2023-07-31T07:50:09.092Z"
   },
   {
    "duration": 22,
    "start_time": "2023-07-31T07:50:14.878Z"
   },
   {
    "duration": 145,
    "start_time": "2023-07-31T07:51:48.117Z"
   },
   {
    "duration": 12,
    "start_time": "2023-07-31T07:51:54.802Z"
   },
   {
    "duration": 72,
    "start_time": "2023-07-31T07:53:25.548Z"
   },
   {
    "duration": 9,
    "start_time": "2023-07-31T07:53:37.881Z"
   },
   {
    "duration": 109,
    "start_time": "2023-07-31T07:55:13.052Z"
   },
   {
    "duration": 87,
    "start_time": "2023-07-31T07:55:57.858Z"
   },
   {
    "duration": 11,
    "start_time": "2023-07-31T07:56:17.842Z"
   },
   {
    "duration": 6,
    "start_time": "2023-07-31T07:56:32.422Z"
   },
   {
    "duration": 19,
    "start_time": "2023-07-31T07:57:09.751Z"
   },
   {
    "duration": 19,
    "start_time": "2023-07-31T07:57:25.255Z"
   },
   {
    "duration": 11,
    "start_time": "2023-07-31T07:57:39.363Z"
   },
   {
    "duration": 11,
    "start_time": "2023-07-31T07:58:05.642Z"
   },
   {
    "duration": 429,
    "start_time": "2023-08-03T11:35:22.881Z"
   },
   {
    "duration": 551,
    "start_time": "2023-08-03T11:35:24.028Z"
   },
   {
    "duration": 18,
    "start_time": "2023-08-03T11:35:30.742Z"
   },
   {
    "duration": 19,
    "start_time": "2023-08-03T11:36:06.203Z"
   },
   {
    "duration": 32,
    "start_time": "2023-08-03T11:36:29.492Z"
   },
   {
    "duration": 54,
    "start_time": "2023-08-04T11:55:59.545Z"
   },
   {
    "duration": 519,
    "start_time": "2023-08-04T11:56:04.792Z"
   },
   {
    "duration": 346,
    "start_time": "2023-08-04T11:56:05.773Z"
   },
   {
    "duration": 19,
    "start_time": "2023-08-04T11:56:07.635Z"
   },
   {
    "duration": 16,
    "start_time": "2023-08-04T11:56:09.429Z"
   },
   {
    "duration": 34,
    "start_time": "2023-08-04T11:56:13.448Z"
   },
   {
    "duration": 3,
    "start_time": "2023-08-04T12:07:51.724Z"
   },
   {
    "duration": 13,
    "start_time": "2023-08-04T12:09:13.816Z"
   },
   {
    "duration": 2174,
    "start_time": "2023-08-04T12:11:23.595Z"
   },
   {
    "duration": 5,
    "start_time": "2023-08-04T12:12:47.671Z"
   },
   {
    "duration": 11,
    "start_time": "2023-08-04T12:14:12.972Z"
   },
   {
    "duration": 15,
    "start_time": "2023-08-04T12:14:22.222Z"
   },
   {
    "duration": 17,
    "start_time": "2023-08-04T12:19:26.138Z"
   },
   {
    "duration": 3,
    "start_time": "2023-08-04T12:20:43.551Z"
   },
   {
    "duration": 110,
    "start_time": "2023-08-04T12:20:44.175Z"
   },
   {
    "duration": 15,
    "start_time": "2023-08-04T12:20:45.034Z"
   },
   {
    "duration": 12,
    "start_time": "2023-08-04T12:20:49.796Z"
   },
   {
    "duration": 20,
    "start_time": "2023-08-04T12:20:50.924Z"
   },
   {
    "duration": 4,
    "start_time": "2023-08-04T12:20:54.240Z"
   },
   {
    "duration": 7,
    "start_time": "2023-08-04T12:20:55.590Z"
   },
   {
    "duration": 7,
    "start_time": "2023-08-04T12:24:30.821Z"
   },
   {
    "duration": 12,
    "start_time": "2023-08-04T12:24:54.267Z"
   },
   {
    "duration": 7,
    "start_time": "2023-08-04T12:24:58.885Z"
   },
   {
    "duration": 34,
    "start_time": "2023-08-04T12:25:52.247Z"
   },
   {
    "duration": 554,
    "start_time": "2023-08-04T12:33:32.154Z"
   },
   {
    "duration": 3,
    "start_time": "2023-08-04T12:33:55.468Z"
   },
   {
    "duration": 15,
    "start_time": "2023-08-04T12:34:03.375Z"
   },
   {
    "duration": 12,
    "start_time": "2023-08-04T12:34:12.222Z"
   },
   {
    "duration": 26,
    "start_time": "2023-08-04T12:35:20.262Z"
   },
   {
    "duration": 3,
    "start_time": "2023-08-04T12:39:50.738Z"
   },
   {
    "duration": 13,
    "start_time": "2023-08-04T12:39:59.288Z"
   },
   {
    "duration": 26,
    "start_time": "2023-08-04T12:40:41.091Z"
   },
   {
    "duration": 8,
    "start_time": "2023-08-04T12:42:31.751Z"
   },
   {
    "duration": 11,
    "start_time": "2023-08-04T12:42:37.482Z"
   },
   {
    "duration": 389,
    "start_time": "2023-08-04T12:42:54.551Z"
   },
   {
    "duration": 102,
    "start_time": "2023-08-04T12:42:54.943Z"
   },
   {
    "duration": 19,
    "start_time": "2023-08-04T12:42:55.047Z"
   },
   {
    "duration": 16,
    "start_time": "2023-08-04T12:42:55.068Z"
   },
   {
    "duration": 3,
    "start_time": "2023-08-04T12:42:55.087Z"
   },
   {
    "duration": 21,
    "start_time": "2023-08-04T12:42:55.092Z"
   },
   {
    "duration": 46,
    "start_time": "2023-08-04T12:42:55.115Z"
   },
   {
    "duration": 9,
    "start_time": "2023-08-04T12:42:55.162Z"
   },
   {
    "duration": 15,
    "start_time": "2023-08-04T12:42:55.172Z"
   },
   {
    "duration": 7,
    "start_time": "2023-08-04T12:42:55.190Z"
   },
   {
    "duration": 47,
    "start_time": "2023-08-04T12:42:55.198Z"
   },
   {
    "duration": 10,
    "start_time": "2023-08-04T12:42:55.247Z"
   },
   {
    "duration": 14,
    "start_time": "2023-08-04T12:42:55.258Z"
   },
   {
    "duration": 5,
    "start_time": "2023-08-04T12:42:55.273Z"
   },
   {
    "duration": 36,
    "start_time": "2023-08-04T12:42:55.280Z"
   },
   {
    "duration": 9,
    "start_time": "2023-08-04T12:42:55.318Z"
   },
   {
    "duration": 12,
    "start_time": "2023-08-04T12:43:21.741Z"
   },
   {
    "duration": 3,
    "start_time": "2023-08-04T12:44:15.908Z"
   },
   {
    "duration": 11,
    "start_time": "2023-08-04T12:44:21.785Z"
   },
   {
    "duration": 28,
    "start_time": "2023-08-04T12:44:51.044Z"
   },
   {
    "duration": 20,
    "start_time": "2023-08-04T12:45:06.428Z"
   },
   {
    "duration": 29,
    "start_time": "2023-08-04T12:54:02.510Z"
   },
   {
    "duration": 12,
    "start_time": "2023-08-04T12:58:01.561Z"
   },
   {
    "duration": 12,
    "start_time": "2023-08-04T13:00:07.248Z"
   },
   {
    "duration": 31,
    "start_time": "2023-08-04T13:00:26.200Z"
   },
   {
    "duration": 12,
    "start_time": "2023-08-04T13:01:26.068Z"
   },
   {
    "duration": 36,
    "start_time": "2023-08-04T13:01:30.960Z"
   },
   {
    "duration": 17,
    "start_time": "2023-08-04T13:03:08.555Z"
   },
   {
    "duration": 20,
    "start_time": "2023-08-04T13:03:23.891Z"
   },
   {
    "duration": 9,
    "start_time": "2023-08-04T13:25:08.830Z"
   },
   {
    "duration": 10,
    "start_time": "2023-08-04T13:28:04.320Z"
   },
   {
    "duration": 6,
    "start_time": "2023-08-04T13:28:23.394Z"
   },
   {
    "duration": 622,
    "start_time": "2023-08-04T13:28:59.905Z"
   },
   {
    "duration": 577,
    "start_time": "2023-08-04T13:29:31.776Z"
   },
   {
    "duration": 96,
    "start_time": "2023-08-04T13:29:37.845Z"
   },
   {
    "duration": 84,
    "start_time": "2023-08-04T13:36:20.376Z"
   },
   {
    "duration": 38,
    "start_time": "2023-08-04T13:37:06.328Z"
   },
   {
    "duration": 100,
    "start_time": "2023-08-04T13:38:39.533Z"
   },
   {
    "duration": 95,
    "start_time": "2023-08-04T13:38:52.773Z"
   },
   {
    "duration": 7,
    "start_time": "2023-08-04T13:41:53.183Z"
   },
   {
    "duration": 100,
    "start_time": "2023-08-04T13:42:48.022Z"
   },
   {
    "duration": 8,
    "start_time": "2023-08-04T13:43:50.006Z"
   },
   {
    "duration": 114,
    "start_time": "2023-08-04T13:44:17.339Z"
   },
   {
    "duration": 17,
    "start_time": "2023-08-04T13:45:49.432Z"
   },
   {
    "duration": 354,
    "start_time": "2023-08-04T13:47:56.747Z"
   },
   {
    "duration": 14,
    "start_time": "2023-08-04T14:01:03.745Z"
   },
   {
    "duration": 311,
    "start_time": "2023-08-04T14:01:34.144Z"
   },
   {
    "duration": 8,
    "start_time": "2023-08-04T14:30:22.595Z"
   },
   {
    "duration": 13,
    "start_time": "2023-08-04T14:30:34.850Z"
   },
   {
    "duration": 2061,
    "start_time": "2023-08-04T14:31:04.546Z"
   },
   {
    "duration": 3125,
    "start_time": "2023-08-04T14:33:12.579Z"
   },
   {
    "duration": 8,
    "start_time": "2023-08-04T14:34:27.601Z"
   },
   {
    "duration": 13,
    "start_time": "2023-08-04T14:34:32.675Z"
   },
   {
    "duration": 18,
    "start_time": "2023-08-04T14:36:20.168Z"
   },
   {
    "duration": 20,
    "start_time": "2023-08-04T14:37:15.645Z"
   },
   {
    "duration": 16,
    "start_time": "2023-08-04T14:37:21.617Z"
   },
   {
    "duration": 386,
    "start_time": "2023-08-04T14:38:14.878Z"
   },
   {
    "duration": 185,
    "start_time": "2023-08-04T14:39:01.638Z"
   },
   {
    "duration": 385,
    "start_time": "2023-08-04T14:39:23.244Z"
   },
   {
    "duration": 323,
    "start_time": "2023-08-04T14:40:45.159Z"
   },
   {
    "duration": 376,
    "start_time": "2023-08-04T14:41:53.327Z"
   },
   {
    "duration": 316,
    "start_time": "2023-08-04T14:42:36.781Z"
   },
   {
    "duration": 317,
    "start_time": "2023-08-04T14:43:26.270Z"
   },
   {
    "duration": 10,
    "start_time": "2023-08-04T14:47:27.311Z"
   },
   {
    "duration": 115,
    "start_time": "2023-08-04T14:48:18.947Z"
   },
   {
    "duration": 7,
    "start_time": "2023-08-04T14:49:11.394Z"
   },
   {
    "duration": 130,
    "start_time": "2023-08-04T14:50:08.935Z"
   },
   {
    "duration": 7,
    "start_time": "2023-08-04T14:51:51.250Z"
   },
   {
    "duration": 147,
    "start_time": "2023-08-04T14:52:15.493Z"
   },
   {
    "duration": 9,
    "start_time": "2023-08-04T14:52:45.530Z"
   },
   {
    "duration": 128,
    "start_time": "2023-08-04T14:52:50.217Z"
   },
   {
    "duration": 13,
    "start_time": "2023-08-04T14:54:05.721Z"
   },
   {
    "duration": 8,
    "start_time": "2023-08-04T14:54:40.594Z"
   },
   {
    "duration": 123,
    "start_time": "2023-08-04T14:54:42.136Z"
   },
   {
    "duration": 14,
    "start_time": "2023-08-04T14:55:01.609Z"
   },
   {
    "duration": 255,
    "start_time": "2023-08-04T14:55:03.137Z"
   },
   {
    "duration": 45,
    "start_time": "2023-08-04T14:57:26.254Z"
   },
   {
    "duration": 11,
    "start_time": "2023-08-04T14:58:29.732Z"
   },
   {
    "duration": 183,
    "start_time": "2023-08-04T14:59:00.608Z"
   },
   {
    "duration": 32,
    "start_time": "2023-08-04T14:59:40.891Z"
   },
   {
    "duration": 161,
    "start_time": "2023-08-04T14:59:44.480Z"
   },
   {
    "duration": 9,
    "start_time": "2023-08-04T15:02:56.387Z"
   },
   {
    "duration": 145,
    "start_time": "2023-08-04T15:03:11.395Z"
   },
   {
    "duration": 32,
    "start_time": "2023-08-04T15:32:36.526Z"
   },
   {
    "duration": 26,
    "start_time": "2023-08-04T15:33:31.891Z"
   },
   {
    "duration": 597,
    "start_time": "2023-08-04T15:34:13.630Z"
   },
   {
    "duration": 1883,
    "start_time": "2023-08-04T15:34:25.589Z"
   },
   {
    "duration": 352,
    "start_time": "2023-08-04T15:34:33.828Z"
   },
   {
    "duration": 1116,
    "start_time": "2023-08-05T00:08:05.263Z"
   },
   {
    "duration": 95,
    "start_time": "2023-08-05T00:08:06.380Z"
   },
   {
    "duration": 3,
    "start_time": "2023-08-05T00:08:13.824Z"
   },
   {
    "duration": 94,
    "start_time": "2023-08-05T00:08:13.938Z"
   },
   {
    "duration": 14,
    "start_time": "2023-08-05T00:08:16.146Z"
   },
   {
    "duration": 13,
    "start_time": "2023-08-05T00:08:17.617Z"
   },
   {
    "duration": 83,
    "start_time": "2023-08-05T09:58:09.280Z"
   },
   {
    "duration": 1847,
    "start_time": "2023-08-05T09:58:20.225Z"
   },
   {
    "duration": 340,
    "start_time": "2023-08-05T09:58:22.074Z"
   },
   {
    "duration": 21,
    "start_time": "2023-08-05T09:58:22.416Z"
   },
   {
    "duration": 28,
    "start_time": "2023-08-05T09:58:22.453Z"
   },
   {
    "duration": 5,
    "start_time": "2023-08-05T09:58:22.483Z"
   },
   {
    "duration": 21,
    "start_time": "2023-08-05T09:58:22.490Z"
   },
   {
    "duration": 14,
    "start_time": "2023-08-05T09:58:22.513Z"
   },
   {
    "duration": 7,
    "start_time": "2023-08-05T09:58:22.529Z"
   },
   {
    "duration": 128,
    "start_time": "2023-08-05T09:58:22.543Z"
   },
   {
    "duration": 6,
    "start_time": "2023-08-05T09:58:22.673Z"
   },
   {
    "duration": 128,
    "start_time": "2023-08-05T09:58:22.681Z"
   },
   {
    "duration": 12,
    "start_time": "2023-08-05T09:58:22.810Z"
   },
   {
    "duration": 240,
    "start_time": "2023-08-05T09:58:22.824Z"
   },
   {
    "duration": 19,
    "start_time": "2023-08-05T09:58:23.066Z"
   },
   {
    "duration": 282,
    "start_time": "2023-08-05T09:58:23.088Z"
   },
   {
    "duration": 14,
    "start_time": "2023-08-05T09:58:23.371Z"
   },
   {
    "duration": 382,
    "start_time": "2023-08-05T09:58:23.387Z"
   },
   {
    "duration": 13,
    "start_time": "2023-08-05T09:58:23.770Z"
   },
   {
    "duration": 241,
    "start_time": "2023-08-05T09:58:23.785Z"
   },
   {
    "duration": 27,
    "start_time": "2023-08-05T09:58:24.028Z"
   },
   {
    "duration": 16,
    "start_time": "2023-08-05T09:58:24.061Z"
   },
   {
    "duration": 4,
    "start_time": "2023-08-05T09:58:24.079Z"
   },
   {
    "duration": 10,
    "start_time": "2023-08-05T09:58:24.084Z"
   },
   {
    "duration": 93,
    "start_time": "2023-08-05T09:58:24.096Z"
   },
   {
    "duration": 6,
    "start_time": "2023-08-05T09:58:24.190Z"
   },
   {
    "duration": 99,
    "start_time": "2023-08-05T09:58:24.198Z"
   },
   {
    "duration": 7,
    "start_time": "2023-08-05T09:58:24.299Z"
   },
   {
    "duration": 120,
    "start_time": "2023-08-05T09:58:24.310Z"
   },
   {
    "duration": 13,
    "start_time": "2023-08-05T09:58:24.431Z"
   },
   {
    "duration": 110,
    "start_time": "2023-08-05T09:58:24.457Z"
   },
   {
    "duration": 15,
    "start_time": "2023-08-05T09:58:24.569Z"
   },
   {
    "duration": 24,
    "start_time": "2023-08-05T09:58:24.585Z"
   },
   {
    "duration": 4,
    "start_time": "2023-08-05T09:58:24.611Z"
   },
   {
    "duration": 39,
    "start_time": "2023-08-05T09:58:24.617Z"
   },
   {
    "duration": 155,
    "start_time": "2023-08-05T09:58:24.658Z"
   },
   {
    "duration": 9,
    "start_time": "2023-08-05T09:58:24.816Z"
   },
   {
    "duration": 51,
    "start_time": "2023-08-05T09:58:24.827Z"
   },
   {
    "duration": 24,
    "start_time": "2023-08-05T09:58:24.880Z"
   },
   {
    "duration": 16,
    "start_time": "2023-08-05T09:58:37.288Z"
   },
   {
    "duration": 15,
    "start_time": "2023-08-05T09:58:48.115Z"
   },
   {
    "duration": 28,
    "start_time": "2023-08-05T09:59:00.528Z"
   },
   {
    "duration": 51,
    "start_time": "2023-08-05T09:59:31.857Z"
   },
   {
    "duration": 34,
    "start_time": "2023-08-05T09:59:38.957Z"
   },
   {
    "duration": 16,
    "start_time": "2023-08-05T09:59:52.190Z"
   },
   {
    "duration": 15,
    "start_time": "2023-08-05T10:00:18.665Z"
   },
   {
    "duration": 10,
    "start_time": "2023-08-05T10:00:35.561Z"
   },
   {
    "duration": 108,
    "start_time": "2023-08-05T10:01:23.883Z"
   },
   {
    "duration": 83,
    "start_time": "2023-08-05T10:01:33.251Z"
   },
   {
    "duration": 16,
    "start_time": "2023-08-05T10:04:03.245Z"
   },
   {
    "duration": 28,
    "start_time": "2023-08-05T10:04:17.468Z"
   },
   {
    "duration": 10,
    "start_time": "2023-08-05T10:05:14.467Z"
   },
   {
    "duration": 18,
    "start_time": "2023-08-05T10:05:24.081Z"
   },
   {
    "duration": 15,
    "start_time": "2023-08-05T10:07:00.475Z"
   },
   {
    "duration": 13,
    "start_time": "2023-08-05T10:07:06.481Z"
   },
   {
    "duration": 6,
    "start_time": "2023-08-05T10:18:36.016Z"
   },
   {
    "duration": 260,
    "start_time": "2023-08-05T10:19:09.863Z"
   },
   {
    "duration": 26,
    "start_time": "2023-08-05T10:19:45.401Z"
   },
   {
    "duration": 30,
    "start_time": "2023-08-05T10:20:03.215Z"
   },
   {
    "duration": 20,
    "start_time": "2023-08-05T10:24:25.198Z"
   },
   {
    "duration": 29,
    "start_time": "2023-08-05T10:25:17.084Z"
   },
   {
    "duration": 14,
    "start_time": "2023-08-05T10:25:39.902Z"
   },
   {
    "duration": 5,
    "start_time": "2023-08-05T10:26:15.168Z"
   },
   {
    "duration": 283,
    "start_time": "2023-08-05T10:26:34.501Z"
   },
   {
    "duration": 285,
    "start_time": "2023-08-05T10:27:38.015Z"
   },
   {
    "duration": 18,
    "start_time": "2023-08-05T10:29:33.961Z"
   },
   {
    "duration": 61,
    "start_time": "2023-08-05T10:29:41.892Z"
   },
   {
    "duration": 28,
    "start_time": "2023-08-05T10:30:05.967Z"
   },
   {
    "duration": 30,
    "start_time": "2023-08-05T10:31:13.163Z"
   },
   {
    "duration": 15,
    "start_time": "2023-08-05T10:33:02.193Z"
   },
   {
    "duration": 6,
    "start_time": "2023-08-05T10:35:03.183Z"
   },
   {
    "duration": 7,
    "start_time": "2023-08-05T10:35:13.557Z"
   },
   {
    "duration": 14,
    "start_time": "2023-08-05T13:23:44.564Z"
   },
   {
    "duration": 15,
    "start_time": "2023-08-05T13:24:09.849Z"
   },
   {
    "duration": 3,
    "start_time": "2023-08-05T13:28:07.778Z"
   },
   {
    "duration": 1140,
    "start_time": "2023-08-05T13:28:33.609Z"
   },
   {
    "duration": 91,
    "start_time": "2023-08-05T13:28:34.751Z"
   },
   {
    "duration": 13,
    "start_time": "2023-08-05T13:28:34.843Z"
   },
   {
    "duration": 12,
    "start_time": "2023-08-05T13:28:34.857Z"
   },
   {
    "duration": 20,
    "start_time": "2023-08-05T13:28:34.870Z"
   },
   {
    "duration": 30,
    "start_time": "2023-08-05T13:28:34.892Z"
   },
   {
    "duration": 11,
    "start_time": "2023-08-05T13:28:34.923Z"
   },
   {
    "duration": 15,
    "start_time": "2023-08-05T13:28:34.935Z"
   },
   {
    "duration": 98,
    "start_time": "2023-08-05T13:28:34.951Z"
   },
   {
    "duration": 6,
    "start_time": "2023-08-05T13:28:35.051Z"
   },
   {
    "duration": 124,
    "start_time": "2023-08-05T13:28:35.058Z"
   },
   {
    "duration": 12,
    "start_time": "2023-08-05T13:28:35.184Z"
   },
   {
    "duration": 212,
    "start_time": "2023-08-05T13:28:35.198Z"
   },
   {
    "duration": 12,
    "start_time": "2023-08-05T13:28:35.412Z"
   },
   {
    "duration": 207,
    "start_time": "2023-08-05T13:28:35.425Z"
   },
   {
    "duration": 12,
    "start_time": "2023-08-05T13:28:35.634Z"
   },
   {
    "duration": 341,
    "start_time": "2023-08-05T13:28:35.647Z"
   },
   {
    "duration": 10,
    "start_time": "2023-08-05T13:28:35.989Z"
   },
   {
    "duration": 223,
    "start_time": "2023-08-05T13:28:36.001Z"
   },
   {
    "duration": 13,
    "start_time": "2023-08-05T13:28:36.226Z"
   },
   {
    "duration": 17,
    "start_time": "2023-08-05T13:28:36.241Z"
   },
   {
    "duration": 15,
    "start_time": "2023-08-05T13:28:36.260Z"
   },
   {
    "duration": 16,
    "start_time": "2023-08-05T13:28:36.276Z"
   },
   {
    "duration": 77,
    "start_time": "2023-08-05T13:28:36.294Z"
   },
   {
    "duration": 5,
    "start_time": "2023-08-05T13:28:36.373Z"
   },
   {
    "duration": 102,
    "start_time": "2023-08-05T13:28:36.379Z"
   },
   {
    "duration": 5,
    "start_time": "2023-08-05T13:28:36.483Z"
   },
   {
    "duration": 86,
    "start_time": "2023-08-05T13:28:36.491Z"
   },
   {
    "duration": 5,
    "start_time": "2023-08-05T13:28:36.579Z"
   },
   {
    "duration": 83,
    "start_time": "2023-08-05T13:28:36.585Z"
   },
   {
    "duration": 9,
    "start_time": "2023-08-05T13:28:36.669Z"
   },
   {
    "duration": 15,
    "start_time": "2023-08-05T13:28:36.679Z"
   },
   {
    "duration": 3,
    "start_time": "2023-08-05T13:28:36.695Z"
   },
   {
    "duration": 26,
    "start_time": "2023-08-05T13:28:36.699Z"
   },
   {
    "duration": 86,
    "start_time": "2023-08-05T13:28:36.727Z"
   },
   {
    "duration": 6,
    "start_time": "2023-08-05T13:28:36.815Z"
   },
   {
    "duration": 20,
    "start_time": "2023-08-05T13:28:36.822Z"
   },
   {
    "duration": 5,
    "start_time": "2023-08-05T13:28:36.843Z"
   },
   {
    "duration": 23,
    "start_time": "2023-08-05T13:28:36.849Z"
   },
   {
    "duration": 15,
    "start_time": "2023-08-05T13:28:36.873Z"
   },
   {
    "duration": 25,
    "start_time": "2023-08-05T13:28:36.889Z"
   },
   {
    "duration": 23,
    "start_time": "2023-08-05T13:28:36.915Z"
   },
   {
    "duration": 16,
    "start_time": "2023-08-05T13:28:36.939Z"
   },
   {
    "duration": 58,
    "start_time": "2023-08-05T13:28:36.957Z"
   },
   {
    "duration": 6,
    "start_time": "2023-08-05T13:28:37.017Z"
   },
   {
    "duration": 23,
    "start_time": "2023-08-05T13:28:37.025Z"
   },
   {
    "duration": 9,
    "start_time": "2023-08-05T13:28:37.049Z"
   },
   {
    "duration": 13,
    "start_time": "2023-08-05T13:28:49.862Z"
   },
   {
    "duration": 19,
    "start_time": "2023-08-05T13:31:29.229Z"
   },
   {
    "duration": 5,
    "start_time": "2023-08-05T13:31:32.275Z"
   },
   {
    "duration": 111,
    "start_time": "2023-08-05T13:43:23.898Z"
   },
   {
    "duration": 8,
    "start_time": "2023-08-05T13:43:44.320Z"
   },
   {
    "duration": 12,
    "start_time": "2023-08-05T14:37:32.974Z"
   },
   {
    "duration": 32,
    "start_time": "2023-08-05T14:38:04.643Z"
   },
   {
    "duration": 29,
    "start_time": "2023-08-05T14:38:17.146Z"
   },
   {
    "duration": 60,
    "start_time": "2023-08-05T14:39:59.077Z"
   },
   {
    "duration": 4,
    "start_time": "2023-08-05T14:42:12.235Z"
   },
   {
    "duration": 3,
    "start_time": "2023-08-05T14:42:18.530Z"
   },
   {
    "duration": 5,
    "start_time": "2023-08-05T14:42:36.342Z"
   },
   {
    "duration": 51,
    "start_time": "2023-08-05T14:42:50.363Z"
   },
   {
    "duration": 7,
    "start_time": "2023-08-05T14:42:54.247Z"
   },
   {
    "duration": 6,
    "start_time": "2023-08-05T14:43:18.795Z"
   },
   {
    "duration": 5,
    "start_time": "2023-08-05T14:44:12.800Z"
   },
   {
    "duration": 21,
    "start_time": "2023-08-05T14:44:32.628Z"
   },
   {
    "duration": 22,
    "start_time": "2023-08-05T14:45:57.267Z"
   },
   {
    "duration": 6,
    "start_time": "2023-08-05T14:46:13.839Z"
   },
   {
    "duration": 14,
    "start_time": "2023-08-05T14:46:17.407Z"
   },
   {
    "duration": 5611,
    "start_time": "2023-08-05T16:55:42.656Z"
   },
   {
    "duration": 2631,
    "start_time": "2023-08-05T16:56:10.582Z"
   },
   {
    "duration": 16,
    "start_time": "2023-08-05T16:56:35.407Z"
   },
   {
    "duration": 108,
    "start_time": "2023-08-05T16:59:56.244Z"
   },
   {
    "duration": 37,
    "start_time": "2023-08-05T17:10:44.313Z"
   },
   {
    "duration": 3,
    "start_time": "2023-08-05T17:15:03.997Z"
   },
   {
    "duration": 2,
    "start_time": "2023-08-05T17:17:42.370Z"
   },
   {
    "duration": 48,
    "start_time": "2023-08-05T17:18:52.169Z"
   },
   {
    "duration": 879,
    "start_time": "2023-08-05T17:20:17.429Z"
   },
   {
    "duration": 5157,
    "start_time": "2023-08-05T17:22:02.764Z"
   },
   {
    "duration": 24,
    "start_time": "2023-08-05T17:24:49.982Z"
   },
   {
    "duration": 8,
    "start_time": "2023-08-05T17:29:07.972Z"
   },
   {
    "duration": 8,
    "start_time": "2023-08-05T17:29:27.908Z"
   },
   {
    "duration": 8,
    "start_time": "2023-08-05T17:29:41.677Z"
   },
   {
    "duration": 5784,
    "start_time": "2023-08-05T17:36:32.003Z"
   },
   {
    "duration": 5933,
    "start_time": "2023-08-05T17:37:28.808Z"
   },
   {
    "duration": 5488,
    "start_time": "2023-08-05T17:37:50.336Z"
   },
   {
    "duration": 584,
    "start_time": "2023-08-05T17:38:06.781Z"
   },
   {
    "duration": 483,
    "start_time": "2023-08-05T17:39:29.329Z"
   },
   {
    "duration": 503,
    "start_time": "2023-08-05T17:39:44.621Z"
   },
   {
    "duration": 524,
    "start_time": "2023-08-05T17:39:54.122Z"
   },
   {
    "duration": 492,
    "start_time": "2023-08-05T17:40:09.726Z"
   },
   {
    "duration": 5,
    "start_time": "2023-08-05T17:41:28.352Z"
   },
   {
    "duration": 3,
    "start_time": "2023-08-05T17:43:24.546Z"
   },
   {
    "duration": 5960,
    "start_time": "2023-08-05T17:43:25.517Z"
   },
   {
    "duration": 523,
    "start_time": "2023-08-05T17:43:32.854Z"
   },
   {
    "duration": 13,
    "start_time": "2023-08-05T17:43:45.572Z"
   },
   {
    "duration": 2319,
    "start_time": "2023-08-05T17:44:05.194Z"
   },
   {
    "duration": 1948,
    "start_time": "2023-08-05T17:44:07.515Z"
   },
   {
    "duration": 1053,
    "start_time": "2023-08-05T17:44:09.465Z"
   },
   {
    "duration": 92,
    "start_time": "2023-08-05T17:44:10.519Z"
   },
   {
    "duration": 13,
    "start_time": "2023-08-05T17:44:10.612Z"
   },
   {
    "duration": 12,
    "start_time": "2023-08-05T17:44:10.627Z"
   },
   {
    "duration": 3,
    "start_time": "2023-08-05T17:44:10.641Z"
   },
   {
    "duration": 15,
    "start_time": "2023-08-05T17:44:10.645Z"
   },
   {
    "duration": 8,
    "start_time": "2023-08-05T17:44:10.662Z"
   },
   {
    "duration": 5,
    "start_time": "2023-08-05T17:44:10.672Z"
   },
   {
    "duration": 106,
    "start_time": "2023-08-05T17:44:10.679Z"
   },
   {
    "duration": 5,
    "start_time": "2023-08-05T17:44:10.787Z"
   },
   {
    "duration": 107,
    "start_time": "2023-08-05T17:44:10.794Z"
   },
   {
    "duration": 12,
    "start_time": "2023-08-05T17:44:10.903Z"
   },
   {
    "duration": 244,
    "start_time": "2023-08-05T17:44:10.916Z"
   },
   {
    "duration": 11,
    "start_time": "2023-08-05T17:44:11.162Z"
   },
   {
    "duration": 212,
    "start_time": "2023-08-05T17:44:11.174Z"
   },
   {
    "duration": 11,
    "start_time": "2023-08-05T17:44:11.387Z"
   },
   {
    "duration": 353,
    "start_time": "2023-08-05T17:44:11.400Z"
   },
   {
    "duration": 9,
    "start_time": "2023-08-05T17:44:11.755Z"
   },
   {
    "duration": 250,
    "start_time": "2023-08-05T17:44:11.766Z"
   },
   {
    "duration": 7,
    "start_time": "2023-08-05T17:44:12.017Z"
   },
   {
    "duration": 10,
    "start_time": "2023-08-05T17:44:12.037Z"
   },
   {
    "duration": 6,
    "start_time": "2023-08-05T17:44:12.048Z"
   },
   {
    "duration": 7,
    "start_time": "2023-08-05T17:44:12.056Z"
   },
   {
    "duration": 84,
    "start_time": "2023-08-05T17:44:12.064Z"
   },
   {
    "duration": 5,
    "start_time": "2023-08-05T17:44:12.150Z"
   },
   {
    "duration": 91,
    "start_time": "2023-08-05T17:44:12.158Z"
   },
   {
    "duration": 5,
    "start_time": "2023-08-05T17:44:12.250Z"
   },
   {
    "duration": 84,
    "start_time": "2023-08-05T17:44:12.256Z"
   },
   {
    "duration": 5,
    "start_time": "2023-08-05T17:44:12.341Z"
   },
   {
    "duration": 76,
    "start_time": "2023-08-05T17:44:12.348Z"
   },
   {
    "duration": 19,
    "start_time": "2023-08-05T17:44:12.425Z"
   },
   {
    "duration": 11,
    "start_time": "2023-08-05T17:44:12.446Z"
   },
   {
    "duration": 3,
    "start_time": "2023-08-05T17:44:12.458Z"
   },
   {
    "duration": 9,
    "start_time": "2023-08-05T17:44:12.463Z"
   },
   {
    "duration": 98,
    "start_time": "2023-08-05T17:44:12.473Z"
   },
   {
    "duration": 7,
    "start_time": "2023-08-05T17:44:12.572Z"
   },
   {
    "duration": 11,
    "start_time": "2023-08-05T17:44:12.580Z"
   },
   {
    "duration": 6,
    "start_time": "2023-08-05T17:44:12.592Z"
   },
   {
    "duration": 22,
    "start_time": "2023-08-05T17:44:12.599Z"
   },
   {
    "duration": 28,
    "start_time": "2023-08-05T17:44:12.622Z"
   },
   {
    "duration": 15,
    "start_time": "2023-08-05T17:44:12.651Z"
   },
   {
    "duration": 12,
    "start_time": "2023-08-05T17:44:12.667Z"
   },
   {
    "duration": 8,
    "start_time": "2023-08-05T17:44:12.681Z"
   },
   {
    "duration": 74,
    "start_time": "2023-08-05T17:44:12.690Z"
   },
   {
    "duration": 7,
    "start_time": "2023-08-05T17:44:12.765Z"
   },
   {
    "duration": 8,
    "start_time": "2023-08-05T17:44:12.774Z"
   },
   {
    "duration": 31,
    "start_time": "2023-08-05T17:44:12.783Z"
   },
   {
    "duration": 14,
    "start_time": "2023-08-05T17:44:12.816Z"
   },
   {
    "duration": 5,
    "start_time": "2023-08-05T17:44:15.828Z"
   },
   {
    "duration": 14,
    "start_time": "2023-08-05T17:44:17.880Z"
   },
   {
    "duration": 2,
    "start_time": "2023-08-05T17:44:24.886Z"
   },
   {
    "duration": 843,
    "start_time": "2023-08-05T17:44:25.955Z"
   },
   {
    "duration": 469,
    "start_time": "2023-08-05T17:44:29.610Z"
   },
   {
    "duration": 29,
    "start_time": "2023-08-05T17:45:07.751Z"
   },
   {
    "duration": 2303,
    "start_time": "2023-08-05T17:57:41.998Z"
   },
   {
    "duration": 1918,
    "start_time": "2023-08-05T17:57:44.303Z"
   },
   {
    "duration": 3,
    "start_time": "2023-08-05T17:57:46.223Z"
   },
   {
    "duration": 100,
    "start_time": "2023-08-05T17:57:46.228Z"
   },
   {
    "duration": 11,
    "start_time": "2023-08-05T17:57:46.329Z"
   },
   {
    "duration": 18,
    "start_time": "2023-08-05T17:57:46.341Z"
   },
   {
    "duration": 3,
    "start_time": "2023-08-05T17:57:46.361Z"
   },
   {
    "duration": 14,
    "start_time": "2023-08-05T17:57:46.366Z"
   },
   {
    "duration": 9,
    "start_time": "2023-08-05T17:57:46.382Z"
   },
   {
    "duration": 5,
    "start_time": "2023-08-05T17:57:46.487Z"
   },
   {
    "duration": 91,
    "start_time": "2023-08-05T17:57:46.494Z"
   },
   {
    "duration": 6,
    "start_time": "2023-08-05T17:57:46.586Z"
   },
   {
    "duration": 109,
    "start_time": "2023-08-05T17:57:46.593Z"
   },
   {
    "duration": 12,
    "start_time": "2023-08-05T17:57:46.704Z"
   },
   {
    "duration": 216,
    "start_time": "2023-08-05T17:57:46.717Z"
   },
   {
    "duration": 10,
    "start_time": "2023-08-05T17:57:46.938Z"
   },
   {
    "duration": 201,
    "start_time": "2023-08-05T17:57:46.950Z"
   },
   {
    "duration": 11,
    "start_time": "2023-08-05T17:57:47.152Z"
   },
   {
    "duration": 227,
    "start_time": "2023-08-05T17:57:47.164Z"
   },
   {
    "duration": 9,
    "start_time": "2023-08-05T17:57:47.393Z"
   },
   {
    "duration": 234,
    "start_time": "2023-08-05T17:57:47.404Z"
   },
   {
    "duration": 8,
    "start_time": "2023-08-05T17:57:47.639Z"
   },
   {
    "duration": 14,
    "start_time": "2023-08-05T17:57:47.648Z"
   },
   {
    "duration": 3,
    "start_time": "2023-08-05T17:57:47.663Z"
   },
   {
    "duration": 14,
    "start_time": "2023-08-05T17:57:47.667Z"
   },
   {
    "duration": 82,
    "start_time": "2023-08-05T17:57:47.682Z"
   },
   {
    "duration": 5,
    "start_time": "2023-08-05T17:57:47.765Z"
   },
   {
    "duration": 166,
    "start_time": "2023-08-05T17:57:47.773Z"
   },
   {
    "duration": 6,
    "start_time": "2023-08-05T17:57:47.940Z"
   },
   {
    "duration": 75,
    "start_time": "2023-08-05T17:57:47.947Z"
   },
   {
    "duration": 16,
    "start_time": "2023-08-05T17:57:48.023Z"
   },
   {
    "duration": 75,
    "start_time": "2023-08-05T17:57:48.040Z"
   },
   {
    "duration": 22,
    "start_time": "2023-08-05T17:57:48.116Z"
   },
   {
    "duration": 14,
    "start_time": "2023-08-05T17:57:48.140Z"
   },
   {
    "duration": 7,
    "start_time": "2023-08-05T17:57:48.155Z"
   },
   {
    "duration": 7,
    "start_time": "2023-08-05T17:57:48.164Z"
   },
   {
    "duration": 85,
    "start_time": "2023-08-05T17:57:48.173Z"
   },
   {
    "duration": 7,
    "start_time": "2023-08-05T17:57:48.259Z"
   },
   {
    "duration": 12,
    "start_time": "2023-08-05T17:57:48.267Z"
   },
   {
    "duration": 4,
    "start_time": "2023-08-05T17:57:48.280Z"
   },
   {
    "duration": 22,
    "start_time": "2023-08-05T17:57:48.286Z"
   },
   {
    "duration": 29,
    "start_time": "2023-08-05T17:57:48.310Z"
   },
   {
    "duration": 17,
    "start_time": "2023-08-05T17:57:48.340Z"
   },
   {
    "duration": 14,
    "start_time": "2023-08-05T17:57:48.359Z"
   },
   {
    "duration": 9,
    "start_time": "2023-08-05T17:57:48.374Z"
   },
   {
    "duration": 17,
    "start_time": "2023-08-05T17:57:48.385Z"
   },
   {
    "duration": 36,
    "start_time": "2023-08-05T17:57:48.403Z"
   },
   {
    "duration": 12,
    "start_time": "2023-08-05T17:57:56.819Z"
   },
   {
    "duration": 17,
    "start_time": "2023-08-05T17:57:58.077Z"
   },
   {
    "duration": 5,
    "start_time": "2023-08-05T17:57:58.865Z"
   },
   {
    "duration": 5,
    "start_time": "2023-08-05T17:58:02.531Z"
   },
   {
    "duration": 16,
    "start_time": "2023-08-05T17:58:04.414Z"
   },
   {
    "duration": 2,
    "start_time": "2023-08-05T17:58:12.795Z"
   },
   {
    "duration": 831,
    "start_time": "2023-08-05T17:58:13.482Z"
   },
   {
    "duration": 551,
    "start_time": "2023-08-05T17:58:14.792Z"
   },
   {
    "duration": 26,
    "start_time": "2023-08-05T17:58:45.599Z"
   },
   {
    "duration": 1745,
    "start_time": "2023-08-05T18:01:09.576Z"
   },
   {
    "duration": 1894,
    "start_time": "2023-08-05T18:01:23.914Z"
   },
   {
    "duration": 827,
    "start_time": "2023-08-05T18:01:38.814Z"
   },
   {
    "duration": 1678,
    "start_time": "2023-08-05T18:01:42.052Z"
   },
   {
    "duration": 7498,
    "start_time": "2023-08-07T12:48:57.529Z"
   },
   {
    "duration": 3405,
    "start_time": "2023-08-07T12:49:05.030Z"
   },
   {
    "duration": 1598,
    "start_time": "2023-08-07T12:49:08.437Z"
   },
   {
    "duration": 496,
    "start_time": "2023-08-07T12:49:10.038Z"
   },
   {
    "duration": 20,
    "start_time": "2023-08-07T12:49:10.537Z"
   },
   {
    "duration": 26,
    "start_time": "2023-08-07T12:49:10.558Z"
   },
   {
    "duration": 15,
    "start_time": "2023-08-07T12:49:10.585Z"
   },
   {
    "duration": 24,
    "start_time": "2023-08-07T12:49:10.602Z"
   },
   {
    "duration": 14,
    "start_time": "2023-08-07T12:49:10.628Z"
   },
   {
    "duration": 15,
    "start_time": "2023-08-07T12:49:10.645Z"
   },
   {
    "duration": 127,
    "start_time": "2023-08-07T12:49:10.667Z"
   },
   {
    "duration": 8,
    "start_time": "2023-08-07T12:49:10.796Z"
   },
   {
    "duration": 145,
    "start_time": "2023-08-07T12:49:10.806Z"
   },
   {
    "duration": 24,
    "start_time": "2023-08-07T12:49:10.953Z"
   },
   {
    "duration": 308,
    "start_time": "2023-08-07T12:49:10.979Z"
   },
   {
    "duration": 15,
    "start_time": "2023-08-07T12:49:11.289Z"
   },
   {
    "duration": 345,
    "start_time": "2023-08-07T12:49:11.306Z"
   },
   {
    "duration": 30,
    "start_time": "2023-08-07T12:49:11.653Z"
   },
   {
    "duration": 512,
    "start_time": "2023-08-07T12:49:11.685Z"
   },
   {
    "duration": 12,
    "start_time": "2023-08-07T12:49:12.199Z"
   },
   {
    "duration": 333,
    "start_time": "2023-08-07T12:49:12.213Z"
   },
   {
    "duration": 16,
    "start_time": "2023-08-07T12:49:12.549Z"
   },
   {
    "duration": 16,
    "start_time": "2023-08-07T12:49:12.570Z"
   },
   {
    "duration": 23,
    "start_time": "2023-08-07T12:49:12.589Z"
   },
   {
    "duration": 10,
    "start_time": "2023-08-07T12:49:12.614Z"
   },
   {
    "duration": 109,
    "start_time": "2023-08-07T12:49:12.626Z"
   },
   {
    "duration": 6,
    "start_time": "2023-08-07T12:49:12.736Z"
   },
   {
    "duration": 122,
    "start_time": "2023-08-07T12:49:12.746Z"
   },
   {
    "duration": 11,
    "start_time": "2023-08-07T12:49:12.870Z"
   },
   {
    "duration": 113,
    "start_time": "2023-08-07T12:49:12.883Z"
   },
   {
    "duration": 6,
    "start_time": "2023-08-07T12:49:12.998Z"
   },
   {
    "duration": 128,
    "start_time": "2023-08-07T12:49:13.006Z"
   },
   {
    "duration": 12,
    "start_time": "2023-08-07T12:49:13.136Z"
   },
   {
    "duration": 29,
    "start_time": "2023-08-07T12:49:13.149Z"
   },
   {
    "duration": 3,
    "start_time": "2023-08-07T12:49:13.180Z"
   },
   {
    "duration": 19,
    "start_time": "2023-08-07T12:49:13.185Z"
   },
   {
    "duration": 109,
    "start_time": "2023-08-07T12:49:13.206Z"
   },
   {
    "duration": 8,
    "start_time": "2023-08-07T12:49:13.317Z"
   },
   {
    "duration": 16,
    "start_time": "2023-08-07T12:49:13.327Z"
   },
   {
    "duration": 4,
    "start_time": "2023-08-07T12:49:13.363Z"
   },
   {
    "duration": 37,
    "start_time": "2023-08-07T12:49:13.371Z"
   },
   {
    "duration": 19,
    "start_time": "2023-08-07T12:49:13.410Z"
   },
   {
    "duration": 33,
    "start_time": "2023-08-07T12:49:13.430Z"
   },
   {
    "duration": 20,
    "start_time": "2023-08-07T12:49:13.468Z"
   },
   {
    "duration": 13,
    "start_time": "2023-08-07T12:49:13.490Z"
   },
   {
    "duration": 87,
    "start_time": "2023-08-07T12:49:13.505Z"
   },
   {
    "duration": 9,
    "start_time": "2023-08-07T12:49:13.594Z"
   },
   {
    "duration": 12,
    "start_time": "2023-08-07T12:49:13.605Z"
   },
   {
    "duration": 23,
    "start_time": "2023-08-07T12:49:13.619Z"
   },
   {
    "duration": 14,
    "start_time": "2023-08-07T12:49:13.660Z"
   },
   {
    "duration": 37,
    "start_time": "2023-08-07T12:49:13.676Z"
   },
   {
    "duration": 59,
    "start_time": "2023-08-07T12:49:13.715Z"
   },
   {
    "duration": 64,
    "start_time": "2023-08-07T12:49:13.776Z"
   },
   {
    "duration": 6,
    "start_time": "2023-08-07T13:02:21.596Z"
   },
   {
    "duration": 21,
    "start_time": "2023-08-07T13:02:39.271Z"
   },
   {
    "duration": 118,
    "start_time": "2023-08-07T13:03:22.579Z"
   },
   {
    "duration": 3,
    "start_time": "2023-08-07T13:08:45.587Z"
   },
   {
    "duration": 216,
    "start_time": "2023-08-07T13:18:12.838Z"
   },
   {
    "duration": 114,
    "start_time": "2023-08-07T13:24:40.798Z"
   },
   {
    "duration": 5,
    "start_time": "2023-08-07T13:24:57.589Z"
   },
   {
    "duration": 9,
    "start_time": "2023-08-07T13:26:05.861Z"
   },
   {
    "duration": 13,
    "start_time": "2023-08-07T13:27:21.510Z"
   },
   {
    "duration": 10,
    "start_time": "2023-08-07T13:28:40.233Z"
   },
   {
    "duration": 23,
    "start_time": "2023-08-07T13:28:58.796Z"
   },
   {
    "duration": 5,
    "start_time": "2023-08-07T13:29:32.633Z"
   },
   {
    "duration": 22,
    "start_time": "2023-08-07T13:30:21.217Z"
   },
   {
    "duration": 6,
    "start_time": "2023-08-07T13:30:29.524Z"
   },
   {
    "duration": 17,
    "start_time": "2023-08-07T13:30:41.259Z"
   },
   {
    "duration": 7,
    "start_time": "2023-08-07T13:33:54.696Z"
   },
   {
    "duration": 26,
    "start_time": "2023-08-07T13:35:58.391Z"
   },
   {
    "duration": 14,
    "start_time": "2023-08-07T13:36:43.450Z"
   },
   {
    "duration": 4,
    "start_time": "2023-08-07T13:37:30.825Z"
   },
   {
    "duration": 89,
    "start_time": "2023-08-07T13:37:36.898Z"
   },
   {
    "duration": 2598,
    "start_time": "2023-08-07T13:41:14.894Z"
   },
   {
    "duration": 2070,
    "start_time": "2023-08-07T13:41:17.494Z"
   },
   {
    "duration": 1317,
    "start_time": "2023-08-07T13:41:19.566Z"
   },
   {
    "duration": 94,
    "start_time": "2023-08-07T13:41:20.885Z"
   },
   {
    "duration": 14,
    "start_time": "2023-08-07T13:41:20.982Z"
   },
   {
    "duration": 14,
    "start_time": "2023-08-07T13:41:20.998Z"
   },
   {
    "duration": 3,
    "start_time": "2023-08-07T13:41:21.013Z"
   },
   {
    "duration": 13,
    "start_time": "2023-08-07T13:41:21.017Z"
   },
   {
    "duration": 12,
    "start_time": "2023-08-07T13:41:21.032Z"
   },
   {
    "duration": 6,
    "start_time": "2023-08-07T13:41:21.059Z"
   },
   {
    "duration": 114,
    "start_time": "2023-08-07T13:41:21.067Z"
   },
   {
    "duration": 7,
    "start_time": "2023-08-07T13:41:21.183Z"
   },
   {
    "duration": 130,
    "start_time": "2023-08-07T13:41:21.191Z"
   },
   {
    "duration": 21,
    "start_time": "2023-08-07T13:41:21.324Z"
   },
   {
    "duration": 300,
    "start_time": "2023-08-07T13:41:21.347Z"
   },
   {
    "duration": 18,
    "start_time": "2023-08-07T13:41:21.649Z"
   },
   {
    "duration": 374,
    "start_time": "2023-08-07T13:41:21.669Z"
   },
   {
    "duration": 18,
    "start_time": "2023-08-07T13:41:22.045Z"
   },
   {
    "duration": 338,
    "start_time": "2023-08-07T13:41:22.065Z"
   },
   {
    "duration": 14,
    "start_time": "2023-08-07T13:41:22.405Z"
   },
   {
    "duration": 295,
    "start_time": "2023-08-07T13:41:22.421Z"
   },
   {
    "duration": 9,
    "start_time": "2023-08-07T13:41:22.718Z"
   },
   {
    "duration": 20,
    "start_time": "2023-08-07T13:41:22.729Z"
   },
   {
    "duration": 3,
    "start_time": "2023-08-07T13:41:22.760Z"
   },
   {
    "duration": 9,
    "start_time": "2023-08-07T13:41:22.765Z"
   },
   {
    "duration": 110,
    "start_time": "2023-08-07T13:41:22.776Z"
   },
   {
    "duration": 7,
    "start_time": "2023-08-07T13:41:22.888Z"
   },
   {
    "duration": 111,
    "start_time": "2023-08-07T13:41:22.897Z"
   },
   {
    "duration": 7,
    "start_time": "2023-08-07T13:41:23.010Z"
   },
   {
    "duration": 113,
    "start_time": "2023-08-07T13:41:23.019Z"
   },
   {
    "duration": 7,
    "start_time": "2023-08-07T13:41:23.134Z"
   },
   {
    "duration": 104,
    "start_time": "2023-08-07T13:41:23.143Z"
   },
   {
    "duration": 20,
    "start_time": "2023-08-07T13:41:23.249Z"
   },
   {
    "duration": 13,
    "start_time": "2023-08-07T13:41:23.271Z"
   },
   {
    "duration": 5,
    "start_time": "2023-08-07T13:41:23.286Z"
   },
   {
    "duration": 8,
    "start_time": "2023-08-07T13:41:23.293Z"
   },
   {
    "duration": 228,
    "start_time": "2023-08-07T13:41:23.303Z"
   },
   {
    "duration": 8,
    "start_time": "2023-08-07T13:41:23.533Z"
   },
   {
    "duration": 25,
    "start_time": "2023-08-07T13:41:23.543Z"
   },
   {
    "duration": 7,
    "start_time": "2023-08-07T13:41:23.570Z"
   },
   {
    "duration": 31,
    "start_time": "2023-08-07T13:41:23.581Z"
   },
   {
    "duration": 20,
    "start_time": "2023-08-07T13:41:23.614Z"
   },
   {
    "duration": 38,
    "start_time": "2023-08-07T13:41:23.636Z"
   },
   {
    "duration": 16,
    "start_time": "2023-08-07T13:41:23.676Z"
   },
   {
    "duration": 14,
    "start_time": "2023-08-07T13:41:23.694Z"
   },
   {
    "duration": 89,
    "start_time": "2023-08-07T13:41:23.711Z"
   },
   {
    "duration": 9,
    "start_time": "2023-08-07T13:41:23.802Z"
   },
   {
    "duration": 13,
    "start_time": "2023-08-07T13:41:23.813Z"
   },
   {
    "duration": 39,
    "start_time": "2023-08-07T13:41:23.827Z"
   },
   {
    "duration": 10,
    "start_time": "2023-08-07T13:41:23.868Z"
   },
   {
    "duration": 6,
    "start_time": "2023-08-07T13:41:23.880Z"
   },
   {
    "duration": 28,
    "start_time": "2023-08-07T13:41:23.889Z"
   },
   {
    "duration": 4,
    "start_time": "2023-08-07T13:41:23.919Z"
   },
   {
    "duration": 1116,
    "start_time": "2023-08-07T13:41:23.925Z"
   },
   {
    "duration": 2158,
    "start_time": "2023-08-07T13:41:25.043Z"
   },
   {
    "duration": 5,
    "start_time": "2023-08-07T13:41:27.202Z"
   },
   {
    "duration": 24,
    "start_time": "2023-08-07T13:41:27.209Z"
   },
   {
    "duration": 130,
    "start_time": "2023-08-07T13:41:27.234Z"
   },
   {
    "duration": 5,
    "start_time": "2023-08-07T13:41:27.366Z"
   },
   {
    "duration": 12,
    "start_time": "2023-08-07T13:41:27.373Z"
   },
   {
    "duration": 6,
    "start_time": "2023-08-07T13:41:31.074Z"
   },
   {
    "duration": 6,
    "start_time": "2023-08-07T13:41:33.494Z"
   },
   {
    "duration": 3,
    "start_time": "2023-08-07T13:42:14.655Z"
   },
   {
    "duration": 6,
    "start_time": "2023-08-07T13:42:40.697Z"
   },
   {
    "duration": 89,
    "start_time": "2023-08-07T13:43:35.795Z"
   },
   {
    "duration": 23,
    "start_time": "2023-08-07T13:44:30.213Z"
   },
   {
    "duration": 198,
    "start_time": "2023-08-07T13:44:44.055Z"
   },
   {
    "duration": 27,
    "start_time": "2023-08-07T13:44:50.724Z"
   },
   {
    "duration": 21,
    "start_time": "2023-08-07T13:47:26.270Z"
   },
   {
    "duration": 28,
    "start_time": "2023-08-07T13:47:44.759Z"
   },
   {
    "duration": 6,
    "start_time": "2023-08-07T14:01:31.177Z"
   },
   {
    "duration": 7,
    "start_time": "2023-08-07T14:14:49.270Z"
   },
   {
    "duration": 5,
    "start_time": "2023-08-07T14:15:02.561Z"
   },
   {
    "duration": 6,
    "start_time": "2023-08-07T14:15:31.574Z"
   },
   {
    "duration": 8,
    "start_time": "2023-08-07T14:18:56.049Z"
   },
   {
    "duration": 4,
    "start_time": "2023-08-07T14:18:59.121Z"
   },
   {
    "duration": 11981,
    "start_time": "2023-08-07T14:28:09.953Z"
   },
   {
    "duration": 4,
    "start_time": "2023-08-07T14:29:01.695Z"
   },
   {
    "duration": 9,
    "start_time": "2023-08-07T14:30:19.780Z"
   },
   {
    "duration": 17251,
    "start_time": "2023-08-07T14:36:01.052Z"
   },
   {
    "duration": 13,
    "start_time": "2023-08-07T14:37:14.030Z"
   },
   {
    "duration": 13607,
    "start_time": "2023-08-07T14:38:39.156Z"
   },
   {
    "duration": 4,
    "start_time": "2023-08-07T14:38:57.805Z"
   },
   {
    "duration": 15002,
    "start_time": "2023-08-07T14:51:12.895Z"
   },
   {
    "duration": 4,
    "start_time": "2023-08-07T14:51:29.299Z"
   },
   {
    "duration": 15420,
    "start_time": "2023-08-07T14:53:20.482Z"
   },
   {
    "duration": 4,
    "start_time": "2023-08-07T14:53:44.716Z"
   },
   {
    "duration": 25,
    "start_time": "2023-08-07T15:09:19.194Z"
   },
   {
    "duration": 35,
    "start_time": "2023-08-07T15:10:57.504Z"
   },
   {
    "duration": 26,
    "start_time": "2023-08-07T15:12:06.138Z"
   },
   {
    "duration": 15358,
    "start_time": "2023-08-07T15:12:55.021Z"
   },
   {
    "duration": 9,
    "start_time": "2023-08-07T15:13:52.395Z"
   },
   {
    "duration": 4,
    "start_time": "2023-08-07T15:41:18.709Z"
   },
   {
    "duration": 108,
    "start_time": "2023-08-07T15:42:55.840Z"
   },
   {
    "duration": 152,
    "start_time": "2023-08-07T15:51:35.773Z"
   },
   {
    "duration": 73,
    "start_time": "2023-08-07T15:52:50.110Z"
   },
   {
    "duration": 42,
    "start_time": "2023-08-07T15:55:52.608Z"
   },
   {
    "duration": 17,
    "start_time": "2023-08-07T15:56:05.628Z"
   },
   {
    "duration": 70,
    "start_time": "2023-08-07T15:56:51.311Z"
   },
   {
    "duration": 68,
    "start_time": "2023-08-07T16:02:08.779Z"
   },
   {
    "duration": 38,
    "start_time": "2023-08-07T16:02:46.801Z"
   },
   {
    "duration": 42,
    "start_time": "2023-08-07T17:12:24.154Z"
   },
   {
    "duration": 29,
    "start_time": "2023-08-07T17:29:17.015Z"
   },
   {
    "duration": 7,
    "start_time": "2023-08-07T17:29:23.805Z"
   },
   {
    "duration": 34,
    "start_time": "2023-08-07T17:29:27.379Z"
   },
   {
    "duration": 3103,
    "start_time": "2023-08-07T17:32:03.945Z"
   },
   {
    "duration": 2387,
    "start_time": "2023-08-07T17:32:07.050Z"
   },
   {
    "duration": 1431,
    "start_time": "2023-08-07T17:32:09.438Z"
   },
   {
    "duration": 141,
    "start_time": "2023-08-07T17:32:10.873Z"
   },
   {
    "duration": 16,
    "start_time": "2023-08-07T17:32:11.016Z"
   },
   {
    "duration": 21,
    "start_time": "2023-08-07T17:32:11.034Z"
   },
   {
    "duration": 32,
    "start_time": "2023-08-07T17:32:11.058Z"
   },
   {
    "duration": 36,
    "start_time": "2023-08-07T17:32:11.092Z"
   },
   {
    "duration": 62,
    "start_time": "2023-08-07T17:32:11.130Z"
   },
   {
    "duration": 14,
    "start_time": "2023-08-07T17:32:11.197Z"
   },
   {
    "duration": 190,
    "start_time": "2023-08-07T17:32:11.215Z"
   },
   {
    "duration": 8,
    "start_time": "2023-08-07T17:32:11.407Z"
   },
   {
    "duration": 138,
    "start_time": "2023-08-07T17:32:11.416Z"
   },
   {
    "duration": 20,
    "start_time": "2023-08-07T17:32:11.559Z"
   },
   {
    "duration": 320,
    "start_time": "2023-08-07T17:32:11.581Z"
   },
   {
    "duration": 15,
    "start_time": "2023-08-07T17:32:11.907Z"
   },
   {
    "duration": 404,
    "start_time": "2023-08-07T17:32:11.925Z"
   },
   {
    "duration": 14,
    "start_time": "2023-08-07T17:32:12.331Z"
   },
   {
    "duration": 429,
    "start_time": "2023-08-07T17:32:12.347Z"
   },
   {
    "duration": 15,
    "start_time": "2023-08-07T17:32:12.778Z"
   },
   {
    "duration": 316,
    "start_time": "2023-08-07T17:32:12.794Z"
   },
   {
    "duration": 10,
    "start_time": "2023-08-07T17:32:13.114Z"
   },
   {
    "duration": 26,
    "start_time": "2023-08-07T17:32:13.126Z"
   },
   {
    "duration": 17,
    "start_time": "2023-08-07T17:32:13.154Z"
   },
   {
    "duration": 29,
    "start_time": "2023-08-07T17:32:13.179Z"
   },
   {
    "duration": 98,
    "start_time": "2023-08-07T17:32:13.212Z"
   },
   {
    "duration": 5,
    "start_time": "2023-08-07T17:32:13.313Z"
   },
   {
    "duration": 112,
    "start_time": "2023-08-07T17:32:13.323Z"
   },
   {
    "duration": 7,
    "start_time": "2023-08-07T17:32:13.437Z"
   },
   {
    "duration": 129,
    "start_time": "2023-08-07T17:32:13.446Z"
   },
   {
    "duration": 17,
    "start_time": "2023-08-07T17:32:13.586Z"
   },
   {
    "duration": 103,
    "start_time": "2023-08-07T17:32:13.605Z"
   },
   {
    "duration": 15,
    "start_time": "2023-08-07T17:32:13.710Z"
   },
   {
    "duration": 16,
    "start_time": "2023-08-07T17:32:13.728Z"
   },
   {
    "duration": 26,
    "start_time": "2023-08-07T17:32:13.746Z"
   },
   {
    "duration": 28,
    "start_time": "2023-08-07T17:32:13.782Z"
   },
   {
    "duration": 240,
    "start_time": "2023-08-07T17:32:13.813Z"
   },
   {
    "duration": 17,
    "start_time": "2023-08-07T17:32:14.055Z"
   },
   {
    "duration": 16,
    "start_time": "2023-08-07T17:32:14.079Z"
   },
   {
    "duration": 24,
    "start_time": "2023-08-07T17:32:14.097Z"
   },
   {
    "duration": 36,
    "start_time": "2023-08-07T17:32:14.132Z"
   },
   {
    "duration": 21,
    "start_time": "2023-08-07T17:32:14.171Z"
   },
   {
    "duration": 20,
    "start_time": "2023-08-07T17:32:14.194Z"
   },
   {
    "duration": 68,
    "start_time": "2023-08-07T17:32:14.216Z"
   },
   {
    "duration": 183,
    "start_time": "2023-08-07T17:32:14.286Z"
   },
   {
    "duration": 236,
    "start_time": "2023-08-07T17:32:14.478Z"
   },
   {
    "duration": 8,
    "start_time": "2023-08-07T17:32:14.717Z"
   },
   {
    "duration": 15,
    "start_time": "2023-08-07T17:32:14.726Z"
   },
   {
    "duration": 38,
    "start_time": "2023-08-07T17:32:14.743Z"
   },
   {
    "duration": 35,
    "start_time": "2023-08-07T17:32:14.788Z"
   },
   {
    "duration": 7,
    "start_time": "2023-08-07T17:32:14.825Z"
   },
   {
    "duration": 28,
    "start_time": "2023-08-07T17:32:14.834Z"
   },
   {
    "duration": 10,
    "start_time": "2023-08-07T17:32:14.871Z"
   },
   {
    "duration": 1192,
    "start_time": "2023-08-07T17:32:14.890Z"
   },
   {
    "duration": 2534,
    "start_time": "2023-08-07T17:32:16.092Z"
   },
   {
    "duration": 4,
    "start_time": "2023-08-07T17:32:18.628Z"
   },
   {
    "duration": 29,
    "start_time": "2023-08-07T17:32:18.634Z"
   },
   {
    "duration": 137,
    "start_time": "2023-08-07T17:32:18.668Z"
   },
   {
    "duration": 6,
    "start_time": "2023-08-07T17:32:18.808Z"
   },
   {
    "duration": 10,
    "start_time": "2023-08-07T17:32:18.815Z"
   },
   {
    "duration": 4,
    "start_time": "2023-08-07T17:32:18.827Z"
   },
   {
    "duration": 4,
    "start_time": "2023-08-07T17:32:18.832Z"
   },
   {
    "duration": 28,
    "start_time": "2023-08-07T17:32:18.869Z"
   },
   {
    "duration": 24,
    "start_time": "2023-08-07T17:32:18.901Z"
   },
   {
    "duration": 9,
    "start_time": "2023-08-07T17:32:31.785Z"
   },
   {
    "duration": 3,
    "start_time": "2023-08-07T17:34:50.613Z"
   },
   {
    "duration": 80,
    "start_time": "2023-08-07T17:36:26.587Z"
   },
   {
    "duration": 13,
    "start_time": "2023-08-07T17:36:50.505Z"
   },
   {
    "duration": 151,
    "start_time": "2023-08-07T17:37:44.497Z"
   },
   {
    "duration": 25,
    "start_time": "2023-08-07T17:38:04.635Z"
   },
   {
    "duration": 22,
    "start_time": "2023-08-07T17:39:26.184Z"
   },
   {
    "duration": 36,
    "start_time": "2023-08-07T17:39:47.157Z"
   },
   {
    "duration": 16159,
    "start_time": "2023-08-07T17:46:05.304Z"
   },
   {
    "duration": 6,
    "start_time": "2023-08-07T17:46:24.973Z"
   },
   {
    "duration": 20295,
    "start_time": "2023-08-07T17:46:41.615Z"
   },
   {
    "duration": 6,
    "start_time": "2023-08-07T17:47:05.380Z"
   },
   {
    "duration": 3966,
    "start_time": "2023-08-07T17:47:36.229Z"
   },
   {
    "duration": 25240,
    "start_time": "2023-08-07T17:47:46.849Z"
   },
   {
    "duration": 5,
    "start_time": "2023-08-07T17:53:13.961Z"
   },
   {
    "duration": 222930,
    "start_time": "2023-08-07T18:00:34.256Z"
   },
   {
    "duration": 4,
    "start_time": "2023-08-07T18:07:08.500Z"
   },
   {
    "duration": 627143,
    "start_time": "2023-08-07T18:08:47.724Z"
   },
   {
    "duration": 4,
    "start_time": "2023-08-07T18:29:06.574Z"
   },
   {
    "duration": 26,
    "start_time": "2023-08-07T18:30:53.105Z"
   },
   {
    "duration": 49,
    "start_time": "2023-08-07T18:45:44.904Z"
   },
   {
    "duration": 3,
    "start_time": "2023-08-07T18:49:22.560Z"
   },
   {
    "duration": 5,
    "start_time": "2023-08-07T18:49:30.860Z"
   },
   {
    "duration": 2548,
    "start_time": "2023-08-07T18:52:12.769Z"
   },
   {
    "duration": 1967,
    "start_time": "2023-08-07T18:52:15.319Z"
   },
   {
    "duration": 1233,
    "start_time": "2023-08-07T18:52:17.288Z"
   },
   {
    "duration": 93,
    "start_time": "2023-08-07T18:52:18.523Z"
   },
   {
    "duration": 17,
    "start_time": "2023-08-07T18:52:18.617Z"
   },
   {
    "duration": 14,
    "start_time": "2023-08-07T18:52:18.636Z"
   },
   {
    "duration": 5,
    "start_time": "2023-08-07T18:52:18.651Z"
   },
   {
    "duration": 14,
    "start_time": "2023-08-07T18:52:18.657Z"
   },
   {
    "duration": 12,
    "start_time": "2023-08-07T18:52:18.672Z"
   },
   {
    "duration": 6,
    "start_time": "2023-08-07T18:52:18.687Z"
   },
   {
    "duration": 121,
    "start_time": "2023-08-07T18:52:18.695Z"
   },
   {
    "duration": 6,
    "start_time": "2023-08-07T18:52:18.817Z"
   },
   {
    "duration": 119,
    "start_time": "2023-08-07T18:52:18.825Z"
   },
   {
    "duration": 22,
    "start_time": "2023-08-07T18:52:18.946Z"
   },
   {
    "duration": 249,
    "start_time": "2023-08-07T18:52:18.969Z"
   },
   {
    "duration": 13,
    "start_time": "2023-08-07T18:52:19.219Z"
   },
   {
    "duration": 331,
    "start_time": "2023-08-07T18:52:19.233Z"
   },
   {
    "duration": 14,
    "start_time": "2023-08-07T18:52:19.565Z"
   },
   {
    "duration": 347,
    "start_time": "2023-08-07T18:52:19.581Z"
   },
   {
    "duration": 13,
    "start_time": "2023-08-07T18:52:19.931Z"
   },
   {
    "duration": 287,
    "start_time": "2023-08-07T18:52:19.960Z"
   },
   {
    "duration": 15,
    "start_time": "2023-08-07T18:52:20.249Z"
   },
   {
    "duration": 18,
    "start_time": "2023-08-07T18:52:20.266Z"
   },
   {
    "duration": 4,
    "start_time": "2023-08-07T18:52:20.286Z"
   },
   {
    "duration": 27,
    "start_time": "2023-08-07T18:52:20.291Z"
   },
   {
    "duration": 86,
    "start_time": "2023-08-07T18:52:20.320Z"
   },
   {
    "duration": 5,
    "start_time": "2023-08-07T18:52:20.408Z"
   },
   {
    "duration": 101,
    "start_time": "2023-08-07T18:52:20.419Z"
   },
   {
    "duration": 8,
    "start_time": "2023-08-07T18:52:20.522Z"
   },
   {
    "duration": 101,
    "start_time": "2023-08-07T18:52:20.531Z"
   },
   {
    "duration": 7,
    "start_time": "2023-08-07T18:52:20.635Z"
   },
   {
    "duration": 111,
    "start_time": "2023-08-07T18:52:20.644Z"
   },
   {
    "duration": 11,
    "start_time": "2023-08-07T18:52:20.757Z"
   },
   {
    "duration": 36,
    "start_time": "2023-08-07T18:52:20.770Z"
   },
   {
    "duration": 28,
    "start_time": "2023-08-07T18:52:20.808Z"
   },
   {
    "duration": 46,
    "start_time": "2023-08-07T18:52:20.838Z"
   },
   {
    "duration": 222,
    "start_time": "2023-08-07T18:52:20.886Z"
   },
   {
    "duration": 8,
    "start_time": "2023-08-07T18:52:21.110Z"
   },
   {
    "duration": 21,
    "start_time": "2023-08-07T18:52:21.120Z"
   },
   {
    "duration": 17,
    "start_time": "2023-08-07T18:52:21.143Z"
   },
   {
    "duration": 45,
    "start_time": "2023-08-07T18:52:21.161Z"
   },
   {
    "duration": 17,
    "start_time": "2023-08-07T18:52:21.208Z"
   },
   {
    "duration": 40,
    "start_time": "2023-08-07T18:52:21.226Z"
   },
   {
    "duration": 28,
    "start_time": "2023-08-07T18:52:21.267Z"
   },
   {
    "duration": 21,
    "start_time": "2023-08-07T18:52:21.296Z"
   },
   {
    "duration": 67,
    "start_time": "2023-08-07T18:52:21.318Z"
   },
   {
    "duration": 7,
    "start_time": "2023-08-07T18:52:21.387Z"
   },
   {
    "duration": 40,
    "start_time": "2023-08-07T18:52:21.395Z"
   },
   {
    "duration": 28,
    "start_time": "2023-08-07T18:52:21.436Z"
   },
   {
    "duration": 39,
    "start_time": "2023-08-07T18:52:21.466Z"
   },
   {
    "duration": 16,
    "start_time": "2023-08-07T18:52:21.507Z"
   },
   {
    "duration": 20,
    "start_time": "2023-08-07T18:52:21.525Z"
   },
   {
    "duration": 23,
    "start_time": "2023-08-07T18:52:21.546Z"
   },
   {
    "duration": 933,
    "start_time": "2023-08-07T18:52:21.571Z"
   },
   {
    "duration": 2170,
    "start_time": "2023-08-07T18:52:22.505Z"
   },
   {
    "duration": 4,
    "start_time": "2023-08-07T18:52:24.677Z"
   },
   {
    "duration": 36,
    "start_time": "2023-08-07T18:52:24.683Z"
   },
   {
    "duration": 116,
    "start_time": "2023-08-07T18:52:24.721Z"
   },
   {
    "duration": 12,
    "start_time": "2023-08-07T18:52:24.839Z"
   },
   {
    "duration": 14,
    "start_time": "2023-08-07T18:52:24.853Z"
   },
   {
    "duration": 41,
    "start_time": "2023-08-07T18:52:24.868Z"
   },
   {
    "duration": 17,
    "start_time": "2023-08-07T18:52:24.911Z"
   },
   {
    "duration": 33,
    "start_time": "2023-08-07T18:52:24.930Z"
   },
   {
    "duration": 39,
    "start_time": "2023-08-07T18:52:24.965Z"
   },
   {
    "duration": 23,
    "start_time": "2023-08-07T18:52:32.839Z"
   },
   {
    "duration": 4,
    "start_time": "2023-08-07T18:52:55.797Z"
   },
   {
    "duration": 157,
    "start_time": "2023-08-07T18:52:59.230Z"
   },
   {
    "duration": 11,
    "start_time": "2023-08-07T18:54:15.772Z"
   },
   {
    "duration": 4,
    "start_time": "2023-08-07T18:54:21.196Z"
   },
   {
    "duration": 75,
    "start_time": "2023-08-07T18:54:24.629Z"
   },
   {
    "duration": 32,
    "start_time": "2023-08-07T18:54:34.928Z"
   },
   {
    "duration": 2506,
    "start_time": "2023-08-07T18:56:39.869Z"
   },
   {
    "duration": 2040,
    "start_time": "2023-08-07T18:56:42.378Z"
   },
   {
    "duration": 1293,
    "start_time": "2023-08-07T18:56:44.420Z"
   },
   {
    "duration": 100,
    "start_time": "2023-08-07T18:56:45.714Z"
   },
   {
    "duration": 16,
    "start_time": "2023-08-07T18:56:45.816Z"
   },
   {
    "duration": 14,
    "start_time": "2023-08-07T18:56:45.834Z"
   },
   {
    "duration": 3,
    "start_time": "2023-08-07T18:56:45.850Z"
   },
   {
    "duration": 13,
    "start_time": "2023-08-07T18:56:45.855Z"
   },
   {
    "duration": 12,
    "start_time": "2023-08-07T18:56:45.869Z"
   },
   {
    "duration": 8,
    "start_time": "2023-08-07T18:56:45.883Z"
   },
   {
    "duration": 117,
    "start_time": "2023-08-07T18:56:45.893Z"
   },
   {
    "duration": 7,
    "start_time": "2023-08-07T18:56:46.012Z"
   },
   {
    "duration": 145,
    "start_time": "2023-08-07T18:56:46.021Z"
   },
   {
    "duration": 14,
    "start_time": "2023-08-07T18:56:46.169Z"
   },
   {
    "duration": 276,
    "start_time": "2023-08-07T18:56:46.185Z"
   },
   {
    "duration": 12,
    "start_time": "2023-08-07T18:56:46.463Z"
   },
   {
    "duration": 337,
    "start_time": "2023-08-07T18:56:46.477Z"
   },
   {
    "duration": 13,
    "start_time": "2023-08-07T18:56:46.816Z"
   },
   {
    "duration": 356,
    "start_time": "2023-08-07T18:56:46.830Z"
   },
   {
    "duration": 12,
    "start_time": "2023-08-07T18:56:47.187Z"
   },
   {
    "duration": 273,
    "start_time": "2023-08-07T18:56:47.201Z"
   },
   {
    "duration": 9,
    "start_time": "2023-08-07T18:56:47.475Z"
   },
   {
    "duration": 19,
    "start_time": "2023-08-07T18:56:47.485Z"
   },
   {
    "duration": 4,
    "start_time": "2023-08-07T18:56:47.506Z"
   },
   {
    "duration": 14,
    "start_time": "2023-08-07T18:56:47.512Z"
   },
   {
    "duration": 106,
    "start_time": "2023-08-07T18:56:47.527Z"
   },
   {
    "duration": 6,
    "start_time": "2023-08-07T18:56:47.635Z"
   },
   {
    "duration": 110,
    "start_time": "2023-08-07T18:56:47.642Z"
   },
   {
    "duration": 6,
    "start_time": "2023-08-07T18:56:47.754Z"
   },
   {
    "duration": 91,
    "start_time": "2023-08-07T18:56:47.762Z"
   },
   {
    "duration": 7,
    "start_time": "2023-08-07T18:56:47.859Z"
   },
   {
    "duration": 99,
    "start_time": "2023-08-07T18:56:47.868Z"
   },
   {
    "duration": 11,
    "start_time": "2023-08-07T18:56:47.969Z"
   },
   {
    "duration": 15,
    "start_time": "2023-08-07T18:56:47.981Z"
   },
   {
    "duration": 3,
    "start_time": "2023-08-07T18:56:47.997Z"
   },
   {
    "duration": 7,
    "start_time": "2023-08-07T18:56:48.002Z"
   },
   {
    "duration": 210,
    "start_time": "2023-08-07T18:56:48.010Z"
   },
   {
    "duration": 8,
    "start_time": "2023-08-07T18:56:48.222Z"
   },
   {
    "duration": 28,
    "start_time": "2023-08-07T18:56:48.231Z"
   },
   {
    "duration": 5,
    "start_time": "2023-08-07T18:56:48.261Z"
   },
   {
    "duration": 25,
    "start_time": "2023-08-07T18:56:48.270Z"
   },
   {
    "duration": 18,
    "start_time": "2023-08-07T18:56:48.297Z"
   },
   {
    "duration": 16,
    "start_time": "2023-08-07T18:56:48.316Z"
   },
   {
    "duration": 14,
    "start_time": "2023-08-07T18:56:48.359Z"
   },
   {
    "duration": 11,
    "start_time": "2023-08-07T18:56:48.375Z"
   },
   {
    "duration": 71,
    "start_time": "2023-08-07T18:56:48.388Z"
   },
   {
    "duration": 8,
    "start_time": "2023-08-07T18:56:48.461Z"
   },
   {
    "duration": 24,
    "start_time": "2023-08-07T18:56:48.470Z"
   },
   {
    "duration": 17,
    "start_time": "2023-08-07T18:56:48.496Z"
   },
   {
    "duration": 12,
    "start_time": "2023-08-07T18:56:48.514Z"
   },
   {
    "duration": 10,
    "start_time": "2023-08-07T18:56:48.528Z"
   },
   {
    "duration": 30,
    "start_time": "2023-08-07T18:56:48.539Z"
   },
   {
    "duration": 6,
    "start_time": "2023-08-07T18:56:48.570Z"
   },
   {
    "duration": 955,
    "start_time": "2023-08-07T18:56:48.578Z"
   },
   {
    "duration": 2090,
    "start_time": "2023-08-07T18:56:49.535Z"
   },
   {
    "duration": 4,
    "start_time": "2023-08-07T18:56:51.627Z"
   },
   {
    "duration": 27,
    "start_time": "2023-08-07T18:56:51.633Z"
   },
   {
    "duration": 117,
    "start_time": "2023-08-07T18:56:51.662Z"
   },
   {
    "duration": 4,
    "start_time": "2023-08-07T18:56:51.781Z"
   },
   {
    "duration": 14,
    "start_time": "2023-08-07T18:56:51.787Z"
   },
   {
    "duration": 4,
    "start_time": "2023-08-07T18:56:51.802Z"
   },
   {
    "duration": 9,
    "start_time": "2023-08-07T18:56:51.808Z"
   },
   {
    "duration": 27,
    "start_time": "2023-08-07T18:56:51.819Z"
   },
   {
    "duration": 11,
    "start_time": "2023-08-07T18:56:51.848Z"
   },
   {
    "duration": 3,
    "start_time": "2023-08-07T18:56:55.098Z"
   },
   {
    "duration": 3,
    "start_time": "2023-08-07T18:56:55.972Z"
   },
   {
    "duration": 23,
    "start_time": "2023-08-07T18:57:05.476Z"
   },
   {
    "duration": 70,
    "start_time": "2023-08-07T18:57:17.523Z"
   },
   {
    "duration": 22,
    "start_time": "2023-08-07T18:57:29.928Z"
   },
   {
    "duration": 23,
    "start_time": "2023-08-07T18:57:43.634Z"
   },
   {
    "duration": 19,
    "start_time": "2023-08-07T18:57:44.270Z"
   },
   {
    "duration": 29,
    "start_time": "2023-08-07T18:57:45.076Z"
   },
   {
    "duration": 189413,
    "start_time": "2023-08-07T19:06:08.713Z"
   },
   {
    "duration": 5,
    "start_time": "2023-08-07T19:09:44.030Z"
   },
   {
    "duration": 755665,
    "start_time": "2023-08-07T19:10:28.496Z"
   },
   {
    "duration": 4,
    "start_time": "2023-08-07T19:35:14.531Z"
   },
   {
    "duration": 1532394,
    "start_time": "2023-08-07T19:36:49.966Z"
   },
   {
    "duration": 4,
    "start_time": "2023-08-07T20:13:38.356Z"
   },
   {
    "duration": 8673,
    "start_time": "2023-08-08T08:46:56.375Z"
   },
   {
    "duration": 3175,
    "start_time": "2023-08-08T08:47:05.051Z"
   },
   {
    "duration": 1694,
    "start_time": "2023-08-08T08:47:08.228Z"
   },
   {
    "duration": 579,
    "start_time": "2023-08-08T08:47:09.924Z"
   },
   {
    "duration": 17,
    "start_time": "2023-08-08T08:47:10.505Z"
   },
   {
    "duration": 19,
    "start_time": "2023-08-08T08:47:10.524Z"
   },
   {
    "duration": 40,
    "start_time": "2023-08-08T08:47:10.545Z"
   },
   {
    "duration": 41,
    "start_time": "2023-08-08T08:47:10.587Z"
   },
   {
    "duration": 39,
    "start_time": "2023-08-08T08:47:10.630Z"
   },
   {
    "duration": 78,
    "start_time": "2023-08-08T08:47:10.674Z"
   },
   {
    "duration": 144,
    "start_time": "2023-08-08T08:47:10.755Z"
   },
   {
    "duration": 7,
    "start_time": "2023-08-08T08:47:10.901Z"
   },
   {
    "duration": 181,
    "start_time": "2023-08-08T08:47:10.910Z"
   },
   {
    "duration": 16,
    "start_time": "2023-08-08T08:47:11.093Z"
   },
   {
    "duration": 334,
    "start_time": "2023-08-08T08:47:11.111Z"
   },
   {
    "duration": 22,
    "start_time": "2023-08-08T08:47:11.446Z"
   },
   {
    "duration": 384,
    "start_time": "2023-08-08T08:47:11.470Z"
   },
   {
    "duration": 34,
    "start_time": "2023-08-08T08:47:11.856Z"
   },
   {
    "duration": 372,
    "start_time": "2023-08-08T08:47:11.892Z"
   },
   {
    "duration": 22,
    "start_time": "2023-08-08T08:47:12.268Z"
   },
   {
    "duration": 343,
    "start_time": "2023-08-08T08:47:12.294Z"
   },
   {
    "duration": 11,
    "start_time": "2023-08-08T08:47:12.639Z"
   },
   {
    "duration": 31,
    "start_time": "2023-08-08T08:47:12.652Z"
   },
   {
    "duration": 25,
    "start_time": "2023-08-08T08:47:12.686Z"
   },
   {
    "duration": 20,
    "start_time": "2023-08-08T08:47:12.713Z"
   },
   {
    "duration": 104,
    "start_time": "2023-08-08T08:47:12.734Z"
   },
   {
    "duration": 7,
    "start_time": "2023-08-08T08:47:12.840Z"
   },
   {
    "duration": 115,
    "start_time": "2023-08-08T08:47:12.874Z"
   },
   {
    "duration": 6,
    "start_time": "2023-08-08T08:47:12.991Z"
   },
   {
    "duration": 127,
    "start_time": "2023-08-08T08:47:12.999Z"
   },
   {
    "duration": 8,
    "start_time": "2023-08-08T08:47:13.128Z"
   },
   {
    "duration": 125,
    "start_time": "2023-08-08T08:47:13.140Z"
   },
   {
    "duration": 21,
    "start_time": "2023-08-08T08:47:13.267Z"
   },
   {
    "duration": 24,
    "start_time": "2023-08-08T08:47:13.291Z"
   },
   {
    "duration": 14,
    "start_time": "2023-08-08T08:47:13.316Z"
   },
   {
    "duration": 17,
    "start_time": "2023-08-08T08:47:13.332Z"
   },
   {
    "duration": 252,
    "start_time": "2023-08-08T08:47:13.351Z"
   },
   {
    "duration": 9,
    "start_time": "2023-08-08T08:47:13.606Z"
   },
   {
    "duration": 27,
    "start_time": "2023-08-08T08:47:13.617Z"
   },
   {
    "duration": 7,
    "start_time": "2023-08-08T08:47:13.646Z"
   },
   {
    "duration": 57,
    "start_time": "2023-08-08T08:47:13.654Z"
   },
   {
    "duration": 19,
    "start_time": "2023-08-08T08:47:13.713Z"
   },
   {
    "duration": 27,
    "start_time": "2023-08-08T08:47:13.734Z"
   },
   {
    "duration": 23,
    "start_time": "2023-08-08T08:47:13.763Z"
   },
   {
    "duration": 18,
    "start_time": "2023-08-08T08:47:13.787Z"
   },
   {
    "duration": 150,
    "start_time": "2023-08-08T08:47:13.807Z"
   },
   {
    "duration": 11,
    "start_time": "2023-08-08T08:47:13.960Z"
   },
   {
    "duration": 24,
    "start_time": "2023-08-08T08:47:13.981Z"
   },
   {
    "duration": 44,
    "start_time": "2023-08-08T08:47:14.008Z"
   },
   {
    "duration": 56,
    "start_time": "2023-08-08T08:47:14.055Z"
   },
   {
    "duration": 21,
    "start_time": "2023-08-08T08:47:14.113Z"
   },
   {
    "duration": 44,
    "start_time": "2023-08-08T08:47:14.136Z"
   },
   {
    "duration": 15,
    "start_time": "2023-08-08T08:47:14.183Z"
   },
   {
    "duration": 1248,
    "start_time": "2023-08-08T08:47:14.200Z"
   },
   {
    "duration": 2551,
    "start_time": "2023-08-08T08:47:15.450Z"
   },
   {
    "duration": 5,
    "start_time": "2023-08-08T08:47:18.003Z"
   },
   {
    "duration": 32,
    "start_time": "2023-08-08T08:47:18.010Z"
   },
   {
    "duration": 134,
    "start_time": "2023-08-08T08:47:18.044Z"
   },
   {
    "duration": 7,
    "start_time": "2023-08-08T08:47:18.181Z"
   },
   {
    "duration": 28,
    "start_time": "2023-08-08T08:47:18.191Z"
   },
   {
    "duration": 5,
    "start_time": "2023-08-08T08:47:18.221Z"
   },
   {
    "duration": 7,
    "start_time": "2023-08-08T08:47:18.228Z"
   },
   {
    "duration": 33,
    "start_time": "2023-08-08T08:47:18.237Z"
   },
   {
    "duration": 11,
    "start_time": "2023-08-08T08:47:18.273Z"
   },
   {
    "duration": 3,
    "start_time": "2023-08-08T08:47:18.286Z"
   },
   {
    "duration": 28,
    "start_time": "2023-08-08T08:47:18.291Z"
   },
   {
    "duration": 88,
    "start_time": "2023-08-08T08:47:18.321Z"
   },
   {
    "duration": 22,
    "start_time": "2023-08-08T08:47:18.411Z"
   },
   {
    "duration": 36,
    "start_time": "2023-08-08T08:47:18.435Z"
   },
   {
    "duration": 44,
    "start_time": "2023-08-08T08:47:18.475Z"
   },
   {
    "duration": 15460,
    "start_time": "2023-08-08T08:47:35.920Z"
   },
   {
    "duration": 5,
    "start_time": "2023-08-08T08:48:03.418Z"
   },
   {
    "duration": 649770,
    "start_time": "2023-08-08T08:48:14.043Z"
   },
   {
    "duration": 8,
    "start_time": "2023-08-08T09:00:53.664Z"
   },
   {
    "duration": 1950116,
    "start_time": "2023-08-08T09:01:27.171Z"
   },
   {
    "duration": 3,
    "start_time": "2023-08-08T09:34:35.407Z"
   },
   {
    "duration": 11,
    "start_time": "2023-08-08T09:42:31.420Z"
   },
   {
    "duration": 26,
    "start_time": "2023-08-08T09:46:21.830Z"
   },
   {
    "duration": 139,
    "start_time": "2023-08-08T09:48:39.242Z"
   },
   {
    "duration": 6,
    "start_time": "2023-08-08T09:49:20.491Z"
   },
   {
    "duration": 193,
    "start_time": "2023-08-08T09:49:26.361Z"
   },
   {
    "duration": 14,
    "start_time": "2023-08-08T10:07:59.648Z"
   },
   {
    "duration": 6,
    "start_time": "2023-08-08T10:08:34.701Z"
   },
   {
    "duration": 16554,
    "start_time": "2023-08-08T10:08:46.114Z"
   },
   {
    "duration": 5,
    "start_time": "2023-08-08T10:09:13.903Z"
   },
   {
    "duration": 5,
    "start_time": "2023-08-08T10:17:45.589Z"
   },
   {
    "duration": 18717,
    "start_time": "2023-08-08T10:18:06.962Z"
   },
   {
    "duration": 4,
    "start_time": "2023-08-08T10:18:52.589Z"
   },
   {
    "duration": 97,
    "start_time": "2023-08-08T10:19:06.597Z"
   },
   {
    "duration": 8,
    "start_time": "2023-08-08T10:19:12.940Z"
   },
   {
    "duration": 4,
    "start_time": "2023-08-08T10:19:50.293Z"
   },
   {
    "duration": 18546,
    "start_time": "2023-08-08T10:25:31.446Z"
   },
   {
    "duration": 4,
    "start_time": "2023-08-08T10:26:16.211Z"
   },
   {
    "duration": 22052,
    "start_time": "2023-08-08T10:26:55.242Z"
   },
   {
    "duration": 5,
    "start_time": "2023-08-08T10:27:20.292Z"
   },
   {
    "duration": 5,
    "start_time": "2023-08-08T10:27:29.822Z"
   },
   {
    "duration": 7,
    "start_time": "2023-08-08T10:29:54.289Z"
   },
   {
    "duration": 19292,
    "start_time": "2023-08-08T10:31:09.783Z"
   },
   {
    "duration": 13,
    "start_time": "2023-08-08T10:31:52.361Z"
   },
   {
    "duration": 98,
    "start_time": "2023-08-08T10:55:18.532Z"
   },
   {
    "duration": 620649,
    "start_time": "2023-08-08T10:55:28.635Z"
   },
   {
    "duration": 6,
    "start_time": "2023-08-08T11:06:59.319Z"
   },
   {
    "duration": 1724984,
    "start_time": "2023-08-08T11:09:04.426Z"
   },
   {
    "duration": 5,
    "start_time": "2023-08-08T11:39:01.944Z"
   },
   {
    "duration": 371,
    "start_time": "2023-08-08T11:40:10.558Z"
   },
   {
    "duration": 377,
    "start_time": "2023-08-08T11:40:22.607Z"
   },
   {
    "duration": 372,
    "start_time": "2023-08-08T11:40:28.279Z"
   },
   {
    "duration": 392,
    "start_time": "2023-08-08T11:40:35.617Z"
   },
   {
    "duration": 411,
    "start_time": "2023-08-08T11:40:48.375Z"
   },
   {
    "duration": 12,
    "start_time": "2023-08-08T11:53:58.080Z"
   },
   {
    "duration": 8813,
    "start_time": "2023-08-09T13:38:07.701Z"
   },
   {
    "duration": 2776,
    "start_time": "2023-08-09T13:38:16.516Z"
   },
   {
    "duration": 1580,
    "start_time": "2023-08-09T13:38:19.294Z"
   },
   {
    "duration": 325,
    "start_time": "2023-08-09T13:38:20.877Z"
   },
   {
    "duration": 17,
    "start_time": "2023-08-09T13:38:21.203Z"
   },
   {
    "duration": 34,
    "start_time": "2023-08-09T13:38:21.222Z"
   },
   {
    "duration": 8,
    "start_time": "2023-08-09T13:38:21.258Z"
   },
   {
    "duration": 32,
    "start_time": "2023-08-09T13:38:21.268Z"
   },
   {
    "duration": 21,
    "start_time": "2023-08-09T13:38:21.302Z"
   },
   {
    "duration": 6,
    "start_time": "2023-08-09T13:38:21.325Z"
   },
   {
    "duration": 116,
    "start_time": "2023-08-09T13:38:21.334Z"
   },
   {
    "duration": 8,
    "start_time": "2023-08-09T13:38:21.452Z"
   },
   {
    "duration": 125,
    "start_time": "2023-08-09T13:38:21.462Z"
   },
   {
    "duration": 15,
    "start_time": "2023-08-09T13:38:21.589Z"
   },
   {
    "duration": 378,
    "start_time": "2023-08-09T13:38:21.606Z"
   },
   {
    "duration": 13,
    "start_time": "2023-08-09T13:38:21.986Z"
   },
   {
    "duration": 287,
    "start_time": "2023-08-09T13:38:22.001Z"
   },
   {
    "duration": 13,
    "start_time": "2023-08-09T13:38:22.290Z"
   },
   {
    "duration": 390,
    "start_time": "2023-08-09T13:38:22.305Z"
   },
   {
    "duration": 13,
    "start_time": "2023-08-09T13:38:22.697Z"
   },
   {
    "duration": 309,
    "start_time": "2023-08-09T13:38:22.711Z"
   },
   {
    "duration": 9,
    "start_time": "2023-08-09T13:38:23.022Z"
   },
   {
    "duration": 26,
    "start_time": "2023-08-09T13:38:23.033Z"
   },
   {
    "duration": 9,
    "start_time": "2023-08-09T13:38:23.060Z"
   },
   {
    "duration": 12,
    "start_time": "2023-08-09T13:38:23.071Z"
   },
   {
    "duration": 105,
    "start_time": "2023-08-09T13:38:23.085Z"
   },
   {
    "duration": 6,
    "start_time": "2023-08-09T13:38:23.191Z"
   },
   {
    "duration": 117,
    "start_time": "2023-08-09T13:38:23.201Z"
   },
   {
    "duration": 6,
    "start_time": "2023-08-09T13:38:23.320Z"
   },
   {
    "duration": 109,
    "start_time": "2023-08-09T13:38:23.328Z"
   },
   {
    "duration": 7,
    "start_time": "2023-08-09T13:38:23.439Z"
   },
   {
    "duration": 213,
    "start_time": "2023-08-09T13:38:23.460Z"
   },
   {
    "duration": 12,
    "start_time": "2023-08-09T13:38:23.674Z"
   },
   {
    "duration": 15,
    "start_time": "2023-08-09T13:38:23.687Z"
   },
   {
    "duration": 17,
    "start_time": "2023-08-09T13:38:23.703Z"
   },
   {
    "duration": 12,
    "start_time": "2023-08-09T13:38:23.722Z"
   },
   {
    "duration": 106,
    "start_time": "2023-08-09T13:38:23.736Z"
   },
   {
    "duration": 8,
    "start_time": "2023-08-09T13:38:23.843Z"
   },
   {
    "duration": 21,
    "start_time": "2023-08-09T13:38:23.852Z"
   },
   {
    "duration": 13,
    "start_time": "2023-08-09T13:38:23.875Z"
   },
   {
    "duration": 29,
    "start_time": "2023-08-09T13:38:23.889Z"
   },
   {
    "duration": 19,
    "start_time": "2023-08-09T13:38:23.920Z"
   },
   {
    "duration": 34,
    "start_time": "2023-08-09T13:38:23.940Z"
   },
   {
    "duration": 80,
    "start_time": "2023-08-09T13:38:23.976Z"
   },
   {
    "duration": 62,
    "start_time": "2023-08-09T13:38:24.058Z"
   },
   {
    "duration": 100,
    "start_time": "2023-08-09T13:38:24.122Z"
   },
   {
    "duration": 7,
    "start_time": "2023-08-09T13:38:24.224Z"
   },
   {
    "duration": 34,
    "start_time": "2023-08-09T13:38:24.233Z"
   },
   {
    "duration": 62,
    "start_time": "2023-08-09T13:38:24.269Z"
   },
   {
    "duration": 47,
    "start_time": "2023-08-09T13:38:24.333Z"
   },
   {
    "duration": 12,
    "start_time": "2023-08-09T13:38:24.382Z"
   },
   {
    "duration": 45,
    "start_time": "2023-08-09T13:38:24.396Z"
   },
   {
    "duration": 3450,
    "start_time": "2023-08-09T13:38:24.443Z"
   },
   {
    "duration": 4,
    "start_time": "2023-08-09T13:38:27.896Z"
   },
   {
    "duration": 141,
    "start_time": "2023-08-09T13:38:27.902Z"
   },
   {
    "duration": 5,
    "start_time": "2023-08-09T13:38:28.045Z"
   },
   {
    "duration": 21,
    "start_time": "2023-08-09T13:38:28.052Z"
   },
   {
    "duration": 9,
    "start_time": "2023-08-09T13:38:28.075Z"
   },
   {
    "duration": 5,
    "start_time": "2023-08-09T13:38:28.086Z"
   },
   {
    "duration": 23,
    "start_time": "2023-08-09T13:38:28.093Z"
   },
   {
    "duration": 14,
    "start_time": "2023-08-09T13:38:28.117Z"
   },
   {
    "duration": 10,
    "start_time": "2023-08-09T13:38:28.133Z"
   },
   {
    "duration": 16,
    "start_time": "2023-08-09T13:38:28.145Z"
   },
   {
    "duration": 89,
    "start_time": "2023-08-09T13:38:28.164Z"
   },
   {
    "duration": 34,
    "start_time": "2023-08-09T13:38:28.262Z"
   },
   {
    "duration": 31,
    "start_time": "2023-08-09T13:38:28.298Z"
   },
   {
    "duration": 53,
    "start_time": "2023-08-09T13:38:28.331Z"
   },
   {
    "duration": 1648890,
    "start_time": "2023-08-09T13:39:14.503Z"
   },
   {
    "duration": 5,
    "start_time": "2023-08-09T14:09:36.684Z"
   },
   {
    "duration": 13,
    "start_time": "2023-08-09T14:10:37.637Z"
   },
   {
    "duration": 24,
    "start_time": "2023-08-09T14:11:02.670Z"
   },
   {
    "duration": 138,
    "start_time": "2023-08-09T14:11:14.224Z"
   },
   {
    "duration": 537,
    "start_time": "2023-08-09T14:11:19.877Z"
   },
   {
    "duration": 133,
    "start_time": "2023-08-09T14:14:44.805Z"
   },
   {
    "duration": 13,
    "start_time": "2023-08-09T14:15:44.895Z"
   },
   {
    "duration": 9,
    "start_time": "2023-08-09T14:16:39.505Z"
   },
   {
    "duration": 15,
    "start_time": "2023-08-09T14:16:56.188Z"
   },
   {
    "duration": 12,
    "start_time": "2023-08-09T14:17:43.687Z"
   },
   {
    "duration": 5,
    "start_time": "2023-08-09T14:18:42.090Z"
   },
   {
    "duration": 328,
    "start_time": "2023-08-09T14:18:48.503Z"
   },
   {
    "duration": 280,
    "start_time": "2023-08-09T14:20:58.957Z"
   },
   {
    "duration": 305,
    "start_time": "2023-08-09T14:21:39.207Z"
   },
   {
    "duration": 328,
    "start_time": "2023-08-09T14:21:46.895Z"
   },
   {
    "duration": 262,
    "start_time": "2023-08-09T14:23:57.777Z"
   },
   {
    "duration": 63,
    "start_time": "2023-08-09T14:27:41.650Z"
   },
   {
    "duration": 6,
    "start_time": "2023-08-09T14:28:05.553Z"
   },
   {
    "duration": 15,
    "start_time": "2023-08-09T14:30:23.127Z"
   },
   {
    "duration": 15,
    "start_time": "2023-08-09T14:30:47.489Z"
   },
   {
    "duration": 5,
    "start_time": "2023-08-09T14:32:07.602Z"
   },
   {
    "duration": 5,
    "start_time": "2023-08-09T14:32:23.990Z"
   },
   {
    "duration": 5,
    "start_time": "2023-08-09T14:32:41.303Z"
   },
   {
    "duration": 6,
    "start_time": "2023-08-09T14:32:50.534Z"
   },
   {
    "duration": 16,
    "start_time": "2023-08-09T14:33:03.314Z"
   },
   {
    "duration": 4,
    "start_time": "2023-08-09T14:34:26.896Z"
   },
   {
    "duration": 13,
    "start_time": "2023-08-09T14:34:51.624Z"
   },
   {
    "duration": 7,
    "start_time": "2023-08-09T14:35:08.602Z"
   },
   {
    "duration": 5,
    "start_time": "2023-08-09T14:35:21.741Z"
   },
   {
    "duration": 21,
    "start_time": "2023-08-09T14:35:42.955Z"
   },
   {
    "duration": 6,
    "start_time": "2023-08-09T14:36:32.273Z"
   },
   {
    "duration": 4,
    "start_time": "2023-08-09T14:41:48.780Z"
   },
   {
    "duration": 6,
    "start_time": "2023-08-09T14:41:57.304Z"
   },
   {
    "duration": 5,
    "start_time": "2023-08-09T14:42:14.977Z"
   },
   {
    "duration": 24,
    "start_time": "2023-08-09T14:42:35.344Z"
   },
   {
    "duration": 5,
    "start_time": "2023-08-09T14:42:43.113Z"
   },
   {
    "duration": 14,
    "start_time": "2023-08-09T14:45:40.023Z"
   },
   {
    "duration": 6,
    "start_time": "2023-08-09T14:46:00.441Z"
   },
   {
    "duration": 6,
    "start_time": "2023-08-09T14:46:08.836Z"
   },
   {
    "duration": 326,
    "start_time": "2023-08-09T14:50:07.454Z"
   },
   {
    "duration": 14,
    "start_time": "2023-08-09T15:09:43.598Z"
   },
   {
    "duration": 7232,
    "start_time": "2024-01-26T09:17:28.994Z"
   },
   {
    "duration": 3090,
    "start_time": "2024-01-26T09:17:36.228Z"
   },
   {
    "duration": 1602,
    "start_time": "2024-01-26T09:17:39.320Z"
   },
   {
    "duration": 309,
    "start_time": "2024-01-26T09:17:40.924Z"
   },
   {
    "duration": 16,
    "start_time": "2024-01-26T09:17:41.234Z"
   },
   {
    "duration": 44,
    "start_time": "2024-01-26T09:17:41.252Z"
   },
   {
    "duration": 5,
    "start_time": "2024-01-26T09:17:41.298Z"
   },
   {
    "duration": 17,
    "start_time": "2024-01-26T09:17:41.305Z"
   },
   {
    "duration": 14,
    "start_time": "2024-01-26T09:17:41.324Z"
   },
   {
    "duration": 6,
    "start_time": "2024-01-26T09:17:41.341Z"
   },
   {
    "duration": 8,
    "start_time": "2024-01-26T09:17:41.349Z"
   },
   {
    "duration": 15,
    "start_time": "2024-01-26T09:17:41.359Z"
   },
   {
    "duration": 282,
    "start_time": "2024-01-26T09:17:41.376Z"
   },
   {
    "duration": 12,
    "start_time": "2024-01-26T09:17:41.660Z"
   },
   {
    "duration": 336,
    "start_time": "2024-01-26T09:17:41.674Z"
   },
   {
    "duration": 14,
    "start_time": "2024-01-26T09:17:42.011Z"
   },
   {
    "duration": 379,
    "start_time": "2024-01-26T09:17:42.027Z"
   },
   {
    "duration": 12,
    "start_time": "2024-01-26T09:17:42.408Z"
   },
   {
    "duration": 295,
    "start_time": "2024-01-26T09:17:42.422Z"
   },
   {
    "duration": 9,
    "start_time": "2024-01-26T09:17:42.719Z"
   },
   {
    "duration": 16,
    "start_time": "2024-01-26T09:17:42.729Z"
   },
   {
    "duration": 4,
    "start_time": "2024-01-26T09:17:42.759Z"
   },
   {
    "duration": 23,
    "start_time": "2024-01-26T09:17:42.765Z"
   },
   {
    "duration": 24,
    "start_time": "2024-01-26T09:17:42.790Z"
   },
   {
    "duration": 18,
    "start_time": "2024-01-26T09:17:42.815Z"
   },
   {
    "duration": 16,
    "start_time": "2024-01-26T09:17:42.835Z"
   },
   {
    "duration": 21,
    "start_time": "2024-01-26T09:17:42.852Z"
   },
   {
    "duration": 30,
    "start_time": "2024-01-26T09:17:42.876Z"
   },
   {
    "duration": 19,
    "start_time": "2024-01-26T09:17:42.908Z"
   },
   {
    "duration": 19,
    "start_time": "2024-01-26T09:17:42.929Z"
   },
   {
    "duration": 7,
    "start_time": "2024-01-26T09:17:42.949Z"
   },
   {
    "duration": 12,
    "start_time": "2024-01-26T09:17:42.958Z"
   },
   {
    "duration": 3,
    "start_time": "2024-01-26T09:17:42.971Z"
   },
   {
    "duration": 27,
    "start_time": "2024-01-26T09:17:42.976Z"
   },
   {
    "duration": 19,
    "start_time": "2024-01-26T09:17:43.005Z"
   },
   {
    "duration": 38,
    "start_time": "2024-01-26T09:17:43.025Z"
   },
   {
    "duration": 15,
    "start_time": "2024-01-26T09:17:43.065Z"
   },
   {
    "duration": 17,
    "start_time": "2024-01-26T09:17:43.082Z"
   },
   {
    "duration": 92,
    "start_time": "2024-01-26T09:17:43.101Z"
   },
   {
    "duration": 7,
    "start_time": "2024-01-26T09:17:43.194Z"
   },
   {
    "duration": 31,
    "start_time": "2024-01-26T09:17:43.203Z"
   },
   {
    "duration": 35,
    "start_time": "2024-01-26T09:17:43.236Z"
   },
   {
    "duration": 9,
    "start_time": "2024-01-26T09:17:43.273Z"
   },
   {
    "duration": 5,
    "start_time": "2024-01-26T09:17:43.284Z"
   },
   {
    "duration": 17,
    "start_time": "2024-01-26T09:17:43.291Z"
   },
   {
    "duration": 3460,
    "start_time": "2024-01-26T09:17:43.309Z"
   },
   {
    "duration": 5,
    "start_time": "2024-01-26T09:17:46.770Z"
   },
   {
    "duration": 138,
    "start_time": "2024-01-26T09:17:46.777Z"
   },
   {
    "duration": 5,
    "start_time": "2024-01-26T09:17:46.917Z"
   },
   {
    "duration": 26,
    "start_time": "2024-01-26T09:17:46.924Z"
   },
   {
    "duration": 7,
    "start_time": "2024-01-26T09:17:46.952Z"
   },
   {
    "duration": 8,
    "start_time": "2024-01-26T09:17:46.961Z"
   },
   {
    "duration": 42,
    "start_time": "2024-01-26T09:17:46.971Z"
   },
   {
    "duration": 19,
    "start_time": "2024-01-26T09:17:47.014Z"
   },
   {
    "duration": 38,
    "start_time": "2024-01-26T09:17:47.035Z"
   },
   {
    "duration": 21,
    "start_time": "2024-01-26T09:17:47.074Z"
   },
   {
    "duration": 130,
    "start_time": "2024-01-26T09:17:47.097Z"
   },
   {
    "duration": 0,
    "start_time": "2024-01-26T09:17:47.228Z"
   },
   {
    "duration": 0,
    "start_time": "2024-01-26T09:17:47.229Z"
   },
   {
    "duration": 0,
    "start_time": "2024-01-26T09:17:47.231Z"
   },
   {
    "duration": 83,
    "start_time": "2024-01-26T09:19:05.808Z"
   },
   {
    "duration": 26,
    "start_time": "2024-01-26T09:19:14.158Z"
   },
   {
    "duration": 17,
    "start_time": "2024-01-26T09:19:14.959Z"
   },
   {
    "duration": 27,
    "start_time": "2024-01-26T09:19:16.567Z"
   },
   {
    "duration": 10514,
    "start_time": "2024-01-26T09:19:48.062Z"
   },
   {
    "duration": 3,
    "start_time": "2024-01-26T09:20:45.873Z"
   },
   {
    "duration": 3,
    "start_time": "2024-01-26T09:21:29.639Z"
   },
   {
    "duration": 3196,
    "start_time": "2024-01-26T09:21:47.665Z"
   },
   {
    "duration": 2721,
    "start_time": "2024-01-26T09:21:50.863Z"
   },
   {
    "duration": 1453,
    "start_time": "2024-01-26T09:21:53.586Z"
   },
   {
    "duration": 4,
    "start_time": "2024-01-26T09:21:55.041Z"
   },
   {
    "duration": 122,
    "start_time": "2024-01-26T09:21:55.046Z"
   },
   {
    "duration": 16,
    "start_time": "2024-01-26T09:21:55.169Z"
   },
   {
    "duration": 21,
    "start_time": "2024-01-26T09:21:55.186Z"
   },
   {
    "duration": 4,
    "start_time": "2024-01-26T09:21:55.209Z"
   },
   {
    "duration": 15,
    "start_time": "2024-01-26T09:21:55.215Z"
   },
   {
    "duration": 33,
    "start_time": "2024-01-26T09:21:55.234Z"
   },
   {
    "duration": 7,
    "start_time": "2024-01-26T09:21:55.269Z"
   },
   {
    "duration": 9,
    "start_time": "2024-01-26T09:21:55.278Z"
   },
   {
    "duration": 18,
    "start_time": "2024-01-26T09:21:55.289Z"
   },
   {
    "duration": 343,
    "start_time": "2024-01-26T09:21:55.308Z"
   },
   {
    "duration": 18,
    "start_time": "2024-01-26T09:21:55.652Z"
   },
   {
    "duration": 374,
    "start_time": "2024-01-26T09:21:55.673Z"
   },
   {
    "duration": 13,
    "start_time": "2024-01-26T09:21:56.049Z"
   },
   {
    "duration": 391,
    "start_time": "2024-01-26T09:21:56.063Z"
   },
   {
    "duration": 13,
    "start_time": "2024-01-26T09:21:56.456Z"
   },
   {
    "duration": 343,
    "start_time": "2024-01-26T09:21:56.470Z"
   },
   {
    "duration": 9,
    "start_time": "2024-01-26T09:21:56.815Z"
   },
   {
    "duration": 30,
    "start_time": "2024-01-26T09:21:56.825Z"
   },
   {
    "duration": 8,
    "start_time": "2024-01-26T09:21:56.857Z"
   },
   {
    "duration": 12,
    "start_time": "2024-01-26T09:21:56.867Z"
   },
   {
    "duration": 20,
    "start_time": "2024-01-26T09:21:56.880Z"
   },
   {
    "duration": 14,
    "start_time": "2024-01-26T09:21:56.902Z"
   },
   {
    "duration": 22,
    "start_time": "2024-01-26T09:21:56.917Z"
   },
   {
    "duration": 28,
    "start_time": "2024-01-26T09:21:56.943Z"
   },
   {
    "duration": 43,
    "start_time": "2024-01-26T09:21:56.973Z"
   },
   {
    "duration": 12,
    "start_time": "2024-01-26T09:21:57.018Z"
   },
   {
    "duration": 38,
    "start_time": "2024-01-26T09:21:57.032Z"
   },
   {
    "duration": 63,
    "start_time": "2024-01-26T09:21:57.071Z"
   },
   {
    "duration": 45,
    "start_time": "2024-01-26T09:21:57.136Z"
   },
   {
    "duration": 11,
    "start_time": "2024-01-26T09:21:57.183Z"
   },
   {
    "duration": 37,
    "start_time": "2024-01-26T09:21:57.196Z"
   },
   {
    "duration": 20,
    "start_time": "2024-01-26T09:21:57.235Z"
   },
   {
    "duration": 21,
    "start_time": "2024-01-26T09:21:57.257Z"
   },
   {
    "duration": 15,
    "start_time": "2024-01-26T09:21:57.280Z"
   },
   {
    "duration": 14,
    "start_time": "2024-01-26T09:21:57.297Z"
   },
   {
    "duration": 82,
    "start_time": "2024-01-26T09:21:57.313Z"
   },
   {
    "duration": 10,
    "start_time": "2024-01-26T09:21:57.397Z"
   },
   {
    "duration": 17,
    "start_time": "2024-01-26T09:21:57.409Z"
   },
   {
    "duration": 51,
    "start_time": "2024-01-26T09:21:57.429Z"
   },
   {
    "duration": 9,
    "start_time": "2024-01-26T09:21:57.482Z"
   },
   {
    "duration": 7,
    "start_time": "2024-01-26T09:21:57.493Z"
   },
   {
    "duration": 28,
    "start_time": "2024-01-26T09:21:57.502Z"
   },
   {
    "duration": 3575,
    "start_time": "2024-01-26T09:21:57.532Z"
   },
   {
    "duration": 5,
    "start_time": "2024-01-26T09:22:01.109Z"
   },
   {
    "duration": 185,
    "start_time": "2024-01-26T09:22:01.116Z"
   },
   {
    "duration": 7,
    "start_time": "2024-01-26T09:22:01.302Z"
   },
   {
    "duration": 69,
    "start_time": "2024-01-26T09:22:01.311Z"
   },
   {
    "duration": 52,
    "start_time": "2024-01-26T09:22:01.382Z"
   },
   {
    "duration": 61,
    "start_time": "2024-01-26T09:22:01.436Z"
   },
   {
    "duration": 62,
    "start_time": "2024-01-26T09:22:01.499Z"
   },
   {
    "duration": 67,
    "start_time": "2024-01-26T09:22:01.563Z"
   },
   {
    "duration": 72,
    "start_time": "2024-01-26T09:22:01.631Z"
   },
   {
    "duration": 100,
    "start_time": "2024-01-26T09:22:01.705Z"
   },
   {
    "duration": 148,
    "start_time": "2024-01-26T09:22:01.807Z"
   },
   {
    "duration": 29,
    "start_time": "2024-01-26T09:22:01.957Z"
   },
   {
    "duration": 122,
    "start_time": "2024-01-26T09:22:01.988Z"
   },
   {
    "duration": 190,
    "start_time": "2024-01-26T09:22:02.111Z"
   },
   {
    "duration": 10607,
    "start_time": "2024-01-26T09:22:20.157Z"
   },
   {
    "duration": 5,
    "start_time": "2024-01-26T09:22:41.247Z"
   },
   {
    "duration": 360734,
    "start_time": "2024-01-26T09:22:51.373Z"
   },
   {
    "duration": 11,
    "start_time": "2024-01-26T09:29:47.718Z"
   },
   {
    "duration": 5869,
    "start_time": "2024-01-26T09:30:53.816Z"
   },
   {
    "duration": 34490,
    "start_time": "2024-01-26T09:31:34.261Z"
   },
   {
    "duration": 16,
    "start_time": "2024-01-26T09:33:05.061Z"
   },
   {
    "duration": 865917,
    "start_time": "2024-01-26T09:34:14.921Z"
   }
  ],
  "kernelspec": {
   "display_name": "Python 3 (ipykernel)",
   "language": "python",
   "name": "python3"
  },
  "language_info": {
   "codemirror_mode": {
    "name": "ipython",
    "version": 3
   },
   "file_extension": ".py",
   "mimetype": "text/x-python",
   "name": "python",
   "nbconvert_exporter": "python",
   "pygments_lexer": "ipython3",
   "version": "3.9.5"
  },
  "toc": {
   "base_numbering": 1,
   "nav_menu": {},
   "number_sections": true,
   "sideBar": true,
   "skip_h1_title": true,
   "title_cell": "Table of Contents",
   "title_sidebar": "Contents",
   "toc_cell": false,
   "toc_position": {},
   "toc_section_display": true,
   "toc_window_display": false
  }
 },
 "nbformat": 4,
 "nbformat_minor": 2
}

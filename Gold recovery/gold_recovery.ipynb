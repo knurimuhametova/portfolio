{
 "cells": [
  {
   "cell_type": "markdown",
   "metadata": {
    "toc": true
   },
   "source": [
    "<h1>Содержание<span class=\"tocSkip\"></span></h1>\n",
    "<div class=\"toc\"><ul class=\"toc-item\"><li><span><a href=\"#Подготовка-данных\" data-toc-modified-id=\"Подготовка-данных-1\"><span class=\"toc-item-num\">1&nbsp;&nbsp;</span>Подготовка данных</a></span></li><li><span><a href=\"#Анализ-данных\" data-toc-modified-id=\"Анализ-данных-2\"><span class=\"toc-item-num\">2&nbsp;&nbsp;</span>Анализ данных</a></span></li><li><span><a href=\"#Обучение-моделей\" data-toc-modified-id=\"Обучение-моделей-3\"><span class=\"toc-item-num\">3&nbsp;&nbsp;</span>Обучение моделей</a></span></li><li><span><a href=\"#Тестирование\" data-toc-modified-id=\"Тестирование-4\"><span class=\"toc-item-num\">4&nbsp;&nbsp;</span>Тестирование</a></span></li><li><span><a href=\"#Итоги-исследования\" data-toc-modified-id=\"Итоги-исследования-5\"><span class=\"toc-item-num\">5&nbsp;&nbsp;</span>Итоги исследования</a></span></li></ul></div>"
   ]
  },
  {
   "cell_type": "markdown",
   "metadata": {},
   "source": [
    "# Восстановление золота из руды"
   ]
  },
  {
   "cell_type": "markdown",
   "metadata": {},
   "source": [
    "Компания разрабатывает решения для эффективной работы промышленных предприятий.\n",
    "\n",
    "Необходимо подготовить прототип модели машинного обучения. Модель должна предсказать коэффициент восстановления золота из золотосодержащей руды.\n",
    "\n",
    "Модель поможет оптимизировать производство, чтобы не запускать предприятие с убыточными характеристиками."
   ]
  },
  {
   "cell_type": "markdown",
   "metadata": {},
   "source": [
    "**Цель исследования** — построить модель с минимальным значением Итоговой метрики sMAPE, которая спрогнозирует коэффициент восстановления золота из золотосодержащей руды.\n",
    "\n",
    "**Ход исследования**\n",
    "\n",
    "Данные с параметрами добычи и очистки будут получены из файлов `gold_recovery_train_new.csv`, `gold_recovery_test_new.csv`, `gold_recovery_full_new.csv`. О качестве данных ничего не известно. Поэтому перед началом исследования понадобится обзор данных. \n",
    " \n",
    "Исследование пройдёт в четыре этапа:\n",
    " 1. Обзор и предобработка данных.\n",
    " 2. Исследование данных.\n",
    " 3. Построение модели.\n",
    " 4. Тестирование модели.\n",
    " 5. Выводы."
   ]
  },
  {
   "cell_type": "markdown",
   "metadata": {},
   "source": [
    "# Метрика качества\n",
    "\n",
    "Для решения задачи введём новую метрику качества — *sMAPE* (англ. Symmetric Mean Absolute Percentage Error, «симметричное среднее абсолютное процентное отклонение»).\n",
    "\n",
    "Метрика *sMAPE* вычисляется так:\n",
    "$$sMAPE = \\frac{1}{N}\\sum_{i=1}^N\\frac{|y_{i} - y'_{i}|}{(|y_{i}| + |y'_{i}|)/2} \\times 100 \\% $$\n",
    "\n",
    "Нужно спрогнозировать сразу две величины:\n",
    "- эффективность обогащения чернового концентрата `rougher.output.recovery`;\n",
    "- эффективность обогащения финального концентрата `final.output.recovery`.\n",
    "\n",
    "Итоговая метрика складывается из двух величин:\n",
    "\n",
    "$$Итоговое sMAPE = 25\\% \\times sMAPE(rougher) + 75 \\% \\times sMAPE(final)$$"
   ]
  },
  {
   "cell_type": "markdown",
   "metadata": {},
   "source": [
    "## Подготовка данных"
   ]
  },
  {
   "cell_type": "code",
   "execution_count": 35,
   "metadata": {},
   "outputs": [],
   "source": [
    "# Импортируем необходимые библиотеки\n",
    "import pandas as pd\n",
    "import numpy as np\n",
    "import matplotlib.pyplot as plt\n",
    "import seaborn as sns\n",
    "\n",
    "from sklearn.model_selection import train_test_split\n",
    "from sklearn.linear_model import LinearRegression\n",
    "from sklearn.metrics import make_scorer, mean_absolute_error\n",
    "from sklearn.preprocessing import StandardScaler\n",
    "from sklearn.model_selection import cross_val_score\n",
    "from sklearn.ensemble import RandomForestRegressor\n",
    "from sklearn.dummy import DummyRegressor\n",
    "from sklearn.model_selection import RandomizedSearchCV\n",
    "from catboost import CatBoostRegressor"
   ]
  },
  {
   "cell_type": "code",
   "execution_count": 2,
   "metadata": {},
   "outputs": [],
   "source": [
    "# сохраним данные в переменные\n",
    "train = pd.read_csv('/datasets/gold_recovery_train_new.csv')\n",
    "test = pd.read_csv('/datasets/gold_recovery_test_new.csv')\n",
    "full = pd.read_csv('/datasets/gold_recovery_full_new.csv')"
   ]
  },
  {
   "cell_type": "markdown",
   "metadata": {},
   "source": [
    "Посмотрим на таблицы с данными"
   ]
  },
  {
   "cell_type": "code",
   "execution_count": 3,
   "metadata": {},
   "outputs": [
    {
     "data": {
      "text/html": [
       "<div>\n",
       "<style scoped>\n",
       "    .dataframe tbody tr th:only-of-type {\n",
       "        vertical-align: middle;\n",
       "    }\n",
       "\n",
       "    .dataframe tbody tr th {\n",
       "        vertical-align: top;\n",
       "    }\n",
       "\n",
       "    .dataframe thead th {\n",
       "        text-align: right;\n",
       "    }\n",
       "</style>\n",
       "<table border=\"1\" class=\"dataframe\">\n",
       "  <thead>\n",
       "    <tr style=\"text-align: right;\">\n",
       "      <th></th>\n",
       "      <th>date</th>\n",
       "      <th>final.output.concentrate_ag</th>\n",
       "      <th>final.output.concentrate_pb</th>\n",
       "      <th>final.output.concentrate_sol</th>\n",
       "      <th>final.output.concentrate_au</th>\n",
       "      <th>final.output.recovery</th>\n",
       "      <th>final.output.tail_ag</th>\n",
       "      <th>final.output.tail_pb</th>\n",
       "      <th>final.output.tail_sol</th>\n",
       "      <th>final.output.tail_au</th>\n",
       "      <th>...</th>\n",
       "      <th>secondary_cleaner.state.floatbank4_a_air</th>\n",
       "      <th>secondary_cleaner.state.floatbank4_a_level</th>\n",
       "      <th>secondary_cleaner.state.floatbank4_b_air</th>\n",
       "      <th>secondary_cleaner.state.floatbank4_b_level</th>\n",
       "      <th>secondary_cleaner.state.floatbank5_a_air</th>\n",
       "      <th>secondary_cleaner.state.floatbank5_a_level</th>\n",
       "      <th>secondary_cleaner.state.floatbank5_b_air</th>\n",
       "      <th>secondary_cleaner.state.floatbank5_b_level</th>\n",
       "      <th>secondary_cleaner.state.floatbank6_a_air</th>\n",
       "      <th>secondary_cleaner.state.floatbank6_a_level</th>\n",
       "    </tr>\n",
       "  </thead>\n",
       "  <tbody>\n",
       "    <tr>\n",
       "      <th>0</th>\n",
       "      <td>2016-01-15 00:00:00</td>\n",
       "      <td>6.055403</td>\n",
       "      <td>9.889648</td>\n",
       "      <td>5.507324</td>\n",
       "      <td>42.192020</td>\n",
       "      <td>70.541216</td>\n",
       "      <td>10.411962</td>\n",
       "      <td>0.895447</td>\n",
       "      <td>16.904297</td>\n",
       "      <td>2.143149</td>\n",
       "      <td>...</td>\n",
       "      <td>14.016835</td>\n",
       "      <td>-502.488007</td>\n",
       "      <td>12.099931</td>\n",
       "      <td>-504.715942</td>\n",
       "      <td>9.925633</td>\n",
       "      <td>-498.310211</td>\n",
       "      <td>8.079666</td>\n",
       "      <td>-500.470978</td>\n",
       "      <td>14.151341</td>\n",
       "      <td>-605.841980</td>\n",
       "    </tr>\n",
       "    <tr>\n",
       "      <th>1</th>\n",
       "      <td>2016-01-15 01:00:00</td>\n",
       "      <td>6.029369</td>\n",
       "      <td>9.968944</td>\n",
       "      <td>5.257781</td>\n",
       "      <td>42.701629</td>\n",
       "      <td>69.266198</td>\n",
       "      <td>10.462676</td>\n",
       "      <td>0.927452</td>\n",
       "      <td>16.634514</td>\n",
       "      <td>2.224930</td>\n",
       "      <td>...</td>\n",
       "      <td>13.992281</td>\n",
       "      <td>-505.503262</td>\n",
       "      <td>11.950531</td>\n",
       "      <td>-501.331529</td>\n",
       "      <td>10.039245</td>\n",
       "      <td>-500.169983</td>\n",
       "      <td>7.984757</td>\n",
       "      <td>-500.582168</td>\n",
       "      <td>13.998353</td>\n",
       "      <td>-599.787184</td>\n",
       "    </tr>\n",
       "    <tr>\n",
       "      <th>2</th>\n",
       "      <td>2016-01-15 02:00:00</td>\n",
       "      <td>6.055926</td>\n",
       "      <td>10.213995</td>\n",
       "      <td>5.383759</td>\n",
       "      <td>42.657501</td>\n",
       "      <td>68.116445</td>\n",
       "      <td>10.507046</td>\n",
       "      <td>0.953716</td>\n",
       "      <td>16.208849</td>\n",
       "      <td>2.257889</td>\n",
       "      <td>...</td>\n",
       "      <td>14.015015</td>\n",
       "      <td>-502.520901</td>\n",
       "      <td>11.912783</td>\n",
       "      <td>-501.133383</td>\n",
       "      <td>10.070913</td>\n",
       "      <td>-500.129135</td>\n",
       "      <td>8.013877</td>\n",
       "      <td>-500.517572</td>\n",
       "      <td>14.028663</td>\n",
       "      <td>-601.427363</td>\n",
       "    </tr>\n",
       "    <tr>\n",
       "      <th>3</th>\n",
       "      <td>2016-01-15 03:00:00</td>\n",
       "      <td>6.047977</td>\n",
       "      <td>9.977019</td>\n",
       "      <td>4.858634</td>\n",
       "      <td>42.689819</td>\n",
       "      <td>68.347543</td>\n",
       "      <td>10.422762</td>\n",
       "      <td>0.883763</td>\n",
       "      <td>16.532835</td>\n",
       "      <td>2.146849</td>\n",
       "      <td>...</td>\n",
       "      <td>14.036510</td>\n",
       "      <td>-500.857308</td>\n",
       "      <td>11.999550</td>\n",
       "      <td>-501.193686</td>\n",
       "      <td>9.970366</td>\n",
       "      <td>-499.201640</td>\n",
       "      <td>7.977324</td>\n",
       "      <td>-500.255908</td>\n",
       "      <td>14.005551</td>\n",
       "      <td>-599.996129</td>\n",
       "    </tr>\n",
       "    <tr>\n",
       "      <th>4</th>\n",
       "      <td>2016-01-15 04:00:00</td>\n",
       "      <td>6.148599</td>\n",
       "      <td>10.142511</td>\n",
       "      <td>4.939416</td>\n",
       "      <td>42.774141</td>\n",
       "      <td>66.927016</td>\n",
       "      <td>10.360302</td>\n",
       "      <td>0.792826</td>\n",
       "      <td>16.525686</td>\n",
       "      <td>2.055292</td>\n",
       "      <td>...</td>\n",
       "      <td>14.027298</td>\n",
       "      <td>-499.838632</td>\n",
       "      <td>11.953070</td>\n",
       "      <td>-501.053894</td>\n",
       "      <td>9.925709</td>\n",
       "      <td>-501.686727</td>\n",
       "      <td>7.894242</td>\n",
       "      <td>-500.356035</td>\n",
       "      <td>13.996647</td>\n",
       "      <td>-601.496691</td>\n",
       "    </tr>\n",
       "  </tbody>\n",
       "</table>\n",
       "<p>5 rows × 87 columns</p>\n",
       "</div>"
      ],
      "text/plain": [
       "                  date  final.output.concentrate_ag  \\\n",
       "0  2016-01-15 00:00:00                     6.055403   \n",
       "1  2016-01-15 01:00:00                     6.029369   \n",
       "2  2016-01-15 02:00:00                     6.055926   \n",
       "3  2016-01-15 03:00:00                     6.047977   \n",
       "4  2016-01-15 04:00:00                     6.148599   \n",
       "\n",
       "   final.output.concentrate_pb  final.output.concentrate_sol  \\\n",
       "0                     9.889648                      5.507324   \n",
       "1                     9.968944                      5.257781   \n",
       "2                    10.213995                      5.383759   \n",
       "3                     9.977019                      4.858634   \n",
       "4                    10.142511                      4.939416   \n",
       "\n",
       "   final.output.concentrate_au  final.output.recovery  final.output.tail_ag  \\\n",
       "0                    42.192020              70.541216             10.411962   \n",
       "1                    42.701629              69.266198             10.462676   \n",
       "2                    42.657501              68.116445             10.507046   \n",
       "3                    42.689819              68.347543             10.422762   \n",
       "4                    42.774141              66.927016             10.360302   \n",
       "\n",
       "   final.output.tail_pb  final.output.tail_sol  final.output.tail_au  ...  \\\n",
       "0              0.895447              16.904297              2.143149  ...   \n",
       "1              0.927452              16.634514              2.224930  ...   \n",
       "2              0.953716              16.208849              2.257889  ...   \n",
       "3              0.883763              16.532835              2.146849  ...   \n",
       "4              0.792826              16.525686              2.055292  ...   \n",
       "\n",
       "   secondary_cleaner.state.floatbank4_a_air  \\\n",
       "0                                 14.016835   \n",
       "1                                 13.992281   \n",
       "2                                 14.015015   \n",
       "3                                 14.036510   \n",
       "4                                 14.027298   \n",
       "\n",
       "   secondary_cleaner.state.floatbank4_a_level  \\\n",
       "0                                 -502.488007   \n",
       "1                                 -505.503262   \n",
       "2                                 -502.520901   \n",
       "3                                 -500.857308   \n",
       "4                                 -499.838632   \n",
       "\n",
       "   secondary_cleaner.state.floatbank4_b_air  \\\n",
       "0                                 12.099931   \n",
       "1                                 11.950531   \n",
       "2                                 11.912783   \n",
       "3                                 11.999550   \n",
       "4                                 11.953070   \n",
       "\n",
       "   secondary_cleaner.state.floatbank4_b_level  \\\n",
       "0                                 -504.715942   \n",
       "1                                 -501.331529   \n",
       "2                                 -501.133383   \n",
       "3                                 -501.193686   \n",
       "4                                 -501.053894   \n",
       "\n",
       "   secondary_cleaner.state.floatbank5_a_air  \\\n",
       "0                                  9.925633   \n",
       "1                                 10.039245   \n",
       "2                                 10.070913   \n",
       "3                                  9.970366   \n",
       "4                                  9.925709   \n",
       "\n",
       "   secondary_cleaner.state.floatbank5_a_level  \\\n",
       "0                                 -498.310211   \n",
       "1                                 -500.169983   \n",
       "2                                 -500.129135   \n",
       "3                                 -499.201640   \n",
       "4                                 -501.686727   \n",
       "\n",
       "   secondary_cleaner.state.floatbank5_b_air  \\\n",
       "0                                  8.079666   \n",
       "1                                  7.984757   \n",
       "2                                  8.013877   \n",
       "3                                  7.977324   \n",
       "4                                  7.894242   \n",
       "\n",
       "   secondary_cleaner.state.floatbank5_b_level  \\\n",
       "0                                 -500.470978   \n",
       "1                                 -500.582168   \n",
       "2                                 -500.517572   \n",
       "3                                 -500.255908   \n",
       "4                                 -500.356035   \n",
       "\n",
       "   secondary_cleaner.state.floatbank6_a_air  \\\n",
       "0                                 14.151341   \n",
       "1                                 13.998353   \n",
       "2                                 14.028663   \n",
       "3                                 14.005551   \n",
       "4                                 13.996647   \n",
       "\n",
       "   secondary_cleaner.state.floatbank6_a_level  \n",
       "0                                 -605.841980  \n",
       "1                                 -599.787184  \n",
       "2                                 -601.427363  \n",
       "3                                 -599.996129  \n",
       "4                                 -601.496691  \n",
       "\n",
       "[5 rows x 87 columns]"
      ]
     },
     "execution_count": 3,
     "metadata": {},
     "output_type": "execute_result"
    }
   ],
   "source": [
    "train.head()"
   ]
  },
  {
   "cell_type": "code",
   "execution_count": 4,
   "metadata": {},
   "outputs": [
    {
     "data": {
      "text/html": [
       "<div>\n",
       "<style scoped>\n",
       "    .dataframe tbody tr th:only-of-type {\n",
       "        vertical-align: middle;\n",
       "    }\n",
       "\n",
       "    .dataframe tbody tr th {\n",
       "        vertical-align: top;\n",
       "    }\n",
       "\n",
       "    .dataframe thead th {\n",
       "        text-align: right;\n",
       "    }\n",
       "</style>\n",
       "<table border=\"1\" class=\"dataframe\">\n",
       "  <thead>\n",
       "    <tr style=\"text-align: right;\">\n",
       "      <th></th>\n",
       "      <th>date</th>\n",
       "      <th>primary_cleaner.input.sulfate</th>\n",
       "      <th>primary_cleaner.input.depressant</th>\n",
       "      <th>primary_cleaner.input.feed_size</th>\n",
       "      <th>primary_cleaner.input.xanthate</th>\n",
       "      <th>primary_cleaner.state.floatbank8_a_air</th>\n",
       "      <th>primary_cleaner.state.floatbank8_a_level</th>\n",
       "      <th>primary_cleaner.state.floatbank8_b_air</th>\n",
       "      <th>primary_cleaner.state.floatbank8_b_level</th>\n",
       "      <th>primary_cleaner.state.floatbank8_c_air</th>\n",
       "      <th>...</th>\n",
       "      <th>secondary_cleaner.state.floatbank4_a_air</th>\n",
       "      <th>secondary_cleaner.state.floatbank4_a_level</th>\n",
       "      <th>secondary_cleaner.state.floatbank4_b_air</th>\n",
       "      <th>secondary_cleaner.state.floatbank4_b_level</th>\n",
       "      <th>secondary_cleaner.state.floatbank5_a_air</th>\n",
       "      <th>secondary_cleaner.state.floatbank5_a_level</th>\n",
       "      <th>secondary_cleaner.state.floatbank5_b_air</th>\n",
       "      <th>secondary_cleaner.state.floatbank5_b_level</th>\n",
       "      <th>secondary_cleaner.state.floatbank6_a_air</th>\n",
       "      <th>secondary_cleaner.state.floatbank6_a_level</th>\n",
       "    </tr>\n",
       "  </thead>\n",
       "  <tbody>\n",
       "    <tr>\n",
       "      <th>0</th>\n",
       "      <td>2016-09-01 00:59:59</td>\n",
       "      <td>210.800909</td>\n",
       "      <td>14.993118</td>\n",
       "      <td>8.080000</td>\n",
       "      <td>1.005021</td>\n",
       "      <td>1398.981301</td>\n",
       "      <td>-500.225577</td>\n",
       "      <td>1399.144926</td>\n",
       "      <td>-499.919735</td>\n",
       "      <td>1400.102998</td>\n",
       "      <td>...</td>\n",
       "      <td>12.023554</td>\n",
       "      <td>-497.795834</td>\n",
       "      <td>8.016656</td>\n",
       "      <td>-501.289139</td>\n",
       "      <td>7.946562</td>\n",
       "      <td>-432.317850</td>\n",
       "      <td>4.872511</td>\n",
       "      <td>-500.037437</td>\n",
       "      <td>26.705889</td>\n",
       "      <td>-499.709414</td>\n",
       "    </tr>\n",
       "    <tr>\n",
       "      <th>1</th>\n",
       "      <td>2016-09-01 01:59:59</td>\n",
       "      <td>215.392455</td>\n",
       "      <td>14.987471</td>\n",
       "      <td>8.080000</td>\n",
       "      <td>0.990469</td>\n",
       "      <td>1398.777912</td>\n",
       "      <td>-500.057435</td>\n",
       "      <td>1398.055362</td>\n",
       "      <td>-499.778182</td>\n",
       "      <td>1396.151033</td>\n",
       "      <td>...</td>\n",
       "      <td>12.058140</td>\n",
       "      <td>-498.695773</td>\n",
       "      <td>8.130979</td>\n",
       "      <td>-499.634209</td>\n",
       "      <td>7.958270</td>\n",
       "      <td>-525.839648</td>\n",
       "      <td>4.878850</td>\n",
       "      <td>-500.162375</td>\n",
       "      <td>25.019940</td>\n",
       "      <td>-499.819438</td>\n",
       "    </tr>\n",
       "    <tr>\n",
       "      <th>2</th>\n",
       "      <td>2016-09-01 02:59:59</td>\n",
       "      <td>215.259946</td>\n",
       "      <td>12.884934</td>\n",
       "      <td>7.786667</td>\n",
       "      <td>0.996043</td>\n",
       "      <td>1398.493666</td>\n",
       "      <td>-500.868360</td>\n",
       "      <td>1398.860436</td>\n",
       "      <td>-499.764529</td>\n",
       "      <td>1398.075709</td>\n",
       "      <td>...</td>\n",
       "      <td>11.962366</td>\n",
       "      <td>-498.767484</td>\n",
       "      <td>8.096893</td>\n",
       "      <td>-500.827423</td>\n",
       "      <td>8.071056</td>\n",
       "      <td>-500.801673</td>\n",
       "      <td>4.905125</td>\n",
       "      <td>-499.828510</td>\n",
       "      <td>24.994862</td>\n",
       "      <td>-500.622559</td>\n",
       "    </tr>\n",
       "    <tr>\n",
       "      <th>3</th>\n",
       "      <td>2016-09-01 03:59:59</td>\n",
       "      <td>215.336236</td>\n",
       "      <td>12.006805</td>\n",
       "      <td>7.640000</td>\n",
       "      <td>0.863514</td>\n",
       "      <td>1399.618111</td>\n",
       "      <td>-498.863574</td>\n",
       "      <td>1397.440120</td>\n",
       "      <td>-499.211024</td>\n",
       "      <td>1400.129303</td>\n",
       "      <td>...</td>\n",
       "      <td>12.033091</td>\n",
       "      <td>-498.350935</td>\n",
       "      <td>8.074946</td>\n",
       "      <td>-499.474407</td>\n",
       "      <td>7.897085</td>\n",
       "      <td>-500.868509</td>\n",
       "      <td>4.931400</td>\n",
       "      <td>-499.963623</td>\n",
       "      <td>24.948919</td>\n",
       "      <td>-498.709987</td>\n",
       "    </tr>\n",
       "    <tr>\n",
       "      <th>4</th>\n",
       "      <td>2016-09-01 04:59:59</td>\n",
       "      <td>199.099327</td>\n",
       "      <td>10.682530</td>\n",
       "      <td>7.530000</td>\n",
       "      <td>0.805575</td>\n",
       "      <td>1401.268123</td>\n",
       "      <td>-500.808305</td>\n",
       "      <td>1398.128818</td>\n",
       "      <td>-499.504543</td>\n",
       "      <td>1402.172226</td>\n",
       "      <td>...</td>\n",
       "      <td>12.025367</td>\n",
       "      <td>-500.786497</td>\n",
       "      <td>8.054678</td>\n",
       "      <td>-500.397500</td>\n",
       "      <td>8.107890</td>\n",
       "      <td>-509.526725</td>\n",
       "      <td>4.957674</td>\n",
       "      <td>-500.360026</td>\n",
       "      <td>25.003331</td>\n",
       "      <td>-500.856333</td>\n",
       "    </tr>\n",
       "  </tbody>\n",
       "</table>\n",
       "<p>5 rows × 53 columns</p>\n",
       "</div>"
      ],
      "text/plain": [
       "                  date  primary_cleaner.input.sulfate  \\\n",
       "0  2016-09-01 00:59:59                     210.800909   \n",
       "1  2016-09-01 01:59:59                     215.392455   \n",
       "2  2016-09-01 02:59:59                     215.259946   \n",
       "3  2016-09-01 03:59:59                     215.336236   \n",
       "4  2016-09-01 04:59:59                     199.099327   \n",
       "\n",
       "   primary_cleaner.input.depressant  primary_cleaner.input.feed_size  \\\n",
       "0                         14.993118                         8.080000   \n",
       "1                         14.987471                         8.080000   \n",
       "2                         12.884934                         7.786667   \n",
       "3                         12.006805                         7.640000   \n",
       "4                         10.682530                         7.530000   \n",
       "\n",
       "   primary_cleaner.input.xanthate  primary_cleaner.state.floatbank8_a_air  \\\n",
       "0                        1.005021                             1398.981301   \n",
       "1                        0.990469                             1398.777912   \n",
       "2                        0.996043                             1398.493666   \n",
       "3                        0.863514                             1399.618111   \n",
       "4                        0.805575                             1401.268123   \n",
       "\n",
       "   primary_cleaner.state.floatbank8_a_level  \\\n",
       "0                               -500.225577   \n",
       "1                               -500.057435   \n",
       "2                               -500.868360   \n",
       "3                               -498.863574   \n",
       "4                               -500.808305   \n",
       "\n",
       "   primary_cleaner.state.floatbank8_b_air  \\\n",
       "0                             1399.144926   \n",
       "1                             1398.055362   \n",
       "2                             1398.860436   \n",
       "3                             1397.440120   \n",
       "4                             1398.128818   \n",
       "\n",
       "   primary_cleaner.state.floatbank8_b_level  \\\n",
       "0                               -499.919735   \n",
       "1                               -499.778182   \n",
       "2                               -499.764529   \n",
       "3                               -499.211024   \n",
       "4                               -499.504543   \n",
       "\n",
       "   primary_cleaner.state.floatbank8_c_air  ...  \\\n",
       "0                             1400.102998  ...   \n",
       "1                             1396.151033  ...   \n",
       "2                             1398.075709  ...   \n",
       "3                             1400.129303  ...   \n",
       "4                             1402.172226  ...   \n",
       "\n",
       "   secondary_cleaner.state.floatbank4_a_air  \\\n",
       "0                                 12.023554   \n",
       "1                                 12.058140   \n",
       "2                                 11.962366   \n",
       "3                                 12.033091   \n",
       "4                                 12.025367   \n",
       "\n",
       "   secondary_cleaner.state.floatbank4_a_level  \\\n",
       "0                                 -497.795834   \n",
       "1                                 -498.695773   \n",
       "2                                 -498.767484   \n",
       "3                                 -498.350935   \n",
       "4                                 -500.786497   \n",
       "\n",
       "   secondary_cleaner.state.floatbank4_b_air  \\\n",
       "0                                  8.016656   \n",
       "1                                  8.130979   \n",
       "2                                  8.096893   \n",
       "3                                  8.074946   \n",
       "4                                  8.054678   \n",
       "\n",
       "   secondary_cleaner.state.floatbank4_b_level  \\\n",
       "0                                 -501.289139   \n",
       "1                                 -499.634209   \n",
       "2                                 -500.827423   \n",
       "3                                 -499.474407   \n",
       "4                                 -500.397500   \n",
       "\n",
       "   secondary_cleaner.state.floatbank5_a_air  \\\n",
       "0                                  7.946562   \n",
       "1                                  7.958270   \n",
       "2                                  8.071056   \n",
       "3                                  7.897085   \n",
       "4                                  8.107890   \n",
       "\n",
       "   secondary_cleaner.state.floatbank5_a_level  \\\n",
       "0                                 -432.317850   \n",
       "1                                 -525.839648   \n",
       "2                                 -500.801673   \n",
       "3                                 -500.868509   \n",
       "4                                 -509.526725   \n",
       "\n",
       "   secondary_cleaner.state.floatbank5_b_air  \\\n",
       "0                                  4.872511   \n",
       "1                                  4.878850   \n",
       "2                                  4.905125   \n",
       "3                                  4.931400   \n",
       "4                                  4.957674   \n",
       "\n",
       "   secondary_cleaner.state.floatbank5_b_level  \\\n",
       "0                                 -500.037437   \n",
       "1                                 -500.162375   \n",
       "2                                 -499.828510   \n",
       "3                                 -499.963623   \n",
       "4                                 -500.360026   \n",
       "\n",
       "   secondary_cleaner.state.floatbank6_a_air  \\\n",
       "0                                 26.705889   \n",
       "1                                 25.019940   \n",
       "2                                 24.994862   \n",
       "3                                 24.948919   \n",
       "4                                 25.003331   \n",
       "\n",
       "   secondary_cleaner.state.floatbank6_a_level  \n",
       "0                                 -499.709414  \n",
       "1                                 -499.819438  \n",
       "2                                 -500.622559  \n",
       "3                                 -498.709987  \n",
       "4                                 -500.856333  \n",
       "\n",
       "[5 rows x 53 columns]"
      ]
     },
     "execution_count": 4,
     "metadata": {},
     "output_type": "execute_result"
    }
   ],
   "source": [
    "test.head()"
   ]
  },
  {
   "cell_type": "code",
   "execution_count": 5,
   "metadata": {
    "scrolled": false
   },
   "outputs": [
    {
     "data": {
      "text/html": [
       "<div>\n",
       "<style scoped>\n",
       "    .dataframe tbody tr th:only-of-type {\n",
       "        vertical-align: middle;\n",
       "    }\n",
       "\n",
       "    .dataframe tbody tr th {\n",
       "        vertical-align: top;\n",
       "    }\n",
       "\n",
       "    .dataframe thead th {\n",
       "        text-align: right;\n",
       "    }\n",
       "</style>\n",
       "<table border=\"1\" class=\"dataframe\">\n",
       "  <thead>\n",
       "    <tr style=\"text-align: right;\">\n",
       "      <th></th>\n",
       "      <th>date</th>\n",
       "      <th>final.output.concentrate_ag</th>\n",
       "      <th>final.output.concentrate_pb</th>\n",
       "      <th>final.output.concentrate_sol</th>\n",
       "      <th>final.output.concentrate_au</th>\n",
       "      <th>final.output.recovery</th>\n",
       "      <th>final.output.tail_ag</th>\n",
       "      <th>final.output.tail_pb</th>\n",
       "      <th>final.output.tail_sol</th>\n",
       "      <th>final.output.tail_au</th>\n",
       "      <th>...</th>\n",
       "      <th>secondary_cleaner.state.floatbank4_a_air</th>\n",
       "      <th>secondary_cleaner.state.floatbank4_a_level</th>\n",
       "      <th>secondary_cleaner.state.floatbank4_b_air</th>\n",
       "      <th>secondary_cleaner.state.floatbank4_b_level</th>\n",
       "      <th>secondary_cleaner.state.floatbank5_a_air</th>\n",
       "      <th>secondary_cleaner.state.floatbank5_a_level</th>\n",
       "      <th>secondary_cleaner.state.floatbank5_b_air</th>\n",
       "      <th>secondary_cleaner.state.floatbank5_b_level</th>\n",
       "      <th>secondary_cleaner.state.floatbank6_a_air</th>\n",
       "      <th>secondary_cleaner.state.floatbank6_a_level</th>\n",
       "    </tr>\n",
       "  </thead>\n",
       "  <tbody>\n",
       "    <tr>\n",
       "      <th>0</th>\n",
       "      <td>2016-01-15 00:00:00</td>\n",
       "      <td>6.055403</td>\n",
       "      <td>9.889648</td>\n",
       "      <td>5.507324</td>\n",
       "      <td>42.192020</td>\n",
       "      <td>70.541216</td>\n",
       "      <td>10.411962</td>\n",
       "      <td>0.895447</td>\n",
       "      <td>16.904297</td>\n",
       "      <td>2.143149</td>\n",
       "      <td>...</td>\n",
       "      <td>14.016835</td>\n",
       "      <td>-502.488007</td>\n",
       "      <td>12.099931</td>\n",
       "      <td>-504.715942</td>\n",
       "      <td>9.925633</td>\n",
       "      <td>-498.310211</td>\n",
       "      <td>8.079666</td>\n",
       "      <td>-500.470978</td>\n",
       "      <td>14.151341</td>\n",
       "      <td>-605.841980</td>\n",
       "    </tr>\n",
       "    <tr>\n",
       "      <th>1</th>\n",
       "      <td>2016-01-15 01:00:00</td>\n",
       "      <td>6.029369</td>\n",
       "      <td>9.968944</td>\n",
       "      <td>5.257781</td>\n",
       "      <td>42.701629</td>\n",
       "      <td>69.266198</td>\n",
       "      <td>10.462676</td>\n",
       "      <td>0.927452</td>\n",
       "      <td>16.634514</td>\n",
       "      <td>2.224930</td>\n",
       "      <td>...</td>\n",
       "      <td>13.992281</td>\n",
       "      <td>-505.503262</td>\n",
       "      <td>11.950531</td>\n",
       "      <td>-501.331529</td>\n",
       "      <td>10.039245</td>\n",
       "      <td>-500.169983</td>\n",
       "      <td>7.984757</td>\n",
       "      <td>-500.582168</td>\n",
       "      <td>13.998353</td>\n",
       "      <td>-599.787184</td>\n",
       "    </tr>\n",
       "    <tr>\n",
       "      <th>2</th>\n",
       "      <td>2016-01-15 02:00:00</td>\n",
       "      <td>6.055926</td>\n",
       "      <td>10.213995</td>\n",
       "      <td>5.383759</td>\n",
       "      <td>42.657501</td>\n",
       "      <td>68.116445</td>\n",
       "      <td>10.507046</td>\n",
       "      <td>0.953716</td>\n",
       "      <td>16.208849</td>\n",
       "      <td>2.257889</td>\n",
       "      <td>...</td>\n",
       "      <td>14.015015</td>\n",
       "      <td>-502.520901</td>\n",
       "      <td>11.912783</td>\n",
       "      <td>-501.133383</td>\n",
       "      <td>10.070913</td>\n",
       "      <td>-500.129135</td>\n",
       "      <td>8.013877</td>\n",
       "      <td>-500.517572</td>\n",
       "      <td>14.028663</td>\n",
       "      <td>-601.427363</td>\n",
       "    </tr>\n",
       "    <tr>\n",
       "      <th>3</th>\n",
       "      <td>2016-01-15 03:00:00</td>\n",
       "      <td>6.047977</td>\n",
       "      <td>9.977019</td>\n",
       "      <td>4.858634</td>\n",
       "      <td>42.689819</td>\n",
       "      <td>68.347543</td>\n",
       "      <td>10.422762</td>\n",
       "      <td>0.883763</td>\n",
       "      <td>16.532835</td>\n",
       "      <td>2.146849</td>\n",
       "      <td>...</td>\n",
       "      <td>14.036510</td>\n",
       "      <td>-500.857308</td>\n",
       "      <td>11.999550</td>\n",
       "      <td>-501.193686</td>\n",
       "      <td>9.970366</td>\n",
       "      <td>-499.201640</td>\n",
       "      <td>7.977324</td>\n",
       "      <td>-500.255908</td>\n",
       "      <td>14.005551</td>\n",
       "      <td>-599.996129</td>\n",
       "    </tr>\n",
       "    <tr>\n",
       "      <th>4</th>\n",
       "      <td>2016-01-15 04:00:00</td>\n",
       "      <td>6.148599</td>\n",
       "      <td>10.142511</td>\n",
       "      <td>4.939416</td>\n",
       "      <td>42.774141</td>\n",
       "      <td>66.927016</td>\n",
       "      <td>10.360302</td>\n",
       "      <td>0.792826</td>\n",
       "      <td>16.525686</td>\n",
       "      <td>2.055292</td>\n",
       "      <td>...</td>\n",
       "      <td>14.027298</td>\n",
       "      <td>-499.838632</td>\n",
       "      <td>11.953070</td>\n",
       "      <td>-501.053894</td>\n",
       "      <td>9.925709</td>\n",
       "      <td>-501.686727</td>\n",
       "      <td>7.894242</td>\n",
       "      <td>-500.356035</td>\n",
       "      <td>13.996647</td>\n",
       "      <td>-601.496691</td>\n",
       "    </tr>\n",
       "  </tbody>\n",
       "</table>\n",
       "<p>5 rows × 87 columns</p>\n",
       "</div>"
      ],
      "text/plain": [
       "                  date  final.output.concentrate_ag  \\\n",
       "0  2016-01-15 00:00:00                     6.055403   \n",
       "1  2016-01-15 01:00:00                     6.029369   \n",
       "2  2016-01-15 02:00:00                     6.055926   \n",
       "3  2016-01-15 03:00:00                     6.047977   \n",
       "4  2016-01-15 04:00:00                     6.148599   \n",
       "\n",
       "   final.output.concentrate_pb  final.output.concentrate_sol  \\\n",
       "0                     9.889648                      5.507324   \n",
       "1                     9.968944                      5.257781   \n",
       "2                    10.213995                      5.383759   \n",
       "3                     9.977019                      4.858634   \n",
       "4                    10.142511                      4.939416   \n",
       "\n",
       "   final.output.concentrate_au  final.output.recovery  final.output.tail_ag  \\\n",
       "0                    42.192020              70.541216             10.411962   \n",
       "1                    42.701629              69.266198             10.462676   \n",
       "2                    42.657501              68.116445             10.507046   \n",
       "3                    42.689819              68.347543             10.422762   \n",
       "4                    42.774141              66.927016             10.360302   \n",
       "\n",
       "   final.output.tail_pb  final.output.tail_sol  final.output.tail_au  ...  \\\n",
       "0              0.895447              16.904297              2.143149  ...   \n",
       "1              0.927452              16.634514              2.224930  ...   \n",
       "2              0.953716              16.208849              2.257889  ...   \n",
       "3              0.883763              16.532835              2.146849  ...   \n",
       "4              0.792826              16.525686              2.055292  ...   \n",
       "\n",
       "   secondary_cleaner.state.floatbank4_a_air  \\\n",
       "0                                 14.016835   \n",
       "1                                 13.992281   \n",
       "2                                 14.015015   \n",
       "3                                 14.036510   \n",
       "4                                 14.027298   \n",
       "\n",
       "   secondary_cleaner.state.floatbank4_a_level  \\\n",
       "0                                 -502.488007   \n",
       "1                                 -505.503262   \n",
       "2                                 -502.520901   \n",
       "3                                 -500.857308   \n",
       "4                                 -499.838632   \n",
       "\n",
       "   secondary_cleaner.state.floatbank4_b_air  \\\n",
       "0                                 12.099931   \n",
       "1                                 11.950531   \n",
       "2                                 11.912783   \n",
       "3                                 11.999550   \n",
       "4                                 11.953070   \n",
       "\n",
       "   secondary_cleaner.state.floatbank4_b_level  \\\n",
       "0                                 -504.715942   \n",
       "1                                 -501.331529   \n",
       "2                                 -501.133383   \n",
       "3                                 -501.193686   \n",
       "4                                 -501.053894   \n",
       "\n",
       "   secondary_cleaner.state.floatbank5_a_air  \\\n",
       "0                                  9.925633   \n",
       "1                                 10.039245   \n",
       "2                                 10.070913   \n",
       "3                                  9.970366   \n",
       "4                                  9.925709   \n",
       "\n",
       "   secondary_cleaner.state.floatbank5_a_level  \\\n",
       "0                                 -498.310211   \n",
       "1                                 -500.169983   \n",
       "2                                 -500.129135   \n",
       "3                                 -499.201640   \n",
       "4                                 -501.686727   \n",
       "\n",
       "   secondary_cleaner.state.floatbank5_b_air  \\\n",
       "0                                  8.079666   \n",
       "1                                  7.984757   \n",
       "2                                  8.013877   \n",
       "3                                  7.977324   \n",
       "4                                  7.894242   \n",
       "\n",
       "   secondary_cleaner.state.floatbank5_b_level  \\\n",
       "0                                 -500.470978   \n",
       "1                                 -500.582168   \n",
       "2                                 -500.517572   \n",
       "3                                 -500.255908   \n",
       "4                                 -500.356035   \n",
       "\n",
       "   secondary_cleaner.state.floatbank6_a_air  \\\n",
       "0                                 14.151341   \n",
       "1                                 13.998353   \n",
       "2                                 14.028663   \n",
       "3                                 14.005551   \n",
       "4                                 13.996647   \n",
       "\n",
       "   secondary_cleaner.state.floatbank6_a_level  \n",
       "0                                 -605.841980  \n",
       "1                                 -599.787184  \n",
       "2                                 -601.427363  \n",
       "3                                 -599.996129  \n",
       "4                                 -601.496691  \n",
       "\n",
       "[5 rows x 87 columns]"
      ]
     },
     "execution_count": 5,
     "metadata": {},
     "output_type": "execute_result"
    }
   ],
   "source": [
    "full.head()"
   ]
  },
  {
   "cell_type": "markdown",
   "metadata": {},
   "source": [
    "Изучим общую информацию о датафреймах"
   ]
  },
  {
   "cell_type": "code",
   "execution_count": 6,
   "metadata": {
    "scrolled": true
   },
   "outputs": [
    {
     "name": "stdout",
     "output_type": "stream",
     "text": [
      "<class 'pandas.core.frame.DataFrame'>\n",
      "RangeIndex: 14149 entries, 0 to 14148\n",
      "Data columns (total 87 columns):\n",
      " #   Column                                              Non-Null Count  Dtype  \n",
      "---  ------                                              --------------  -----  \n",
      " 0   date                                                14149 non-null  object \n",
      " 1   final.output.concentrate_ag                         14148 non-null  float64\n",
      " 2   final.output.concentrate_pb                         14148 non-null  float64\n",
      " 3   final.output.concentrate_sol                        13938 non-null  float64\n",
      " 4   final.output.concentrate_au                         14149 non-null  float64\n",
      " 5   final.output.recovery                               14149 non-null  float64\n",
      " 6   final.output.tail_ag                                14149 non-null  float64\n",
      " 7   final.output.tail_pb                                14049 non-null  float64\n",
      " 8   final.output.tail_sol                               14144 non-null  float64\n",
      " 9   final.output.tail_au                                14149 non-null  float64\n",
      " 10  primary_cleaner.input.sulfate                       14129 non-null  float64\n",
      " 11  primary_cleaner.input.depressant                    14117 non-null  float64\n",
      " 12  primary_cleaner.input.feed_size                     14149 non-null  float64\n",
      " 13  primary_cleaner.input.xanthate                      14049 non-null  float64\n",
      " 14  primary_cleaner.output.concentrate_ag               14149 non-null  float64\n",
      " 15  primary_cleaner.output.concentrate_pb               14063 non-null  float64\n",
      " 16  primary_cleaner.output.concentrate_sol              13863 non-null  float64\n",
      " 17  primary_cleaner.output.concentrate_au               14149 non-null  float64\n",
      " 18  primary_cleaner.output.tail_ag                      14148 non-null  float64\n",
      " 19  primary_cleaner.output.tail_pb                      14134 non-null  float64\n",
      " 20  primary_cleaner.output.tail_sol                     14103 non-null  float64\n",
      " 21  primary_cleaner.output.tail_au                      14149 non-null  float64\n",
      " 22  primary_cleaner.state.floatbank8_a_air              14145 non-null  float64\n",
      " 23  primary_cleaner.state.floatbank8_a_level            14148 non-null  float64\n",
      " 24  primary_cleaner.state.floatbank8_b_air              14145 non-null  float64\n",
      " 25  primary_cleaner.state.floatbank8_b_level            14148 non-null  float64\n",
      " 26  primary_cleaner.state.floatbank8_c_air              14147 non-null  float64\n",
      " 27  primary_cleaner.state.floatbank8_c_level            14148 non-null  float64\n",
      " 28  primary_cleaner.state.floatbank8_d_air              14146 non-null  float64\n",
      " 29  primary_cleaner.state.floatbank8_d_level            14148 non-null  float64\n",
      " 30  rougher.calculation.sulfate_to_au_concentrate       14148 non-null  float64\n",
      " 31  rougher.calculation.floatbank10_sulfate_to_au_feed  14148 non-null  float64\n",
      " 32  rougher.calculation.floatbank11_sulfate_to_au_feed  14148 non-null  float64\n",
      " 33  rougher.calculation.au_pb_ratio                     14149 non-null  float64\n",
      " 34  rougher.input.feed_ag                               14149 non-null  float64\n",
      " 35  rougher.input.feed_pb                               14049 non-null  float64\n",
      " 36  rougher.input.feed_rate                             14141 non-null  float64\n",
      " 37  rougher.input.feed_size                             14005 non-null  float64\n",
      " 38  rougher.input.feed_sol                              14071 non-null  float64\n",
      " 39  rougher.input.feed_au                               14149 non-null  float64\n",
      " 40  rougher.input.floatbank10_sulfate                   14120 non-null  float64\n",
      " 41  rougher.input.floatbank10_xanthate                  14141 non-null  float64\n",
      " 42  rougher.input.floatbank11_sulfate                   14113 non-null  float64\n",
      " 43  rougher.input.floatbank11_xanthate                  13721 non-null  float64\n",
      " 44  rougher.output.concentrate_ag                       14149 non-null  float64\n",
      " 45  rougher.output.concentrate_pb                       14149 non-null  float64\n",
      " 46  rougher.output.concentrate_sol                      14127 non-null  float64\n",
      " 47  rougher.output.concentrate_au                       14149 non-null  float64\n",
      " 48  rougher.output.recovery                             14149 non-null  float64\n",
      " 49  rougher.output.tail_ag                              14148 non-null  float64\n",
      " 50  rougher.output.tail_pb                              14149 non-null  float64\n",
      " 51  rougher.output.tail_sol                             14149 non-null  float64\n",
      " 52  rougher.output.tail_au                              14149 non-null  float64\n",
      " 53  rougher.state.floatbank10_a_air                     14148 non-null  float64\n",
      " 54  rougher.state.floatbank10_a_level                   14148 non-null  float64\n",
      " 55  rougher.state.floatbank10_b_air                     14148 non-null  float64\n",
      " 56  rougher.state.floatbank10_b_level                   14148 non-null  float64\n",
      " 57  rougher.state.floatbank10_c_air                     14148 non-null  float64\n",
      " 58  rougher.state.floatbank10_c_level                   14148 non-null  float64\n",
      " 59  rougher.state.floatbank10_d_air                     14149 non-null  float64\n",
      " 60  rougher.state.floatbank10_d_level                   14149 non-null  float64\n",
      " 61  rougher.state.floatbank10_e_air                     13713 non-null  float64\n",
      " 62  rougher.state.floatbank10_e_level                   14149 non-null  float64\n",
      " 63  rougher.state.floatbank10_f_air                     14149 non-null  float64\n",
      " 64  rougher.state.floatbank10_f_level                   14149 non-null  float64\n",
      " 65  secondary_cleaner.output.tail_ag                    14147 non-null  float64\n",
      " 66  secondary_cleaner.output.tail_pb                    14139 non-null  float64\n",
      " 67  secondary_cleaner.output.tail_sol                   12544 non-null  float64\n",
      " 68  secondary_cleaner.output.tail_au                    14149 non-null  float64\n",
      " 69  secondary_cleaner.state.floatbank2_a_air            13932 non-null  float64\n",
      " 70  secondary_cleaner.state.floatbank2_a_level          14148 non-null  float64\n",
      " 71  secondary_cleaner.state.floatbank2_b_air            14128 non-null  float64\n",
      " 72  secondary_cleaner.state.floatbank2_b_level          14148 non-null  float64\n",
      " 73  secondary_cleaner.state.floatbank3_a_air            14145 non-null  float64\n",
      " 74  secondary_cleaner.state.floatbank3_a_level          14148 non-null  float64\n",
      " 75  secondary_cleaner.state.floatbank3_b_air            14148 non-null  float64\n",
      " 76  secondary_cleaner.state.floatbank3_b_level          14148 non-null  float64\n",
      " 77  secondary_cleaner.state.floatbank4_a_air            14143 non-null  float64\n",
      " 78  secondary_cleaner.state.floatbank4_a_level          14148 non-null  float64\n",
      " 79  secondary_cleaner.state.floatbank4_b_air            14148 non-null  float64\n",
      " 80  secondary_cleaner.state.floatbank4_b_level          14148 non-null  float64\n",
      " 81  secondary_cleaner.state.floatbank5_a_air            14148 non-null  float64\n",
      " 82  secondary_cleaner.state.floatbank5_a_level          14148 non-null  float64\n",
      " 83  secondary_cleaner.state.floatbank5_b_air            14148 non-null  float64\n",
      " 84  secondary_cleaner.state.floatbank5_b_level          14148 non-null  float64\n",
      " 85  secondary_cleaner.state.floatbank6_a_air            14147 non-null  float64\n",
      " 86  secondary_cleaner.state.floatbank6_a_level          14148 non-null  float64\n",
      "dtypes: float64(86), object(1)\n",
      "memory usage: 9.4+ MB\n"
     ]
    }
   ],
   "source": [
    "train.info()"
   ]
  },
  {
   "cell_type": "code",
   "execution_count": 7,
   "metadata": {
    "scrolled": true
   },
   "outputs": [
    {
     "name": "stdout",
     "output_type": "stream",
     "text": [
      "<class 'pandas.core.frame.DataFrame'>\n",
      "RangeIndex: 5290 entries, 0 to 5289\n",
      "Data columns (total 53 columns):\n",
      " #   Column                                      Non-Null Count  Dtype  \n",
      "---  ------                                      --------------  -----  \n",
      " 0   date                                        5290 non-null   object \n",
      " 1   primary_cleaner.input.sulfate               5286 non-null   float64\n",
      " 2   primary_cleaner.input.depressant            5285 non-null   float64\n",
      " 3   primary_cleaner.input.feed_size             5290 non-null   float64\n",
      " 4   primary_cleaner.input.xanthate              5286 non-null   float64\n",
      " 5   primary_cleaner.state.floatbank8_a_air      5290 non-null   float64\n",
      " 6   primary_cleaner.state.floatbank8_a_level    5290 non-null   float64\n",
      " 7   primary_cleaner.state.floatbank8_b_air      5290 non-null   float64\n",
      " 8   primary_cleaner.state.floatbank8_b_level    5290 non-null   float64\n",
      " 9   primary_cleaner.state.floatbank8_c_air      5290 non-null   float64\n",
      " 10  primary_cleaner.state.floatbank8_c_level    5290 non-null   float64\n",
      " 11  primary_cleaner.state.floatbank8_d_air      5290 non-null   float64\n",
      " 12  primary_cleaner.state.floatbank8_d_level    5290 non-null   float64\n",
      " 13  rougher.input.feed_ag                       5290 non-null   float64\n",
      " 14  rougher.input.feed_pb                       5290 non-null   float64\n",
      " 15  rougher.input.feed_rate                     5287 non-null   float64\n",
      " 16  rougher.input.feed_size                     5289 non-null   float64\n",
      " 17  rougher.input.feed_sol                      5269 non-null   float64\n",
      " 18  rougher.input.feed_au                       5290 non-null   float64\n",
      " 19  rougher.input.floatbank10_sulfate           5285 non-null   float64\n",
      " 20  rougher.input.floatbank10_xanthate          5290 non-null   float64\n",
      " 21  rougher.input.floatbank11_sulfate           5282 non-null   float64\n",
      " 22  rougher.input.floatbank11_xanthate          5265 non-null   float64\n",
      " 23  rougher.state.floatbank10_a_air             5290 non-null   float64\n",
      " 24  rougher.state.floatbank10_a_level           5290 non-null   float64\n",
      " 25  rougher.state.floatbank10_b_air             5290 non-null   float64\n",
      " 26  rougher.state.floatbank10_b_level           5290 non-null   float64\n",
      " 27  rougher.state.floatbank10_c_air             5290 non-null   float64\n",
      " 28  rougher.state.floatbank10_c_level           5290 non-null   float64\n",
      " 29  rougher.state.floatbank10_d_air             5290 non-null   float64\n",
      " 30  rougher.state.floatbank10_d_level           5290 non-null   float64\n",
      " 31  rougher.state.floatbank10_e_air             5290 non-null   float64\n",
      " 32  rougher.state.floatbank10_e_level           5290 non-null   float64\n",
      " 33  rougher.state.floatbank10_f_air             5290 non-null   float64\n",
      " 34  rougher.state.floatbank10_f_level           5290 non-null   float64\n",
      " 35  secondary_cleaner.state.floatbank2_a_air    5287 non-null   float64\n",
      " 36  secondary_cleaner.state.floatbank2_a_level  5290 non-null   float64\n",
      " 37  secondary_cleaner.state.floatbank2_b_air    5288 non-null   float64\n",
      " 38  secondary_cleaner.state.floatbank2_b_level  5290 non-null   float64\n",
      " 39  secondary_cleaner.state.floatbank3_a_air    5281 non-null   float64\n",
      " 40  secondary_cleaner.state.floatbank3_a_level  5290 non-null   float64\n",
      " 41  secondary_cleaner.state.floatbank3_b_air    5290 non-null   float64\n",
      " 42  secondary_cleaner.state.floatbank3_b_level  5290 non-null   float64\n",
      " 43  secondary_cleaner.state.floatbank4_a_air    5290 non-null   float64\n",
      " 44  secondary_cleaner.state.floatbank4_a_level  5290 non-null   float64\n",
      " 45  secondary_cleaner.state.floatbank4_b_air    5290 non-null   float64\n",
      " 46  secondary_cleaner.state.floatbank4_b_level  5290 non-null   float64\n",
      " 47  secondary_cleaner.state.floatbank5_a_air    5290 non-null   float64\n",
      " 48  secondary_cleaner.state.floatbank5_a_level  5290 non-null   float64\n",
      " 49  secondary_cleaner.state.floatbank5_b_air    5290 non-null   float64\n",
      " 50  secondary_cleaner.state.floatbank5_b_level  5290 non-null   float64\n",
      " 51  secondary_cleaner.state.floatbank6_a_air    5290 non-null   float64\n",
      " 52  secondary_cleaner.state.floatbank6_a_level  5290 non-null   float64\n",
      "dtypes: float64(52), object(1)\n",
      "memory usage: 2.1+ MB\n"
     ]
    }
   ],
   "source": [
    "test.info()"
   ]
  },
  {
   "cell_type": "code",
   "execution_count": 8,
   "metadata": {
    "scrolled": true
   },
   "outputs": [
    {
     "name": "stdout",
     "output_type": "stream",
     "text": [
      "<class 'pandas.core.frame.DataFrame'>\n",
      "RangeIndex: 19439 entries, 0 to 19438\n",
      "Data columns (total 87 columns):\n",
      " #   Column                                              Non-Null Count  Dtype  \n",
      "---  ------                                              --------------  -----  \n",
      " 0   date                                                19439 non-null  object \n",
      " 1   final.output.concentrate_ag                         19438 non-null  float64\n",
      " 2   final.output.concentrate_pb                         19438 non-null  float64\n",
      " 3   final.output.concentrate_sol                        19228 non-null  float64\n",
      " 4   final.output.concentrate_au                         19439 non-null  float64\n",
      " 5   final.output.recovery                               19439 non-null  float64\n",
      " 6   final.output.tail_ag                                19438 non-null  float64\n",
      " 7   final.output.tail_pb                                19338 non-null  float64\n",
      " 8   final.output.tail_sol                               19433 non-null  float64\n",
      " 9   final.output.tail_au                                19439 non-null  float64\n",
      " 10  primary_cleaner.input.sulfate                       19415 non-null  float64\n",
      " 11  primary_cleaner.input.depressant                    19402 non-null  float64\n",
      " 12  primary_cleaner.input.feed_size                     19439 non-null  float64\n",
      " 13  primary_cleaner.input.xanthate                      19335 non-null  float64\n",
      " 14  primary_cleaner.output.concentrate_ag               19439 non-null  float64\n",
      " 15  primary_cleaner.output.concentrate_pb               19323 non-null  float64\n",
      " 16  primary_cleaner.output.concentrate_sol              19069 non-null  float64\n",
      " 17  primary_cleaner.output.concentrate_au               19439 non-null  float64\n",
      " 18  primary_cleaner.output.tail_ag                      19435 non-null  float64\n",
      " 19  primary_cleaner.output.tail_pb                      19418 non-null  float64\n",
      " 20  primary_cleaner.output.tail_sol                     19377 non-null  float64\n",
      " 21  primary_cleaner.output.tail_au                      19439 non-null  float64\n",
      " 22  primary_cleaner.state.floatbank8_a_air              19435 non-null  float64\n",
      " 23  primary_cleaner.state.floatbank8_a_level            19438 non-null  float64\n",
      " 24  primary_cleaner.state.floatbank8_b_air              19435 non-null  float64\n",
      " 25  primary_cleaner.state.floatbank8_b_level            19438 non-null  float64\n",
      " 26  primary_cleaner.state.floatbank8_c_air              19437 non-null  float64\n",
      " 27  primary_cleaner.state.floatbank8_c_level            19438 non-null  float64\n",
      " 28  primary_cleaner.state.floatbank8_d_air              19436 non-null  float64\n",
      " 29  primary_cleaner.state.floatbank8_d_level            19438 non-null  float64\n",
      " 30  rougher.calculation.sulfate_to_au_concentrate       19437 non-null  float64\n",
      " 31  rougher.calculation.floatbank10_sulfate_to_au_feed  19437 non-null  float64\n",
      " 32  rougher.calculation.floatbank11_sulfate_to_au_feed  19437 non-null  float64\n",
      " 33  rougher.calculation.au_pb_ratio                     19439 non-null  float64\n",
      " 34  rougher.input.feed_ag                               19439 non-null  float64\n",
      " 35  rougher.input.feed_pb                               19339 non-null  float64\n",
      " 36  rougher.input.feed_rate                             19428 non-null  float64\n",
      " 37  rougher.input.feed_size                             19294 non-null  float64\n",
      " 38  rougher.input.feed_sol                              19340 non-null  float64\n",
      " 39  rougher.input.feed_au                               19439 non-null  float64\n",
      " 40  rougher.input.floatbank10_sulfate                   19405 non-null  float64\n",
      " 41  rougher.input.floatbank10_xanthate                  19431 non-null  float64\n",
      " 42  rougher.input.floatbank11_sulfate                   19395 non-null  float64\n",
      " 43  rougher.input.floatbank11_xanthate                  18986 non-null  float64\n",
      " 44  rougher.output.concentrate_ag                       19439 non-null  float64\n",
      " 45  rougher.output.concentrate_pb                       19439 non-null  float64\n",
      " 46  rougher.output.concentrate_sol                      19416 non-null  float64\n",
      " 47  rougher.output.concentrate_au                       19439 non-null  float64\n",
      " 48  rougher.output.recovery                             19439 non-null  float64\n",
      " 49  rougher.output.tail_ag                              19438 non-null  float64\n",
      " 50  rougher.output.tail_pb                              19439 non-null  float64\n",
      " 51  rougher.output.tail_sol                             19439 non-null  float64\n",
      " 52  rougher.output.tail_au                              19439 non-null  float64\n",
      " 53  rougher.state.floatbank10_a_air                     19438 non-null  float64\n",
      " 54  rougher.state.floatbank10_a_level                   19438 non-null  float64\n",
      " 55  rougher.state.floatbank10_b_air                     19438 non-null  float64\n",
      " 56  rougher.state.floatbank10_b_level                   19438 non-null  float64\n",
      " 57  rougher.state.floatbank10_c_air                     19438 non-null  float64\n",
      " 58  rougher.state.floatbank10_c_level                   19438 non-null  float64\n",
      " 59  rougher.state.floatbank10_d_air                     19439 non-null  float64\n",
      " 60  rougher.state.floatbank10_d_level                   19439 non-null  float64\n",
      " 61  rougher.state.floatbank10_e_air                     19003 non-null  float64\n",
      " 62  rougher.state.floatbank10_e_level                   19439 non-null  float64\n",
      " 63  rougher.state.floatbank10_f_air                     19439 non-null  float64\n",
      " 64  rougher.state.floatbank10_f_level                   19439 non-null  float64\n",
      " 65  secondary_cleaner.output.tail_ag                    19437 non-null  float64\n",
      " 66  secondary_cleaner.output.tail_pb                    19427 non-null  float64\n",
      " 67  secondary_cleaner.output.tail_sol                   17691 non-null  float64\n",
      " 68  secondary_cleaner.output.tail_au                    19439 non-null  float64\n",
      " 69  secondary_cleaner.state.floatbank2_a_air            19219 non-null  float64\n",
      " 70  secondary_cleaner.state.floatbank2_a_level          19438 non-null  float64\n",
      " 71  secondary_cleaner.state.floatbank2_b_air            19416 non-null  float64\n",
      " 72  secondary_cleaner.state.floatbank2_b_level          19438 non-null  float64\n",
      " 73  secondary_cleaner.state.floatbank3_a_air            19426 non-null  float64\n",
      " 74  secondary_cleaner.state.floatbank3_a_level          19438 non-null  float64\n",
      " 75  secondary_cleaner.state.floatbank3_b_air            19438 non-null  float64\n",
      " 76  secondary_cleaner.state.floatbank3_b_level          19438 non-null  float64\n",
      " 77  secondary_cleaner.state.floatbank4_a_air            19433 non-null  float64\n",
      " 78  secondary_cleaner.state.floatbank4_a_level          19438 non-null  float64\n",
      " 79  secondary_cleaner.state.floatbank4_b_air            19438 non-null  float64\n",
      " 80  secondary_cleaner.state.floatbank4_b_level          19438 non-null  float64\n",
      " 81  secondary_cleaner.state.floatbank5_a_air            19438 non-null  float64\n",
      " 82  secondary_cleaner.state.floatbank5_a_level          19438 non-null  float64\n",
      " 83  secondary_cleaner.state.floatbank5_b_air            19438 non-null  float64\n",
      " 84  secondary_cleaner.state.floatbank5_b_level          19438 non-null  float64\n",
      " 85  secondary_cleaner.state.floatbank6_a_air            19437 non-null  float64\n",
      " 86  secondary_cleaner.state.floatbank6_a_level          19438 non-null  float64\n",
      "dtypes: float64(86), object(1)\n",
      "memory usage: 12.9+ MB\n"
     ]
    }
   ],
   "source": [
    "full.info()"
   ]
  },
  {
   "cell_type": "markdown",
   "metadata": {},
   "source": [
    "**Проверим, что эффективность обогащения рассчитана правильно.**\n",
    "\n",
    "Эффективность обогащения рассчитывается по формуле:\n",
    "$$Recovery = \\frac{C \\times (F - T)}{F \\times (C - T)} \\times 100 \\%$$\n",
    "\n",
    "где:\n",
    "- $C$ — доля золота в концентрате после флотации/очистки;\n",
    "- $F$ — доля золота в сырье/концентрате до флотации/очистки;\n",
    "- $T$ — доля золота в отвальных хвостах после флотации/очистки.\n",
    "\n",
    "Для прогноза коэффициента нужно найти долю золота в концентратах и хвостах. Причём важен не только финальный продукт, но и черновой концентрат."
   ]
  },
  {
   "cell_type": "code",
   "execution_count": 9,
   "metadata": {},
   "outputs": [
    {
     "name": "stdout",
     "output_type": "stream",
     "text": [
      "1.1131451184435918e-14\n"
     ]
    }
   ],
   "source": [
    "c = train['rougher.output.concentrate_au'] # доля золота в концентрате после флотации/очистки;\n",
    "f = train['rougher.input.feed_au'] # доля золота в сырье/концентрате до флотации/очистки\n",
    "t = train['rougher.output.tail_au'] # доля золота в отвальных хвостах после флотации/очистки\n",
    "\n",
    "train_recovery = 100 * (c * (f - t)) / (f * (c - t)) # эффективность обогащения \n",
    "\n",
    "print(mean_absolute_error(train['rougher.output.recovery'], train_recovery))"
   ]
  },
  {
   "cell_type": "markdown",
   "metadata": {},
   "source": [
    "Значение среднего абсолютного отклонения небольшое - 1.1131451184435918e-14, т.е. можно сделать вывод: исходные данные об эффективности обогащения в датасете расчитаны правильно."
   ]
  },
  {
   "cell_type": "code",
   "execution_count": 10,
   "metadata": {},
   "outputs": [
    {
     "data": {
      "text/plain": [
       "['final.output.concentrate_ag',\n",
       " 'final.output.concentrate_pb',\n",
       " 'final.output.concentrate_sol',\n",
       " 'final.output.concentrate_au',\n",
       " 'final.output.recovery',\n",
       " 'final.output.tail_ag',\n",
       " 'final.output.tail_pb',\n",
       " 'final.output.tail_sol',\n",
       " 'final.output.tail_au',\n",
       " 'primary_cleaner.output.concentrate_ag',\n",
       " 'primary_cleaner.output.concentrate_pb',\n",
       " 'primary_cleaner.output.concentrate_sol',\n",
       " 'primary_cleaner.output.concentrate_au',\n",
       " 'primary_cleaner.output.tail_ag',\n",
       " 'primary_cleaner.output.tail_pb',\n",
       " 'primary_cleaner.output.tail_sol',\n",
       " 'primary_cleaner.output.tail_au',\n",
       " 'rougher.calculation.sulfate_to_au_concentrate',\n",
       " 'rougher.calculation.floatbank10_sulfate_to_au_feed',\n",
       " 'rougher.calculation.floatbank11_sulfate_to_au_feed',\n",
       " 'rougher.calculation.au_pb_ratio',\n",
       " 'rougher.output.concentrate_ag',\n",
       " 'rougher.output.concentrate_pb',\n",
       " 'rougher.output.concentrate_sol',\n",
       " 'rougher.output.concentrate_au',\n",
       " 'rougher.output.recovery',\n",
       " 'rougher.output.tail_ag',\n",
       " 'rougher.output.tail_pb',\n",
       " 'rougher.output.tail_sol',\n",
       " 'rougher.output.tail_au',\n",
       " 'secondary_cleaner.output.tail_ag',\n",
       " 'secondary_cleaner.output.tail_pb',\n",
       " 'secondary_cleaner.output.tail_sol',\n",
       " 'secondary_cleaner.output.tail_au']"
      ]
     },
     "execution_count": 10,
     "metadata": {},
     "output_type": "execute_result"
    }
   ],
   "source": [
    "# Посмотрим на признаки, которых нет в тестовой выборке\n",
    "columns_not_test = [column for column in train.columns if column not in test.columns]\n",
    "columns_not_test"
   ]
  },
  {
   "cell_type": "markdown",
   "metadata": {},
   "source": [
    "В тестовой выборке недоступны выходные (output) и расчетные (calculation) характеристики. Значит, их нельзя использовать при обучении, так как они еще не будут доступны к моменту начала процесса."
   ]
  },
  {
   "cell_type": "code",
   "execution_count": 11,
   "metadata": {
    "scrolled": true
   },
   "outputs": [
    {
     "data": {
      "text/html": [
       "<style  type=\"text/css\" >\n",
       "#T_86902_row0_col0,#T_86902_row1_col0,#T_86902_row2_col0,#T_86902_row4_col0,#T_86902_row5_col0,#T_86902_row6_col0,#T_86902_row8_col0,#T_86902_row9_col0,#T_86902_row12_col0,#T_86902_row14_col0,#T_86902_row17_col0,#T_86902_row18_col0,#T_86902_row21_col0,#T_86902_row22_col0,#T_86902_row23_col0,#T_86902_row24_col0,#T_86902_row25_col0,#T_86902_row26_col0,#T_86902_row27_col0,#T_86902_row28_col0,#T_86902_row29_col0,#T_86902_row30_col0,#T_86902_row31_col0,#T_86902_row32_col0,#T_86902_row33_col0,#T_86902_row34_col0,#T_86902_row39_col0,#T_86902_row44_col0,#T_86902_row45_col0,#T_86902_row47_col0,#T_86902_row48_col0,#T_86902_row49_col0,#T_86902_row50_col0,#T_86902_row51_col0,#T_86902_row52_col0,#T_86902_row53_col0,#T_86902_row54_col0,#T_86902_row55_col0,#T_86902_row56_col0,#T_86902_row57_col0,#T_86902_row58_col0,#T_86902_row59_col0,#T_86902_row60_col0,#T_86902_row62_col0,#T_86902_row63_col0,#T_86902_row64_col0,#T_86902_row65_col0,#T_86902_row68_col0,#T_86902_row70_col0,#T_86902_row72_col0,#T_86902_row73_col0,#T_86902_row74_col0,#T_86902_row75_col0,#T_86902_row76_col0,#T_86902_row77_col0,#T_86902_row78_col0,#T_86902_row79_col0,#T_86902_row80_col0,#T_86902_row81_col0,#T_86902_row82_col0,#T_86902_row83_col0,#T_86902_row84_col0,#T_86902_row85_col0,#T_86902_row86_col0{\n",
       "            background-color:  #3b4cc0;\n",
       "            color:  #f1f1f1;\n",
       "        }#T_86902_row3_col0,#T_86902_row69_col0{\n",
       "            background-color:  #6384eb;\n",
       "            color:  #000000;\n",
       "        }#T_86902_row7_col0,#T_86902_row13_col0,#T_86902_row35_col0{\n",
       "            background-color:  #4c66d6;\n",
       "            color:  #000000;\n",
       "        }#T_86902_row10_col0,#T_86902_row19_col0,#T_86902_row36_col0,#T_86902_row41_col0,#T_86902_row66_col0,#T_86902_row71_col0{\n",
       "            background-color:  #3d50c3;\n",
       "            color:  #f1f1f1;\n",
       "        }#T_86902_row11_col0,#T_86902_row40_col0,#T_86902_row46_col0{\n",
       "            background-color:  #3f53c6;\n",
       "            color:  #f1f1f1;\n",
       "        }#T_86902_row15_col0,#T_86902_row38_col0{\n",
       "            background-color:  #4a63d3;\n",
       "            color:  #f1f1f1;\n",
       "        }#T_86902_row16_col0{\n",
       "            background-color:  #7396f5;\n",
       "            color:  #000000;\n",
       "        }#T_86902_row20_col0,#T_86902_row42_col0{\n",
       "            background-color:  #4257c9;\n",
       "            color:  #f1f1f1;\n",
       "        }#T_86902_row37_col0{\n",
       "            background-color:  #5572df;\n",
       "            color:  #000000;\n",
       "        }#T_86902_row43_col0{\n",
       "            background-color:  #92b4fe;\n",
       "            color:  #000000;\n",
       "        }#T_86902_row61_col0{\n",
       "            background-color:  #96b7ff;\n",
       "            color:  #000000;\n",
       "        }#T_86902_row67_col0{\n",
       "            background-color:  #b40426;\n",
       "            color:  #f1f1f1;\n",
       "        }</style><table id=\"T_86902_\" ><thead>    <tr>        <th class=\"blank level0\" ></th>        <th class=\"col_heading level0 col0\" >0</th>    </tr></thead><tbody>\n",
       "                <tr>\n",
       "                        <th id=\"T_86902_level0_row0\" class=\"row_heading level0 row0\" >date</th>\n",
       "                        <td id=\"T_86902_row0_col0\" class=\"data row0 col0\" >0.000000</td>\n",
       "            </tr>\n",
       "            <tr>\n",
       "                        <th id=\"T_86902_level0_row1\" class=\"row_heading level0 row1\" >final.output.concentrate_ag</th>\n",
       "                        <td id=\"T_86902_row1_col0\" class=\"data row1 col0\" >0.000000</td>\n",
       "            </tr>\n",
       "            <tr>\n",
       "                        <th id=\"T_86902_level0_row2\" class=\"row_heading level0 row2\" >final.output.concentrate_pb</th>\n",
       "                        <td id=\"T_86902_row2_col0\" class=\"data row2 col0\" >0.000000</td>\n",
       "            </tr>\n",
       "            <tr>\n",
       "                        <th id=\"T_86902_level0_row3\" class=\"row_heading level0 row3\" >final.output.concentrate_sol</th>\n",
       "                        <td id=\"T_86902_row3_col0\" class=\"data row3 col0\" >1.500000</td>\n",
       "            </tr>\n",
       "            <tr>\n",
       "                        <th id=\"T_86902_level0_row4\" class=\"row_heading level0 row4\" >final.output.concentrate_au</th>\n",
       "                        <td id=\"T_86902_row4_col0\" class=\"data row4 col0\" >0.000000</td>\n",
       "            </tr>\n",
       "            <tr>\n",
       "                        <th id=\"T_86902_level0_row5\" class=\"row_heading level0 row5\" >final.output.recovery</th>\n",
       "                        <td id=\"T_86902_row5_col0\" class=\"data row5 col0\" >0.000000</td>\n",
       "            </tr>\n",
       "            <tr>\n",
       "                        <th id=\"T_86902_level0_row6\" class=\"row_heading level0 row6\" >final.output.tail_ag</th>\n",
       "                        <td id=\"T_86902_row6_col0\" class=\"data row6 col0\" >0.000000</td>\n",
       "            </tr>\n",
       "            <tr>\n",
       "                        <th id=\"T_86902_level0_row7\" class=\"row_heading level0 row7\" >final.output.tail_pb</th>\n",
       "                        <td id=\"T_86902_row7_col0\" class=\"data row7 col0\" >0.700000</td>\n",
       "            </tr>\n",
       "            <tr>\n",
       "                        <th id=\"T_86902_level0_row8\" class=\"row_heading level0 row8\" >final.output.tail_sol</th>\n",
       "                        <td id=\"T_86902_row8_col0\" class=\"data row8 col0\" >0.000000</td>\n",
       "            </tr>\n",
       "            <tr>\n",
       "                        <th id=\"T_86902_level0_row9\" class=\"row_heading level0 row9\" >final.output.tail_au</th>\n",
       "                        <td id=\"T_86902_row9_col0\" class=\"data row9 col0\" >0.000000</td>\n",
       "            </tr>\n",
       "            <tr>\n",
       "                        <th id=\"T_86902_level0_row10\" class=\"row_heading level0 row10\" >primary_cleaner.input.sulfate</th>\n",
       "                        <td id=\"T_86902_row10_col0\" class=\"data row10 col0\" >0.100000</td>\n",
       "            </tr>\n",
       "            <tr>\n",
       "                        <th id=\"T_86902_level0_row11\" class=\"row_heading level0 row11\" >primary_cleaner.input.depressant</th>\n",
       "                        <td id=\"T_86902_row11_col0\" class=\"data row11 col0\" >0.200000</td>\n",
       "            </tr>\n",
       "            <tr>\n",
       "                        <th id=\"T_86902_level0_row12\" class=\"row_heading level0 row12\" >primary_cleaner.input.feed_size</th>\n",
       "                        <td id=\"T_86902_row12_col0\" class=\"data row12 col0\" >0.000000</td>\n",
       "            </tr>\n",
       "            <tr>\n",
       "                        <th id=\"T_86902_level0_row13\" class=\"row_heading level0 row13\" >primary_cleaner.input.xanthate</th>\n",
       "                        <td id=\"T_86902_row13_col0\" class=\"data row13 col0\" >0.700000</td>\n",
       "            </tr>\n",
       "            <tr>\n",
       "                        <th id=\"T_86902_level0_row14\" class=\"row_heading level0 row14\" >primary_cleaner.output.concentrate_ag</th>\n",
       "                        <td id=\"T_86902_row14_col0\" class=\"data row14 col0\" >0.000000</td>\n",
       "            </tr>\n",
       "            <tr>\n",
       "                        <th id=\"T_86902_level0_row15\" class=\"row_heading level0 row15\" >primary_cleaner.output.concentrate_pb</th>\n",
       "                        <td id=\"T_86902_row15_col0\" class=\"data row15 col0\" >0.600000</td>\n",
       "            </tr>\n",
       "            <tr>\n",
       "                        <th id=\"T_86902_level0_row16\" class=\"row_heading level0 row16\" >primary_cleaner.output.concentrate_sol</th>\n",
       "                        <td id=\"T_86902_row16_col0\" class=\"data row16 col0\" >2.000000</td>\n",
       "            </tr>\n",
       "            <tr>\n",
       "                        <th id=\"T_86902_level0_row17\" class=\"row_heading level0 row17\" >primary_cleaner.output.concentrate_au</th>\n",
       "                        <td id=\"T_86902_row17_col0\" class=\"data row17 col0\" >0.000000</td>\n",
       "            </tr>\n",
       "            <tr>\n",
       "                        <th id=\"T_86902_level0_row18\" class=\"row_heading level0 row18\" >primary_cleaner.output.tail_ag</th>\n",
       "                        <td id=\"T_86902_row18_col0\" class=\"data row18 col0\" >0.000000</td>\n",
       "            </tr>\n",
       "            <tr>\n",
       "                        <th id=\"T_86902_level0_row19\" class=\"row_heading level0 row19\" >primary_cleaner.output.tail_pb</th>\n",
       "                        <td id=\"T_86902_row19_col0\" class=\"data row19 col0\" >0.100000</td>\n",
       "            </tr>\n",
       "            <tr>\n",
       "                        <th id=\"T_86902_level0_row20\" class=\"row_heading level0 row20\" >primary_cleaner.output.tail_sol</th>\n",
       "                        <td id=\"T_86902_row20_col0\" class=\"data row20 col0\" >0.300000</td>\n",
       "            </tr>\n",
       "            <tr>\n",
       "                        <th id=\"T_86902_level0_row21\" class=\"row_heading level0 row21\" >primary_cleaner.output.tail_au</th>\n",
       "                        <td id=\"T_86902_row21_col0\" class=\"data row21 col0\" >0.000000</td>\n",
       "            </tr>\n",
       "            <tr>\n",
       "                        <th id=\"T_86902_level0_row22\" class=\"row_heading level0 row22\" >primary_cleaner.state.floatbank8_a_air</th>\n",
       "                        <td id=\"T_86902_row22_col0\" class=\"data row22 col0\" >0.000000</td>\n",
       "            </tr>\n",
       "            <tr>\n",
       "                        <th id=\"T_86902_level0_row23\" class=\"row_heading level0 row23\" >primary_cleaner.state.floatbank8_a_level</th>\n",
       "                        <td id=\"T_86902_row23_col0\" class=\"data row23 col0\" >0.000000</td>\n",
       "            </tr>\n",
       "            <tr>\n",
       "                        <th id=\"T_86902_level0_row24\" class=\"row_heading level0 row24\" >primary_cleaner.state.floatbank8_b_air</th>\n",
       "                        <td id=\"T_86902_row24_col0\" class=\"data row24 col0\" >0.000000</td>\n",
       "            </tr>\n",
       "            <tr>\n",
       "                        <th id=\"T_86902_level0_row25\" class=\"row_heading level0 row25\" >primary_cleaner.state.floatbank8_b_level</th>\n",
       "                        <td id=\"T_86902_row25_col0\" class=\"data row25 col0\" >0.000000</td>\n",
       "            </tr>\n",
       "            <tr>\n",
       "                        <th id=\"T_86902_level0_row26\" class=\"row_heading level0 row26\" >primary_cleaner.state.floatbank8_c_air</th>\n",
       "                        <td id=\"T_86902_row26_col0\" class=\"data row26 col0\" >0.000000</td>\n",
       "            </tr>\n",
       "            <tr>\n",
       "                        <th id=\"T_86902_level0_row27\" class=\"row_heading level0 row27\" >primary_cleaner.state.floatbank8_c_level</th>\n",
       "                        <td id=\"T_86902_row27_col0\" class=\"data row27 col0\" >0.000000</td>\n",
       "            </tr>\n",
       "            <tr>\n",
       "                        <th id=\"T_86902_level0_row28\" class=\"row_heading level0 row28\" >primary_cleaner.state.floatbank8_d_air</th>\n",
       "                        <td id=\"T_86902_row28_col0\" class=\"data row28 col0\" >0.000000</td>\n",
       "            </tr>\n",
       "            <tr>\n",
       "                        <th id=\"T_86902_level0_row29\" class=\"row_heading level0 row29\" >primary_cleaner.state.floatbank8_d_level</th>\n",
       "                        <td id=\"T_86902_row29_col0\" class=\"data row29 col0\" >0.000000</td>\n",
       "            </tr>\n",
       "            <tr>\n",
       "                        <th id=\"T_86902_level0_row30\" class=\"row_heading level0 row30\" >rougher.calculation.sulfate_to_au_concentrate</th>\n",
       "                        <td id=\"T_86902_row30_col0\" class=\"data row30 col0\" >0.000000</td>\n",
       "            </tr>\n",
       "            <tr>\n",
       "                        <th id=\"T_86902_level0_row31\" class=\"row_heading level0 row31\" >rougher.calculation.floatbank10_sulfate_to_au_feed</th>\n",
       "                        <td id=\"T_86902_row31_col0\" class=\"data row31 col0\" >0.000000</td>\n",
       "            </tr>\n",
       "            <tr>\n",
       "                        <th id=\"T_86902_level0_row32\" class=\"row_heading level0 row32\" >rougher.calculation.floatbank11_sulfate_to_au_feed</th>\n",
       "                        <td id=\"T_86902_row32_col0\" class=\"data row32 col0\" >0.000000</td>\n",
       "            </tr>\n",
       "            <tr>\n",
       "                        <th id=\"T_86902_level0_row33\" class=\"row_heading level0 row33\" >rougher.calculation.au_pb_ratio</th>\n",
       "                        <td id=\"T_86902_row33_col0\" class=\"data row33 col0\" >0.000000</td>\n",
       "            </tr>\n",
       "            <tr>\n",
       "                        <th id=\"T_86902_level0_row34\" class=\"row_heading level0 row34\" >rougher.input.feed_ag</th>\n",
       "                        <td id=\"T_86902_row34_col0\" class=\"data row34 col0\" >0.000000</td>\n",
       "            </tr>\n",
       "            <tr>\n",
       "                        <th id=\"T_86902_level0_row35\" class=\"row_heading level0 row35\" >rougher.input.feed_pb</th>\n",
       "                        <td id=\"T_86902_row35_col0\" class=\"data row35 col0\" >0.700000</td>\n",
       "            </tr>\n",
       "            <tr>\n",
       "                        <th id=\"T_86902_level0_row36\" class=\"row_heading level0 row36\" >rougher.input.feed_rate</th>\n",
       "                        <td id=\"T_86902_row36_col0\" class=\"data row36 col0\" >0.100000</td>\n",
       "            </tr>\n",
       "            <tr>\n",
       "                        <th id=\"T_86902_level0_row37\" class=\"row_heading level0 row37\" >rougher.input.feed_size</th>\n",
       "                        <td id=\"T_86902_row37_col0\" class=\"data row37 col0\" >1.000000</td>\n",
       "            </tr>\n",
       "            <tr>\n",
       "                        <th id=\"T_86902_level0_row38\" class=\"row_heading level0 row38\" >rougher.input.feed_sol</th>\n",
       "                        <td id=\"T_86902_row38_col0\" class=\"data row38 col0\" >0.600000</td>\n",
       "            </tr>\n",
       "            <tr>\n",
       "                        <th id=\"T_86902_level0_row39\" class=\"row_heading level0 row39\" >rougher.input.feed_au</th>\n",
       "                        <td id=\"T_86902_row39_col0\" class=\"data row39 col0\" >0.000000</td>\n",
       "            </tr>\n",
       "            <tr>\n",
       "                        <th id=\"T_86902_level0_row40\" class=\"row_heading level0 row40\" >rougher.input.floatbank10_sulfate</th>\n",
       "                        <td id=\"T_86902_row40_col0\" class=\"data row40 col0\" >0.200000</td>\n",
       "            </tr>\n",
       "            <tr>\n",
       "                        <th id=\"T_86902_level0_row41\" class=\"row_heading level0 row41\" >rougher.input.floatbank10_xanthate</th>\n",
       "                        <td id=\"T_86902_row41_col0\" class=\"data row41 col0\" >0.100000</td>\n",
       "            </tr>\n",
       "            <tr>\n",
       "                        <th id=\"T_86902_level0_row42\" class=\"row_heading level0 row42\" >rougher.input.floatbank11_sulfate</th>\n",
       "                        <td id=\"T_86902_row42_col0\" class=\"data row42 col0\" >0.300000</td>\n",
       "            </tr>\n",
       "            <tr>\n",
       "                        <th id=\"T_86902_level0_row43\" class=\"row_heading level0 row43\" >rougher.input.floatbank11_xanthate</th>\n",
       "                        <td id=\"T_86902_row43_col0\" class=\"data row43 col0\" >3.000000</td>\n",
       "            </tr>\n",
       "            <tr>\n",
       "                        <th id=\"T_86902_level0_row44\" class=\"row_heading level0 row44\" >rougher.output.concentrate_ag</th>\n",
       "                        <td id=\"T_86902_row44_col0\" class=\"data row44 col0\" >0.000000</td>\n",
       "            </tr>\n",
       "            <tr>\n",
       "                        <th id=\"T_86902_level0_row45\" class=\"row_heading level0 row45\" >rougher.output.concentrate_pb</th>\n",
       "                        <td id=\"T_86902_row45_col0\" class=\"data row45 col0\" >0.000000</td>\n",
       "            </tr>\n",
       "            <tr>\n",
       "                        <th id=\"T_86902_level0_row46\" class=\"row_heading level0 row46\" >rougher.output.concentrate_sol</th>\n",
       "                        <td id=\"T_86902_row46_col0\" class=\"data row46 col0\" >0.200000</td>\n",
       "            </tr>\n",
       "            <tr>\n",
       "                        <th id=\"T_86902_level0_row47\" class=\"row_heading level0 row47\" >rougher.output.concentrate_au</th>\n",
       "                        <td id=\"T_86902_row47_col0\" class=\"data row47 col0\" >0.000000</td>\n",
       "            </tr>\n",
       "            <tr>\n",
       "                        <th id=\"T_86902_level0_row48\" class=\"row_heading level0 row48\" >rougher.output.recovery</th>\n",
       "                        <td id=\"T_86902_row48_col0\" class=\"data row48 col0\" >0.000000</td>\n",
       "            </tr>\n",
       "            <tr>\n",
       "                        <th id=\"T_86902_level0_row49\" class=\"row_heading level0 row49\" >rougher.output.tail_ag</th>\n",
       "                        <td id=\"T_86902_row49_col0\" class=\"data row49 col0\" >0.000000</td>\n",
       "            </tr>\n",
       "            <tr>\n",
       "                        <th id=\"T_86902_level0_row50\" class=\"row_heading level0 row50\" >rougher.output.tail_pb</th>\n",
       "                        <td id=\"T_86902_row50_col0\" class=\"data row50 col0\" >0.000000</td>\n",
       "            </tr>\n",
       "            <tr>\n",
       "                        <th id=\"T_86902_level0_row51\" class=\"row_heading level0 row51\" >rougher.output.tail_sol</th>\n",
       "                        <td id=\"T_86902_row51_col0\" class=\"data row51 col0\" >0.000000</td>\n",
       "            </tr>\n",
       "            <tr>\n",
       "                        <th id=\"T_86902_level0_row52\" class=\"row_heading level0 row52\" >rougher.output.tail_au</th>\n",
       "                        <td id=\"T_86902_row52_col0\" class=\"data row52 col0\" >0.000000</td>\n",
       "            </tr>\n",
       "            <tr>\n",
       "                        <th id=\"T_86902_level0_row53\" class=\"row_heading level0 row53\" >rougher.state.floatbank10_a_air</th>\n",
       "                        <td id=\"T_86902_row53_col0\" class=\"data row53 col0\" >0.000000</td>\n",
       "            </tr>\n",
       "            <tr>\n",
       "                        <th id=\"T_86902_level0_row54\" class=\"row_heading level0 row54\" >rougher.state.floatbank10_a_level</th>\n",
       "                        <td id=\"T_86902_row54_col0\" class=\"data row54 col0\" >0.000000</td>\n",
       "            </tr>\n",
       "            <tr>\n",
       "                        <th id=\"T_86902_level0_row55\" class=\"row_heading level0 row55\" >rougher.state.floatbank10_b_air</th>\n",
       "                        <td id=\"T_86902_row55_col0\" class=\"data row55 col0\" >0.000000</td>\n",
       "            </tr>\n",
       "            <tr>\n",
       "                        <th id=\"T_86902_level0_row56\" class=\"row_heading level0 row56\" >rougher.state.floatbank10_b_level</th>\n",
       "                        <td id=\"T_86902_row56_col0\" class=\"data row56 col0\" >0.000000</td>\n",
       "            </tr>\n",
       "            <tr>\n",
       "                        <th id=\"T_86902_level0_row57\" class=\"row_heading level0 row57\" >rougher.state.floatbank10_c_air</th>\n",
       "                        <td id=\"T_86902_row57_col0\" class=\"data row57 col0\" >0.000000</td>\n",
       "            </tr>\n",
       "            <tr>\n",
       "                        <th id=\"T_86902_level0_row58\" class=\"row_heading level0 row58\" >rougher.state.floatbank10_c_level</th>\n",
       "                        <td id=\"T_86902_row58_col0\" class=\"data row58 col0\" >0.000000</td>\n",
       "            </tr>\n",
       "            <tr>\n",
       "                        <th id=\"T_86902_level0_row59\" class=\"row_heading level0 row59\" >rougher.state.floatbank10_d_air</th>\n",
       "                        <td id=\"T_86902_row59_col0\" class=\"data row59 col0\" >0.000000</td>\n",
       "            </tr>\n",
       "            <tr>\n",
       "                        <th id=\"T_86902_level0_row60\" class=\"row_heading level0 row60\" >rougher.state.floatbank10_d_level</th>\n",
       "                        <td id=\"T_86902_row60_col0\" class=\"data row60 col0\" >0.000000</td>\n",
       "            </tr>\n",
       "            <tr>\n",
       "                        <th id=\"T_86902_level0_row61\" class=\"row_heading level0 row61\" >rougher.state.floatbank10_e_air</th>\n",
       "                        <td id=\"T_86902_row61_col0\" class=\"data row61 col0\" >3.100000</td>\n",
       "            </tr>\n",
       "            <tr>\n",
       "                        <th id=\"T_86902_level0_row62\" class=\"row_heading level0 row62\" >rougher.state.floatbank10_e_level</th>\n",
       "                        <td id=\"T_86902_row62_col0\" class=\"data row62 col0\" >0.000000</td>\n",
       "            </tr>\n",
       "            <tr>\n",
       "                        <th id=\"T_86902_level0_row63\" class=\"row_heading level0 row63\" >rougher.state.floatbank10_f_air</th>\n",
       "                        <td id=\"T_86902_row63_col0\" class=\"data row63 col0\" >0.000000</td>\n",
       "            </tr>\n",
       "            <tr>\n",
       "                        <th id=\"T_86902_level0_row64\" class=\"row_heading level0 row64\" >rougher.state.floatbank10_f_level</th>\n",
       "                        <td id=\"T_86902_row64_col0\" class=\"data row64 col0\" >0.000000</td>\n",
       "            </tr>\n",
       "            <tr>\n",
       "                        <th id=\"T_86902_level0_row65\" class=\"row_heading level0 row65\" >secondary_cleaner.output.tail_ag</th>\n",
       "                        <td id=\"T_86902_row65_col0\" class=\"data row65 col0\" >0.000000</td>\n",
       "            </tr>\n",
       "            <tr>\n",
       "                        <th id=\"T_86902_level0_row66\" class=\"row_heading level0 row66\" >secondary_cleaner.output.tail_pb</th>\n",
       "                        <td id=\"T_86902_row66_col0\" class=\"data row66 col0\" >0.100000</td>\n",
       "            </tr>\n",
       "            <tr>\n",
       "                        <th id=\"T_86902_level0_row67\" class=\"row_heading level0 row67\" >secondary_cleaner.output.tail_sol</th>\n",
       "                        <td id=\"T_86902_row67_col0\" class=\"data row67 col0\" >11.300000</td>\n",
       "            </tr>\n",
       "            <tr>\n",
       "                        <th id=\"T_86902_level0_row68\" class=\"row_heading level0 row68\" >secondary_cleaner.output.tail_au</th>\n",
       "                        <td id=\"T_86902_row68_col0\" class=\"data row68 col0\" >0.000000</td>\n",
       "            </tr>\n",
       "            <tr>\n",
       "                        <th id=\"T_86902_level0_row69\" class=\"row_heading level0 row69\" >secondary_cleaner.state.floatbank2_a_air</th>\n",
       "                        <td id=\"T_86902_row69_col0\" class=\"data row69 col0\" >1.500000</td>\n",
       "            </tr>\n",
       "            <tr>\n",
       "                        <th id=\"T_86902_level0_row70\" class=\"row_heading level0 row70\" >secondary_cleaner.state.floatbank2_a_level</th>\n",
       "                        <td id=\"T_86902_row70_col0\" class=\"data row70 col0\" >0.000000</td>\n",
       "            </tr>\n",
       "            <tr>\n",
       "                        <th id=\"T_86902_level0_row71\" class=\"row_heading level0 row71\" >secondary_cleaner.state.floatbank2_b_air</th>\n",
       "                        <td id=\"T_86902_row71_col0\" class=\"data row71 col0\" >0.100000</td>\n",
       "            </tr>\n",
       "            <tr>\n",
       "                        <th id=\"T_86902_level0_row72\" class=\"row_heading level0 row72\" >secondary_cleaner.state.floatbank2_b_level</th>\n",
       "                        <td id=\"T_86902_row72_col0\" class=\"data row72 col0\" >0.000000</td>\n",
       "            </tr>\n",
       "            <tr>\n",
       "                        <th id=\"T_86902_level0_row73\" class=\"row_heading level0 row73\" >secondary_cleaner.state.floatbank3_a_air</th>\n",
       "                        <td id=\"T_86902_row73_col0\" class=\"data row73 col0\" >0.000000</td>\n",
       "            </tr>\n",
       "            <tr>\n",
       "                        <th id=\"T_86902_level0_row74\" class=\"row_heading level0 row74\" >secondary_cleaner.state.floatbank3_a_level</th>\n",
       "                        <td id=\"T_86902_row74_col0\" class=\"data row74 col0\" >0.000000</td>\n",
       "            </tr>\n",
       "            <tr>\n",
       "                        <th id=\"T_86902_level0_row75\" class=\"row_heading level0 row75\" >secondary_cleaner.state.floatbank3_b_air</th>\n",
       "                        <td id=\"T_86902_row75_col0\" class=\"data row75 col0\" >0.000000</td>\n",
       "            </tr>\n",
       "            <tr>\n",
       "                        <th id=\"T_86902_level0_row76\" class=\"row_heading level0 row76\" >secondary_cleaner.state.floatbank3_b_level</th>\n",
       "                        <td id=\"T_86902_row76_col0\" class=\"data row76 col0\" >0.000000</td>\n",
       "            </tr>\n",
       "            <tr>\n",
       "                        <th id=\"T_86902_level0_row77\" class=\"row_heading level0 row77\" >secondary_cleaner.state.floatbank4_a_air</th>\n",
       "                        <td id=\"T_86902_row77_col0\" class=\"data row77 col0\" >0.000000</td>\n",
       "            </tr>\n",
       "            <tr>\n",
       "                        <th id=\"T_86902_level0_row78\" class=\"row_heading level0 row78\" >secondary_cleaner.state.floatbank4_a_level</th>\n",
       "                        <td id=\"T_86902_row78_col0\" class=\"data row78 col0\" >0.000000</td>\n",
       "            </tr>\n",
       "            <tr>\n",
       "                        <th id=\"T_86902_level0_row79\" class=\"row_heading level0 row79\" >secondary_cleaner.state.floatbank4_b_air</th>\n",
       "                        <td id=\"T_86902_row79_col0\" class=\"data row79 col0\" >0.000000</td>\n",
       "            </tr>\n",
       "            <tr>\n",
       "                        <th id=\"T_86902_level0_row80\" class=\"row_heading level0 row80\" >secondary_cleaner.state.floatbank4_b_level</th>\n",
       "                        <td id=\"T_86902_row80_col0\" class=\"data row80 col0\" >0.000000</td>\n",
       "            </tr>\n",
       "            <tr>\n",
       "                        <th id=\"T_86902_level0_row81\" class=\"row_heading level0 row81\" >secondary_cleaner.state.floatbank5_a_air</th>\n",
       "                        <td id=\"T_86902_row81_col0\" class=\"data row81 col0\" >0.000000</td>\n",
       "            </tr>\n",
       "            <tr>\n",
       "                        <th id=\"T_86902_level0_row82\" class=\"row_heading level0 row82\" >secondary_cleaner.state.floatbank5_a_level</th>\n",
       "                        <td id=\"T_86902_row82_col0\" class=\"data row82 col0\" >0.000000</td>\n",
       "            </tr>\n",
       "            <tr>\n",
       "                        <th id=\"T_86902_level0_row83\" class=\"row_heading level0 row83\" >secondary_cleaner.state.floatbank5_b_air</th>\n",
       "                        <td id=\"T_86902_row83_col0\" class=\"data row83 col0\" >0.000000</td>\n",
       "            </tr>\n",
       "            <tr>\n",
       "                        <th id=\"T_86902_level0_row84\" class=\"row_heading level0 row84\" >secondary_cleaner.state.floatbank5_b_level</th>\n",
       "                        <td id=\"T_86902_row84_col0\" class=\"data row84 col0\" >0.000000</td>\n",
       "            </tr>\n",
       "            <tr>\n",
       "                        <th id=\"T_86902_level0_row85\" class=\"row_heading level0 row85\" >secondary_cleaner.state.floatbank6_a_air</th>\n",
       "                        <td id=\"T_86902_row85_col0\" class=\"data row85 col0\" >0.000000</td>\n",
       "            </tr>\n",
       "            <tr>\n",
       "                        <th id=\"T_86902_level0_row86\" class=\"row_heading level0 row86\" >secondary_cleaner.state.floatbank6_a_level</th>\n",
       "                        <td id=\"T_86902_row86_col0\" class=\"data row86 col0\" >0.000000</td>\n",
       "            </tr>\n",
       "    </tbody></table>"
      ],
      "text/plain": [
       "<pandas.io.formats.style.Styler at 0x7f9316c45040>"
      ]
     },
     "execution_count": 11,
     "metadata": {},
     "output_type": "execute_result"
    }
   ],
   "source": [
    "# посмотрим на долю пропусков\n",
    "pd.DataFrame(round(train.isna().mean()*100,1)).style.background_gradient('coolwarm')"
   ]
  },
  {
   "cell_type": "markdown",
   "metadata": {},
   "source": [
    "Так как значения признаков сильно зависят от этапа обработки, заполним пропуски предыдущими значениями."
   ]
  },
  {
   "cell_type": "code",
   "execution_count": 12,
   "metadata": {},
   "outputs": [],
   "source": [
    "# Заполним пропуски методом ffill\n",
    "train = train.fillna(method='ffill')"
   ]
  },
  {
   "cell_type": "code",
   "execution_count": 13,
   "metadata": {
    "scrolled": true
   },
   "outputs": [
    {
     "data": {
      "text/html": [
       "<style  type=\"text/css\" >\n",
       "#T_27953_row0_col0,#T_27953_row3_col0,#T_27953_row5_col0,#T_27953_row6_col0,#T_27953_row7_col0,#T_27953_row8_col0,#T_27953_row9_col0,#T_27953_row10_col0,#T_27953_row11_col0,#T_27953_row12_col0,#T_27953_row13_col0,#T_27953_row14_col0,#T_27953_row16_col0,#T_27953_row18_col0,#T_27953_row20_col0,#T_27953_row23_col0,#T_27953_row24_col0,#T_27953_row25_col0,#T_27953_row26_col0,#T_27953_row27_col0,#T_27953_row28_col0,#T_27953_row29_col0,#T_27953_row30_col0,#T_27953_row31_col0,#T_27953_row32_col0,#T_27953_row33_col0,#T_27953_row34_col0,#T_27953_row36_col0,#T_27953_row37_col0,#T_27953_row38_col0,#T_27953_row40_col0,#T_27953_row41_col0,#T_27953_row42_col0,#T_27953_row43_col0,#T_27953_row44_col0,#T_27953_row45_col0,#T_27953_row46_col0,#T_27953_row47_col0,#T_27953_row48_col0,#T_27953_row49_col0,#T_27953_row50_col0,#T_27953_row51_col0,#T_27953_row52_col0{\n",
       "            background-color:  #3b4cc0;\n",
       "            color:  #f1f1f1;\n",
       "        }#T_27953_row1_col0,#T_27953_row2_col0,#T_27953_row4_col0,#T_27953_row15_col0,#T_27953_row19_col0,#T_27953_row35_col0{\n",
       "            background-color:  #7b9ff9;\n",
       "            color:  #000000;\n",
       "        }#T_27953_row17_col0{\n",
       "            background-color:  #ee8468;\n",
       "            color:  #000000;\n",
       "        }#T_27953_row21_col0,#T_27953_row39_col0{\n",
       "            background-color:  #c0d4f5;\n",
       "            color:  #000000;\n",
       "        }#T_27953_row22_col0{\n",
       "            background-color:  #b40426;\n",
       "            color:  #f1f1f1;\n",
       "        }</style><table id=\"T_27953_\" ><thead>    <tr>        <th class=\"blank level0\" ></th>        <th class=\"col_heading level0 col0\" >0</th>    </tr></thead><tbody>\n",
       "                <tr>\n",
       "                        <th id=\"T_27953_level0_row0\" class=\"row_heading level0 row0\" >date</th>\n",
       "                        <td id=\"T_27953_row0_col0\" class=\"data row0 col0\" >0.000000</td>\n",
       "            </tr>\n",
       "            <tr>\n",
       "                        <th id=\"T_27953_level0_row1\" class=\"row_heading level0 row1\" >primary_cleaner.input.sulfate</th>\n",
       "                        <td id=\"T_27953_row1_col0\" class=\"data row1 col0\" >0.100000</td>\n",
       "            </tr>\n",
       "            <tr>\n",
       "                        <th id=\"T_27953_level0_row2\" class=\"row_heading level0 row2\" >primary_cleaner.input.depressant</th>\n",
       "                        <td id=\"T_27953_row2_col0\" class=\"data row2 col0\" >0.100000</td>\n",
       "            </tr>\n",
       "            <tr>\n",
       "                        <th id=\"T_27953_level0_row3\" class=\"row_heading level0 row3\" >primary_cleaner.input.feed_size</th>\n",
       "                        <td id=\"T_27953_row3_col0\" class=\"data row3 col0\" >0.000000</td>\n",
       "            </tr>\n",
       "            <tr>\n",
       "                        <th id=\"T_27953_level0_row4\" class=\"row_heading level0 row4\" >primary_cleaner.input.xanthate</th>\n",
       "                        <td id=\"T_27953_row4_col0\" class=\"data row4 col0\" >0.100000</td>\n",
       "            </tr>\n",
       "            <tr>\n",
       "                        <th id=\"T_27953_level0_row5\" class=\"row_heading level0 row5\" >primary_cleaner.state.floatbank8_a_air</th>\n",
       "                        <td id=\"T_27953_row5_col0\" class=\"data row5 col0\" >0.000000</td>\n",
       "            </tr>\n",
       "            <tr>\n",
       "                        <th id=\"T_27953_level0_row6\" class=\"row_heading level0 row6\" >primary_cleaner.state.floatbank8_a_level</th>\n",
       "                        <td id=\"T_27953_row6_col0\" class=\"data row6 col0\" >0.000000</td>\n",
       "            </tr>\n",
       "            <tr>\n",
       "                        <th id=\"T_27953_level0_row7\" class=\"row_heading level0 row7\" >primary_cleaner.state.floatbank8_b_air</th>\n",
       "                        <td id=\"T_27953_row7_col0\" class=\"data row7 col0\" >0.000000</td>\n",
       "            </tr>\n",
       "            <tr>\n",
       "                        <th id=\"T_27953_level0_row8\" class=\"row_heading level0 row8\" >primary_cleaner.state.floatbank8_b_level</th>\n",
       "                        <td id=\"T_27953_row8_col0\" class=\"data row8 col0\" >0.000000</td>\n",
       "            </tr>\n",
       "            <tr>\n",
       "                        <th id=\"T_27953_level0_row9\" class=\"row_heading level0 row9\" >primary_cleaner.state.floatbank8_c_air</th>\n",
       "                        <td id=\"T_27953_row9_col0\" class=\"data row9 col0\" >0.000000</td>\n",
       "            </tr>\n",
       "            <tr>\n",
       "                        <th id=\"T_27953_level0_row10\" class=\"row_heading level0 row10\" >primary_cleaner.state.floatbank8_c_level</th>\n",
       "                        <td id=\"T_27953_row10_col0\" class=\"data row10 col0\" >0.000000</td>\n",
       "            </tr>\n",
       "            <tr>\n",
       "                        <th id=\"T_27953_level0_row11\" class=\"row_heading level0 row11\" >primary_cleaner.state.floatbank8_d_air</th>\n",
       "                        <td id=\"T_27953_row11_col0\" class=\"data row11 col0\" >0.000000</td>\n",
       "            </tr>\n",
       "            <tr>\n",
       "                        <th id=\"T_27953_level0_row12\" class=\"row_heading level0 row12\" >primary_cleaner.state.floatbank8_d_level</th>\n",
       "                        <td id=\"T_27953_row12_col0\" class=\"data row12 col0\" >0.000000</td>\n",
       "            </tr>\n",
       "            <tr>\n",
       "                        <th id=\"T_27953_level0_row13\" class=\"row_heading level0 row13\" >rougher.input.feed_ag</th>\n",
       "                        <td id=\"T_27953_row13_col0\" class=\"data row13 col0\" >0.000000</td>\n",
       "            </tr>\n",
       "            <tr>\n",
       "                        <th id=\"T_27953_level0_row14\" class=\"row_heading level0 row14\" >rougher.input.feed_pb</th>\n",
       "                        <td id=\"T_27953_row14_col0\" class=\"data row14 col0\" >0.000000</td>\n",
       "            </tr>\n",
       "            <tr>\n",
       "                        <th id=\"T_27953_level0_row15\" class=\"row_heading level0 row15\" >rougher.input.feed_rate</th>\n",
       "                        <td id=\"T_27953_row15_col0\" class=\"data row15 col0\" >0.100000</td>\n",
       "            </tr>\n",
       "            <tr>\n",
       "                        <th id=\"T_27953_level0_row16\" class=\"row_heading level0 row16\" >rougher.input.feed_size</th>\n",
       "                        <td id=\"T_27953_row16_col0\" class=\"data row16 col0\" >0.000000</td>\n",
       "            </tr>\n",
       "            <tr>\n",
       "                        <th id=\"T_27953_level0_row17\" class=\"row_heading level0 row17\" >rougher.input.feed_sol</th>\n",
       "                        <td id=\"T_27953_row17_col0\" class=\"data row17 col0\" >0.400000</td>\n",
       "            </tr>\n",
       "            <tr>\n",
       "                        <th id=\"T_27953_level0_row18\" class=\"row_heading level0 row18\" >rougher.input.feed_au</th>\n",
       "                        <td id=\"T_27953_row18_col0\" class=\"data row18 col0\" >0.000000</td>\n",
       "            </tr>\n",
       "            <tr>\n",
       "                        <th id=\"T_27953_level0_row19\" class=\"row_heading level0 row19\" >rougher.input.floatbank10_sulfate</th>\n",
       "                        <td id=\"T_27953_row19_col0\" class=\"data row19 col0\" >0.100000</td>\n",
       "            </tr>\n",
       "            <tr>\n",
       "                        <th id=\"T_27953_level0_row20\" class=\"row_heading level0 row20\" >rougher.input.floatbank10_xanthate</th>\n",
       "                        <td id=\"T_27953_row20_col0\" class=\"data row20 col0\" >0.000000</td>\n",
       "            </tr>\n",
       "            <tr>\n",
       "                        <th id=\"T_27953_level0_row21\" class=\"row_heading level0 row21\" >rougher.input.floatbank11_sulfate</th>\n",
       "                        <td id=\"T_27953_row21_col0\" class=\"data row21 col0\" >0.200000</td>\n",
       "            </tr>\n",
       "            <tr>\n",
       "                        <th id=\"T_27953_level0_row22\" class=\"row_heading level0 row22\" >rougher.input.floatbank11_xanthate</th>\n",
       "                        <td id=\"T_27953_row22_col0\" class=\"data row22 col0\" >0.500000</td>\n",
       "            </tr>\n",
       "            <tr>\n",
       "                        <th id=\"T_27953_level0_row23\" class=\"row_heading level0 row23\" >rougher.state.floatbank10_a_air</th>\n",
       "                        <td id=\"T_27953_row23_col0\" class=\"data row23 col0\" >0.000000</td>\n",
       "            </tr>\n",
       "            <tr>\n",
       "                        <th id=\"T_27953_level0_row24\" class=\"row_heading level0 row24\" >rougher.state.floatbank10_a_level</th>\n",
       "                        <td id=\"T_27953_row24_col0\" class=\"data row24 col0\" >0.000000</td>\n",
       "            </tr>\n",
       "            <tr>\n",
       "                        <th id=\"T_27953_level0_row25\" class=\"row_heading level0 row25\" >rougher.state.floatbank10_b_air</th>\n",
       "                        <td id=\"T_27953_row25_col0\" class=\"data row25 col0\" >0.000000</td>\n",
       "            </tr>\n",
       "            <tr>\n",
       "                        <th id=\"T_27953_level0_row26\" class=\"row_heading level0 row26\" >rougher.state.floatbank10_b_level</th>\n",
       "                        <td id=\"T_27953_row26_col0\" class=\"data row26 col0\" >0.000000</td>\n",
       "            </tr>\n",
       "            <tr>\n",
       "                        <th id=\"T_27953_level0_row27\" class=\"row_heading level0 row27\" >rougher.state.floatbank10_c_air</th>\n",
       "                        <td id=\"T_27953_row27_col0\" class=\"data row27 col0\" >0.000000</td>\n",
       "            </tr>\n",
       "            <tr>\n",
       "                        <th id=\"T_27953_level0_row28\" class=\"row_heading level0 row28\" >rougher.state.floatbank10_c_level</th>\n",
       "                        <td id=\"T_27953_row28_col0\" class=\"data row28 col0\" >0.000000</td>\n",
       "            </tr>\n",
       "            <tr>\n",
       "                        <th id=\"T_27953_level0_row29\" class=\"row_heading level0 row29\" >rougher.state.floatbank10_d_air</th>\n",
       "                        <td id=\"T_27953_row29_col0\" class=\"data row29 col0\" >0.000000</td>\n",
       "            </tr>\n",
       "            <tr>\n",
       "                        <th id=\"T_27953_level0_row30\" class=\"row_heading level0 row30\" >rougher.state.floatbank10_d_level</th>\n",
       "                        <td id=\"T_27953_row30_col0\" class=\"data row30 col0\" >0.000000</td>\n",
       "            </tr>\n",
       "            <tr>\n",
       "                        <th id=\"T_27953_level0_row31\" class=\"row_heading level0 row31\" >rougher.state.floatbank10_e_air</th>\n",
       "                        <td id=\"T_27953_row31_col0\" class=\"data row31 col0\" >0.000000</td>\n",
       "            </tr>\n",
       "            <tr>\n",
       "                        <th id=\"T_27953_level0_row32\" class=\"row_heading level0 row32\" >rougher.state.floatbank10_e_level</th>\n",
       "                        <td id=\"T_27953_row32_col0\" class=\"data row32 col0\" >0.000000</td>\n",
       "            </tr>\n",
       "            <tr>\n",
       "                        <th id=\"T_27953_level0_row33\" class=\"row_heading level0 row33\" >rougher.state.floatbank10_f_air</th>\n",
       "                        <td id=\"T_27953_row33_col0\" class=\"data row33 col0\" >0.000000</td>\n",
       "            </tr>\n",
       "            <tr>\n",
       "                        <th id=\"T_27953_level0_row34\" class=\"row_heading level0 row34\" >rougher.state.floatbank10_f_level</th>\n",
       "                        <td id=\"T_27953_row34_col0\" class=\"data row34 col0\" >0.000000</td>\n",
       "            </tr>\n",
       "            <tr>\n",
       "                        <th id=\"T_27953_level0_row35\" class=\"row_heading level0 row35\" >secondary_cleaner.state.floatbank2_a_air</th>\n",
       "                        <td id=\"T_27953_row35_col0\" class=\"data row35 col0\" >0.100000</td>\n",
       "            </tr>\n",
       "            <tr>\n",
       "                        <th id=\"T_27953_level0_row36\" class=\"row_heading level0 row36\" >secondary_cleaner.state.floatbank2_a_level</th>\n",
       "                        <td id=\"T_27953_row36_col0\" class=\"data row36 col0\" >0.000000</td>\n",
       "            </tr>\n",
       "            <tr>\n",
       "                        <th id=\"T_27953_level0_row37\" class=\"row_heading level0 row37\" >secondary_cleaner.state.floatbank2_b_air</th>\n",
       "                        <td id=\"T_27953_row37_col0\" class=\"data row37 col0\" >0.000000</td>\n",
       "            </tr>\n",
       "            <tr>\n",
       "                        <th id=\"T_27953_level0_row38\" class=\"row_heading level0 row38\" >secondary_cleaner.state.floatbank2_b_level</th>\n",
       "                        <td id=\"T_27953_row38_col0\" class=\"data row38 col0\" >0.000000</td>\n",
       "            </tr>\n",
       "            <tr>\n",
       "                        <th id=\"T_27953_level0_row39\" class=\"row_heading level0 row39\" >secondary_cleaner.state.floatbank3_a_air</th>\n",
       "                        <td id=\"T_27953_row39_col0\" class=\"data row39 col0\" >0.200000</td>\n",
       "            </tr>\n",
       "            <tr>\n",
       "                        <th id=\"T_27953_level0_row40\" class=\"row_heading level0 row40\" >secondary_cleaner.state.floatbank3_a_level</th>\n",
       "                        <td id=\"T_27953_row40_col0\" class=\"data row40 col0\" >0.000000</td>\n",
       "            </tr>\n",
       "            <tr>\n",
       "                        <th id=\"T_27953_level0_row41\" class=\"row_heading level0 row41\" >secondary_cleaner.state.floatbank3_b_air</th>\n",
       "                        <td id=\"T_27953_row41_col0\" class=\"data row41 col0\" >0.000000</td>\n",
       "            </tr>\n",
       "            <tr>\n",
       "                        <th id=\"T_27953_level0_row42\" class=\"row_heading level0 row42\" >secondary_cleaner.state.floatbank3_b_level</th>\n",
       "                        <td id=\"T_27953_row42_col0\" class=\"data row42 col0\" >0.000000</td>\n",
       "            </tr>\n",
       "            <tr>\n",
       "                        <th id=\"T_27953_level0_row43\" class=\"row_heading level0 row43\" >secondary_cleaner.state.floatbank4_a_air</th>\n",
       "                        <td id=\"T_27953_row43_col0\" class=\"data row43 col0\" >0.000000</td>\n",
       "            </tr>\n",
       "            <tr>\n",
       "                        <th id=\"T_27953_level0_row44\" class=\"row_heading level0 row44\" >secondary_cleaner.state.floatbank4_a_level</th>\n",
       "                        <td id=\"T_27953_row44_col0\" class=\"data row44 col0\" >0.000000</td>\n",
       "            </tr>\n",
       "            <tr>\n",
       "                        <th id=\"T_27953_level0_row45\" class=\"row_heading level0 row45\" >secondary_cleaner.state.floatbank4_b_air</th>\n",
       "                        <td id=\"T_27953_row45_col0\" class=\"data row45 col0\" >0.000000</td>\n",
       "            </tr>\n",
       "            <tr>\n",
       "                        <th id=\"T_27953_level0_row46\" class=\"row_heading level0 row46\" >secondary_cleaner.state.floatbank4_b_level</th>\n",
       "                        <td id=\"T_27953_row46_col0\" class=\"data row46 col0\" >0.000000</td>\n",
       "            </tr>\n",
       "            <tr>\n",
       "                        <th id=\"T_27953_level0_row47\" class=\"row_heading level0 row47\" >secondary_cleaner.state.floatbank5_a_air</th>\n",
       "                        <td id=\"T_27953_row47_col0\" class=\"data row47 col0\" >0.000000</td>\n",
       "            </tr>\n",
       "            <tr>\n",
       "                        <th id=\"T_27953_level0_row48\" class=\"row_heading level0 row48\" >secondary_cleaner.state.floatbank5_a_level</th>\n",
       "                        <td id=\"T_27953_row48_col0\" class=\"data row48 col0\" >0.000000</td>\n",
       "            </tr>\n",
       "            <tr>\n",
       "                        <th id=\"T_27953_level0_row49\" class=\"row_heading level0 row49\" >secondary_cleaner.state.floatbank5_b_air</th>\n",
       "                        <td id=\"T_27953_row49_col0\" class=\"data row49 col0\" >0.000000</td>\n",
       "            </tr>\n",
       "            <tr>\n",
       "                        <th id=\"T_27953_level0_row50\" class=\"row_heading level0 row50\" >secondary_cleaner.state.floatbank5_b_level</th>\n",
       "                        <td id=\"T_27953_row50_col0\" class=\"data row50 col0\" >0.000000</td>\n",
       "            </tr>\n",
       "            <tr>\n",
       "                        <th id=\"T_27953_level0_row51\" class=\"row_heading level0 row51\" >secondary_cleaner.state.floatbank6_a_air</th>\n",
       "                        <td id=\"T_27953_row51_col0\" class=\"data row51 col0\" >0.000000</td>\n",
       "            </tr>\n",
       "            <tr>\n",
       "                        <th id=\"T_27953_level0_row52\" class=\"row_heading level0 row52\" >secondary_cleaner.state.floatbank6_a_level</th>\n",
       "                        <td id=\"T_27953_row52_col0\" class=\"data row52 col0\" >0.000000</td>\n",
       "            </tr>\n",
       "    </tbody></table>"
      ],
      "text/plain": [
       "<pandas.io.formats.style.Styler at 0x7f9316c3b250>"
      ]
     },
     "execution_count": 13,
     "metadata": {},
     "output_type": "execute_result"
    }
   ],
   "source": [
    "# посмотрим на долю пропусков в тестовой таблице\n",
    "pd.DataFrame(round(test.isna().mean()*100,1)).style.background_gradient('coolwarm')"
   ]
  },
  {
   "cell_type": "code",
   "execution_count": 14,
   "metadata": {},
   "outputs": [],
   "source": [
    "# Заполним пропуски методом ffill\n",
    "test = test.fillna(method='ffill')"
   ]
  },
  {
   "cell_type": "code",
   "execution_count": 15,
   "metadata": {
    "scrolled": true
   },
   "outputs": [
    {
     "data": {
      "text/html": [
       "<style  type=\"text/css\" >\n",
       "#T_ad94b_row0_col0,#T_ad94b_row1_col0,#T_ad94b_row2_col0,#T_ad94b_row4_col0,#T_ad94b_row5_col0,#T_ad94b_row6_col0,#T_ad94b_row8_col0,#T_ad94b_row9_col0,#T_ad94b_row12_col0,#T_ad94b_row14_col0,#T_ad94b_row17_col0,#T_ad94b_row18_col0,#T_ad94b_row21_col0,#T_ad94b_row22_col0,#T_ad94b_row23_col0,#T_ad94b_row24_col0,#T_ad94b_row25_col0,#T_ad94b_row26_col0,#T_ad94b_row27_col0,#T_ad94b_row28_col0,#T_ad94b_row29_col0,#T_ad94b_row30_col0,#T_ad94b_row31_col0,#T_ad94b_row32_col0,#T_ad94b_row33_col0,#T_ad94b_row34_col0,#T_ad94b_row39_col0,#T_ad94b_row41_col0,#T_ad94b_row44_col0,#T_ad94b_row45_col0,#T_ad94b_row47_col0,#T_ad94b_row48_col0,#T_ad94b_row49_col0,#T_ad94b_row50_col0,#T_ad94b_row51_col0,#T_ad94b_row52_col0,#T_ad94b_row53_col0,#T_ad94b_row54_col0,#T_ad94b_row55_col0,#T_ad94b_row56_col0,#T_ad94b_row57_col0,#T_ad94b_row58_col0,#T_ad94b_row59_col0,#T_ad94b_row60_col0,#T_ad94b_row62_col0,#T_ad94b_row63_col0,#T_ad94b_row64_col0,#T_ad94b_row65_col0,#T_ad94b_row68_col0,#T_ad94b_row70_col0,#T_ad94b_row72_col0,#T_ad94b_row74_col0,#T_ad94b_row75_col0,#T_ad94b_row76_col0,#T_ad94b_row77_col0,#T_ad94b_row78_col0,#T_ad94b_row79_col0,#T_ad94b_row80_col0,#T_ad94b_row81_col0,#T_ad94b_row82_col0,#T_ad94b_row83_col0,#T_ad94b_row84_col0,#T_ad94b_row85_col0,#T_ad94b_row86_col0{\n",
       "            background-color:  #3b4cc0;\n",
       "            color:  #f1f1f1;\n",
       "        }#T_ad94b_row3_col0,#T_ad94b_row69_col0{\n",
       "            background-color:  #6180e9;\n",
       "            color:  #000000;\n",
       "        }#T_ad94b_row7_col0,#T_ad94b_row13_col0,#T_ad94b_row35_col0,#T_ad94b_row38_col0{\n",
       "            background-color:  #4b64d5;\n",
       "            color:  #f1f1f1;\n",
       "        }#T_ad94b_row10_col0,#T_ad94b_row19_col0,#T_ad94b_row36_col0,#T_ad94b_row46_col0,#T_ad94b_row66_col0,#T_ad94b_row71_col0,#T_ad94b_row73_col0{\n",
       "            background-color:  #3d50c3;\n",
       "            color:  #f1f1f1;\n",
       "        }#T_ad94b_row11_col0,#T_ad94b_row40_col0,#T_ad94b_row42_col0{\n",
       "            background-color:  #4055c8;\n",
       "            color:  #f1f1f1;\n",
       "        }#T_ad94b_row15_col0{\n",
       "            background-color:  #4f69d9;\n",
       "            color:  #000000;\n",
       "        }#T_ad94b_row16_col0{\n",
       "            background-color:  #80a3fa;\n",
       "            color:  #000000;\n",
       "        }#T_ad94b_row20_col0{\n",
       "            background-color:  #445acc;\n",
       "            color:  #f1f1f1;\n",
       "        }#T_ad94b_row37_col0{\n",
       "            background-color:  #516ddb;\n",
       "            color:  #000000;\n",
       "        }#T_ad94b_row43_col0{\n",
       "            background-color:  #8fb1fe;\n",
       "            color:  #000000;\n",
       "        }#T_ad94b_row61_col0{\n",
       "            background-color:  #8badfd;\n",
       "            color:  #000000;\n",
       "        }#T_ad94b_row67_col0{\n",
       "            background-color:  #b40426;\n",
       "            color:  #f1f1f1;\n",
       "        }</style><table id=\"T_ad94b_\" ><thead>    <tr>        <th class=\"blank level0\" ></th>        <th class=\"col_heading level0 col0\" >0</th>    </tr></thead><tbody>\n",
       "                <tr>\n",
       "                        <th id=\"T_ad94b_level0_row0\" class=\"row_heading level0 row0\" >date</th>\n",
       "                        <td id=\"T_ad94b_row0_col0\" class=\"data row0 col0\" >0.000000</td>\n",
       "            </tr>\n",
       "            <tr>\n",
       "                        <th id=\"T_ad94b_level0_row1\" class=\"row_heading level0 row1\" >final.output.concentrate_ag</th>\n",
       "                        <td id=\"T_ad94b_row1_col0\" class=\"data row1 col0\" >0.000000</td>\n",
       "            </tr>\n",
       "            <tr>\n",
       "                        <th id=\"T_ad94b_level0_row2\" class=\"row_heading level0 row2\" >final.output.concentrate_pb</th>\n",
       "                        <td id=\"T_ad94b_row2_col0\" class=\"data row2 col0\" >0.000000</td>\n",
       "            </tr>\n",
       "            <tr>\n",
       "                        <th id=\"T_ad94b_level0_row3\" class=\"row_heading level0 row3\" >final.output.concentrate_sol</th>\n",
       "                        <td id=\"T_ad94b_row3_col0\" class=\"data row3 col0\" >1.100000</td>\n",
       "            </tr>\n",
       "            <tr>\n",
       "                        <th id=\"T_ad94b_level0_row4\" class=\"row_heading level0 row4\" >final.output.concentrate_au</th>\n",
       "                        <td id=\"T_ad94b_row4_col0\" class=\"data row4 col0\" >0.000000</td>\n",
       "            </tr>\n",
       "            <tr>\n",
       "                        <th id=\"T_ad94b_level0_row5\" class=\"row_heading level0 row5\" >final.output.recovery</th>\n",
       "                        <td id=\"T_ad94b_row5_col0\" class=\"data row5 col0\" >0.000000</td>\n",
       "            </tr>\n",
       "            <tr>\n",
       "                        <th id=\"T_ad94b_level0_row6\" class=\"row_heading level0 row6\" >final.output.tail_ag</th>\n",
       "                        <td id=\"T_ad94b_row6_col0\" class=\"data row6 col0\" >0.000000</td>\n",
       "            </tr>\n",
       "            <tr>\n",
       "                        <th id=\"T_ad94b_level0_row7\" class=\"row_heading level0 row7\" >final.output.tail_pb</th>\n",
       "                        <td id=\"T_ad94b_row7_col0\" class=\"data row7 col0\" >0.500000</td>\n",
       "            </tr>\n",
       "            <tr>\n",
       "                        <th id=\"T_ad94b_level0_row8\" class=\"row_heading level0 row8\" >final.output.tail_sol</th>\n",
       "                        <td id=\"T_ad94b_row8_col0\" class=\"data row8 col0\" >0.000000</td>\n",
       "            </tr>\n",
       "            <tr>\n",
       "                        <th id=\"T_ad94b_level0_row9\" class=\"row_heading level0 row9\" >final.output.tail_au</th>\n",
       "                        <td id=\"T_ad94b_row9_col0\" class=\"data row9 col0\" >0.000000</td>\n",
       "            </tr>\n",
       "            <tr>\n",
       "                        <th id=\"T_ad94b_level0_row10\" class=\"row_heading level0 row10\" >primary_cleaner.input.sulfate</th>\n",
       "                        <td id=\"T_ad94b_row10_col0\" class=\"data row10 col0\" >0.100000</td>\n",
       "            </tr>\n",
       "            <tr>\n",
       "                        <th id=\"T_ad94b_level0_row11\" class=\"row_heading level0 row11\" >primary_cleaner.input.depressant</th>\n",
       "                        <td id=\"T_ad94b_row11_col0\" class=\"data row11 col0\" >0.200000</td>\n",
       "            </tr>\n",
       "            <tr>\n",
       "                        <th id=\"T_ad94b_level0_row12\" class=\"row_heading level0 row12\" >primary_cleaner.input.feed_size</th>\n",
       "                        <td id=\"T_ad94b_row12_col0\" class=\"data row12 col0\" >0.000000</td>\n",
       "            </tr>\n",
       "            <tr>\n",
       "                        <th id=\"T_ad94b_level0_row13\" class=\"row_heading level0 row13\" >primary_cleaner.input.xanthate</th>\n",
       "                        <td id=\"T_ad94b_row13_col0\" class=\"data row13 col0\" >0.500000</td>\n",
       "            </tr>\n",
       "            <tr>\n",
       "                        <th id=\"T_ad94b_level0_row14\" class=\"row_heading level0 row14\" >primary_cleaner.output.concentrate_ag</th>\n",
       "                        <td id=\"T_ad94b_row14_col0\" class=\"data row14 col0\" >0.000000</td>\n",
       "            </tr>\n",
       "            <tr>\n",
       "                        <th id=\"T_ad94b_level0_row15\" class=\"row_heading level0 row15\" >primary_cleaner.output.concentrate_pb</th>\n",
       "                        <td id=\"T_ad94b_row15_col0\" class=\"data row15 col0\" >0.600000</td>\n",
       "            </tr>\n",
       "            <tr>\n",
       "                        <th id=\"T_ad94b_level0_row16\" class=\"row_heading level0 row16\" >primary_cleaner.output.concentrate_sol</th>\n",
       "                        <td id=\"T_ad94b_row16_col0\" class=\"data row16 col0\" >1.900000</td>\n",
       "            </tr>\n",
       "            <tr>\n",
       "                        <th id=\"T_ad94b_level0_row17\" class=\"row_heading level0 row17\" >primary_cleaner.output.concentrate_au</th>\n",
       "                        <td id=\"T_ad94b_row17_col0\" class=\"data row17 col0\" >0.000000</td>\n",
       "            </tr>\n",
       "            <tr>\n",
       "                        <th id=\"T_ad94b_level0_row18\" class=\"row_heading level0 row18\" >primary_cleaner.output.tail_ag</th>\n",
       "                        <td id=\"T_ad94b_row18_col0\" class=\"data row18 col0\" >0.000000</td>\n",
       "            </tr>\n",
       "            <tr>\n",
       "                        <th id=\"T_ad94b_level0_row19\" class=\"row_heading level0 row19\" >primary_cleaner.output.tail_pb</th>\n",
       "                        <td id=\"T_ad94b_row19_col0\" class=\"data row19 col0\" >0.100000</td>\n",
       "            </tr>\n",
       "            <tr>\n",
       "                        <th id=\"T_ad94b_level0_row20\" class=\"row_heading level0 row20\" >primary_cleaner.output.tail_sol</th>\n",
       "                        <td id=\"T_ad94b_row20_col0\" class=\"data row20 col0\" >0.300000</td>\n",
       "            </tr>\n",
       "            <tr>\n",
       "                        <th id=\"T_ad94b_level0_row21\" class=\"row_heading level0 row21\" >primary_cleaner.output.tail_au</th>\n",
       "                        <td id=\"T_ad94b_row21_col0\" class=\"data row21 col0\" >0.000000</td>\n",
       "            </tr>\n",
       "            <tr>\n",
       "                        <th id=\"T_ad94b_level0_row22\" class=\"row_heading level0 row22\" >primary_cleaner.state.floatbank8_a_air</th>\n",
       "                        <td id=\"T_ad94b_row22_col0\" class=\"data row22 col0\" >0.000000</td>\n",
       "            </tr>\n",
       "            <tr>\n",
       "                        <th id=\"T_ad94b_level0_row23\" class=\"row_heading level0 row23\" >primary_cleaner.state.floatbank8_a_level</th>\n",
       "                        <td id=\"T_ad94b_row23_col0\" class=\"data row23 col0\" >0.000000</td>\n",
       "            </tr>\n",
       "            <tr>\n",
       "                        <th id=\"T_ad94b_level0_row24\" class=\"row_heading level0 row24\" >primary_cleaner.state.floatbank8_b_air</th>\n",
       "                        <td id=\"T_ad94b_row24_col0\" class=\"data row24 col0\" >0.000000</td>\n",
       "            </tr>\n",
       "            <tr>\n",
       "                        <th id=\"T_ad94b_level0_row25\" class=\"row_heading level0 row25\" >primary_cleaner.state.floatbank8_b_level</th>\n",
       "                        <td id=\"T_ad94b_row25_col0\" class=\"data row25 col0\" >0.000000</td>\n",
       "            </tr>\n",
       "            <tr>\n",
       "                        <th id=\"T_ad94b_level0_row26\" class=\"row_heading level0 row26\" >primary_cleaner.state.floatbank8_c_air</th>\n",
       "                        <td id=\"T_ad94b_row26_col0\" class=\"data row26 col0\" >0.000000</td>\n",
       "            </tr>\n",
       "            <tr>\n",
       "                        <th id=\"T_ad94b_level0_row27\" class=\"row_heading level0 row27\" >primary_cleaner.state.floatbank8_c_level</th>\n",
       "                        <td id=\"T_ad94b_row27_col0\" class=\"data row27 col0\" >0.000000</td>\n",
       "            </tr>\n",
       "            <tr>\n",
       "                        <th id=\"T_ad94b_level0_row28\" class=\"row_heading level0 row28\" >primary_cleaner.state.floatbank8_d_air</th>\n",
       "                        <td id=\"T_ad94b_row28_col0\" class=\"data row28 col0\" >0.000000</td>\n",
       "            </tr>\n",
       "            <tr>\n",
       "                        <th id=\"T_ad94b_level0_row29\" class=\"row_heading level0 row29\" >primary_cleaner.state.floatbank8_d_level</th>\n",
       "                        <td id=\"T_ad94b_row29_col0\" class=\"data row29 col0\" >0.000000</td>\n",
       "            </tr>\n",
       "            <tr>\n",
       "                        <th id=\"T_ad94b_level0_row30\" class=\"row_heading level0 row30\" >rougher.calculation.sulfate_to_au_concentrate</th>\n",
       "                        <td id=\"T_ad94b_row30_col0\" class=\"data row30 col0\" >0.000000</td>\n",
       "            </tr>\n",
       "            <tr>\n",
       "                        <th id=\"T_ad94b_level0_row31\" class=\"row_heading level0 row31\" >rougher.calculation.floatbank10_sulfate_to_au_feed</th>\n",
       "                        <td id=\"T_ad94b_row31_col0\" class=\"data row31 col0\" >0.000000</td>\n",
       "            </tr>\n",
       "            <tr>\n",
       "                        <th id=\"T_ad94b_level0_row32\" class=\"row_heading level0 row32\" >rougher.calculation.floatbank11_sulfate_to_au_feed</th>\n",
       "                        <td id=\"T_ad94b_row32_col0\" class=\"data row32 col0\" >0.000000</td>\n",
       "            </tr>\n",
       "            <tr>\n",
       "                        <th id=\"T_ad94b_level0_row33\" class=\"row_heading level0 row33\" >rougher.calculation.au_pb_ratio</th>\n",
       "                        <td id=\"T_ad94b_row33_col0\" class=\"data row33 col0\" >0.000000</td>\n",
       "            </tr>\n",
       "            <tr>\n",
       "                        <th id=\"T_ad94b_level0_row34\" class=\"row_heading level0 row34\" >rougher.input.feed_ag</th>\n",
       "                        <td id=\"T_ad94b_row34_col0\" class=\"data row34 col0\" >0.000000</td>\n",
       "            </tr>\n",
       "            <tr>\n",
       "                        <th id=\"T_ad94b_level0_row35\" class=\"row_heading level0 row35\" >rougher.input.feed_pb</th>\n",
       "                        <td id=\"T_ad94b_row35_col0\" class=\"data row35 col0\" >0.500000</td>\n",
       "            </tr>\n",
       "            <tr>\n",
       "                        <th id=\"T_ad94b_level0_row36\" class=\"row_heading level0 row36\" >rougher.input.feed_rate</th>\n",
       "                        <td id=\"T_ad94b_row36_col0\" class=\"data row36 col0\" >0.100000</td>\n",
       "            </tr>\n",
       "            <tr>\n",
       "                        <th id=\"T_ad94b_level0_row37\" class=\"row_heading level0 row37\" >rougher.input.feed_size</th>\n",
       "                        <td id=\"T_ad94b_row37_col0\" class=\"data row37 col0\" >0.700000</td>\n",
       "            </tr>\n",
       "            <tr>\n",
       "                        <th id=\"T_ad94b_level0_row38\" class=\"row_heading level0 row38\" >rougher.input.feed_sol</th>\n",
       "                        <td id=\"T_ad94b_row38_col0\" class=\"data row38 col0\" >0.500000</td>\n",
       "            </tr>\n",
       "            <tr>\n",
       "                        <th id=\"T_ad94b_level0_row39\" class=\"row_heading level0 row39\" >rougher.input.feed_au</th>\n",
       "                        <td id=\"T_ad94b_row39_col0\" class=\"data row39 col0\" >0.000000</td>\n",
       "            </tr>\n",
       "            <tr>\n",
       "                        <th id=\"T_ad94b_level0_row40\" class=\"row_heading level0 row40\" >rougher.input.floatbank10_sulfate</th>\n",
       "                        <td id=\"T_ad94b_row40_col0\" class=\"data row40 col0\" >0.200000</td>\n",
       "            </tr>\n",
       "            <tr>\n",
       "                        <th id=\"T_ad94b_level0_row41\" class=\"row_heading level0 row41\" >rougher.input.floatbank10_xanthate</th>\n",
       "                        <td id=\"T_ad94b_row41_col0\" class=\"data row41 col0\" >0.000000</td>\n",
       "            </tr>\n",
       "            <tr>\n",
       "                        <th id=\"T_ad94b_level0_row42\" class=\"row_heading level0 row42\" >rougher.input.floatbank11_sulfate</th>\n",
       "                        <td id=\"T_ad94b_row42_col0\" class=\"data row42 col0\" >0.200000</td>\n",
       "            </tr>\n",
       "            <tr>\n",
       "                        <th id=\"T_ad94b_level0_row43\" class=\"row_heading level0 row43\" >rougher.input.floatbank11_xanthate</th>\n",
       "                        <td id=\"T_ad94b_row43_col0\" class=\"data row43 col0\" >2.300000</td>\n",
       "            </tr>\n",
       "            <tr>\n",
       "                        <th id=\"T_ad94b_level0_row44\" class=\"row_heading level0 row44\" >rougher.output.concentrate_ag</th>\n",
       "                        <td id=\"T_ad94b_row44_col0\" class=\"data row44 col0\" >0.000000</td>\n",
       "            </tr>\n",
       "            <tr>\n",
       "                        <th id=\"T_ad94b_level0_row45\" class=\"row_heading level0 row45\" >rougher.output.concentrate_pb</th>\n",
       "                        <td id=\"T_ad94b_row45_col0\" class=\"data row45 col0\" >0.000000</td>\n",
       "            </tr>\n",
       "            <tr>\n",
       "                        <th id=\"T_ad94b_level0_row46\" class=\"row_heading level0 row46\" >rougher.output.concentrate_sol</th>\n",
       "                        <td id=\"T_ad94b_row46_col0\" class=\"data row46 col0\" >0.100000</td>\n",
       "            </tr>\n",
       "            <tr>\n",
       "                        <th id=\"T_ad94b_level0_row47\" class=\"row_heading level0 row47\" >rougher.output.concentrate_au</th>\n",
       "                        <td id=\"T_ad94b_row47_col0\" class=\"data row47 col0\" >0.000000</td>\n",
       "            </tr>\n",
       "            <tr>\n",
       "                        <th id=\"T_ad94b_level0_row48\" class=\"row_heading level0 row48\" >rougher.output.recovery</th>\n",
       "                        <td id=\"T_ad94b_row48_col0\" class=\"data row48 col0\" >0.000000</td>\n",
       "            </tr>\n",
       "            <tr>\n",
       "                        <th id=\"T_ad94b_level0_row49\" class=\"row_heading level0 row49\" >rougher.output.tail_ag</th>\n",
       "                        <td id=\"T_ad94b_row49_col0\" class=\"data row49 col0\" >0.000000</td>\n",
       "            </tr>\n",
       "            <tr>\n",
       "                        <th id=\"T_ad94b_level0_row50\" class=\"row_heading level0 row50\" >rougher.output.tail_pb</th>\n",
       "                        <td id=\"T_ad94b_row50_col0\" class=\"data row50 col0\" >0.000000</td>\n",
       "            </tr>\n",
       "            <tr>\n",
       "                        <th id=\"T_ad94b_level0_row51\" class=\"row_heading level0 row51\" >rougher.output.tail_sol</th>\n",
       "                        <td id=\"T_ad94b_row51_col0\" class=\"data row51 col0\" >0.000000</td>\n",
       "            </tr>\n",
       "            <tr>\n",
       "                        <th id=\"T_ad94b_level0_row52\" class=\"row_heading level0 row52\" >rougher.output.tail_au</th>\n",
       "                        <td id=\"T_ad94b_row52_col0\" class=\"data row52 col0\" >0.000000</td>\n",
       "            </tr>\n",
       "            <tr>\n",
       "                        <th id=\"T_ad94b_level0_row53\" class=\"row_heading level0 row53\" >rougher.state.floatbank10_a_air</th>\n",
       "                        <td id=\"T_ad94b_row53_col0\" class=\"data row53 col0\" >0.000000</td>\n",
       "            </tr>\n",
       "            <tr>\n",
       "                        <th id=\"T_ad94b_level0_row54\" class=\"row_heading level0 row54\" >rougher.state.floatbank10_a_level</th>\n",
       "                        <td id=\"T_ad94b_row54_col0\" class=\"data row54 col0\" >0.000000</td>\n",
       "            </tr>\n",
       "            <tr>\n",
       "                        <th id=\"T_ad94b_level0_row55\" class=\"row_heading level0 row55\" >rougher.state.floatbank10_b_air</th>\n",
       "                        <td id=\"T_ad94b_row55_col0\" class=\"data row55 col0\" >0.000000</td>\n",
       "            </tr>\n",
       "            <tr>\n",
       "                        <th id=\"T_ad94b_level0_row56\" class=\"row_heading level0 row56\" >rougher.state.floatbank10_b_level</th>\n",
       "                        <td id=\"T_ad94b_row56_col0\" class=\"data row56 col0\" >0.000000</td>\n",
       "            </tr>\n",
       "            <tr>\n",
       "                        <th id=\"T_ad94b_level0_row57\" class=\"row_heading level0 row57\" >rougher.state.floatbank10_c_air</th>\n",
       "                        <td id=\"T_ad94b_row57_col0\" class=\"data row57 col0\" >0.000000</td>\n",
       "            </tr>\n",
       "            <tr>\n",
       "                        <th id=\"T_ad94b_level0_row58\" class=\"row_heading level0 row58\" >rougher.state.floatbank10_c_level</th>\n",
       "                        <td id=\"T_ad94b_row58_col0\" class=\"data row58 col0\" >0.000000</td>\n",
       "            </tr>\n",
       "            <tr>\n",
       "                        <th id=\"T_ad94b_level0_row59\" class=\"row_heading level0 row59\" >rougher.state.floatbank10_d_air</th>\n",
       "                        <td id=\"T_ad94b_row59_col0\" class=\"data row59 col0\" >0.000000</td>\n",
       "            </tr>\n",
       "            <tr>\n",
       "                        <th id=\"T_ad94b_level0_row60\" class=\"row_heading level0 row60\" >rougher.state.floatbank10_d_level</th>\n",
       "                        <td id=\"T_ad94b_row60_col0\" class=\"data row60 col0\" >0.000000</td>\n",
       "            </tr>\n",
       "            <tr>\n",
       "                        <th id=\"T_ad94b_level0_row61\" class=\"row_heading level0 row61\" >rougher.state.floatbank10_e_air</th>\n",
       "                        <td id=\"T_ad94b_row61_col0\" class=\"data row61 col0\" >2.200000</td>\n",
       "            </tr>\n",
       "            <tr>\n",
       "                        <th id=\"T_ad94b_level0_row62\" class=\"row_heading level0 row62\" >rougher.state.floatbank10_e_level</th>\n",
       "                        <td id=\"T_ad94b_row62_col0\" class=\"data row62 col0\" >0.000000</td>\n",
       "            </tr>\n",
       "            <tr>\n",
       "                        <th id=\"T_ad94b_level0_row63\" class=\"row_heading level0 row63\" >rougher.state.floatbank10_f_air</th>\n",
       "                        <td id=\"T_ad94b_row63_col0\" class=\"data row63 col0\" >0.000000</td>\n",
       "            </tr>\n",
       "            <tr>\n",
       "                        <th id=\"T_ad94b_level0_row64\" class=\"row_heading level0 row64\" >rougher.state.floatbank10_f_level</th>\n",
       "                        <td id=\"T_ad94b_row64_col0\" class=\"data row64 col0\" >0.000000</td>\n",
       "            </tr>\n",
       "            <tr>\n",
       "                        <th id=\"T_ad94b_level0_row65\" class=\"row_heading level0 row65\" >secondary_cleaner.output.tail_ag</th>\n",
       "                        <td id=\"T_ad94b_row65_col0\" class=\"data row65 col0\" >0.000000</td>\n",
       "            </tr>\n",
       "            <tr>\n",
       "                        <th id=\"T_ad94b_level0_row66\" class=\"row_heading level0 row66\" >secondary_cleaner.output.tail_pb</th>\n",
       "                        <td id=\"T_ad94b_row66_col0\" class=\"data row66 col0\" >0.100000</td>\n",
       "            </tr>\n",
       "            <tr>\n",
       "                        <th id=\"T_ad94b_level0_row67\" class=\"row_heading level0 row67\" >secondary_cleaner.output.tail_sol</th>\n",
       "                        <td id=\"T_ad94b_row67_col0\" class=\"data row67 col0\" >9.000000</td>\n",
       "            </tr>\n",
       "            <tr>\n",
       "                        <th id=\"T_ad94b_level0_row68\" class=\"row_heading level0 row68\" >secondary_cleaner.output.tail_au</th>\n",
       "                        <td id=\"T_ad94b_row68_col0\" class=\"data row68 col0\" >0.000000</td>\n",
       "            </tr>\n",
       "            <tr>\n",
       "                        <th id=\"T_ad94b_level0_row69\" class=\"row_heading level0 row69\" >secondary_cleaner.state.floatbank2_a_air</th>\n",
       "                        <td id=\"T_ad94b_row69_col0\" class=\"data row69 col0\" >1.100000</td>\n",
       "            </tr>\n",
       "            <tr>\n",
       "                        <th id=\"T_ad94b_level0_row70\" class=\"row_heading level0 row70\" >secondary_cleaner.state.floatbank2_a_level</th>\n",
       "                        <td id=\"T_ad94b_row70_col0\" class=\"data row70 col0\" >0.000000</td>\n",
       "            </tr>\n",
       "            <tr>\n",
       "                        <th id=\"T_ad94b_level0_row71\" class=\"row_heading level0 row71\" >secondary_cleaner.state.floatbank2_b_air</th>\n",
       "                        <td id=\"T_ad94b_row71_col0\" class=\"data row71 col0\" >0.100000</td>\n",
       "            </tr>\n",
       "            <tr>\n",
       "                        <th id=\"T_ad94b_level0_row72\" class=\"row_heading level0 row72\" >secondary_cleaner.state.floatbank2_b_level</th>\n",
       "                        <td id=\"T_ad94b_row72_col0\" class=\"data row72 col0\" >0.000000</td>\n",
       "            </tr>\n",
       "            <tr>\n",
       "                        <th id=\"T_ad94b_level0_row73\" class=\"row_heading level0 row73\" >secondary_cleaner.state.floatbank3_a_air</th>\n",
       "                        <td id=\"T_ad94b_row73_col0\" class=\"data row73 col0\" >0.100000</td>\n",
       "            </tr>\n",
       "            <tr>\n",
       "                        <th id=\"T_ad94b_level0_row74\" class=\"row_heading level0 row74\" >secondary_cleaner.state.floatbank3_a_level</th>\n",
       "                        <td id=\"T_ad94b_row74_col0\" class=\"data row74 col0\" >0.000000</td>\n",
       "            </tr>\n",
       "            <tr>\n",
       "                        <th id=\"T_ad94b_level0_row75\" class=\"row_heading level0 row75\" >secondary_cleaner.state.floatbank3_b_air</th>\n",
       "                        <td id=\"T_ad94b_row75_col0\" class=\"data row75 col0\" >0.000000</td>\n",
       "            </tr>\n",
       "            <tr>\n",
       "                        <th id=\"T_ad94b_level0_row76\" class=\"row_heading level0 row76\" >secondary_cleaner.state.floatbank3_b_level</th>\n",
       "                        <td id=\"T_ad94b_row76_col0\" class=\"data row76 col0\" >0.000000</td>\n",
       "            </tr>\n",
       "            <tr>\n",
       "                        <th id=\"T_ad94b_level0_row77\" class=\"row_heading level0 row77\" >secondary_cleaner.state.floatbank4_a_air</th>\n",
       "                        <td id=\"T_ad94b_row77_col0\" class=\"data row77 col0\" >0.000000</td>\n",
       "            </tr>\n",
       "            <tr>\n",
       "                        <th id=\"T_ad94b_level0_row78\" class=\"row_heading level0 row78\" >secondary_cleaner.state.floatbank4_a_level</th>\n",
       "                        <td id=\"T_ad94b_row78_col0\" class=\"data row78 col0\" >0.000000</td>\n",
       "            </tr>\n",
       "            <tr>\n",
       "                        <th id=\"T_ad94b_level0_row79\" class=\"row_heading level0 row79\" >secondary_cleaner.state.floatbank4_b_air</th>\n",
       "                        <td id=\"T_ad94b_row79_col0\" class=\"data row79 col0\" >0.000000</td>\n",
       "            </tr>\n",
       "            <tr>\n",
       "                        <th id=\"T_ad94b_level0_row80\" class=\"row_heading level0 row80\" >secondary_cleaner.state.floatbank4_b_level</th>\n",
       "                        <td id=\"T_ad94b_row80_col0\" class=\"data row80 col0\" >0.000000</td>\n",
       "            </tr>\n",
       "            <tr>\n",
       "                        <th id=\"T_ad94b_level0_row81\" class=\"row_heading level0 row81\" >secondary_cleaner.state.floatbank5_a_air</th>\n",
       "                        <td id=\"T_ad94b_row81_col0\" class=\"data row81 col0\" >0.000000</td>\n",
       "            </tr>\n",
       "            <tr>\n",
       "                        <th id=\"T_ad94b_level0_row82\" class=\"row_heading level0 row82\" >secondary_cleaner.state.floatbank5_a_level</th>\n",
       "                        <td id=\"T_ad94b_row82_col0\" class=\"data row82 col0\" >0.000000</td>\n",
       "            </tr>\n",
       "            <tr>\n",
       "                        <th id=\"T_ad94b_level0_row83\" class=\"row_heading level0 row83\" >secondary_cleaner.state.floatbank5_b_air</th>\n",
       "                        <td id=\"T_ad94b_row83_col0\" class=\"data row83 col0\" >0.000000</td>\n",
       "            </tr>\n",
       "            <tr>\n",
       "                        <th id=\"T_ad94b_level0_row84\" class=\"row_heading level0 row84\" >secondary_cleaner.state.floatbank5_b_level</th>\n",
       "                        <td id=\"T_ad94b_row84_col0\" class=\"data row84 col0\" >0.000000</td>\n",
       "            </tr>\n",
       "            <tr>\n",
       "                        <th id=\"T_ad94b_level0_row85\" class=\"row_heading level0 row85\" >secondary_cleaner.state.floatbank6_a_air</th>\n",
       "                        <td id=\"T_ad94b_row85_col0\" class=\"data row85 col0\" >0.000000</td>\n",
       "            </tr>\n",
       "            <tr>\n",
       "                        <th id=\"T_ad94b_level0_row86\" class=\"row_heading level0 row86\" >secondary_cleaner.state.floatbank6_a_level</th>\n",
       "                        <td id=\"T_ad94b_row86_col0\" class=\"data row86 col0\" >0.000000</td>\n",
       "            </tr>\n",
       "    </tbody></table>"
      ],
      "text/plain": [
       "<pandas.io.formats.style.Styler at 0x7f9316c4f100>"
      ]
     },
     "execution_count": 15,
     "metadata": {},
     "output_type": "execute_result"
    }
   ],
   "source": [
    "# посмотрим на долю пропусков в полной таблице\n",
    "pd.DataFrame(round(full.isna().mean()*100,1)).style.background_gradient('coolwarm')"
   ]
  },
  {
   "cell_type": "code",
   "execution_count": 16,
   "metadata": {},
   "outputs": [],
   "source": [
    "# Заполним пропуски методом ffill\n",
    "full = full.fillna(method='ffill')"
   ]
  },
  {
   "cell_type": "markdown",
   "metadata": {},
   "source": [
    "**Вывод**\n",
    "\n",
    "В полном датасете 19439 объектов. Данных достаточно для анализа и построения модели предсказания.\n",
    "\n",
    "Целевые признаки находятся в столбцах `rougher.output.recovery`, `final.output.recovery`.\n",
    "В тестовой выборке недоступны признаки, относящиеся к параметрам продукта и расчётным характеристикам.\n",
    "\n",
    "Пропуски в данных были заполнены методом ffill.\n",
    "\n",
    "Была проведена проверка эффективности обогащения, метрика MAE показала, что расчеты эффективности обогащения проведены верно.\n"
   ]
  },
  {
   "cell_type": "markdown",
   "metadata": {},
   "source": [
    "## Анализ данных"
   ]
  },
  {
   "cell_type": "markdown",
   "metadata": {},
   "source": [
    "**Посмотрим, как меняется концентрация металлов (Au, Ag, Pb) на различных этапах очистки.**"
   ]
  },
  {
   "cell_type": "code",
   "execution_count": 17,
   "metadata": {},
   "outputs": [
    {
     "data": {
      "image/png": "[encoded data removed]",
      "text/plain": [
       "<Figure size 1008x360 with 1 Axes>"
      ]
     },
     "metadata": {
      "needs_background": "light"
     },
     "output_type": "display_data"
    }
   ],
   "source": [
    "plt.figure(figsize=(14, 5))\n",
    "full['rougher.input.feed_au'].hist(bins=200,range=(0,60),alpha=0.7, label = 'feed')\n",
    "full['rougher.output.concentrate_au'].hist(bins=200,range=(0,60),alpha=0.7, label = 'rougher')\n",
    "full['primary_cleaner.output.concentrate_au'].hist(bins=200,range=(0,60),alpha=0.7, label = 'primary_cleaner')\n",
    "full['final.output.concentrate_au'].hist(bins=200,range=(0,60),alpha=0.7, label = 'final')\n",
    "\n",
    "plt.grid(True)\n",
    "plt.title('Концентрация Au на различных этапах очистки', fontsize=15)\n",
    "plt.xlabel('Концентрация')\n",
    "plt.ylabel('Плотность')\n",
    "plt.legend()\n",
    "plt.show()"
   ]
  },
  {
   "cell_type": "code",
   "execution_count": 18,
   "metadata": {},
   "outputs": [
    {
     "data": {
      "image/png": "[encoded data removed]",
      "text/plain": [
       "<Figure size 1008x360 with 1 Axes>"
      ]
     },
     "metadata": {
      "needs_background": "light"
     },
     "output_type": "display_data"
    }
   ],
   "source": [
    "plt.figure(figsize=(14, 5))\n",
    "full['rougher.input.feed_ag'].hist(bins=200,range=(0,20),alpha=0.7, label = 'feed')\n",
    "full['rougher.output.concentrate_ag'].hist(bins=200,range=(0,20),alpha=0.7, label = 'rougher')\n",
    "full['primary_cleaner.output.concentrate_ag'].hist(bins=200,range=(0,20),alpha=0.7, label = 'primary_cleaner')\n",
    "full['final.output.concentrate_ag'].hist(bins=200,range=(0,20),alpha=0.7, label = 'final')\n",
    "\n",
    "plt.grid(True)\n",
    "plt.title('Концентрация Ag на различных этапах очистки', fontsize=15)\n",
    "plt.xlabel('Концентрация')\n",
    "plt.ylabel('Плотность')\n",
    "plt.legend()\n",
    "plt.show()"
   ]
  },
  {
   "cell_type": "code",
   "execution_count": 19,
   "metadata": {},
   "outputs": [
    {
     "data": {
      "image/png": "[encoded data removed]",
      "text/plain": [
       "<Figure size 1008x360 with 1 Axes>"
      ]
     },
     "metadata": {
      "needs_background": "light"
     },
     "output_type": "display_data"
    }
   ],
   "source": [
    "plt.figure(figsize=(14, 5))\n",
    "full['rougher.input.feed_pb'].hist(bins=200,range=(0,20),alpha=0.7, label = 'feed')\n",
    "full['rougher.output.concentrate_pb'].hist(bins=200,range=(0,20),alpha=0.7, label = 'rougher')\n",
    "full['primary_cleaner.output.concentrate_pb'].hist(bins=200,range=(0,20),alpha=0.7, label = 'primary_cleaner')\n",
    "full['final.output.concentrate_pb'].hist(bins=200,range=(0,20),alpha=0.7, label = 'final')\n",
    "\n",
    "plt.grid(True)\n",
    "plt.title('Концентрация Pb на различных этапах очистки', fontsize=15)\n",
    "plt.xlabel('Концентрация')\n",
    "plt.ylabel('Плотность')\n",
    "plt.legend()\n",
    "plt.show()"
   ]
  },
  {
   "cell_type": "markdown",
   "metadata": {},
   "source": [
    "- Концентрация Au на каждом из этапов очистки планомерно увеличивается.\n",
    "- Концентрация Ag после этапа флотации увеличивается, а далее с каждым этапом уменьшается.\n",
    "- Концентрация Pb на этапах флотации и первичной очистки увеличивается, а после вторичной очистки практически не меняется.\n",
    "\n",
    "Концентрация золота растет, значит мы на верном пути."
   ]
  },
  {
   "cell_type": "markdown",
   "metadata": {},
   "source": [
    "**Сравним распределения размеров гранул сырья на обучающей и тестовой выборках**"
   ]
  },
  {
   "cell_type": "code",
   "execution_count": 20,
   "metadata": {},
   "outputs": [
    {
     "data": {
      "image/png": "[encoded data removed]",
      "text/plain": [
       "<Figure size 1008x360 with 1 Axes>"
      ]
     },
     "metadata": {
      "needs_background": "light"
     },
     "output_type": "display_data"
    }
   ],
   "source": [
    "# Построим график плотности\n",
    "plt.figure(figsize=(14, 5))\n",
    "sns.kdeplot(data=train, x=\"rougher.input.feed_size\", label='train')\n",
    "sns.kdeplot(data=test, x=\"rougher.input.feed_size\", label='test')\n",
    "\n",
    "plt.grid(True)\n",
    "plt.title('Распределения размеров гранул сырья на обучающей и тестовой выборках', fontsize=15)\n",
    "plt.legend()\n",
    "plt.show()"
   ]
  },
  {
   "cell_type": "code",
   "execution_count": 21,
   "metadata": {},
   "outputs": [
    {
     "data": {
      "image/png": "[encoded data removed]",
      "text/plain": [
       "<Figure size 432x288 with 1 Axes>"
      ]
     },
     "metadata": {
      "needs_background": "light"
     },
     "output_type": "display_data"
    },
    {
     "data": {
      "image/png": "[encoded data removed]",
      "text/plain": [
       "<Figure size 432x288 with 1 Axes>"
      ]
     },
     "metadata": {
      "needs_background": "light"
     },
     "output_type": "display_data"
    }
   ],
   "source": [
    "# Построим график «ящик с усами»\n",
    "sns.boxplot(x=\"rougher.input.feed_size\", data=train, orient=\"h\")\n",
    "plt.xlim(0, 100)\n",
    "plt.show()\n",
    "sns.boxplot(x=\"rougher.input.feed_size\", data=test, orient=\"h\")\n",
    "plt.xlim(0, 100)\n",
    "plt.show()"
   ]
  },
  {
   "cell_type": "markdown",
   "metadata": {},
   "source": [
    "По построенным графикам можно заметить, что распределения размеров гранул сырья на обучающей и тестовой выборках примерно одинаковы."
   ]
  },
  {
   "cell_type": "markdown",
   "metadata": {},
   "source": [
    "**Исследуем суммарную концентрацию всех веществ на разных стадиях**"
   ]
  },
  {
   "cell_type": "code",
   "execution_count": 22,
   "metadata": {},
   "outputs": [],
   "source": [
    "rougher_input = full['rougher.input.feed_au'] + full['rougher.input.feed_ag'] + full['rougher.input.feed_pb']\n",
    "rougher_output = (full['rougher.output.concentrate_au'] + \n",
    "                  full['rougher.output.concentrate_ag'] + full['rougher.output.concentrate_pb'])\n",
    "primary_cleaner_output = (full['primary_cleaner.output.concentrate_au'] + \n",
    "                        full['primary_cleaner.output.concentrate_ag'] + full['primary_cleaner.output.concentrate_pb'])\n",
    "final_output = full['final.output.concentrate_au'] + full['final.output.concentrate_ag'] + full['final.output.concentrate_pb']"
   ]
  },
  {
   "cell_type": "code",
   "execution_count": 23,
   "metadata": {},
   "outputs": [
    {
     "data": {
      "image/png": "[encoded data removed]",
      "text/plain": [
       "<Figure size 1008x360 with 1 Axes>"
      ]
     },
     "metadata": {
      "needs_background": "light"
     },
     "output_type": "display_data"
    }
   ],
   "source": [
    "# Построим график суммарной концентрации\n",
    "plt.figure(figsize=(14, 5))\n",
    "rougher_input.hist(bins=200,alpha=0.7, label = 'feed')\n",
    "rougher_output.hist(bins=200,alpha=0.7, label = 'rougher')\n",
    "primary_cleaner_output.hist(bins=200,alpha=0.7, label = 'primary_cleaner')\n",
    "final_output.hist(bins=200, alpha=0.7, label = 'final')\n",
    "\n",
    "plt.xlim(0,70)\n",
    "plt.grid(True)\n",
    "plt.title('Суммарная концентрация всех веществ на разных стадиях', fontsize=15)\n",
    "plt.xlabel('Концентрация')\n",
    "plt.ylabel('Плотность')\n",
    "plt.legend()\n",
    "plt.show()"
   ]
  },
  {
   "cell_type": "markdown",
   "metadata": {},
   "source": [
    "Суммарная концентрация с каждой стадией растет."
   ]
  },
  {
   "cell_type": "markdown",
   "metadata": {},
   "source": [
    "**Вывод**\n",
    "\n",
    "Было проведено исследование изменения концентрации металлов (Au, Ag, Pb) на различных этапах очистки. Показавшее, что концентрация Au на каждом из этапов увеличивается; концентрация Ag после этапа флотации увеличивается, а далее с каждым этапом уменьшается; концентрация Pb на этапах флотации и первичной очистки увеличивается, а после вторичной очистки практически не меняется. \n",
    "\n",
    "Суммарная концентрация всех веществ с каждой стадией растет.\n",
    "Также были обнаружены выбросы концентрации в окрестности нуля, которые необходимо будет удалить перед обучением моделей.\n",
    "\n",
    "Исследование распределения размеров гранул сырья на обучающей и тестовой выборках показало, что выборки примерно одинаковы.\n",
    "\n",
    "\n"
   ]
  },
  {
   "cell_type": "markdown",
   "metadata": {},
   "source": [
    "## Обучение моделей"
   ]
  },
  {
   "cell_type": "markdown",
   "metadata": {},
   "source": [
    "Подготовим наборы данных для обучения моделей"
   ]
  },
  {
   "cell_type": "code",
   "execution_count": 24,
   "metadata": {},
   "outputs": [],
   "source": [
    "# Удалим выбросы в концентрации на тренировочной и тестовой выборках.\n",
    "train = train.drop(index = train[train[\"rougher.input.feed_au\"] < 1].index,axis = 0)\n",
    "train = train.drop(index = train[train[\"rougher.input.feed_ag\"] < 1].index,axis = 0)\n",
    "train = train.drop(index = train[train[\"rougher.input.feed_pb\"] < 1].index,axis = 0)\n",
    "train = train.drop(index = train[train[\"rougher.input.feed_sol\"] < 1].index,axis = 0)\n",
    "\n",
    "test = test.drop(index = test[test[\"rougher.input.feed_au\"] < 1].index,axis = 0)\n",
    "test = test.drop(index = test[test[\"rougher.input.feed_ag\"] < 1].index,axis = 0)\n",
    "test = test.drop(index = test[test[\"rougher.input.feed_pb\"] < 1].index,axis = 0)\n",
    "test = test.drop(index = test[test[\"rougher.input.feed_sol\"] < 1].index,axis = 0)"
   ]
  },
  {
   "cell_type": "markdown",
   "metadata": {},
   "source": [
    "Создадим переменные для признаков и целевого признака на тренировочной выборке"
   ]
  },
  {
   "cell_type": "code",
   "execution_count": 25,
   "metadata": {},
   "outputs": [],
   "source": [
    "features_train = train.drop(columns_not_test, axis=1) # удалим столбцы, которых нет в тренировочной выборке\n",
    "\n",
    "features_train_rougher = features_train.drop(['date', 'primary_cleaner.input.sulfate',\n",
    "       'primary_cleaner.input.depressant', 'primary_cleaner.input.feed_size',\n",
    "       'primary_cleaner.input.xanthate',\n",
    "       'primary_cleaner.state.floatbank8_a_air',\n",
    "       'primary_cleaner.state.floatbank8_a_level',\n",
    "       'primary_cleaner.state.floatbank8_b_air',\n",
    "       'primary_cleaner.state.floatbank8_b_level',\n",
    "       'primary_cleaner.state.floatbank8_c_air',\n",
    "       'primary_cleaner.state.floatbank8_c_level',\n",
    "       'primary_cleaner.state.floatbank8_d_air',\n",
    "       'primary_cleaner.state.floatbank8_d_level', \n",
    "       'secondary_cleaner.state.floatbank2_a_air',\n",
    "       'secondary_cleaner.state.floatbank2_a_level',\n",
    "       'secondary_cleaner.state.floatbank2_b_air',\n",
    "       'secondary_cleaner.state.floatbank2_b_level',\n",
    "       'secondary_cleaner.state.floatbank3_a_air',\n",
    "       'secondary_cleaner.state.floatbank3_a_level',\n",
    "       'secondary_cleaner.state.floatbank3_b_air',\n",
    "       'secondary_cleaner.state.floatbank3_b_level',\n",
    "       'secondary_cleaner.state.floatbank4_a_air',\n",
    "       'secondary_cleaner.state.floatbank4_a_level',\n",
    "       'secondary_cleaner.state.floatbank4_b_air',\n",
    "       'secondary_cleaner.state.floatbank4_b_level',\n",
    "       'secondary_cleaner.state.floatbank5_a_air',\n",
    "       'secondary_cleaner.state.floatbank5_a_level',\n",
    "       'secondary_cleaner.state.floatbank5_b_air',\n",
    "       'secondary_cleaner.state.floatbank5_b_level',\n",
    "       'secondary_cleaner.state.floatbank6_a_air',\n",
    "       'secondary_cleaner.state.floatbank6_a_level'], axis=1)\n",
    "                                      \n",
    "features_train_final = features_train.drop(['date'], axis=1) \n",
    "                                            \n",
    "target_train_rougher = train['rougher.output.recovery']\n",
    "target_train_final = train['final.output.recovery']"
   ]
  },
  {
   "cell_type": "code",
   "execution_count": 26,
   "metadata": {},
   "outputs": [],
   "source": [
    "# Стандартизируем данные \n",
    "scaler = StandardScaler()\n",
    "scaler.fit(features_train_rougher)\n",
    "\n",
    "features_train_rougher = scaler.transform(features_train_rougher)\n",
    "features_train_rougher = pd.DataFrame(data=features_train_rougher)"
   ]
  },
  {
   "cell_type": "code",
   "execution_count": 27,
   "metadata": {},
   "outputs": [],
   "source": [
    "# Стандартизируем данные \n",
    "scaler = StandardScaler()\n",
    "scaler.fit(features_train_final)\n",
    "\n",
    "features_train_final = scaler.transform(features_train_final)\n",
    "features_train_final = pd.DataFrame(data=features_train_final)"
   ]
  },
  {
   "cell_type": "code",
   "execution_count": 28,
   "metadata": {
    "scrolled": false
   },
   "outputs": [
    {
     "data": {
      "text/html": [
       "<div>\n",
       "<style scoped>\n",
       "    .dataframe tbody tr th:only-of-type {\n",
       "        vertical-align: middle;\n",
       "    }\n",
       "\n",
       "    .dataframe tbody tr th {\n",
       "        vertical-align: top;\n",
       "    }\n",
       "\n",
       "    .dataframe thead th {\n",
       "        text-align: right;\n",
       "    }\n",
       "</style>\n",
       "<table border=\"1\" class=\"dataframe\">\n",
       "  <thead>\n",
       "    <tr style=\"text-align: right;\">\n",
       "      <th></th>\n",
       "      <th>0</th>\n",
       "      <th>1</th>\n",
       "      <th>2</th>\n",
       "      <th>3</th>\n",
       "      <th>4</th>\n",
       "      <th>5</th>\n",
       "      <th>6</th>\n",
       "      <th>7</th>\n",
       "      <th>8</th>\n",
       "      <th>9</th>\n",
       "      <th>...</th>\n",
       "      <th>12</th>\n",
       "      <th>13</th>\n",
       "      <th>14</th>\n",
       "      <th>15</th>\n",
       "      <th>16</th>\n",
       "      <th>17</th>\n",
       "      <th>18</th>\n",
       "      <th>19</th>\n",
       "      <th>20</th>\n",
       "      <th>21</th>\n",
       "    </tr>\n",
       "  </thead>\n",
       "  <tbody>\n",
       "    <tr>\n",
       "      <th>0</th>\n",
       "      <td>-1.328417</td>\n",
       "      <td>-1.186170</td>\n",
       "      <td>0.481466</td>\n",
       "      <td>-0.203886</td>\n",
       "      <td>0.100871</td>\n",
       "      <td>-0.764873</td>\n",
       "      <td>0.059801</td>\n",
       "      <td>0.134093</td>\n",
       "      <td>0.113589</td>\n",
       "      <td>0.158353</td>\n",
       "      <td>...</td>\n",
       "      <td>1.538851</td>\n",
       "      <td>0.513404</td>\n",
       "      <td>1.416615</td>\n",
       "      <td>0.407780</td>\n",
       "      <td>1.846803</td>\n",
       "      <td>0.252418</td>\n",
       "      <td>1.716867</td>\n",
       "      <td>0.166198</td>\n",
       "      <td>2.173786</td>\n",
       "      <td>0.223690</td>\n",
       "    </tr>\n",
       "    <tr>\n",
       "      <th>1</th>\n",
       "      <td>-1.296132</td>\n",
       "      <td>-1.204072</td>\n",
       "      <td>0.498265</td>\n",
       "      <td>-0.126263</td>\n",
       "      <td>-0.116617</td>\n",
       "      <td>-0.768928</td>\n",
       "      <td>0.055097</td>\n",
       "      <td>0.132074</td>\n",
       "      <td>0.155725</td>\n",
       "      <td>0.163824</td>\n",
       "      <td>...</td>\n",
       "      <td>1.526563</td>\n",
       "      <td>0.248205</td>\n",
       "      <td>1.407756</td>\n",
       "      <td>0.271473</td>\n",
       "      <td>1.854348</td>\n",
       "      <td>0.276423</td>\n",
       "      <td>1.688780</td>\n",
       "      <td>0.247270</td>\n",
       "      <td>2.078958</td>\n",
       "      <td>0.255791</td>\n",
       "    </tr>\n",
       "    <tr>\n",
       "      <th>2</th>\n",
       "      <td>-1.319871</td>\n",
       "      <td>-1.304975</td>\n",
       "      <td>0.543875</td>\n",
       "      <td>-0.116215</td>\n",
       "      <td>-0.071635</td>\n",
       "      <td>-0.831280</td>\n",
       "      <td>0.039667</td>\n",
       "      <td>0.306034</td>\n",
       "      <td>0.135675</td>\n",
       "      <td>0.318905</td>\n",
       "      <td>...</td>\n",
       "      <td>1.518847</td>\n",
       "      <td>0.247246</td>\n",
       "      <td>1.403985</td>\n",
       "      <td>0.269260</td>\n",
       "      <td>1.851130</td>\n",
       "      <td>0.276413</td>\n",
       "      <td>1.688532</td>\n",
       "      <td>0.263725</td>\n",
       "      <td>2.082362</td>\n",
       "      <td>0.248595</td>\n",
       "    </tr>\n",
       "    <tr>\n",
       "      <th>3</th>\n",
       "      <td>-1.358753</td>\n",
       "      <td>-1.420485</td>\n",
       "      <td>0.664872</td>\n",
       "      <td>-0.103997</td>\n",
       "      <td>0.111928</td>\n",
       "      <td>-0.962046</td>\n",
       "      <td>-0.048941</td>\n",
       "      <td>0.311300</td>\n",
       "      <td>0.075450</td>\n",
       "      <td>0.312399</td>\n",
       "      <td>...</td>\n",
       "      <td>1.522778</td>\n",
       "      <td>0.236605</td>\n",
       "      <td>1.405574</td>\n",
       "      <td>0.270046</td>\n",
       "      <td>1.841053</td>\n",
       "      <td>0.273263</td>\n",
       "      <td>1.697969</td>\n",
       "      <td>0.262092</td>\n",
       "      <td>2.081895</td>\n",
       "      <td>0.261577</td>\n",
       "    </tr>\n",
       "    <tr>\n",
       "      <th>4</th>\n",
       "      <td>-1.349394</td>\n",
       "      <td>-1.658429</td>\n",
       "      <td>0.645047</td>\n",
       "      <td>-0.179604</td>\n",
       "      <td>-0.406350</td>\n",
       "      <td>-1.205582</td>\n",
       "      <td>-0.254010</td>\n",
       "      <td>0.307350</td>\n",
       "      <td>-0.118008</td>\n",
       "      <td>0.311042</td>\n",
       "      <td>...</td>\n",
       "      <td>1.523592</td>\n",
       "      <td>0.254362</td>\n",
       "      <td>1.407186</td>\n",
       "      <td>0.267832</td>\n",
       "      <td>1.850702</td>\n",
       "      <td>0.277208</td>\n",
       "      <td>1.701278</td>\n",
       "      <td>0.282442</td>\n",
       "      <td>2.087171</td>\n",
       "      <td>0.250711</td>\n",
       "    </tr>\n",
       "    <tr>\n",
       "      <th>...</th>\n",
       "      <td>...</td>\n",
       "      <td>...</td>\n",
       "      <td>...</td>\n",
       "      <td>...</td>\n",
       "      <td>...</td>\n",
       "      <td>...</td>\n",
       "      <td>...</td>\n",
       "      <td>...</td>\n",
       "      <td>...</td>\n",
       "      <td>...</td>\n",
       "      <td>...</td>\n",
       "      <td>...</td>\n",
       "      <td>...</td>\n",
       "      <td>...</td>\n",
       "      <td>...</td>\n",
       "      <td>...</td>\n",
       "      <td>...</td>\n",
       "      <td>...</td>\n",
       "      <td>...</td>\n",
       "      <td>...</td>\n",
       "      <td>...</td>\n",
       "    </tr>\n",
       "    <tr>\n",
       "      <th>13994</th>\n",
       "      <td>-1.332948</td>\n",
       "      <td>1.025745</td>\n",
       "      <td>0.841099</td>\n",
       "      <td>1.105579</td>\n",
       "      <td>0.216536</td>\n",
       "      <td>-1.381259</td>\n",
       "      <td>-1.228508</td>\n",
       "      <td>2.994483</td>\n",
       "      <td>-0.962166</td>\n",
       "      <td>2.702320</td>\n",
       "      <td>...</td>\n",
       "      <td>-0.928757</td>\n",
       "      <td>-0.601709</td>\n",
       "      <td>-1.174768</td>\n",
       "      <td>-0.596863</td>\n",
       "      <td>-1.247611</td>\n",
       "      <td>-0.604638</td>\n",
       "      <td>-1.254228</td>\n",
       "      <td>-0.606047</td>\n",
       "      <td>-1.056005</td>\n",
       "      <td>-0.578715</td>\n",
       "    </tr>\n",
       "    <tr>\n",
       "      <th>13995</th>\n",
       "      <td>-1.317284</td>\n",
       "      <td>0.577635</td>\n",
       "      <td>0.823212</td>\n",
       "      <td>2.568775</td>\n",
       "      <td>0.468356</td>\n",
       "      <td>-1.647708</td>\n",
       "      <td>-1.352367</td>\n",
       "      <td>3.127345</td>\n",
       "      <td>-1.139582</td>\n",
       "      <td>2.816874</td>\n",
       "      <td>...</td>\n",
       "      <td>-0.940369</td>\n",
       "      <td>-0.633359</td>\n",
       "      <td>-1.171953</td>\n",
       "      <td>-0.641899</td>\n",
       "      <td>-1.232750</td>\n",
       "      <td>-0.620230</td>\n",
       "      <td>-1.260385</td>\n",
       "      <td>-0.625021</td>\n",
       "      <td>-1.054552</td>\n",
       "      <td>-0.567668</td>\n",
       "    </tr>\n",
       "    <tr>\n",
       "      <th>13996</th>\n",
       "      <td>-1.397448</td>\n",
       "      <td>0.459117</td>\n",
       "      <td>0.790960</td>\n",
       "      <td>2.688472</td>\n",
       "      <td>0.773908</td>\n",
       "      <td>-1.815729</td>\n",
       "      <td>-1.587427</td>\n",
       "      <td>3.122492</td>\n",
       "      <td>-1.274746</td>\n",
       "      <td>2.818658</td>\n",
       "      <td>...</td>\n",
       "      <td>-0.928022</td>\n",
       "      <td>-0.652669</td>\n",
       "      <td>-1.167099</td>\n",
       "      <td>-0.635040</td>\n",
       "      <td>-1.218854</td>\n",
       "      <td>-0.661941</td>\n",
       "      <td>-1.257703</td>\n",
       "      <td>-0.628838</td>\n",
       "      <td>-1.052029</td>\n",
       "      <td>-0.745323</td>\n",
       "    </tr>\n",
       "    <tr>\n",
       "      <th>13997</th>\n",
       "      <td>-1.356191</td>\n",
       "      <td>0.347731</td>\n",
       "      <td>0.685494</td>\n",
       "      <td>2.752566</td>\n",
       "      <td>0.699684</td>\n",
       "      <td>-1.902688</td>\n",
       "      <td>-1.702080</td>\n",
       "      <td>3.120770</td>\n",
       "      <td>-1.373761</td>\n",
       "      <td>2.816285</td>\n",
       "      <td>...</td>\n",
       "      <td>-0.905454</td>\n",
       "      <td>-0.623408</td>\n",
       "      <td>-1.146508</td>\n",
       "      <td>-0.629469</td>\n",
       "      <td>-1.259481</td>\n",
       "      <td>-0.563708</td>\n",
       "      <td>-1.243920</td>\n",
       "      <td>-0.602976</td>\n",
       "      <td>-1.046956</td>\n",
       "      <td>-0.608229</td>\n",
       "    </tr>\n",
       "    <tr>\n",
       "      <th>13998</th>\n",
       "      <td>-1.297406</td>\n",
       "      <td>0.322309</td>\n",
       "      <td>0.792283</td>\n",
       "      <td>1.487873</td>\n",
       "      <td>0.580390</td>\n",
       "      <td>-1.901235</td>\n",
       "      <td>-1.721338</td>\n",
       "      <td>3.130668</td>\n",
       "      <td>-1.384487</td>\n",
       "      <td>2.826507</td>\n",
       "      <td>...</td>\n",
       "      <td>-0.942694</td>\n",
       "      <td>-0.629092</td>\n",
       "      <td>-1.177968</td>\n",
       "      <td>-0.631556</td>\n",
       "      <td>-1.237574</td>\n",
       "      <td>-0.591868</td>\n",
       "      <td>-1.255422</td>\n",
       "      <td>-0.606771</td>\n",
       "      <td>-1.053987</td>\n",
       "      <td>-0.613246</td>\n",
       "    </tr>\n",
       "  </tbody>\n",
       "</table>\n",
       "<p>13999 rows × 22 columns</p>\n",
       "</div>"
      ],
      "text/plain": [
       "             0         1         2         3         4         5         6   \\\n",
       "0     -1.328417 -1.186170  0.481466 -0.203886  0.100871 -0.764873  0.059801   \n",
       "1     -1.296132 -1.204072  0.498265 -0.126263 -0.116617 -0.768928  0.055097   \n",
       "2     -1.319871 -1.304975  0.543875 -0.116215 -0.071635 -0.831280  0.039667   \n",
       "3     -1.358753 -1.420485  0.664872 -0.103997  0.111928 -0.962046 -0.048941   \n",
       "4     -1.349394 -1.658429  0.645047 -0.179604 -0.406350 -1.205582 -0.254010   \n",
       "...         ...       ...       ...       ...       ...       ...       ...   \n",
       "13994 -1.332948  1.025745  0.841099  1.105579  0.216536 -1.381259 -1.228508   \n",
       "13995 -1.317284  0.577635  0.823212  2.568775  0.468356 -1.647708 -1.352367   \n",
       "13996 -1.397448  0.459117  0.790960  2.688472  0.773908 -1.815729 -1.587427   \n",
       "13997 -1.356191  0.347731  0.685494  2.752566  0.699684 -1.902688 -1.702080   \n",
       "13998 -1.297406  0.322309  0.792283  1.487873  0.580390 -1.901235 -1.721338   \n",
       "\n",
       "             7         8         9   ...        12        13        14  \\\n",
       "0      0.134093  0.113589  0.158353  ...  1.538851  0.513404  1.416615   \n",
       "1      0.132074  0.155725  0.163824  ...  1.526563  0.248205  1.407756   \n",
       "2      0.306034  0.135675  0.318905  ...  1.518847  0.247246  1.403985   \n",
       "3      0.311300  0.075450  0.312399  ...  1.522778  0.236605  1.405574   \n",
       "4      0.307350 -0.118008  0.311042  ...  1.523592  0.254362  1.407186   \n",
       "...         ...       ...       ...  ...       ...       ...       ...   \n",
       "13994  2.994483 -0.962166  2.702320  ... -0.928757 -0.601709 -1.174768   \n",
       "13995  3.127345 -1.139582  2.816874  ... -0.940369 -0.633359 -1.171953   \n",
       "13996  3.122492 -1.274746  2.818658  ... -0.928022 -0.652669 -1.167099   \n",
       "13997  3.120770 -1.373761  2.816285  ... -0.905454 -0.623408 -1.146508   \n",
       "13998  3.130668 -1.384487  2.826507  ... -0.942694 -0.629092 -1.177968   \n",
       "\n",
       "             15        16        17        18        19        20        21  \n",
       "0      0.407780  1.846803  0.252418  1.716867  0.166198  2.173786  0.223690  \n",
       "1      0.271473  1.854348  0.276423  1.688780  0.247270  2.078958  0.255791  \n",
       "2      0.269260  1.851130  0.276413  1.688532  0.263725  2.082362  0.248595  \n",
       "3      0.270046  1.841053  0.273263  1.697969  0.262092  2.081895  0.261577  \n",
       "4      0.267832  1.850702  0.277208  1.701278  0.282442  2.087171  0.250711  \n",
       "...         ...       ...       ...       ...       ...       ...       ...  \n",
       "13994 -0.596863 -1.247611 -0.604638 -1.254228 -0.606047 -1.056005 -0.578715  \n",
       "13995 -0.641899 -1.232750 -0.620230 -1.260385 -0.625021 -1.054552 -0.567668  \n",
       "13996 -0.635040 -1.218854 -0.661941 -1.257703 -0.628838 -1.052029 -0.745323  \n",
       "13997 -0.629469 -1.259481 -0.563708 -1.243920 -0.602976 -1.046956 -0.608229  \n",
       "13998 -0.631556 -1.237574 -0.591868 -1.255422 -0.606771 -1.053987 -0.613246  \n",
       "\n",
       "[13999 rows x 22 columns]"
      ]
     },
     "execution_count": 28,
     "metadata": {},
     "output_type": "execute_result"
    }
   ],
   "source": [
    "features_train_rougher"
   ]
  },
  {
   "cell_type": "markdown",
   "metadata": {},
   "source": [
    "**Напишем функцию для вычисления итоговой sMAPE**"
   ]
  },
  {
   "cell_type": "code",
   "execution_count": 29,
   "metadata": {},
   "outputs": [],
   "source": [
    "# функция для вычисления метрики sMAPE\n",
    "def smape1(y_true,y_predict):\n",
    "    return np.mean(abs(y_true-y_predict) / ((abs(y_true) + abs(y_predict))/2)) * 100"
   ]
  },
  {
   "cell_type": "code",
   "execution_count": 30,
   "metadata": {},
   "outputs": [],
   "source": [
    "# функция итогового sMAPE\n",
    "def final_smape(smape_rougher, smape_final):\n",
    "    return (0.25 * smape_rougher + 0.75 * smape_final)"
   ]
  },
  {
   "cell_type": "code",
   "execution_count": 31,
   "metadata": {},
   "outputs": [],
   "source": [
    "# создадим свой скорринг для sMAPE\n",
    "smape_score = make_scorer(smape1, greater_is_better=False)"
   ]
  },
  {
   "cell_type": "markdown",
   "metadata": {},
   "source": [
    "Обучим разные модели и оценим их качество кросс-валидацией."
   ]
  },
  {
   "cell_type": "markdown",
   "metadata": {},
   "source": [
    "**Линейная регрессия**"
   ]
  },
  {
   "cell_type": "code",
   "execution_count": 32,
   "metadata": {
    "scrolled": false
   },
   "outputs": [
    {
     "data": {
      "text/plain": [
       "12.460085205561992"
      ]
     },
     "execution_count": 32,
     "metadata": {},
     "output_type": "execute_result"
    }
   ],
   "source": [
    "# Обучим модель линейной регрессии для rougher\n",
    "model = LinearRegression()\n",
    "scores = cross_val_score(model, features_train_rougher, target_train_rougher, scoring=smape_score)\n",
    "final_score = sum(scores)/len(scores)\n",
    "abs(final_score)"
   ]
  },
  {
   "cell_type": "code",
   "execution_count": 33,
   "metadata": {},
   "outputs": [
    {
     "data": {
      "text/plain": [
       "11.971313778991835"
      ]
     },
     "execution_count": 33,
     "metadata": {},
     "output_type": "execute_result"
    }
   ],
   "source": [
    "# Обучим модель линейной регрессии для final\n",
    "model = LinearRegression()\n",
    "scores = cross_val_score(model, features_train_final, target_train_final, scoring=smape_score)\n",
    "final_score = sum(scores)/len(scores)\n",
    "abs(final_score)"
   ]
  },
  {
   "cell_type": "code",
   "execution_count": 34,
   "metadata": {},
   "outputs": [
    {
     "data": {
      "text/plain": [
       "12.093506635634373"
      ]
     },
     "execution_count": 34,
     "metadata": {},
     "output_type": "execute_result"
    }
   ],
   "source": [
    "# итоговое sMAPE для Линейной регрессии\n",
    "final_smape(12.460085205561992,11.971313778991835)"
   ]
  },
  {
   "cell_type": "markdown",
   "metadata": {},
   "source": [
    "**Случайный лес**"
   ]
  },
  {
   "cell_type": "code",
   "execution_count": 37,
   "metadata": {},
   "outputs": [
    {
     "name": "stdout",
     "output_type": "stream",
     "text": [
      "Параметры лучшей модели random_forest для rougher: {'n_estimators': 100, 'max_depth': 3}\n",
      "Оценка лучшей модели random_forest для rougher: 11.428520723388589\n"
     ]
    }
   ],
   "source": [
    "# Обучим модель случайного леса для rougher\n",
    "\n",
    "model = RandomForestRegressor(random_state=12345)\n",
    "\n",
    "param_rfr = {\n",
    "    'max_depth': [1,3,5,7,9,11],\n",
    "    'n_estimators': [10,50,100]\n",
    "    }\n",
    "\n",
    "random_search_rfr = RandomizedSearchCV(model, param_rfr, n_iter=10, scoring=smape_score, cv=5)\n",
    "random_search_rfr.fit(features_train_rougher, target_train_rougher)\n",
    "\n",
    "best_model_rfr = random_search_rfr.best_estimator_\n",
    "best_params_rfr = random_search_rfr.best_params_\n",
    "best_score_rfr = abs(random_search_rfr.best_score_)\n",
    "\n",
    "print('Параметры лучшей модели random_forest для rougher:', best_params_rfr)\n",
    "print('Оценка лучшей модели random_forest для rougher:', best_score_rfr)"
   ]
  },
  {
   "cell_type": "code",
   "execution_count": 39,
   "metadata": {},
   "outputs": [
    {
     "name": "stdout",
     "output_type": "stream",
     "text": [
      "Параметры лучшей модели random_forest для final: {'n_estimators': 10, 'max_depth': 5}\n",
      "Оценка лучшей модели random_forest для final: 10.102170234416619\n"
     ]
    }
   ],
   "source": [
    "# Обучим модель случайного леса для final\n",
    "\n",
    "model = RandomForestRegressor(random_state=12345)\n",
    "\n",
    "param_rfr = {\n",
    "    'max_depth': [1,3,5,7,9,11],\n",
    "    'n_estimators': [10,50,100]\n",
    "    }\n",
    "\n",
    "random_search_rfr = RandomizedSearchCV(model, param_rfr, n_iter=10, scoring=smape_score, cv=5)\n",
    "random_search_rfr.fit(features_train_final, target_train_final)\n",
    "\n",
    "best_model_rfr_final = random_search_rfr.best_estimator_\n",
    "best_params_rfr_final = random_search_rfr.best_params_\n",
    "best_score_rfr_final = abs(random_search_rfr.best_score_)\n",
    "\n",
    "print('Параметры лучшей модели random_forest для final:', best_params_rfr_final)\n",
    "print('Оценка лучшей модели random_forest для final:', best_score_rfr_final)"
   ]
  },
  {
   "cell_type": "code",
   "execution_count": 40,
   "metadata": {},
   "outputs": [
    {
     "data": {
      "text/plain": [
       "10.43375785665961"
      ]
     },
     "execution_count": 40,
     "metadata": {},
     "output_type": "execute_result"
    }
   ],
   "source": [
    "# итоговое sMAPE для случайного леса\n",
    "final_smape(best_score_rfr, best_score_rfr_final)"
   ]
  },
  {
   "cell_type": "markdown",
   "metadata": {},
   "source": [
    "**Catboost**"
   ]
  },
  {
   "cell_type": "code",
   "execution_count": 46,
   "metadata": {},
   "outputs": [
    {
     "name": "stderr",
     "output_type": "stream",
     "text": [
      "Custom logger is already specified. Specify more than one logger at same time is not thread safe."
     ]
    },
    {
     "name": "stdout",
     "output_type": "stream",
     "text": [
      "Параметры лучшей модели Catboost для rougher: {'learning_rate': 0.05, 'iterations': 200, 'depth': 11}\n",
      "Оценка лучшей модели Catboost для rougher: 10.957704168125634\n"
     ]
    }
   ],
   "source": [
    "# Обучим модель Catboost для rougher\n",
    "\n",
    "model = CatBoostRegressor(random_state=12345)\n",
    "\n",
    "param_cb = {\n",
    "    'learning_rate': [0.01, 0.05, 0.1],\n",
    "    'depth': [1,3,5,7,9,11],\n",
    "    'iterations': [10,50,100,200]\n",
    "    }\n",
    "\n",
    "random_search_cb = RandomizedSearchCV(model, param_cb, n_iter=10, scoring=smape_score, cv=5)\n",
    "random_search_cb.fit(features_train_rougher, target_train_rougher, verbose_eval=False)\n",
    "\n",
    "best_model_cb = random_search_cb.best_estimator_\n",
    "best_params_cb = random_search_cb.best_params_\n",
    "best_score_cb = abs(random_search_cb.best_score_)\n",
    "\n",
    "print('Параметры лучшей модели Catboost для rougher:', best_params_cb)\n",
    "print('Оценка лучшей модели Catboost для rougher:', best_score_cb)"
   ]
  },
  {
   "cell_type": "code",
   "execution_count": 47,
   "metadata": {},
   "outputs": [
    {
     "name": "stdout",
     "output_type": "stream",
     "text": [
      "Параметры лучшей модели Catboost для final: {'learning_rate': 0.05, 'iterations': 100, 'depth': 3}\n",
      "Оценка лучшей модели Catboost для final: 9.663000375080733\n"
     ]
    }
   ],
   "source": [
    "# Обучим модель Catboost для final\n",
    "\n",
    "model = CatBoostRegressor(random_state=12345)\n",
    "\n",
    "param_cb = {\n",
    "    'learning_rate': [0.01, 0.05, 0.1],\n",
    "    'depth': [1,3,5,7,9,11],\n",
    "    'iterations': [10,50,100,200]\n",
    "    }\n",
    "\n",
    "random_search_cb = RandomizedSearchCV(model, param_cb, n_iter=10, scoring=smape_score, cv=5)\n",
    "random_search_cb.fit(features_train_final, target_train_final, verbose_eval=False)\n",
    "\n",
    "best_model_cb_final = random_search_cb.best_estimator_\n",
    "best_params_cb_final = random_search_cb.best_params_\n",
    "best_score_cb_final = abs(random_search_cb.best_score_)\n",
    "\n",
    "print('Параметры лучшей модели Catboost для final:', best_params_cb_final)\n",
    "print('Оценка лучшей модели Catboost для final:', best_score_cb_final)"
   ]
  },
  {
   "cell_type": "code",
   "execution_count": 48,
   "metadata": {},
   "outputs": [
    {
     "data": {
      "text/plain": [
       "9.986676323341957"
      ]
     },
     "execution_count": 48,
     "metadata": {},
     "output_type": "execute_result"
    }
   ],
   "source": [
    "# итоговое sMAPE для Catboost\n",
    "final_smape(best_score_cb, best_score_cb_final)"
   ]
  },
  {
   "cell_type": "markdown",
   "metadata": {},
   "source": [
    "Лучшее качество по метрике sMAPE показала модель CatBoost = 9.986.\n",
    "Возьмем ее для проверки на тестовых данных."
   ]
  },
  {
   "cell_type": "markdown",
   "metadata": {},
   "source": [
    "## Тестирование"
   ]
  },
  {
   "cell_type": "markdown",
   "metadata": {},
   "source": [
    "Подготовим тестовые данные."
   ]
  },
  {
   "cell_type": "code",
   "execution_count": 55,
   "metadata": {},
   "outputs": [],
   "source": [
    "# Добавим в тестовую таблицу целевые признаки\n",
    "full_1 = full[['date', 'rougher.output.recovery', 'final.output.recovery']]\n",
    "test_target = test.merge(full_1, on='date', how='left')"
   ]
  },
  {
   "cell_type": "code",
   "execution_count": 56,
   "metadata": {},
   "outputs": [],
   "source": [
    "# Создадим переменные для признаков и целевого признака на тестовой выборке\n",
    "features_test_rougher = test.drop(['date','primary_cleaner.input.sulfate',\n",
    "       'primary_cleaner.input.depressant', 'primary_cleaner.input.feed_size',\n",
    "       'primary_cleaner.input.xanthate',\n",
    "       'primary_cleaner.state.floatbank8_a_air',\n",
    "       'primary_cleaner.state.floatbank8_a_level',\n",
    "       'primary_cleaner.state.floatbank8_b_air',\n",
    "       'primary_cleaner.state.floatbank8_b_level',\n",
    "       'primary_cleaner.state.floatbank8_c_air',\n",
    "       'primary_cleaner.state.floatbank8_c_level',\n",
    "       'primary_cleaner.state.floatbank8_d_air',\n",
    "       'primary_cleaner.state.floatbank8_d_level', \n",
    "       'secondary_cleaner.state.floatbank2_a_air',\n",
    "       'secondary_cleaner.state.floatbank2_a_level',\n",
    "       'secondary_cleaner.state.floatbank2_b_air',\n",
    "       'secondary_cleaner.state.floatbank2_b_level',\n",
    "       'secondary_cleaner.state.floatbank3_a_air',\n",
    "       'secondary_cleaner.state.floatbank3_a_level',\n",
    "       'secondary_cleaner.state.floatbank3_b_air',\n",
    "       'secondary_cleaner.state.floatbank3_b_level',\n",
    "       'secondary_cleaner.state.floatbank4_a_air',\n",
    "       'secondary_cleaner.state.floatbank4_a_level',\n",
    "       'secondary_cleaner.state.floatbank4_b_air',\n",
    "       'secondary_cleaner.state.floatbank4_b_level',\n",
    "       'secondary_cleaner.state.floatbank5_a_air',\n",
    "       'secondary_cleaner.state.floatbank5_a_level',\n",
    "       'secondary_cleaner.state.floatbank5_b_air',\n",
    "       'secondary_cleaner.state.floatbank5_b_level',\n",
    "       'secondary_cleaner.state.floatbank6_a_air',\n",
    "       'secondary_cleaner.state.floatbank6_a_level'], axis=1)\n",
    "\n",
    "features_test_final = test.drop(['date'], axis=1)\n",
    "target_test_rougher = test_target['rougher.output.recovery']\n",
    "target_test_final = test_target['final.output.recovery']"
   ]
  },
  {
   "cell_type": "code",
   "execution_count": 58,
   "metadata": {},
   "outputs": [],
   "source": [
    "# Стандартизируем данные \n",
    "scaler = StandardScaler()\n",
    "scaler.fit(features_test_rougher)\n",
    "\n",
    "features_test_rougher = scaler.transform(features_test_rougher)\n",
    "features_test_rougher = pd.DataFrame(data=features_test_rougher)\n",
    "\n",
    "scaler = StandardScaler()\n",
    "scaler.fit(features_test_final)\n",
    "\n",
    "features_test_final = scaler.transform(features_test_final)\n",
    "features_test_final = pd.DataFrame(data=features_test_final)"
   ]
  },
  {
   "cell_type": "markdown",
   "metadata": {},
   "source": [
    "Проведем проверку лучшей модели на тестовой выборке."
   ]
  },
  {
   "cell_type": "code",
   "execution_count": 59,
   "metadata": {},
   "outputs": [],
   "source": [
    "# Сделаем предсказание на тестовых данных с помощью лучших моделей Catboost\n",
    "predictions_test_rougher = best_model_cb.predict(features_test_rougher)\n",
    "predictions_test_final = best_model_cb_final.predict(features_test_final)"
   ]
  },
  {
   "cell_type": "code",
   "execution_count": 60,
   "metadata": {},
   "outputs": [
    {
     "data": {
      "text/plain": [
       "9.313436103483076"
      ]
     },
     "execution_count": 60,
     "metadata": {},
     "output_type": "execute_result"
    }
   ],
   "source": [
    "# рассчитаем итоговое sMAPE на тестовой выборке\n",
    "final_smape(smape1(target_test_rougher,predictions_test_rougher),smape1(target_test_final,predictions_test_final))"
   ]
  },
  {
   "cell_type": "markdown",
   "metadata": {},
   "source": [
    "Для того чтобы проконтролировать, что наша модель действительно дает нам прирост качества, сравним ее с константной моделью."
   ]
  },
  {
   "cell_type": "code",
   "execution_count": 61,
   "metadata": {},
   "outputs": [],
   "source": [
    "dummy_model_rougher = DummyRegressor(strategy=\"median\")\n",
    "dummy_model_final = DummyRegressor(strategy=\"median\")\n",
    "\n",
    "dummy_model_rougher.fit(features_train_rougher, target_train_rougher)\n",
    "dummy_model_final.fit(features_train_final, target_train_final)\n",
    "\n",
    "dummy_pred_r = dummy_model_rougher.predict(features_test_rougher)\n",
    "dummy_pred_f = dummy_model_final.predict(features_test_final)"
   ]
  },
  {
   "cell_type": "code",
   "execution_count": 62,
   "metadata": {},
   "outputs": [
    {
     "data": {
      "text/plain": [
       "9.356625641095373"
      ]
     },
     "execution_count": 62,
     "metadata": {},
     "output_type": "execute_result"
    }
   ],
   "source": [
    "# рассчитаем итоговое sMAPE на тестовой выборке для константной модели\n",
    "final_smape(smape1(target_test_rougher,dummy_pred_r),smape1(target_test_final,dummy_pred_f))"
   ]
  },
  {
   "cell_type": "markdown",
   "metadata": {},
   "source": [
    "**Вывод**\n",
    "\n",
    "Метрика лучшей модели на тестовых данных показала результат лучше, чем константная модель всего на 0.5%."
   ]
  },
  {
   "cell_type": "markdown",
   "metadata": {},
   "source": [
    "## Итоги исследования\n",
    "\n",
    "Был проведен исследовательский анализ данных с параметрами добычи и очистки золота из золотосодержащей руды.\n",
    "\n",
    "Проведено исследование изменения концентрации металлов (Au, Ag, Pb) на различных этапах очистки. Показавшее, что концентрация Au на каждом из этапов увеличивается; концентрация Ag после этапа флотации увеличивается, а далее с каждым этапом уменьшается; концентрация Pb на этапах флотации и первичной очистки увеличивается, а после вторичной очистки практически не меняется.\n",
    "\n",
    "Суммарная концентрация всех веществ с каждой стадией растет.\n",
    "\n",
    "Исследование распределения размеров гранул сырья на обучающей и тестовой выборках показало, что выборки примерно одинаковы.\n",
    "\n",
    "Были построены три модели для решения задачи классификации (линейная регрессия, случайный лес и catboost) для первого и второго целевых признаков. Их качество оценивалось кросс-валидацией. Лучший результат показала модель catboost с гиперпараметрами `learning_rate`: 0.05, `iterations`: 200, `depth`: 11 для первого этапа очистки, и с гиперпараметрами `learning_rate`: 0.05, `iterations`: 100, `depth`: 3 для второго этапа. Итоговая метрика sMAPE 9.986.\n",
    "\n",
    "Модель catboost была взята для проведения финального тестирования. Получена метрика sMAPE 9.313, которая оказалась лучше метрики константной модели всего на 0.5%.\n",
    "\n",
    "Это может быть связано с тем, что данные для обучения и тестов немного отличаются. Для улучшения метрик можно попробовать по-другому обработать данные, поискать гиперпараметры в более широком диапазоне или же обучать на других алгоритмах."
   ]
  },
  {
   "cell_type": "code",
   "execution_count": null,
   "metadata": {},
   "outputs": [],
   "source": []
  }
 ],
 "metadata": {
  "ExecuteTimeLog": [
   {
    "duration": 1835,
    "start_time": "2023-03-31T09:19:51.374Z"
   },
   {
    "duration": 3297,
    "start_time": "2023-03-31T09:21:59.999Z"
   },
   {
    "duration": 719,
    "start_time": "2023-03-31T09:22:46.647Z"
   },
   {
    "duration": 757,
    "start_time": "2023-03-31T09:22:51.801Z"
   },
   {
    "duration": 28,
    "start_time": "2023-03-31T09:24:35.531Z"
   },
   {
    "duration": 27,
    "start_time": "2023-03-31T09:25:36.360Z"
   },
   {
    "duration": 10,
    "start_time": "2023-03-31T09:27:14.530Z"
   },
   {
    "duration": 21,
    "start_time": "2023-03-31T09:28:03.540Z"
   },
   {
    "duration": 15,
    "start_time": "2023-03-31T09:28:18.748Z"
   },
   {
    "duration": 725,
    "start_time": "2023-03-31T09:29:19.919Z"
   },
   {
    "duration": 23,
    "start_time": "2023-03-31T09:29:26.316Z"
   },
   {
    "duration": 22,
    "start_time": "2023-03-31T09:29:30.540Z"
   },
   {
    "duration": 9,
    "start_time": "2023-03-31T09:29:39.718Z"
   },
   {
    "duration": 21,
    "start_time": "2023-03-31T09:29:44.689Z"
   },
   {
    "duration": 17,
    "start_time": "2023-03-31T09:29:50.564Z"
   },
   {
    "duration": 21,
    "start_time": "2023-03-31T09:30:27.921Z"
   },
   {
    "duration": 10,
    "start_time": "2023-03-31T10:29:41.586Z"
   },
   {
    "duration": 31,
    "start_time": "2023-03-31T11:04:10.016Z"
   },
   {
    "duration": 3,
    "start_time": "2023-03-31T11:04:45.654Z"
   },
   {
    "duration": 1280,
    "start_time": "2023-03-31T11:04:47.343Z"
   },
   {
    "duration": 23,
    "start_time": "2023-03-31T11:04:48.625Z"
   },
   {
    "duration": 48,
    "start_time": "2023-03-31T11:04:48.650Z"
   },
   {
    "duration": 44,
    "start_time": "2023-03-31T11:04:50.277Z"
   },
   {
    "duration": 7,
    "start_time": "2023-03-31T11:38:42.759Z"
   },
   {
    "duration": 196,
    "start_time": "2023-03-31T11:38:47.959Z"
   },
   {
    "duration": 6,
    "start_time": "2023-03-31T11:46:54.390Z"
   },
   {
    "duration": 9,
    "start_time": "2023-03-31T12:06:20.687Z"
   },
   {
    "duration": 7,
    "start_time": "2023-03-31T12:07:31.056Z"
   },
   {
    "duration": 6,
    "start_time": "2023-03-31T12:07:49.418Z"
   },
   {
    "duration": 119,
    "start_time": "2023-03-31T12:11:17.596Z"
   },
   {
    "duration": 3,
    "start_time": "2023-03-31T12:11:24.711Z"
   },
   {
    "duration": 7,
    "start_time": "2023-03-31T12:11:29.593Z"
   },
   {
    "duration": 8,
    "start_time": "2023-03-31T12:11:47.323Z"
   },
   {
    "duration": 5,
    "start_time": "2023-03-31T12:38:14.625Z"
   },
   {
    "duration": 5,
    "start_time": "2023-03-31T12:38:32.546Z"
   },
   {
    "duration": 5,
    "start_time": "2023-03-31T12:38:49.963Z"
   },
   {
    "duration": 8,
    "start_time": "2023-03-31T14:53:48.276Z"
   },
   {
    "duration": 8,
    "start_time": "2023-03-31T14:54:11.392Z"
   },
   {
    "duration": 7,
    "start_time": "2023-03-31T14:54:24.093Z"
   },
   {
    "duration": 7104,
    "start_time": "2023-03-31T15:00:01.545Z"
   },
   {
    "duration": 7001,
    "start_time": "2023-03-31T15:00:22.138Z"
   },
   {
    "duration": 11628,
    "start_time": "2023-03-31T15:01:02.316Z"
   },
   {
    "duration": 3,
    "start_time": "2023-03-31T16:48:35.631Z"
   },
   {
    "duration": 707,
    "start_time": "2023-03-31T16:48:36.308Z"
   },
   {
    "duration": 23,
    "start_time": "2023-03-31T16:48:37.464Z"
   },
   {
    "duration": 21,
    "start_time": "2023-03-31T16:48:38.452Z"
   },
   {
    "duration": 34,
    "start_time": "2023-03-31T16:48:39.449Z"
   },
   {
    "duration": 23,
    "start_time": "2023-03-31T16:48:40.457Z"
   },
   {
    "duration": 13,
    "start_time": "2023-03-31T16:48:43.807Z"
   },
   {
    "duration": 18,
    "start_time": "2023-03-31T16:48:44.848Z"
   },
   {
    "duration": 7,
    "start_time": "2023-03-31T16:48:47.319Z"
   },
   {
    "duration": 6,
    "start_time": "2023-03-31T16:48:50.836Z"
   },
   {
    "duration": 5,
    "start_time": "2023-03-31T16:49:59.320Z"
   },
   {
    "duration": 5,
    "start_time": "2023-03-31T16:50:23.766Z"
   },
   {
    "duration": 22,
    "start_time": "2023-03-31T16:50:35.451Z"
   },
   {
    "duration": 5,
    "start_time": "2023-03-31T16:51:31.719Z"
   },
   {
    "duration": 15,
    "start_time": "2023-03-31T16:51:51.990Z"
   },
   {
    "duration": 56,
    "start_time": "2023-03-31T16:53:19.263Z"
   },
   {
    "duration": 7,
    "start_time": "2023-03-31T16:53:50.461Z"
   },
   {
    "duration": 7,
    "start_time": "2023-03-31T16:54:09.493Z"
   },
   {
    "duration": 18,
    "start_time": "2023-03-31T16:59:49.306Z"
   },
   {
    "duration": 6,
    "start_time": "2023-03-31T17:02:35.349Z"
   },
   {
    "duration": 8,
    "start_time": "2023-03-31T17:03:12.121Z"
   },
   {
    "duration": 20,
    "start_time": "2023-03-31T17:14:05.206Z"
   },
   {
    "duration": 10,
    "start_time": "2023-03-31T17:14:26.160Z"
   },
   {
    "duration": 1739,
    "start_time": "2023-04-01T08:37:17.898Z"
   },
   {
    "duration": 3229,
    "start_time": "2023-04-01T08:37:19.640Z"
   },
   {
    "duration": 40,
    "start_time": "2023-04-01T08:37:22.872Z"
   },
   {
    "duration": 35,
    "start_time": "2023-04-01T08:37:22.915Z"
   },
   {
    "duration": 52,
    "start_time": "2023-04-01T08:37:22.952Z"
   },
   {
    "duration": 77,
    "start_time": "2023-04-01T08:37:23.006Z"
   },
   {
    "duration": 34,
    "start_time": "2023-04-01T08:37:23.086Z"
   },
   {
    "duration": 49,
    "start_time": "2023-04-01T08:37:23.122Z"
   },
   {
    "duration": 10,
    "start_time": "2023-04-01T08:37:23.173Z"
   },
   {
    "duration": 9,
    "start_time": "2023-04-01T08:37:23.185Z"
   },
   {
    "duration": 92,
    "start_time": "2023-04-01T08:37:23.196Z"
   },
   {
    "duration": 13,
    "start_time": "2023-04-01T08:37:23.290Z"
   },
   {
    "duration": 40,
    "start_time": "2023-04-01T08:37:23.304Z"
   },
   {
    "duration": 5,
    "start_time": "2023-04-01T08:37:23.346Z"
   },
   {
    "duration": 235,
    "start_time": "2023-04-01T08:59:57.870Z"
   },
   {
    "duration": 446,
    "start_time": "2023-04-01T09:00:35.728Z"
   },
   {
    "duration": 471,
    "start_time": "2023-04-01T09:00:42.688Z"
   },
   {
    "duration": 871,
    "start_time": "2023-04-01T09:17:55.904Z"
   },
   {
    "duration": 652,
    "start_time": "2023-04-01T09:18:09.316Z"
   },
   {
    "duration": 1017,
    "start_time": "2023-04-01T09:18:44.775Z"
   },
   {
    "duration": 538,
    "start_time": "2023-04-01T09:22:57.375Z"
   },
   {
    "duration": 765,
    "start_time": "2023-04-01T09:23:45.691Z"
   },
   {
    "duration": 615,
    "start_time": "2023-04-01T09:23:50.616Z"
   },
   {
    "duration": 1100,
    "start_time": "2023-04-01T09:24:01.076Z"
   },
   {
    "duration": 762,
    "start_time": "2023-04-01T09:24:32.740Z"
   },
   {
    "duration": 863,
    "start_time": "2023-04-01T09:25:17.176Z"
   },
   {
    "duration": 588,
    "start_time": "2023-04-01T09:26:01.938Z"
   },
   {
    "duration": 1027,
    "start_time": "2023-04-01T09:34:22.028Z"
   },
   {
    "duration": 891,
    "start_time": "2023-04-01T09:43:40.610Z"
   },
   {
    "duration": 951,
    "start_time": "2023-04-01T09:43:54.702Z"
   },
   {
    "duration": 840,
    "start_time": "2023-04-01T09:44:41.121Z"
   },
   {
    "duration": 1435,
    "start_time": "2023-04-01T09:49:35.510Z"
   },
   {
    "duration": 980,
    "start_time": "2023-04-01T09:50:27.427Z"
   },
   {
    "duration": 1097,
    "start_time": "2023-04-01T09:50:50.016Z"
   },
   {
    "duration": 1030,
    "start_time": "2023-04-01T09:51:19.570Z"
   },
   {
    "duration": 1059,
    "start_time": "2023-04-01T09:53:18.435Z"
   },
   {
    "duration": 1299,
    "start_time": "2023-04-01T09:53:32.823Z"
   },
   {
    "duration": 128,
    "start_time": "2023-04-01T10:01:41.149Z"
   },
   {
    "duration": 841,
    "start_time": "2023-04-01T10:02:35.043Z"
   },
   {
    "duration": 525,
    "start_time": "2023-04-01T10:03:07.296Z"
   },
   {
    "duration": 444,
    "start_time": "2023-04-01T10:03:43.929Z"
   },
   {
    "duration": 97,
    "start_time": "2023-04-01T10:04:00.260Z"
   },
   {
    "duration": 907,
    "start_time": "2023-04-01T10:04:07.753Z"
   },
   {
    "duration": 1065,
    "start_time": "2023-04-01T10:04:58.634Z"
   },
   {
    "duration": 1324,
    "start_time": "2023-04-01T10:05:15.628Z"
   },
   {
    "duration": 1308,
    "start_time": "2023-04-01T10:05:20.491Z"
   },
   {
    "duration": 2036,
    "start_time": "2023-04-01T10:05:34.801Z"
   },
   {
    "duration": 2010,
    "start_time": "2023-04-01T10:06:05.998Z"
   },
   {
    "duration": 2049,
    "start_time": "2023-04-01T10:06:18.045Z"
   },
   {
    "duration": 922,
    "start_time": "2023-04-01T10:06:28.056Z"
   },
   {
    "duration": 1528,
    "start_time": "2023-04-02T06:13:06.770Z"
   },
   {
    "duration": 2927,
    "start_time": "2023-04-02T06:13:08.301Z"
   },
   {
    "duration": 25,
    "start_time": "2023-04-02T06:13:11.230Z"
   },
   {
    "duration": 20,
    "start_time": "2023-04-02T06:13:11.257Z"
   },
   {
    "duration": 29,
    "start_time": "2023-04-02T06:13:11.278Z"
   },
   {
    "duration": 22,
    "start_time": "2023-04-02T06:13:11.308Z"
   },
   {
    "duration": 11,
    "start_time": "2023-04-02T06:13:11.332Z"
   },
   {
    "duration": 18,
    "start_time": "2023-04-02T06:13:11.345Z"
   },
   {
    "duration": 19,
    "start_time": "2023-04-02T06:13:11.364Z"
   },
   {
    "duration": 4,
    "start_time": "2023-04-02T06:13:11.386Z"
   },
   {
    "duration": 66,
    "start_time": "2023-04-02T06:13:11.392Z"
   },
   {
    "duration": 11,
    "start_time": "2023-04-02T06:13:11.460Z"
   },
   {
    "duration": 24,
    "start_time": "2023-04-02T06:13:11.473Z"
   },
   {
    "duration": 19,
    "start_time": "2023-04-02T06:13:11.499Z"
   },
   {
    "duration": 1383,
    "start_time": "2023-04-02T06:13:11.520Z"
   },
   {
    "duration": 1427,
    "start_time": "2023-04-02T06:13:12.905Z"
   },
   {
    "duration": 1581,
    "start_time": "2023-04-02T06:13:14.333Z"
   },
   {
    "duration": 912,
    "start_time": "2023-04-02T06:13:15.915Z"
   },
   {
    "duration": 115,
    "start_time": "2023-04-02T06:18:36.043Z"
   },
   {
    "duration": 4,
    "start_time": "2023-04-02T06:18:55.712Z"
   },
   {
    "duration": 7,
    "start_time": "2023-04-02T06:19:02.691Z"
   },
   {
    "duration": 381,
    "start_time": "2023-04-02T06:22:54.840Z"
   },
   {
    "duration": 78,
    "start_time": "2023-04-02T06:23:09.448Z"
   },
   {
    "duration": 51,
    "start_time": "2023-04-02T06:23:34.623Z"
   },
   {
    "duration": 52,
    "start_time": "2023-04-02T06:23:47.152Z"
   },
   {
    "duration": 6,
    "start_time": "2023-04-02T06:24:03.052Z"
   },
   {
    "duration": 1510,
    "start_time": "2023-04-02T06:24:07.065Z"
   },
   {
    "duration": 1191,
    "start_time": "2023-04-02T06:25:10.129Z"
   },
   {
    "duration": 1409,
    "start_time": "2023-04-02T06:25:30.719Z"
   },
   {
    "duration": 1567,
    "start_time": "2023-04-02T06:26:29.226Z"
   },
   {
    "duration": 22,
    "start_time": "2023-04-02T06:27:44.947Z"
   },
   {
    "duration": 14,
    "start_time": "2023-04-02T06:28:08.990Z"
   },
   {
    "duration": 1253,
    "start_time": "2023-04-02T06:28:32.190Z"
   },
   {
    "duration": 706,
    "start_time": "2023-04-02T06:28:33.445Z"
   },
   {
    "duration": 35,
    "start_time": "2023-04-02T06:28:34.153Z"
   },
   {
    "duration": 21,
    "start_time": "2023-04-02T06:28:34.190Z"
   },
   {
    "duration": 26,
    "start_time": "2023-04-02T06:28:34.213Z"
   },
   {
    "duration": 27,
    "start_time": "2023-04-02T06:28:34.241Z"
   },
   {
    "duration": 23,
    "start_time": "2023-04-02T06:28:34.270Z"
   },
   {
    "duration": 16,
    "start_time": "2023-04-02T06:28:34.295Z"
   },
   {
    "duration": 7,
    "start_time": "2023-04-02T06:28:34.313Z"
   },
   {
    "duration": 16,
    "start_time": "2023-04-02T06:28:34.322Z"
   },
   {
    "duration": 63,
    "start_time": "2023-04-02T06:28:34.339Z"
   },
   {
    "duration": 10,
    "start_time": "2023-04-02T06:28:34.404Z"
   },
   {
    "duration": 36,
    "start_time": "2023-04-02T06:28:34.415Z"
   },
   {
    "duration": 39,
    "start_time": "2023-04-02T06:28:34.453Z"
   },
   {
    "duration": 70,
    "start_time": "2023-04-02T06:28:34.494Z"
   },
   {
    "duration": 14,
    "start_time": "2023-04-02T06:28:34.565Z"
   },
   {
    "duration": 1480,
    "start_time": "2023-04-02T06:28:34.581Z"
   },
   {
    "duration": 1395,
    "start_time": "2023-04-02T06:28:36.063Z"
   },
   {
    "duration": 1449,
    "start_time": "2023-04-02T06:28:37.460Z"
   },
   {
    "duration": 952,
    "start_time": "2023-04-02T06:28:38.910Z"
   },
   {
    "duration": 7,
    "start_time": "2023-04-02T06:28:39.864Z"
   },
   {
    "duration": 1582,
    "start_time": "2023-04-02T06:28:39.884Z"
   },
   {
    "duration": 1464,
    "start_time": "2023-04-02T06:28:55.126Z"
   },
   {
    "duration": 102,
    "start_time": "2023-04-02T06:48:06.787Z"
   },
   {
    "duration": 13,
    "start_time": "2023-04-02T06:48:39.277Z"
   },
   {
    "duration": 13,
    "start_time": "2023-04-02T06:50:48.191Z"
   },
   {
    "duration": 13,
    "start_time": "2023-04-02T06:51:06.930Z"
   },
   {
    "duration": 5,
    "start_time": "2023-04-02T06:51:13.386Z"
   },
   {
    "duration": 7,
    "start_time": "2023-04-02T06:51:24.879Z"
   },
   {
    "duration": 5,
    "start_time": "2023-04-02T06:51:48.976Z"
   },
   {
    "duration": 5,
    "start_time": "2023-04-02T06:51:58.689Z"
   },
   {
    "duration": 13,
    "start_time": "2023-04-02T06:52:37.503Z"
   },
   {
    "duration": 6,
    "start_time": "2023-04-02T06:52:47.207Z"
   },
   {
    "duration": 5,
    "start_time": "2023-04-02T06:53:42.831Z"
   },
   {
    "duration": 4,
    "start_time": "2023-04-02T06:54:35.532Z"
   },
   {
    "duration": 9,
    "start_time": "2023-04-02T06:56:52.781Z"
   },
   {
    "duration": 21,
    "start_time": "2023-04-02T06:57:30.346Z"
   },
   {
    "duration": 21,
    "start_time": "2023-04-02T06:58:20.583Z"
   },
   {
    "duration": 7,
    "start_time": "2023-04-02T06:58:33.296Z"
   },
   {
    "duration": 8,
    "start_time": "2023-04-02T06:58:37.343Z"
   },
   {
    "duration": 23,
    "start_time": "2023-04-02T06:58:41.642Z"
   },
   {
    "duration": 9,
    "start_time": "2023-04-02T07:11:53.917Z"
   },
   {
    "duration": 57,
    "start_time": "2023-04-02T07:12:37.349Z"
   },
   {
    "duration": 324,
    "start_time": "2023-04-02T07:12:44.002Z"
   },
   {
    "duration": 464,
    "start_time": "2023-04-02T07:13:06.592Z"
   },
   {
    "duration": 399,
    "start_time": "2023-04-02T07:13:38.630Z"
   },
   {
    "duration": 381,
    "start_time": "2023-04-02T07:14:29.916Z"
   },
   {
    "duration": 21,
    "start_time": "2023-04-02T07:16:25.247Z"
   },
   {
    "duration": 364,
    "start_time": "2023-04-02T07:17:40.573Z"
   },
   {
    "duration": 540,
    "start_time": "2023-04-02T07:18:11.786Z"
   },
   {
    "duration": 138,
    "start_time": "2023-04-02T07:20:40.615Z"
   },
   {
    "duration": 246,
    "start_time": "2023-04-02T07:20:46.001Z"
   },
   {
    "duration": 143,
    "start_time": "2023-04-02T07:20:55.360Z"
   },
   {
    "duration": 157,
    "start_time": "2023-04-02T07:21:11.604Z"
   },
   {
    "duration": 162,
    "start_time": "2023-04-02T07:21:34.169Z"
   },
   {
    "duration": 174,
    "start_time": "2023-04-02T07:21:54.068Z"
   },
   {
    "duration": 130,
    "start_time": "2023-04-02T07:29:08.812Z"
   },
   {
    "duration": 152,
    "start_time": "2023-04-02T07:29:19.523Z"
   },
   {
    "duration": 166,
    "start_time": "2023-04-02T07:29:25.537Z"
   },
   {
    "duration": 162,
    "start_time": "2023-04-02T07:29:54.517Z"
   },
   {
    "duration": 185,
    "start_time": "2023-04-02T07:30:11.038Z"
   },
   {
    "duration": 148,
    "start_time": "2023-04-02T07:30:26.177Z"
   },
   {
    "duration": 133,
    "start_time": "2023-04-02T07:30:36.588Z"
   },
   {
    "duration": 134,
    "start_time": "2023-04-02T07:30:40.212Z"
   },
   {
    "duration": 237,
    "start_time": "2023-04-02T07:30:52.250Z"
   },
   {
    "duration": 135,
    "start_time": "2023-04-02T07:31:12.914Z"
   },
   {
    "duration": 137,
    "start_time": "2023-04-02T07:31:23.418Z"
   },
   {
    "duration": 309,
    "start_time": "2023-04-02T07:32:13.042Z"
   },
   {
    "duration": 157,
    "start_time": "2023-04-02T07:37:13.938Z"
   },
   {
    "duration": 231,
    "start_time": "2023-04-02T07:37:56.920Z"
   },
   {
    "duration": 182,
    "start_time": "2023-04-02T07:38:12.124Z"
   },
   {
    "duration": 42,
    "start_time": "2023-04-02T07:42:54.739Z"
   },
   {
    "duration": 7,
    "start_time": "2023-04-02T07:43:10.219Z"
   },
   {
    "duration": 443,
    "start_time": "2023-04-02T07:44:26.796Z"
   },
   {
    "duration": 570,
    "start_time": "2023-04-02T07:44:45.537Z"
   },
   {
    "duration": 844,
    "start_time": "2023-04-02T07:44:54.957Z"
   },
   {
    "duration": 1687,
    "start_time": "2023-04-02T07:45:03.437Z"
   },
   {
    "duration": 899,
    "start_time": "2023-04-02T07:45:37.416Z"
   },
   {
    "duration": 1259,
    "start_time": "2023-04-02T07:46:08.639Z"
   },
   {
    "duration": 5,
    "start_time": "2023-04-02T07:46:43.333Z"
   },
   {
    "duration": 5,
    "start_time": "2023-04-02T07:55:40.717Z"
   },
   {
    "duration": 4,
    "start_time": "2023-04-02T07:56:38.860Z"
   },
   {
    "duration": 7,
    "start_time": "2023-04-02T07:57:11.902Z"
   },
   {
    "duration": 7,
    "start_time": "2023-04-02T07:57:16.846Z"
   },
   {
    "duration": 20,
    "start_time": "2023-04-02T07:57:18.825Z"
   },
   {
    "duration": 8,
    "start_time": "2023-04-02T07:57:33.406Z"
   },
   {
    "duration": 8,
    "start_time": "2023-04-02T07:57:34.024Z"
   },
   {
    "duration": 27,
    "start_time": "2023-04-02T07:57:34.790Z"
   },
   {
    "duration": 5,
    "start_time": "2023-04-02T07:57:46.964Z"
   },
   {
    "duration": 5,
    "start_time": "2023-04-02T08:00:30.897Z"
   },
   {
    "duration": 24,
    "start_time": "2023-04-02T08:02:01.808Z"
   },
   {
    "duration": 21,
    "start_time": "2023-04-02T08:04:31.178Z"
   },
   {
    "duration": 4,
    "start_time": "2023-04-02T08:05:02.697Z"
   },
   {
    "duration": 34,
    "start_time": "2023-04-02T08:05:09.363Z"
   },
   {
    "duration": 19,
    "start_time": "2023-04-02T08:05:26.581Z"
   },
   {
    "duration": 7,
    "start_time": "2023-04-02T08:05:38.413Z"
   },
   {
    "duration": 4,
    "start_time": "2023-04-02T08:08:20.072Z"
   },
   {
    "duration": 32,
    "start_time": "2023-04-02T08:08:24.806Z"
   },
   {
    "duration": 5,
    "start_time": "2023-04-02T09:02:11.259Z"
   },
   {
    "duration": 9,
    "start_time": "2023-04-02T09:15:55.245Z"
   },
   {
    "duration": 2767,
    "start_time": "2023-04-02T09:16:19.553Z"
   },
   {
    "duration": 1903,
    "start_time": "2023-04-02T09:16:53.739Z"
   },
   {
    "duration": 1413,
    "start_time": "2023-04-02T09:27:31.876Z"
   },
   {
    "duration": 1628,
    "start_time": "2023-04-02T09:27:37.862Z"
   },
   {
    "duration": 14,
    "start_time": "2023-04-02T09:54:40.546Z"
   },
   {
    "duration": 1542,
    "start_time": "2023-04-02T10:11:31.018Z"
   },
   {
    "duration": 4,
    "start_time": "2023-04-02T10:15:59.555Z"
   },
   {
    "duration": 1848,
    "start_time": "2023-04-02T10:16:05.141Z"
   },
   {
    "duration": 1996,
    "start_time": "2023-04-02T10:16:18.590Z"
   },
   {
    "duration": 5,
    "start_time": "2023-04-02T10:19:30.921Z"
   },
   {
    "duration": 5,
    "start_time": "2023-04-02T11:58:29.881Z"
   },
   {
    "duration": 9,
    "start_time": "2023-04-02T12:40:12.989Z"
   },
   {
    "duration": 4,
    "start_time": "2023-04-02T12:40:17.889Z"
   },
   {
    "duration": 31,
    "start_time": "2023-04-02T12:40:23.170Z"
   },
   {
    "duration": 4,
    "start_time": "2023-04-02T12:40:26.259Z"
   },
   {
    "duration": 1404,
    "start_time": "2023-04-02T12:45:41.693Z"
   },
   {
    "duration": 658,
    "start_time": "2023-04-02T12:45:43.099Z"
   },
   {
    "duration": 34,
    "start_time": "2023-04-02T12:45:43.759Z"
   },
   {
    "duration": 20,
    "start_time": "2023-04-02T12:45:43.795Z"
   },
   {
    "duration": 27,
    "start_time": "2023-04-02T12:45:43.817Z"
   },
   {
    "duration": 21,
    "start_time": "2023-04-02T12:45:43.847Z"
   },
   {
    "duration": 25,
    "start_time": "2023-04-02T12:45:43.870Z"
   },
   {
    "duration": 16,
    "start_time": "2023-04-02T12:45:43.896Z"
   },
   {
    "duration": 132,
    "start_time": "2023-04-02T12:45:43.914Z"
   },
   {
    "duration": 0,
    "start_time": "2023-04-02T12:45:44.048Z"
   },
   {
    "duration": 0,
    "start_time": "2023-04-02T12:45:44.049Z"
   },
   {
    "duration": 0,
    "start_time": "2023-04-02T12:45:44.050Z"
   },
   {
    "duration": 0,
    "start_time": "2023-04-02T12:45:44.052Z"
   },
   {
    "duration": 0,
    "start_time": "2023-04-02T12:45:44.053Z"
   },
   {
    "duration": 0,
    "start_time": "2023-04-02T12:45:44.054Z"
   },
   {
    "duration": 0,
    "start_time": "2023-04-02T12:45:44.055Z"
   },
   {
    "duration": 0,
    "start_time": "2023-04-02T12:45:44.057Z"
   },
   {
    "duration": 0,
    "start_time": "2023-04-02T12:45:44.058Z"
   },
   {
    "duration": 0,
    "start_time": "2023-04-02T12:45:44.059Z"
   },
   {
    "duration": 0,
    "start_time": "2023-04-02T12:45:44.060Z"
   },
   {
    "duration": 0,
    "start_time": "2023-04-02T12:45:44.083Z"
   },
   {
    "duration": 0,
    "start_time": "2023-04-02T12:45:44.084Z"
   },
   {
    "duration": 0,
    "start_time": "2023-04-02T12:45:44.085Z"
   },
   {
    "duration": 3,
    "start_time": "2023-04-02T12:46:12.777Z"
   },
   {
    "duration": 644,
    "start_time": "2023-04-02T12:46:12.784Z"
   },
   {
    "duration": 20,
    "start_time": "2023-04-02T12:46:13.430Z"
   },
   {
    "duration": 34,
    "start_time": "2023-04-02T12:46:13.452Z"
   },
   {
    "duration": 39,
    "start_time": "2023-04-02T12:46:13.488Z"
   },
   {
    "duration": 19,
    "start_time": "2023-04-02T12:46:13.529Z"
   },
   {
    "duration": 22,
    "start_time": "2023-04-02T12:46:13.550Z"
   },
   {
    "duration": 27,
    "start_time": "2023-04-02T12:46:13.574Z"
   },
   {
    "duration": 14,
    "start_time": "2023-04-02T12:46:13.603Z"
   },
   {
    "duration": 0,
    "start_time": "2023-04-02T12:46:13.619Z"
   },
   {
    "duration": 0,
    "start_time": "2023-04-02T12:46:13.621Z"
   },
   {
    "duration": 0,
    "start_time": "2023-04-02T12:46:13.623Z"
   },
   {
    "duration": 0,
    "start_time": "2023-04-02T12:46:13.624Z"
   },
   {
    "duration": 0,
    "start_time": "2023-04-02T12:46:13.626Z"
   },
   {
    "duration": 0,
    "start_time": "2023-04-02T12:46:13.627Z"
   },
   {
    "duration": 0,
    "start_time": "2023-04-02T12:46:13.629Z"
   },
   {
    "duration": 0,
    "start_time": "2023-04-02T12:46:13.630Z"
   },
   {
    "duration": 0,
    "start_time": "2023-04-02T12:46:13.631Z"
   },
   {
    "duration": 0,
    "start_time": "2023-04-02T12:46:13.633Z"
   },
   {
    "duration": 0,
    "start_time": "2023-04-02T12:46:13.634Z"
   },
   {
    "duration": 0,
    "start_time": "2023-04-02T12:46:13.636Z"
   },
   {
    "duration": 0,
    "start_time": "2023-04-02T12:46:13.637Z"
   },
   {
    "duration": 0,
    "start_time": "2023-04-02T12:46:13.638Z"
   },
   {
    "duration": 1344,
    "start_time": "2023-04-02T12:46:51.813Z"
   },
   {
    "duration": 653,
    "start_time": "2023-04-02T12:46:53.159Z"
   },
   {
    "duration": 24,
    "start_time": "2023-04-02T12:46:53.814Z"
   },
   {
    "duration": 19,
    "start_time": "2023-04-02T12:46:53.840Z"
   },
   {
    "duration": 39,
    "start_time": "2023-04-02T12:46:53.860Z"
   },
   {
    "duration": 36,
    "start_time": "2023-04-02T12:46:53.900Z"
   },
   {
    "duration": 13,
    "start_time": "2023-04-02T12:46:53.938Z"
   },
   {
    "duration": 26,
    "start_time": "2023-04-02T12:46:53.953Z"
   },
   {
    "duration": 8,
    "start_time": "2023-04-02T12:46:53.980Z"
   },
   {
    "duration": 6,
    "start_time": "2023-04-02T12:46:53.990Z"
   },
   {
    "duration": 73,
    "start_time": "2023-04-02T12:46:53.998Z"
   },
   {
    "duration": 14,
    "start_time": "2023-04-02T12:46:54.073Z"
   },
   {
    "duration": 14,
    "start_time": "2023-04-02T12:46:54.089Z"
   },
   {
    "duration": 5,
    "start_time": "2023-04-02T12:46:54.104Z"
   },
   {
    "duration": 28,
    "start_time": "2023-04-02T12:46:54.111Z"
   },
   {
    "duration": 42,
    "start_time": "2023-04-02T12:46:54.141Z"
   },
   {
    "duration": 1511,
    "start_time": "2023-04-02T12:46:54.185Z"
   },
   {
    "duration": 1478,
    "start_time": "2023-04-02T12:46:55.698Z"
   },
   {
    "duration": 1463,
    "start_time": "2023-04-02T12:46:57.178Z"
   },
   {
    "duration": 552,
    "start_time": "2023-04-02T12:46:58.643Z"
   },
   {
    "duration": 169,
    "start_time": "2023-04-02T12:46:59.196Z"
   },
   {
    "duration": 9,
    "start_time": "2023-04-02T12:46:59.368Z"
   },
   {
    "duration": 1600,
    "start_time": "2023-04-02T12:46:59.383Z"
   },
   {
    "duration": 38,
    "start_time": "2023-04-02T12:47:57.057Z"
   },
   {
    "duration": 5,
    "start_time": "2023-04-02T12:48:21.857Z"
   },
   {
    "duration": 9,
    "start_time": "2023-04-02T12:48:31.948Z"
   },
   {
    "duration": 24,
    "start_time": "2023-04-02T12:48:43.305Z"
   },
   {
    "duration": 10,
    "start_time": "2023-04-02T12:53:05.561Z"
   },
   {
    "duration": 8,
    "start_time": "2023-04-02T12:53:21.126Z"
   },
   {
    "duration": 5,
    "start_time": "2023-04-02T12:53:25.855Z"
   },
   {
    "duration": 8,
    "start_time": "2023-04-02T12:55:23.402Z"
   },
   {
    "duration": 12,
    "start_time": "2023-04-02T12:56:57.150Z"
   },
   {
    "duration": 9,
    "start_time": "2023-04-02T12:57:05.992Z"
   },
   {
    "duration": 21,
    "start_time": "2023-04-02T12:57:23.241Z"
   },
   {
    "duration": 25,
    "start_time": "2023-04-02T12:57:33.110Z"
   },
   {
    "duration": 12,
    "start_time": "2023-04-02T12:58:05.353Z"
   },
   {
    "duration": 24,
    "start_time": "2023-04-02T12:58:09.067Z"
   },
   {
    "duration": 30,
    "start_time": "2023-04-02T12:58:49.639Z"
   },
   {
    "duration": 3,
    "start_time": "2023-04-02T13:01:36.665Z"
   },
   {
    "duration": 1535,
    "start_time": "2023-04-02T13:01:57.455Z"
   },
   {
    "duration": 1328,
    "start_time": "2023-04-02T13:02:33.662Z"
   },
   {
    "duration": 3,
    "start_time": "2023-04-02T13:12:06.610Z"
   },
   {
    "duration": 3,
    "start_time": "2023-04-02T13:12:07.149Z"
   },
   {
    "duration": 1283,
    "start_time": "2023-04-02T13:12:07.805Z"
   },
   {
    "duration": 1820,
    "start_time": "2023-04-02T13:12:25.166Z"
   },
   {
    "duration": 22,
    "start_time": "2023-04-02T13:13:57.245Z"
   },
   {
    "duration": 3105,
    "start_time": "2023-04-02T13:19:13.637Z"
   },
   {
    "duration": 3152,
    "start_time": "2023-04-02T13:19:27.583Z"
   },
   {
    "duration": 33432,
    "start_time": "2023-04-02T13:23:42.854Z"
   },
   {
    "duration": 17479,
    "start_time": "2023-04-02T13:25:47.506Z"
   },
   {
    "duration": 64193,
    "start_time": "2023-04-02T13:26:17.656Z"
   },
   {
    "duration": 4318,
    "start_time": "2023-04-02T13:29:53.493Z"
   },
   {
    "duration": 20249,
    "start_time": "2023-04-02T13:30:16.951Z"
   },
   {
    "duration": 92,
    "start_time": "2023-04-02T13:32:08.857Z"
   },
   {
    "duration": 3343,
    "start_time": "2023-04-02T13:32:23.833Z"
   },
   {
    "duration": 13772,
    "start_time": "2023-04-02T13:32:35.524Z"
   },
   {
    "duration": 43305,
    "start_time": "2023-04-02T13:33:55.193Z"
   },
   {
    "duration": 10548,
    "start_time": "2023-04-02T13:34:58.985Z"
   },
   {
    "duration": 10789,
    "start_time": "2023-04-02T13:37:56.655Z"
   },
   {
    "duration": 7875,
    "start_time": "2023-04-02T13:40:51.274Z"
   },
   {
    "duration": 1080,
    "start_time": "2023-04-02T13:41:02.095Z"
   },
   {
    "duration": 1090,
    "start_time": "2023-04-02T13:42:09.317Z"
   },
   {
    "duration": 975,
    "start_time": "2023-04-02T13:42:36.128Z"
   },
   {
    "duration": 1012,
    "start_time": "2023-04-02T13:42:58.355Z"
   },
   {
    "duration": 3377,
    "start_time": "2023-04-02T13:43:12.799Z"
   },
   {
    "duration": 3558,
    "start_time": "2023-04-02T13:43:48.509Z"
   },
   {
    "duration": 94450,
    "start_time": "2023-04-02T13:43:55.865Z"
   },
   {
    "duration": 89986,
    "start_time": "2023-04-02T13:56:10.519Z"
   },
   {
    "duration": 99374,
    "start_time": "2023-04-02T14:09:24.741Z"
   },
   {
    "duration": 20,
    "start_time": "2023-04-02T14:12:55.772Z"
   },
   {
    "duration": 117067,
    "start_time": "2023-04-02T14:18:13.974Z"
   },
   {
    "duration": 5714,
    "start_time": "2023-04-02T14:22:00.011Z"
   },
   {
    "duration": 2857953,
    "start_time": "2023-04-02T14:22:48.252Z"
   },
   {
    "duration": 4,
    "start_time": "2023-04-02T15:17:05.124Z"
   },
   {
    "duration": 4,
    "start_time": "2023-04-02T15:18:01.938Z"
   },
   {
    "duration": 5,
    "start_time": "2023-04-02T15:18:08.759Z"
   },
   {
    "duration": 5,
    "start_time": "2023-04-02T15:22:26.932Z"
   },
   {
    "duration": 99271,
    "start_time": "2023-04-02T15:27:37.190Z"
   },
   {
    "duration": 23527,
    "start_time": "2023-04-02T15:30:46.703Z"
   },
   {
    "duration": 38072,
    "start_time": "2023-04-02T15:31:28.078Z"
   },
   {
    "duration": 2903377,
    "start_time": "2023-04-02T15:32:12.150Z"
   },
   {
    "duration": 4,
    "start_time": "2023-04-02T16:45:51.433Z"
   },
   {
    "duration": 12,
    "start_time": "2023-04-02T16:49:34.665Z"
   },
   {
    "duration": 5,
    "start_time": "2023-04-02T16:56:23.896Z"
   },
   {
    "duration": 24,
    "start_time": "2023-04-02T16:58:25.729Z"
   },
   {
    "duration": 16,
    "start_time": "2023-04-02T16:59:32.848Z"
   },
   {
    "duration": 15,
    "start_time": "2023-04-02T17:00:11.736Z"
   },
   {
    "duration": 24,
    "start_time": "2023-04-02T17:08:08.201Z"
   },
   {
    "duration": 10,
    "start_time": "2023-04-02T17:09:22.292Z"
   },
   {
    "duration": 10,
    "start_time": "2023-04-02T17:09:27.231Z"
   },
   {
    "duration": 7,
    "start_time": "2023-04-02T17:10:22.096Z"
   },
   {
    "duration": 13,
    "start_time": "2023-04-02T17:12:33.603Z"
   },
   {
    "duration": 63,
    "start_time": "2023-04-02T17:12:40.710Z"
   },
   {
    "duration": 17,
    "start_time": "2023-04-02T17:13:21.343Z"
   },
   {
    "duration": 5,
    "start_time": "2023-04-02T17:14:31.941Z"
   },
   {
    "duration": 6,
    "start_time": "2023-04-02T17:14:46.911Z"
   },
   {
    "duration": 6,
    "start_time": "2023-04-02T17:14:54.543Z"
   },
   {
    "duration": 7,
    "start_time": "2023-04-02T17:15:02.633Z"
   },
   {
    "duration": 10,
    "start_time": "2023-04-02T17:15:59.166Z"
   },
   {
    "duration": 14,
    "start_time": "2023-04-02T17:19:49.134Z"
   },
   {
    "duration": 31,
    "start_time": "2023-04-02T17:20:02.870Z"
   },
   {
    "duration": 14,
    "start_time": "2023-04-02T17:20:27.516Z"
   },
   {
    "duration": 14,
    "start_time": "2023-04-02T17:21:59.951Z"
   },
   {
    "duration": 17,
    "start_time": "2023-04-02T17:41:39.607Z"
   },
   {
    "duration": 20,
    "start_time": "2023-04-02T17:42:29.426Z"
   },
   {
    "duration": 11,
    "start_time": "2023-04-02T17:42:49.054Z"
   },
   {
    "duration": 19,
    "start_time": "2023-04-02T17:42:50.904Z"
   },
   {
    "duration": 19140,
    "start_time": "2023-04-02T17:43:03.158Z"
   },
   {
    "duration": 18214,
    "start_time": "2023-04-02T17:43:34.640Z"
   },
   {
    "duration": 7231,
    "start_time": "2023-04-02T17:45:16.452Z"
   },
   {
    "duration": 18091,
    "start_time": "2023-04-02T17:45:43.053Z"
   },
   {
    "duration": 7533,
    "start_time": "2023-04-02T17:46:23.003Z"
   },
   {
    "duration": 9,
    "start_time": "2023-04-02T17:46:33.319Z"
   },
   {
    "duration": 7,
    "start_time": "2023-04-02T17:49:39.887Z"
   },
   {
    "duration": 7,
    "start_time": "2023-04-02T17:49:54.284Z"
   },
   {
    "duration": 9,
    "start_time": "2023-04-02T17:50:22.301Z"
   },
   {
    "duration": 11,
    "start_time": "2023-04-02T17:50:24.937Z"
   },
   {
    "duration": 16,
    "start_time": "2023-04-02T17:59:03.241Z"
   },
   {
    "duration": 6,
    "start_time": "2023-04-02T17:59:24.932Z"
   },
   {
    "duration": 26,
    "start_time": "2023-04-02T17:59:31.537Z"
   },
   {
    "duration": 5,
    "start_time": "2023-04-02T18:00:14.387Z"
   },
   {
    "duration": 8,
    "start_time": "2023-04-02T18:00:34.752Z"
   },
   {
    "duration": 9,
    "start_time": "2023-04-02T18:00:58.365Z"
   },
   {
    "duration": 6,
    "start_time": "2023-04-02T18:03:19.894Z"
   },
   {
    "duration": 460015,
    "start_time": "2023-04-02T18:07:17.010Z"
   },
   {
    "duration": 1423,
    "start_time": "2023-04-03T07:49:45.521Z"
   },
   {
    "duration": 3046,
    "start_time": "2023-04-03T07:49:46.947Z"
   },
   {
    "duration": 20,
    "start_time": "2023-04-03T07:49:49.994Z"
   },
   {
    "duration": 17,
    "start_time": "2023-04-03T07:49:50.015Z"
   },
   {
    "duration": 29,
    "start_time": "2023-04-03T07:49:50.034Z"
   },
   {
    "duration": 23,
    "start_time": "2023-04-03T07:49:50.065Z"
   },
   {
    "duration": 10,
    "start_time": "2023-04-03T07:49:50.089Z"
   },
   {
    "duration": 15,
    "start_time": "2023-04-03T07:49:50.100Z"
   },
   {
    "duration": 5,
    "start_time": "2023-04-03T07:49:50.116Z"
   },
   {
    "duration": 10,
    "start_time": "2023-04-03T07:49:50.123Z"
   },
   {
    "duration": 65,
    "start_time": "2023-04-03T07:49:50.134Z"
   },
   {
    "duration": 8,
    "start_time": "2023-04-03T07:49:50.200Z"
   },
   {
    "duration": 13,
    "start_time": "2023-04-03T07:49:50.209Z"
   },
   {
    "duration": 10,
    "start_time": "2023-04-03T07:49:50.224Z"
   },
   {
    "duration": 33,
    "start_time": "2023-04-03T07:49:50.235Z"
   },
   {
    "duration": 11,
    "start_time": "2023-04-03T07:49:50.270Z"
   },
   {
    "duration": 1205,
    "start_time": "2023-04-03T07:49:50.282Z"
   },
   {
    "duration": 1234,
    "start_time": "2023-04-03T07:49:51.489Z"
   },
   {
    "duration": 1170,
    "start_time": "2023-04-03T07:49:52.724Z"
   },
   {
    "duration": 437,
    "start_time": "2023-04-03T07:49:53.895Z"
   },
   {
    "duration": 139,
    "start_time": "2023-04-03T07:49:54.334Z"
   },
   {
    "duration": 6,
    "start_time": "2023-04-03T07:49:54.475Z"
   },
   {
    "duration": 1244,
    "start_time": "2023-04-03T07:49:54.482Z"
   },
   {
    "duration": 36,
    "start_time": "2023-04-03T07:49:55.728Z"
   },
   {
    "duration": 6,
    "start_time": "2023-04-03T07:49:55.766Z"
   },
   {
    "duration": 21,
    "start_time": "2023-04-03T07:49:55.773Z"
   },
   {
    "duration": 2,
    "start_time": "2023-04-03T07:49:55.795Z"
   },
   {
    "duration": 24,
    "start_time": "2023-04-03T07:49:55.799Z"
   },
   {
    "duration": 7,
    "start_time": "2023-04-03T07:49:55.824Z"
   },
   {
    "duration": 1324,
    "start_time": "2023-04-03T07:49:55.833Z"
   },
   {
    "duration": 1349,
    "start_time": "2023-04-03T07:50:03.204Z"
   },
   {
    "duration": 1402,
    "start_time": "2023-04-03T07:50:04.556Z"
   },
   {
    "duration": 4,
    "start_time": "2023-04-03T07:50:07.011Z"
   },
   {
    "duration": 19,
    "start_time": "2023-04-03T08:00:43.598Z"
   },
   {
    "duration": 461,
    "start_time": "2023-04-03T08:01:21.528Z"
   },
   {
    "duration": 81295,
    "start_time": "2023-04-03T08:01:58.214Z"
   },
   {
    "duration": 4,
    "start_time": "2023-04-03T08:03:42.098Z"
   },
   {
    "duration": 169,
    "start_time": "2023-04-03T08:05:07.812Z"
   },
   {
    "duration": 1265,
    "start_time": "2023-04-03T08:06:04.347Z"
   },
   {
    "duration": 6873,
    "start_time": "2023-04-03T08:06:10.150Z"
   },
   {
    "duration": 21,
    "start_time": "2023-04-03T08:06:27.237Z"
   },
   {
    "duration": 4,
    "start_time": "2023-04-03T08:06:47.232Z"
   },
   {
    "duration": 7027,
    "start_time": "2023-04-03T08:08:27.264Z"
   },
   {
    "duration": 4,
    "start_time": "2023-04-03T08:08:53.582Z"
   },
   {
    "duration": 150532,
    "start_time": "2023-04-03T08:11:36.776Z"
   },
   {
    "duration": 1140,
    "start_time": "2023-04-03T09:34:58.118Z"
   },
   {
    "duration": 1535,
    "start_time": "2023-04-03T09:35:07.318Z"
   },
   {
    "duration": 1537,
    "start_time": "2023-04-04T05:55:56.432Z"
   },
   {
    "duration": 2996,
    "start_time": "2023-04-04T05:55:57.971Z"
   },
   {
    "duration": 27,
    "start_time": "2023-04-04T05:56:00.969Z"
   },
   {
    "duration": 60,
    "start_time": "2023-04-04T05:56:00.998Z"
   },
   {
    "duration": 47,
    "start_time": "2023-04-04T05:56:01.060Z"
   },
   {
    "duration": 46,
    "start_time": "2023-04-04T05:56:01.108Z"
   },
   {
    "duration": 37,
    "start_time": "2023-04-04T05:56:01.155Z"
   },
   {
    "duration": 52,
    "start_time": "2023-04-04T05:56:01.194Z"
   },
   {
    "duration": 47,
    "start_time": "2023-04-04T05:56:01.248Z"
   },
   {
    "duration": 40,
    "start_time": "2023-04-04T05:56:01.299Z"
   },
   {
    "duration": 107,
    "start_time": "2023-04-04T05:56:01.341Z"
   },
   {
    "duration": 11,
    "start_time": "2023-04-04T05:56:01.450Z"
   },
   {
    "duration": 59,
    "start_time": "2023-04-04T05:56:01.463Z"
   },
   {
    "duration": 38,
    "start_time": "2023-04-04T05:56:01.524Z"
   },
   {
    "duration": 94,
    "start_time": "2023-04-04T05:56:01.564Z"
   },
   {
    "duration": 35,
    "start_time": "2023-04-04T05:56:01.660Z"
   },
   {
    "duration": 1534,
    "start_time": "2023-04-04T05:56:01.697Z"
   },
   {
    "duration": 1509,
    "start_time": "2023-04-04T05:56:03.233Z"
   },
   {
    "duration": 1545,
    "start_time": "2023-04-04T05:56:04.744Z"
   },
   {
    "duration": 594,
    "start_time": "2023-04-04T05:56:06.291Z"
   },
   {
    "duration": 178,
    "start_time": "2023-04-04T05:56:06.887Z"
   },
   {
    "duration": 16,
    "start_time": "2023-04-04T05:56:07.067Z"
   },
   {
    "duration": 1642,
    "start_time": "2023-04-04T05:56:07.085Z"
   },
   {
    "duration": 5,
    "start_time": "2023-04-04T05:56:26.902Z"
   },
   {
    "duration": 35,
    "start_time": "2023-04-04T05:57:07.060Z"
   },
   {
    "duration": 74,
    "start_time": "2023-04-04T06:01:32.935Z"
   },
   {
    "duration": 12,
    "start_time": "2023-04-04T06:01:43.399Z"
   },
   {
    "duration": 12,
    "start_time": "2023-04-04T06:03:18.795Z"
   },
   {
    "duration": 18,
    "start_time": "2023-04-04T06:03:20.159Z"
   },
   {
    "duration": 27,
    "start_time": "2023-04-04T06:03:27.998Z"
   },
   {
    "duration": 30,
    "start_time": "2023-04-04T06:03:37.501Z"
   },
   {
    "duration": 3,
    "start_time": "2023-04-04T06:04:13.168Z"
   },
   {
    "duration": 4,
    "start_time": "2023-04-04T06:04:13.712Z"
   },
   {
    "duration": 5,
    "start_time": "2023-04-04T06:04:14.192Z"
   },
   {
    "duration": 971,
    "start_time": "2023-04-04T06:04:48.618Z"
   },
   {
    "duration": 2453,
    "start_time": "2023-04-04T06:05:32.273Z"
   },
   {
    "duration": 6,
    "start_time": "2023-04-04T06:05:49.272Z"
   },
   {
    "duration": 54958,
    "start_time": "2023-04-04T06:07:32.558Z"
   },
   {
    "duration": 109326,
    "start_time": "2023-04-04T06:09:37.775Z"
   },
   {
    "duration": 9,
    "start_time": "2023-04-04T06:21:25.708Z"
   },
   {
    "duration": 1370020,
    "start_time": "2023-04-04T06:23:14.924Z"
   },
   {
    "duration": 2788289,
    "start_time": "2023-04-04T07:03:17.833Z"
   },
   {
    "duration": 4,
    "start_time": "2023-04-04T08:28:56.469Z"
   },
   {
    "duration": 13,
    "start_time": "2023-04-04T08:29:12.631Z"
   },
   {
    "duration": 10,
    "start_time": "2023-04-04T08:30:27.309Z"
   },
   {
    "duration": 9,
    "start_time": "2023-04-04T08:59:10.705Z"
   },
   {
    "duration": 23,
    "start_time": "2023-04-04T08:59:13.145Z"
   },
   {
    "duration": 8947,
    "start_time": "2023-04-04T09:01:08.404Z"
   },
   {
    "duration": 173,
    "start_time": "2023-04-04T09:01:22.926Z"
   },
   {
    "duration": 8239,
    "start_time": "2023-04-04T09:02:17.346Z"
   },
   {
    "duration": 9,
    "start_time": "2023-04-04T09:02:35.466Z"
   },
   {
    "duration": 6,
    "start_time": "2023-04-04T09:03:45.840Z"
   },
   {
    "duration": 8,
    "start_time": "2023-04-04T09:03:47.106Z"
   },
   {
    "duration": 1603,
    "start_time": "2024-01-25T13:53:19.168Z"
   },
   {
    "duration": 1852,
    "start_time": "2024-01-25T13:53:20.772Z"
   },
   {
    "duration": 22,
    "start_time": "2024-01-25T13:53:22.626Z"
   },
   {
    "duration": 56,
    "start_time": "2024-01-25T13:53:22.649Z"
   },
   {
    "duration": 24,
    "start_time": "2024-01-25T13:53:22.707Z"
   },
   {
    "duration": 16,
    "start_time": "2024-01-25T13:53:22.733Z"
   },
   {
    "duration": 12,
    "start_time": "2024-01-25T13:53:22.751Z"
   },
   {
    "duration": 16,
    "start_time": "2024-01-25T13:53:22.765Z"
   },
   {
    "duration": 8,
    "start_time": "2024-01-25T13:53:59.663Z"
   },
   {
    "duration": 5,
    "start_time": "2024-01-25T13:54:39.478Z"
   },
   {
    "duration": 54,
    "start_time": "2024-01-25T13:55:46.792Z"
   },
   {
    "duration": 9,
    "start_time": "2024-01-25T13:55:52.340Z"
   },
   {
    "duration": 10,
    "start_time": "2024-01-25T14:05:00.522Z"
   },
   {
    "duration": 1338,
    "start_time": "2024-01-25T14:05:50.815Z"
   },
   {
    "duration": 721,
    "start_time": "2024-01-25T14:05:52.155Z"
   },
   {
    "duration": 23,
    "start_time": "2024-01-25T14:05:52.878Z"
   },
   {
    "duration": 19,
    "start_time": "2024-01-25T14:05:52.903Z"
   },
   {
    "duration": 35,
    "start_time": "2024-01-25T14:05:52.924Z"
   },
   {
    "duration": 15,
    "start_time": "2024-01-25T14:05:52.960Z"
   },
   {
    "duration": 10,
    "start_time": "2024-01-25T14:05:52.977Z"
   },
   {
    "duration": 15,
    "start_time": "2024-01-25T14:05:52.989Z"
   },
   {
    "duration": 6,
    "start_time": "2024-01-25T14:05:53.006Z"
   },
   {
    "duration": 7,
    "start_time": "2024-01-25T14:05:53.014Z"
   },
   {
    "duration": 81,
    "start_time": "2024-01-25T14:05:53.023Z"
   },
   {
    "duration": 9,
    "start_time": "2024-01-25T14:05:53.106Z"
   },
   {
    "duration": 21,
    "start_time": "2024-01-25T14:05:53.117Z"
   },
   {
    "duration": 20,
    "start_time": "2024-01-25T14:05:53.139Z"
   },
   {
    "duration": 19,
    "start_time": "2024-01-25T14:05:53.160Z"
   },
   {
    "duration": 13,
    "start_time": "2024-01-25T14:05:53.181Z"
   },
   {
    "duration": 1430,
    "start_time": "2024-01-25T14:09:25.885Z"
   },
   {
    "duration": 1451,
    "start_time": "2024-01-25T14:09:42.996Z"
   },
   {
    "duration": 1404,
    "start_time": "2024-01-25T14:09:53.757Z"
   },
   {
    "duration": 503,
    "start_time": "2024-01-25T14:10:59.664Z"
   },
   {
    "duration": 146,
    "start_time": "2024-01-25T14:11:09.072Z"
   },
   {
    "duration": 7,
    "start_time": "2024-01-25T14:12:28.302Z"
   },
   {
    "duration": 1452,
    "start_time": "2024-01-25T14:12:51.082Z"
   },
   {
    "duration": 33,
    "start_time": "2024-01-25T14:13:14.136Z"
   },
   {
    "duration": 12,
    "start_time": "2024-01-25T14:13:23.895Z"
   },
   {
    "duration": 13,
    "start_time": "2024-01-25T14:13:29.863Z"
   },
   {
    "duration": 18,
    "start_time": "2024-01-25T14:13:30.517Z"
   },
   {
    "duration": 25,
    "start_time": "2024-01-25T14:13:35.634Z"
   },
   {
    "duration": 3,
    "start_time": "2024-01-25T14:13:45.761Z"
   },
   {
    "duration": 2,
    "start_time": "2024-01-25T14:13:46.372Z"
   },
   {
    "duration": 2,
    "start_time": "2024-01-25T14:13:47.279Z"
   },
   {
    "duration": 569,
    "start_time": "2024-01-25T14:15:01.892Z"
   },
   {
    "duration": 1241,
    "start_time": "2024-01-25T14:15:05.124Z"
   },
   {
    "duration": 4,
    "start_time": "2024-01-25T14:15:07.924Z"
   },
   {
    "duration": 23,
    "start_time": "2024-01-25T14:19:55.138Z"
   },
   {
    "duration": 185789,
    "start_time": "2024-01-25T14:37:17.522Z"
   },
   {
    "duration": 163611,
    "start_time": "2024-01-25T14:52:49.882Z"
   },
   {
    "duration": 658825,
    "start_time": "2024-01-25T14:56:43.459Z"
   },
   {
    "duration": 480314,
    "start_time": "2024-01-25T15:08:18.121Z"
   },
   {
    "duration": 4,
    "start_time": "2024-01-25T15:17:20.379Z"
   },
   {
    "duration": 11,
    "start_time": "2024-01-25T15:25:32.872Z"
   },
   {
    "duration": 13735,
    "start_time": "2024-01-25T15:26:10.114Z"
   },
   {
    "duration": 14,
    "start_time": "2024-01-25T15:26:48.785Z"
   },
   {
    "duration": 6060,
    "start_time": "2024-01-25T15:27:01.079Z"
   },
   {
    "duration": 36644,
    "start_time": "2024-01-25T15:29:35.588Z"
   },
   {
    "duration": 182785,
    "start_time": "2024-01-25T15:30:53.050Z"
   },
   {
    "duration": 188016,
    "start_time": "2024-01-25T15:39:13.876Z"
   },
   {
    "duration": 4,
    "start_time": "2024-01-25T15:44:04.035Z"
   },
   {
    "duration": 14,
    "start_time": "2024-01-25T15:48:06.064Z"
   },
   {
    "duration": 9,
    "start_time": "2024-01-25T15:48:07.640Z"
   },
   {
    "duration": 15,
    "start_time": "2024-01-25T15:48:10.135Z"
   },
   {
    "duration": 18,
    "start_time": "2024-01-25T15:50:03.518Z"
   },
   {
    "duration": 6,
    "start_time": "2024-01-25T15:50:27.132Z"
   },
   {
    "duration": 80,
    "start_time": "2024-01-25T15:52:26.895Z"
   },
   {
    "duration": 11,
    "start_time": "2024-01-25T15:53:39.393Z"
   },
   {
    "duration": 6,
    "start_time": "2024-01-25T15:53:40.399Z"
   },
   {
    "duration": 635,
    "start_time": "2024-01-25T15:53:52.292Z"
   },
   {
    "duration": 15,
    "start_time": "2024-01-25T15:54:03.929Z"
   },
   {
    "duration": 14,
    "start_time": "2024-01-25T15:54:05.429Z"
   },
   {
    "duration": 6,
    "start_time": "2024-01-25T15:54:07.095Z"
   },
   {
    "duration": 5,
    "start_time": "2024-01-25T15:54:21.604Z"
   },
   {
    "duration": 7,
    "start_time": "2024-01-25T15:54:23.492Z"
   }
  ],
  "kernelspec": {
   "display_name": "Python 3 (ipykernel)",
   "language": "python",
   "name": "python3"
  },
  "language_info": {
   "codemirror_mode": {
    "name": "ipython",
    "version": 3
   },
   "file_extension": ".py",
   "mimetype": "text/x-python",
   "name": "python",
   "nbconvert_exporter": "python",
   "pygments_lexer": "ipython3",
   "version": "3.9.5"
  },
  "toc": {
   "base_numbering": 1,
   "nav_menu": {
    "height": "152px",
    "width": "229px"
   },
   "number_sections": true,
   "sideBar": false,
   "skip_h1_title": true,
   "title_cell": "Содержание",
   "title_sidebar": "Contents",
   "toc_cell": true,
   "toc_position": {
    "height": "calc(100% - 180px)",
    "left": "10px",
    "top": "150px",
    "width": "165px"
   },
   "toc_section_display": false,
   "toc_window_display": false
  }
 },
 "nbformat": 4,
 "nbformat_minor": 2
}
